{
 "cells": [
  {
   "cell_type": "markdown",
   "metadata": {
    "slideshow": {
     "slide_type": "slide"
    }
   },
   "source": [
    "# Aggregation"
   ]
  },
  {
   "cell_type": "code",
   "execution_count": 58,
   "metadata": {
    "slideshow": {
     "slide_type": "fragment"
    }
   },
   "outputs": [],
   "source": [
    "import pandas as pd\n",
    "from dfply import *"
   ]
  },
  {
   "cell_type": "markdown",
   "metadata": {
    "slideshow": {
     "slide_type": "slide"
    }
   },
   "source": [
    "## What is aggregation?\n",
    "\n",
    "The act of collapsing many rows into few rows."
   ]
  },
  {
   "cell_type": "markdown",
   "metadata": {
    "slideshow": {
     "slide_type": "slide"
    }
   },
   "source": [
    "## Example - Baseball pitching"
   ]
  },
  {
   "cell_type": "code",
   "execution_count": 59,
   "metadata": {
    "scrolled": true,
    "slideshow": {
     "slide_type": "fragment"
    }
   },
   "outputs": [
    {
     "data": {
      "text/html": [
       "<div>\n",
       "<style scoped>\n",
       "    .dataframe tbody tr th:only-of-type {\n",
       "        vertical-align: middle;\n",
       "    }\n",
       "\n",
       "    .dataframe tbody tr th {\n",
       "        vertical-align: top;\n",
       "    }\n",
       "\n",
       "    .dataframe thead th {\n",
       "        text-align: right;\n",
       "    }\n",
       "</style>\n",
       "<table border=\"1\" class=\"dataframe\">\n",
       "  <thead>\n",
       "    <tr style=\"text-align: right;\">\n",
       "      <th></th>\n",
       "      <th>playerID</th>\n",
       "      <th>yearID</th>\n",
       "      <th>stint</th>\n",
       "      <th>teamID</th>\n",
       "      <th>lgID</th>\n",
       "      <th>W</th>\n",
       "      <th>L</th>\n",
       "      <th>G</th>\n",
       "      <th>GS</th>\n",
       "      <th>CG</th>\n",
       "      <th>...</th>\n",
       "      <th>WP</th>\n",
       "      <th>HBP</th>\n",
       "      <th>BK</th>\n",
       "      <th>BFP</th>\n",
       "      <th>GF</th>\n",
       "      <th>R</th>\n",
       "      <th>SH</th>\n",
       "      <th>SF</th>\n",
       "      <th>GIDP</th>\n",
       "      <th>id</th>\n",
       "    </tr>\n",
       "  </thead>\n",
       "  <tbody>\n",
       "    <tr>\n",
       "      <th>0</th>\n",
       "      <td>bechtge01</td>\n",
       "      <td>1871</td>\n",
       "      <td>1</td>\n",
       "      <td>PH1</td>\n",
       "      <td>NaN</td>\n",
       "      <td>1</td>\n",
       "      <td>2</td>\n",
       "      <td>3</td>\n",
       "      <td>3</td>\n",
       "      <td>2</td>\n",
       "      <td>...</td>\n",
       "      <td>7</td>\n",
       "      <td>NaN</td>\n",
       "      <td>0</td>\n",
       "      <td>146.0</td>\n",
       "      <td>0</td>\n",
       "      <td>42</td>\n",
       "      <td>NaN</td>\n",
       "      <td>NaN</td>\n",
       "      <td>NaN</td>\n",
       "      <td>0</td>\n",
       "    </tr>\n",
       "    <tr>\n",
       "      <th>1</th>\n",
       "      <td>brainas01</td>\n",
       "      <td>1871</td>\n",
       "      <td>1</td>\n",
       "      <td>WS3</td>\n",
       "      <td>NaN</td>\n",
       "      <td>12</td>\n",
       "      <td>15</td>\n",
       "      <td>30</td>\n",
       "      <td>30</td>\n",
       "      <td>30</td>\n",
       "      <td>...</td>\n",
       "      <td>7</td>\n",
       "      <td>NaN</td>\n",
       "      <td>0</td>\n",
       "      <td>1291.0</td>\n",
       "      <td>0</td>\n",
       "      <td>292</td>\n",
       "      <td>NaN</td>\n",
       "      <td>NaN</td>\n",
       "      <td>NaN</td>\n",
       "      <td>1</td>\n",
       "    </tr>\n",
       "    <tr>\n",
       "      <th>2</th>\n",
       "      <td>fergubo01</td>\n",
       "      <td>1871</td>\n",
       "      <td>1</td>\n",
       "      <td>NY2</td>\n",
       "      <td>NaN</td>\n",
       "      <td>0</td>\n",
       "      <td>0</td>\n",
       "      <td>1</td>\n",
       "      <td>0</td>\n",
       "      <td>0</td>\n",
       "      <td>...</td>\n",
       "      <td>2</td>\n",
       "      <td>NaN</td>\n",
       "      <td>0</td>\n",
       "      <td>14.0</td>\n",
       "      <td>0</td>\n",
       "      <td>9</td>\n",
       "      <td>NaN</td>\n",
       "      <td>NaN</td>\n",
       "      <td>NaN</td>\n",
       "      <td>2</td>\n",
       "    </tr>\n",
       "    <tr>\n",
       "      <th>3</th>\n",
       "      <td>fishech01</td>\n",
       "      <td>1871</td>\n",
       "      <td>1</td>\n",
       "      <td>RC1</td>\n",
       "      <td>NaN</td>\n",
       "      <td>4</td>\n",
       "      <td>16</td>\n",
       "      <td>24</td>\n",
       "      <td>24</td>\n",
       "      <td>22</td>\n",
       "      <td>...</td>\n",
       "      <td>20</td>\n",
       "      <td>NaN</td>\n",
       "      <td>0</td>\n",
       "      <td>1080.0</td>\n",
       "      <td>1</td>\n",
       "      <td>257</td>\n",
       "      <td>NaN</td>\n",
       "      <td>NaN</td>\n",
       "      <td>NaN</td>\n",
       "      <td>3</td>\n",
       "    </tr>\n",
       "    <tr>\n",
       "      <th>4</th>\n",
       "      <td>fleetfr01</td>\n",
       "      <td>1871</td>\n",
       "      <td>1</td>\n",
       "      <td>NY2</td>\n",
       "      <td>NaN</td>\n",
       "      <td>0</td>\n",
       "      <td>1</td>\n",
       "      <td>1</td>\n",
       "      <td>1</td>\n",
       "      <td>1</td>\n",
       "      <td>...</td>\n",
       "      <td>0</td>\n",
       "      <td>NaN</td>\n",
       "      <td>0</td>\n",
       "      <td>57.0</td>\n",
       "      <td>0</td>\n",
       "      <td>21</td>\n",
       "      <td>NaN</td>\n",
       "      <td>NaN</td>\n",
       "      <td>NaN</td>\n",
       "      <td>4</td>\n",
       "    </tr>\n",
       "  </tbody>\n",
       "</table>\n",
       "<p>5 rows × 31 columns</p>\n",
       "</div>"
      ],
      "text/plain": [
       "    playerID  yearID  stint teamID lgID   W   L   G  GS  CG  ...  WP  HBP  BK  \\\n",
       "0  bechtge01    1871      1    PH1  NaN   1   2   3   3   2  ...   7  NaN   0   \n",
       "1  brainas01    1871      1    WS3  NaN  12  15  30  30  30  ...   7  NaN   0   \n",
       "2  fergubo01    1871      1    NY2  NaN   0   0   1   0   0  ...   2  NaN   0   \n",
       "3  fishech01    1871      1    RC1  NaN   4  16  24  24  22  ...  20  NaN   0   \n",
       "4  fleetfr01    1871      1    NY2  NaN   0   1   1   1   1  ...   0  NaN   0   \n",
       "\n",
       "      BFP  GF    R  SH  SF  GIDP  id  \n",
       "0   146.0   0   42 NaN NaN   NaN   0  \n",
       "1  1291.0   0  292 NaN NaN   NaN   1  \n",
       "2    14.0   0    9 NaN NaN   NaN   2  \n",
       "3  1080.0   1  257 NaN NaN   NaN   3  \n",
       "4    57.0   0   21 NaN NaN   NaN   4  \n",
       "\n",
       "[5 rows x 31 columns]"
      ]
     },
     "execution_count": 59,
     "metadata": {},
     "output_type": "execute_result"
    }
   ],
   "source": [
    "pitching_raw = pd.read_csv('./data/baseball/core/Pitching.csv') \n",
    "pitching = (pitching_raw >>\n",
    "             mutate(id = pitching_raw.index))\n",
    "pitching.head()"
   ]
  },
  {
   "cell_type": "markdown",
   "metadata": {
    "slideshow": {
     "slide_type": "slide"
    }
   },
   "source": [
    "## Simple Aggregation\n",
    "\n",
    "A **simple aggregation** collapses all rows into one row.\n",
    "\n",
    "<img src=\"./img/simple_aggregation.png\" width=800>"
   ]
  },
  {
   "cell_type": "markdown",
   "metadata": {
    "slideshow": {
     "slide_type": "slide"
    }
   },
   "source": [
    "## Simple aggregation with `dfply.summarise`"
   ]
  },
  {
   "cell_type": "code",
   "execution_count": 60,
   "metadata": {
    "scrolled": true,
    "slideshow": {
     "slide_type": "fragment"
    }
   },
   "outputs": [
    {
     "data": {
      "text/html": [
       "<div>\n",
       "<style scoped>\n",
       "    .dataframe tbody tr th:only-of-type {\n",
       "        vertical-align: middle;\n",
       "    }\n",
       "\n",
       "    .dataframe tbody tr th {\n",
       "        vertical-align: top;\n",
       "    }\n",
       "\n",
       "    .dataframe thead th {\n",
       "        text-align: right;\n",
       "    }\n",
       "</style>\n",
       "<table border=\"1\" class=\"dataframe\">\n",
       "  <thead>\n",
       "    <tr style=\"text-align: right;\">\n",
       "      <th></th>\n",
       "      <th>mean_era</th>\n",
       "      <th>sd_era</th>\n",
       "      <th>max_wins</th>\n",
       "      <th>min_wins</th>\n",
       "    </tr>\n",
       "  </thead>\n",
       "  <tbody>\n",
       "    <tr>\n",
       "      <th>0</th>\n",
       "      <td>5.11792</td>\n",
       "      <td>5.466654</td>\n",
       "      <td>60</td>\n",
       "      <td>0</td>\n",
       "    </tr>\n",
       "  </tbody>\n",
       "</table>\n",
       "</div>"
      ],
      "text/plain": [
       "   mean_era    sd_era  max_wins  min_wins\n",
       "0   5.11792  5.466654        60         0"
      ]
     },
     "execution_count": 60,
     "metadata": {},
     "output_type": "execute_result"
    }
   ],
   "source": [
    "(pitching \n",
    " >> summarise(mean_era = mean(X.ERA),\n",
    "              sd_era = sd(X.ERA),\n",
    "              max_wins = X.W.max(),\n",
    "              min_wins = X.W.min()))"
   ]
  },
  {
   "cell_type": "markdown",
   "metadata": {
    "slideshow": {
     "slide_type": "slide"
    }
   },
   "source": [
    "## <font color=\"red\"> Exercise 1 </font>\n",
    "\n",
    "The [dead ball era](https://en.wikipedia.org/wiki/Dead-ball_era) in MLB includes the year from about 1900 to 1918, which was known for a low number of runs per game.  After this period, the number of runs per game increased dramatically and one possible reason for this change was a changes made to the baseball at the start of the 1920 season.    \n",
    "\n",
    "**Tasks:** Complete that following tasks using `pandas` and `dfply`\n",
    "\n",
    "* Compute the average runs allowed per pitcher (column `R`) for the following two ranges of years: \n",
    "    * 1900-1919 and \n",
    "    * 1920-1939.  \n",
    "* Is there evidence of a difference in the number of runs allowed for each era?"
   ]
  },
  {
   "cell_type": "code",
   "execution_count": 37,
   "metadata": {
    "slideshow": {
     "slide_type": "fragment"
    }
   },
   "outputs": [
    {
     "data": {
      "text/html": [
       "<div>\n",
       "<style scoped>\n",
       "    .dataframe tbody tr th:only-of-type {\n",
       "        vertical-align: middle;\n",
       "    }\n",
       "\n",
       "    .dataframe tbody tr th {\n",
       "        vertical-align: top;\n",
       "    }\n",
       "\n",
       "    .dataframe thead th {\n",
       "        text-align: right;\n",
       "    }\n",
       "</style>\n",
       "<table border=\"1\" class=\"dataframe\">\n",
       "  <thead>\n",
       "    <tr style=\"text-align: right;\">\n",
       "      <th></th>\n",
       "      <th>avg_run_per_pitcher_00_19</th>\n",
       "    </tr>\n",
       "  </thead>\n",
       "  <tbody>\n",
       "    <tr>\n",
       "      <th>0</th>\n",
       "      <td>50.384699</td>\n",
       "    </tr>\n",
       "  </tbody>\n",
       "</table>\n",
       "</div>"
      ],
      "text/plain": [
       "   avg_run_per_pitcher_00_19\n",
       "0                  50.384699"
      ]
     },
     "execution_count": 37,
     "metadata": {},
     "output_type": "execute_result"
    }
   ],
   "source": [
    "# Your code here\n",
    "avg_runs_per_pticher = (pitching\n",
    "                        >> filter_by((X.yearID >= 1900) & (X.yearID < 1919))                        \n",
    "                        >> summarise( avg_run_per_pitcher_00_19 = mean(X.R))\n",
    "                       )\n",
    "\n",
    "avg_runs_per_pticher.head()"
   ]
  },
  {
   "cell_type": "code",
   "execution_count": 39,
   "metadata": {
    "slideshow": {
     "slide_type": "fragment"
    }
   },
   "outputs": [
    {
     "data": {
      "text/html": [
       "<div>\n",
       "<style scoped>\n",
       "    .dataframe tbody tr th:only-of-type {\n",
       "        vertical-align: middle;\n",
       "    }\n",
       "\n",
       "    .dataframe tbody tr th {\n",
       "        vertical-align: top;\n",
       "    }\n",
       "\n",
       "    .dataframe thead th {\n",
       "        text-align: right;\n",
       "    }\n",
       "</style>\n",
       "<table border=\"1\" class=\"dataframe\">\n",
       "  <thead>\n",
       "    <tr style=\"text-align: right;\">\n",
       "      <th></th>\n",
       "      <th>avg_run_per_pitcher_20_39</th>\n",
       "    </tr>\n",
       "  </thead>\n",
       "  <tbody>\n",
       "    <tr>\n",
       "      <th>0</th>\n",
       "      <td>55.76718</td>\n",
       "    </tr>\n",
       "  </tbody>\n",
       "</table>\n",
       "</div>"
      ],
      "text/plain": [
       "   avg_run_per_pitcher_20_39\n",
       "0                   55.76718"
      ]
     },
     "execution_count": 39,
     "metadata": {},
     "output_type": "execute_result"
    }
   ],
   "source": [
    "# Your code here\n",
    "avg_runs_per_pticher = (pitching\n",
    "                        >> filter_by((X.yearID >= 1920) & (X.yearID < 1939))                        \n",
    "                        >> summarise( avg_run_per_pitcher_20_39 = mean(X.R))\n",
    "                       )\n",
    "\n",
    "avg_runs_per_pticher.head()"
   ]
  },
  {
   "cell_type": "markdown",
   "metadata": {
    "slideshow": {
     "slide_type": "fragment"
    }
   },
   "source": [
    "> There is proof that on average, more runs per pitcher happened between 1920-1939, compared to 1900-1919."
   ]
  },
  {
   "cell_type": "markdown",
   "metadata": {
    "slideshow": {
     "slide_type": "slide"
    }
   },
   "source": [
    "## Group and Aggregate\n",
    "\n",
    "Group and aggregate\n",
    "\n",
    "* combines multiple filter + aggregates\n",
    "* considers all possible groups."
   ]
  },
  {
   "cell_type": "markdown",
   "metadata": {
    "slideshow": {
     "slide_type": "slide"
    }
   },
   "source": [
    "<img src=\"./img/group_and_aggregate.png\" width=800>"
   ]
  },
  {
   "cell_type": "markdown",
   "metadata": {
    "slideshow": {
     "slide_type": "slide"
    }
   },
   "source": [
    "## Using `ifelse` to classify the years"
   ]
  },
  {
   "cell_type": "code",
   "execution_count": 40,
   "metadata": {
    "slideshow": {
     "slide_type": "fragment"
    }
   },
   "outputs": [
    {
     "data": {
      "text/html": [
       "<div>\n",
       "<style scoped>\n",
       "    .dataframe tbody tr th:only-of-type {\n",
       "        vertical-align: middle;\n",
       "    }\n",
       "\n",
       "    .dataframe tbody tr th {\n",
       "        vertical-align: top;\n",
       "    }\n",
       "\n",
       "    .dataframe thead th {\n",
       "        text-align: right;\n",
       "    }\n",
       "</style>\n",
       "<table border=\"1\" class=\"dataframe\">\n",
       "  <thead>\n",
       "    <tr style=\"text-align: right;\">\n",
       "      <th></th>\n",
       "      <th>playerID</th>\n",
       "      <th>yearID</th>\n",
       "      <th>stint</th>\n",
       "      <th>teamID</th>\n",
       "      <th>lgID</th>\n",
       "      <th>W</th>\n",
       "      <th>L</th>\n",
       "      <th>G</th>\n",
       "      <th>GS</th>\n",
       "      <th>CG</th>\n",
       "      <th>...</th>\n",
       "      <th>HBP</th>\n",
       "      <th>BK</th>\n",
       "      <th>BFP</th>\n",
       "      <th>GF</th>\n",
       "      <th>R</th>\n",
       "      <th>SH</th>\n",
       "      <th>SF</th>\n",
       "      <th>GIDP</th>\n",
       "      <th>id</th>\n",
       "      <th>era</th>\n",
       "    </tr>\n",
       "  </thead>\n",
       "  <tbody>\n",
       "    <tr>\n",
       "      <th>2628</th>\n",
       "      <td>baileha01</td>\n",
       "      <td>1900</td>\n",
       "      <td>1</td>\n",
       "      <td>BSN</td>\n",
       "      <td>NL</td>\n",
       "      <td>0</td>\n",
       "      <td>0</td>\n",
       "      <td>4</td>\n",
       "      <td>1</td>\n",
       "      <td>0</td>\n",
       "      <td>...</td>\n",
       "      <td>2.0</td>\n",
       "      <td>0</td>\n",
       "      <td>94.0</td>\n",
       "      <td>2</td>\n",
       "      <td>16</td>\n",
       "      <td>NaN</td>\n",
       "      <td>NaN</td>\n",
       "      <td>NaN</td>\n",
       "      <td>2628</td>\n",
       "      <td>dead ball</td>\n",
       "    </tr>\n",
       "    <tr>\n",
       "      <th>2629</th>\n",
       "      <td>bernhbi01</td>\n",
       "      <td>1900</td>\n",
       "      <td>1</td>\n",
       "      <td>PHI</td>\n",
       "      <td>NL</td>\n",
       "      <td>15</td>\n",
       "      <td>10</td>\n",
       "      <td>32</td>\n",
       "      <td>27</td>\n",
       "      <td>20</td>\n",
       "      <td>...</td>\n",
       "      <td>5.0</td>\n",
       "      <td>1</td>\n",
       "      <td>986.0</td>\n",
       "      <td>5</td>\n",
       "      <td>151</td>\n",
       "      <td>NaN</td>\n",
       "      <td>NaN</td>\n",
       "      <td>NaN</td>\n",
       "      <td>2629</td>\n",
       "      <td>dead ball</td>\n",
       "    </tr>\n",
       "    <tr>\n",
       "      <th>2630</th>\n",
       "      <td>breitte01</td>\n",
       "      <td>1900</td>\n",
       "      <td>1</td>\n",
       "      <td>CIN</td>\n",
       "      <td>NL</td>\n",
       "      <td>10</td>\n",
       "      <td>10</td>\n",
       "      <td>24</td>\n",
       "      <td>20</td>\n",
       "      <td>18</td>\n",
       "      <td>...</td>\n",
       "      <td>14.0</td>\n",
       "      <td>0</td>\n",
       "      <td>846.0</td>\n",
       "      <td>3</td>\n",
       "      <td>111</td>\n",
       "      <td>NaN</td>\n",
       "      <td>NaN</td>\n",
       "      <td>NaN</td>\n",
       "      <td>2630</td>\n",
       "      <td>dead ball</td>\n",
       "    </tr>\n",
       "    <tr>\n",
       "      <th>2631</th>\n",
       "      <td>callani01</td>\n",
       "      <td>1900</td>\n",
       "      <td>1</td>\n",
       "      <td>CHN</td>\n",
       "      <td>NL</td>\n",
       "      <td>13</td>\n",
       "      <td>16</td>\n",
       "      <td>32</td>\n",
       "      <td>32</td>\n",
       "      <td>32</td>\n",
       "      <td>...</td>\n",
       "      <td>22.0</td>\n",
       "      <td>0</td>\n",
       "      <td>1256.0</td>\n",
       "      <td>0</td>\n",
       "      <td>195</td>\n",
       "      <td>NaN</td>\n",
       "      <td>NaN</td>\n",
       "      <td>NaN</td>\n",
       "      <td>2631</td>\n",
       "      <td>dead ball</td>\n",
       "    </tr>\n",
       "    <tr>\n",
       "      <th>2632</th>\n",
       "      <td>carribi01</td>\n",
       "      <td>1900</td>\n",
       "      <td>1</td>\n",
       "      <td>NY1</td>\n",
       "      <td>NL</td>\n",
       "      <td>19</td>\n",
       "      <td>22</td>\n",
       "      <td>45</td>\n",
       "      <td>41</td>\n",
       "      <td>32</td>\n",
       "      <td>...</td>\n",
       "      <td>13.0</td>\n",
       "      <td>0</td>\n",
       "      <td>1493.0</td>\n",
       "      <td>4</td>\n",
       "      <td>224</td>\n",
       "      <td>NaN</td>\n",
       "      <td>NaN</td>\n",
       "      <td>NaN</td>\n",
       "      <td>2632</td>\n",
       "      <td>dead ball</td>\n",
       "    </tr>\n",
       "  </tbody>\n",
       "</table>\n",
       "<p>5 rows × 32 columns</p>\n",
       "</div>"
      ],
      "text/plain": [
       "       playerID  yearID  stint teamID lgID   W   L   G  GS  CG  ...   HBP  BK  \\\n",
       "2628  baileha01    1900      1    BSN   NL   0   0   4   1   0  ...   2.0   0   \n",
       "2629  bernhbi01    1900      1    PHI   NL  15  10  32  27  20  ...   5.0   1   \n",
       "2630  breitte01    1900      1    CIN   NL  10  10  24  20  18  ...  14.0   0   \n",
       "2631  callani01    1900      1    CHN   NL  13  16  32  32  32  ...  22.0   0   \n",
       "2632  carribi01    1900      1    NY1   NL  19  22  45  41  32  ...  13.0   0   \n",
       "\n",
       "         BFP  GF    R  SH  SF  GIDP    id        era  \n",
       "2628    94.0   2   16 NaN NaN   NaN  2628  dead ball  \n",
       "2629   986.0   5  151 NaN NaN   NaN  2629  dead ball  \n",
       "2630   846.0   3  111 NaN NaN   NaN  2630  dead ball  \n",
       "2631  1256.0   0  195 NaN NaN   NaN  2631  dead ball  \n",
       "2632  1493.0   4  224 NaN NaN   NaN  2632  dead ball  \n",
       "\n",
       "[5 rows x 32 columns]"
      ]
     },
     "execution_count": 40,
     "metadata": {},
     "output_type": "execute_result"
    }
   ],
   "source": [
    "from more_dfply import ifelse\n",
    "eras = (pitching\n",
    "        >> filter_by((X.yearID >= 1900) & (X.yearID < 1940))\n",
    "        >> mutate(era = ifelse(X.yearID < 1920, \n",
    "                               \"dead ball\", \n",
    "                               \"after dead ball\"))\n",
    "       )\n",
    "eras >> head"
   ]
  },
  {
   "cell_type": "markdown",
   "metadata": {
    "slideshow": {
     "slide_type": "slide"
    }
   },
   "source": [
    "<img src=\"./img/filter_group_aggregate.png\" width=800>\n",
    "\n",
    "What we did here is actually `filter + groupby + aggregate`"
   ]
  },
  {
   "cell_type": "markdown",
   "metadata": {
    "slideshow": {
     "slide_type": "slide"
    }
   },
   "source": [
    "## Using `dfply.group_by` and `dfply.summarise` "
   ]
  },
  {
   "cell_type": "code",
   "execution_count": 41,
   "metadata": {
    "scrolled": true,
    "slideshow": {
     "slide_type": "fragment"
    }
   },
   "outputs": [
    {
     "data": {
      "text/html": [
       "<div>\n",
       "<style scoped>\n",
       "    .dataframe tbody tr th:only-of-type {\n",
       "        vertical-align: middle;\n",
       "    }\n",
       "\n",
       "    .dataframe tbody tr th {\n",
       "        vertical-align: top;\n",
       "    }\n",
       "\n",
       "    .dataframe thead th {\n",
       "        text-align: right;\n",
       "    }\n",
       "</style>\n",
       "<table border=\"1\" class=\"dataframe\">\n",
       "  <thead>\n",
       "    <tr style=\"text-align: right;\">\n",
       "      <th></th>\n",
       "      <th>era</th>\n",
       "      <th>mean_runs</th>\n",
       "    </tr>\n",
       "  </thead>\n",
       "  <tbody>\n",
       "    <tr>\n",
       "      <th>0</th>\n",
       "      <td>after dead ball</td>\n",
       "      <td>48.409311</td>\n",
       "    </tr>\n",
       "    <tr>\n",
       "      <th>1</th>\n",
       "      <td>dead ball</td>\n",
       "      <td>60.288580</td>\n",
       "    </tr>\n",
       "  </tbody>\n",
       "</table>\n",
       "</div>"
      ],
      "text/plain": [
       "               era  mean_runs\n",
       "0  after dead ball  48.409311\n",
       "1        dead ball  60.288580"
      ]
     },
     "execution_count": 41,
     "metadata": {},
     "output_type": "execute_result"
    }
   ],
   "source": [
    "mean_runs = (eras\n",
    "             >> group_by(X.era)\n",
    "             >> summarise(mean_runs = mean(X.R)))\n",
    "mean_runs"
   ]
  },
  {
   "cell_type": "markdown",
   "metadata": {
    "slideshow": {
     "slide_type": "slide"
    }
   },
   "source": [
    "## Visualizing the data with `seaborn`"
   ]
  },
  {
   "cell_type": "code",
   "execution_count": 42,
   "metadata": {
    "slideshow": {
     "slide_type": "fragment"
    }
   },
   "outputs": [],
   "source": [
    "import seaborn as sns\n",
    "import matplotlib.pylab as plt\n",
    "%matplotlib inline"
   ]
  },
  {
   "cell_type": "code",
   "execution_count": 43,
   "metadata": {
    "slideshow": {
     "slide_type": "fragment"
    }
   },
   "outputs": [
    {
     "data": {
      "image/png": "[encoded data removed]",
      "text/plain": [
       "<Figure size 432x288 with 1 Axes>"
      ]
     },
     "metadata": {
      "needs_background": "light"
     },
     "output_type": "display_data"
    }
   ],
   "source": [
    "fig, ax = plt.subplots()\n",
    "ax = sns.barplot(x = \"era\", y=\"mean_runs\", data=mean_runs, ax = ax)\n",
    "_ = ax.set_title(\"Mean era per pitcher by era\")"
   ]
  },
  {
   "cell_type": "markdown",
   "metadata": {
    "slideshow": {
     "slide_type": "slide"
    }
   },
   "source": [
    "## <font color=\"red\"> Exercise 3 </font>\n",
    "\n",
    "Compose the two queries into one piped expression (filter + mutate + group_by + summarise)"
   ]
  },
  {
   "cell_type": "code",
   "execution_count": 44,
   "metadata": {
    "slideshow": {
     "slide_type": "fragment"
    }
   },
   "outputs": [
    {
     "data": {
      "text/html": [
       "<div>\n",
       "<style scoped>\n",
       "    .dataframe tbody tr th:only-of-type {\n",
       "        vertical-align: middle;\n",
       "    }\n",
       "\n",
       "    .dataframe tbody tr th {\n",
       "        vertical-align: top;\n",
       "    }\n",
       "\n",
       "    .dataframe thead th {\n",
       "        text-align: right;\n",
       "    }\n",
       "</style>\n",
       "<table border=\"1\" class=\"dataframe\">\n",
       "  <thead>\n",
       "    <tr style=\"text-align: right;\">\n",
       "      <th></th>\n",
       "      <th>era</th>\n",
       "      <th>mean_runs</th>\n",
       "    </tr>\n",
       "  </thead>\n",
       "  <tbody>\n",
       "    <tr>\n",
       "      <th>0</th>\n",
       "      <td>after dead ball</td>\n",
       "      <td>48.409311</td>\n",
       "    </tr>\n",
       "    <tr>\n",
       "      <th>1</th>\n",
       "      <td>dead ball</td>\n",
       "      <td>60.288580</td>\n",
       "    </tr>\n",
       "  </tbody>\n",
       "</table>\n",
       "</div>"
      ],
      "text/plain": [
       "               era  mean_runs\n",
       "0  after dead ball  48.409311\n",
       "1        dead ball  60.288580"
      ]
     },
     "execution_count": 44,
     "metadata": {},
     "output_type": "execute_result"
    }
   ],
   "source": [
    "# Your code here\n",
    "(pitching\n",
    " >> filter_by((X.yearID >= 1900) & (X.yearID < 1940))\n",
    " >> mutate(era = ifelse(X.yearID < 1920, \"dead ball\",\"after dead ball\"))\n",
    " >> group_by(X.era)\n",
    " >> summarise(mean_runs = mean(X.R))\n",
    ")"
   ]
  },
  {
   "cell_type": "markdown",
   "metadata": {
    "slideshow": {
     "slide_type": "slide"
    }
   },
   "source": [
    "## Grouping by more than one category\n",
    "\n",
    "* `group_by` accepts multiple columns\n",
    "* Groups all combinations"
   ]
  },
  {
   "cell_type": "markdown",
   "metadata": {
    "slideshow": {
     "slide_type": "slide"
    }
   },
   "source": [
    "## Example - Find all teams with 100+ wins in a season"
   ]
  },
  {
   "cell_type": "markdown",
   "metadata": {
    "slideshow": {
     "slide_type": "slide"
    }
   },
   "source": [
    "#### `pandas` + `dfply`"
   ]
  },
  {
   "cell_type": "code",
   "execution_count": 14,
   "metadata": {
    "slideshow": {
     "slide_type": "fragment"
    }
   },
   "outputs": [
    {
     "data": {
      "text/html": [
       "<div>\n",
       "<style scoped>\n",
       "    .dataframe tbody tr th:only-of-type {\n",
       "        vertical-align: middle;\n",
       "    }\n",
       "\n",
       "    .dataframe tbody tr th {\n",
       "        vertical-align: top;\n",
       "    }\n",
       "\n",
       "    .dataframe thead th {\n",
       "        text-align: right;\n",
       "    }\n",
       "</style>\n",
       "<table border=\"1\" class=\"dataframe\">\n",
       "  <thead>\n",
       "    <tr style=\"text-align: right;\">\n",
       "      <th></th>\n",
       "      <th>teamID</th>\n",
       "      <th>yearID</th>\n",
       "      <th>total_wins</th>\n",
       "    </tr>\n",
       "  </thead>\n",
       "  <tbody>\n",
       "    <tr>\n",
       "      <th>2905</th>\n",
       "      <td>HOU</td>\n",
       "      <td>2019</td>\n",
       "      <td>107</td>\n",
       "    </tr>\n",
       "    <tr>\n",
       "      <th>2908</th>\n",
       "      <td>LAN</td>\n",
       "      <td>2019</td>\n",
       "      <td>106</td>\n",
       "    </tr>\n",
       "    <tr>\n",
       "      <th>2912</th>\n",
       "      <td>NYA</td>\n",
       "      <td>2019</td>\n",
       "      <td>103</td>\n",
       "    </tr>\n",
       "    <tr>\n",
       "      <th>2911</th>\n",
       "      <td>MIN</td>\n",
       "      <td>2019</td>\n",
       "      <td>101</td>\n",
       "    </tr>\n",
       "    <tr>\n",
       "      <th>2868</th>\n",
       "      <td>BOS</td>\n",
       "      <td>2018</td>\n",
       "      <td>108</td>\n",
       "    </tr>\n",
       "  </tbody>\n",
       "</table>\n",
       "</div>"
      ],
      "text/plain": [
       "     teamID  yearID  total_wins\n",
       "2905    HOU    2019         107\n",
       "2908    LAN    2019         106\n",
       "2912    NYA    2019         103\n",
       "2911    MIN    2019         101\n",
       "2868    BOS    2018         108"
      ]
     },
     "execution_count": 14,
     "metadata": {},
     "output_type": "execute_result"
    }
   ],
   "source": [
    "(pitching\n",
    " >> select(X.yearID, X.teamID, X.W)\n",
    " >> group_by(X.yearID, X.teamID)\n",
    " >> summarise(total_wins = X.W.sum())\n",
    " >> ungroup\n",
    " >> filter_by(X.total_wins >= 100)\n",
    " >> arrange(X.yearID, X.total_wins, ascending=False)\n",
    " >> head\n",
    ")"
   ]
  },
  {
   "cell_type": "markdown",
   "metadata": {
    "slideshow": {
     "slide_type": "slide"
    }
   },
   "source": [
    "## So Iverson ... what's up with the `ungroup`?\n",
    "\n",
    "* `pandas` messes with the `df.index` to group\n",
    "* `dfply` adds a `_group_by` attribute to make this work without reindexing\n",
    "* `ungroup` clears this attribute\n",
    "* Do this before manipulating the resulting `df`"
   ]
  },
  {
   "cell_type": "code",
   "execution_count": 18,
   "metadata": {
    "slideshow": {
     "slide_type": "slide"
    }
   },
   "outputs": [
    {
     "data": {
      "text/plain": [
       "['group']"
      ]
     },
     "execution_count": 18,
     "metadata": {},
     "output_type": "execute_result"
    }
   ],
   "source": [
    "import numpy as np\n",
    "df = pd.DataFrame({'group': ['A', 'B', 'C'],\n",
    "                   'value': [1,2,3]\n",
    "                  })\n",
    "grouped_df = (df\n",
    "              >> group_by(X.group))\n",
    "grouped_df._grouped_by"
   ]
  },
  {
   "cell_type": "code",
   "execution_count": 19,
   "metadata": {
    "slideshow": {
     "slide_type": "fragment"
    }
   },
   "outputs": [],
   "source": [
    "ungrouped_df = (df\n",
    "                >> group_by(X.group)\n",
    "                >> ungroup)\n",
    "ungrouped_df._grouped_by"
   ]
  },
  {
   "cell_type": "markdown",
   "metadata": {
    "slideshow": {
     "slide_type": "slide"
    }
   },
   "source": [
    "## The last comparison might not be fair\n",
    "\n",
    "Comparison is only fair if pitchers all pitch the same number of outs/games/innings.  Let's see if there is a difference between the eras in terms of outs pitched (`IPouts`)."
   ]
  },
  {
   "cell_type": "code",
   "execution_count": 20,
   "metadata": {
    "slideshow": {
     "slide_type": "fragment"
    }
   },
   "outputs": [
    {
     "data": {
      "text/html": [
       "<div>\n",
       "<style scoped>\n",
       "    .dataframe tbody tr th:only-of-type {\n",
       "        vertical-align: middle;\n",
       "    }\n",
       "\n",
       "    .dataframe tbody tr th {\n",
       "        vertical-align: top;\n",
       "    }\n",
       "\n",
       "    .dataframe thead th {\n",
       "        text-align: right;\n",
       "    }\n",
       "</style>\n",
       "<table border=\"1\" class=\"dataframe\">\n",
       "  <thead>\n",
       "    <tr style=\"text-align: right;\">\n",
       "      <th></th>\n",
       "      <th>era</th>\n",
       "      <th>mean_outs</th>\n",
       "    </tr>\n",
       "  </thead>\n",
       "  <tbody>\n",
       "    <tr>\n",
       "      <th>0</th>\n",
       "      <td>after dead ball</td>\n",
       "      <td>308.190136</td>\n",
       "    </tr>\n",
       "    <tr>\n",
       "      <th>1</th>\n",
       "      <td>dead ball</td>\n",
       "      <td>390.134259</td>\n",
       "    </tr>\n",
       "  </tbody>\n",
       "</table>\n",
       "</div>"
      ],
      "text/plain": [
       "               era   mean_outs\n",
       "0  after dead ball  308.190136\n",
       "1        dead ball  390.134259"
      ]
     },
     "execution_count": 20,
     "metadata": {},
     "output_type": "execute_result"
    }
   ],
   "source": [
    "mean_outs = (pitching\n",
    "             >> select(X.IPouts, X.yearID)\n",
    "             >> filter_by((X.yearID >= 1900) & (X.yearID < 1940))\n",
    "             >> mutate(era = ifelse(X.yearID < 1920, \n",
    "                                    \"dead ball\", \n",
    "                                    \"after dead ball\"))\n",
    "             >> group_by(X.era)\n",
    "             >> summarise(mean_outs = mean(X.IPouts)))\n",
    "mean_outs"
   ]
  },
  {
   "cell_type": "code",
   "execution_count": 23,
   "metadata": {
    "slideshow": {
     "slide_type": "slide"
    }
   },
   "outputs": [
    {
     "data": {
      "image/png": "[encoded data removed]",
      "text/plain": [
       "<Figure size 432x288 with 1 Axes>"
      ]
     },
     "metadata": {
      "needs_background": "light"
     },
     "output_type": "display_data"
    }
   ],
   "source": [
    "fig, ax = plt.subplots()\n",
    "ax = sns.barplot(x = \"era\", y=\"mean_outs\", data=mean_outs, ax = ax)\n",
    "_ = ax.set_title(\"Mean outs per pitcher by era\")"
   ]
  },
  {
   "cell_type": "markdown",
   "metadata": {
    "slideshow": {
     "slide_type": "slide"
    }
   },
   "source": [
    "## A more fair comparison\n",
    "\n",
    "Instead of comparing the era's on a per-pitcher basis, let's compare on a per year basis.  We will\n",
    "\n",
    "1. Compute the total runs and total IPouts per year.\n",
    "2. Compute the ratio of these totals for each year.\n",
    "3. Compute the average value of the ratio for each era"
   ]
  },
  {
   "cell_type": "code",
   "execution_count": 24,
   "metadata": {
    "slideshow": {
     "slide_type": "fragment"
    }
   },
   "outputs": [
    {
     "data": {
      "text/html": [
       "<div>\n",
       "<style scoped>\n",
       "    .dataframe tbody tr th:only-of-type {\n",
       "        vertical-align: middle;\n",
       "    }\n",
       "\n",
       "    .dataframe tbody tr th {\n",
       "        vertical-align: top;\n",
       "    }\n",
       "\n",
       "    .dataframe thead th {\n",
       "        text-align: right;\n",
       "    }\n",
       "</style>\n",
       "<table border=\"1\" class=\"dataframe\">\n",
       "  <thead>\n",
       "    <tr style=\"text-align: right;\">\n",
       "      <th></th>\n",
       "      <th>era</th>\n",
       "      <th>mean_runs_per_out</th>\n",
       "    </tr>\n",
       "  </thead>\n",
       "  <tbody>\n",
       "    <tr>\n",
       "      <th>0</th>\n",
       "      <td>after dead ball</td>\n",
       "      <td>0.182218</td>\n",
       "    </tr>\n",
       "    <tr>\n",
       "      <th>1</th>\n",
       "      <td>dead ball</td>\n",
       "      <td>0.149920</td>\n",
       "    </tr>\n",
       "  </tbody>\n",
       "</table>\n",
       "</div>"
      ],
      "text/plain": [
       "               era  mean_runs_per_out\n",
       "0  after dead ball           0.182218\n",
       "1        dead ball           0.149920"
      ]
     },
     "execution_count": 24,
     "metadata": {},
     "output_type": "execute_result"
    }
   ],
   "source": [
    "mean_runs_per_out = (pitching\n",
    "                     >> select(X.IPouts, X.yearID, X.R)\n",
    "                     >> filter_by((X.yearID >= 1900) & (X.yearID < 1940))\n",
    "                     >> group_by(X.yearID)\n",
    "                     >> summarise(total_runs = X.R.sum(),\n",
    "                                  total_ipouts = X.IPouts.sum())\n",
    "                     >> ungroup\n",
    "                     >> mutate(runs_per_out = X.total_runs/X.total_ipouts,\n",
    "                               era = ifelse(X.yearID < 1920, \n",
    "                                            \"dead ball\", \n",
    "                                            \"after dead ball\"))\n",
    "                     >> group_by(X.era)\n",
    "                     >> summarise(mean_runs_per_out = mean(X.runs_per_out))\n",
    "                    )\n",
    "mean_runs_per_out"
   ]
  },
  {
   "cell_type": "code",
   "execution_count": 26,
   "metadata": {
    "slideshow": {
     "slide_type": "slide"
    }
   },
   "outputs": [
    {
     "data": {
      "image/png": "[encoded data removed]",
      "text/plain": [
       "<Figure size 432x288 with 1 Axes>"
      ]
     },
     "metadata": {
      "needs_background": "light"
     },
     "output_type": "display_data"
    }
   ],
   "source": [
    "fig, ax = plt.subplots()\n",
    "ax = sns.barplot(x = \"era\", y=\"mean_runs_per_out\", data=mean_runs_per_out, ax = ax)\n",
    "_ = ax.set_title(\"Mean era per out by era\")"
   ]
  },
  {
   "cell_type": "markdown",
   "metadata": {
    "slideshow": {
     "slide_type": "slide"
    }
   },
   "source": [
    "## <font color=\"red\"> Exercise 4 </font>\n",
    "\n",
    "It would be easier to understand this result if we were computing runs on a per-game basis.  Redo the last problem, both this time compute `mean_runs_per_9_innings`.  **Hint:** There are 27 outs in a 9 inning game."
   ]
  },
  {
   "cell_type": "code",
   "execution_count": 62,
   "metadata": {
    "slideshow": {
     "slide_type": "fragment"
    }
   },
   "outputs": [
    {
     "data": {
      "text/html": [
       "<div>\n",
       "<style scoped>\n",
       "    .dataframe tbody tr th:only-of-type {\n",
       "        vertical-align: middle;\n",
       "    }\n",
       "\n",
       "    .dataframe tbody tr th {\n",
       "        vertical-align: top;\n",
       "    }\n",
       "\n",
       "    .dataframe thead th {\n",
       "        text-align: right;\n",
       "    }\n",
       "</style>\n",
       "<table border=\"1\" class=\"dataframe\">\n",
       "  <thead>\n",
       "    <tr style=\"text-align: right;\">\n",
       "      <th></th>\n",
       "      <th>era</th>\n",
       "      <th>mean_runs_per_game</th>\n",
       "    </tr>\n",
       "  </thead>\n",
       "  <tbody>\n",
       "    <tr>\n",
       "      <th>0</th>\n",
       "      <td>after dead ball</td>\n",
       "      <td>4.919895</td>\n",
       "    </tr>\n",
       "    <tr>\n",
       "      <th>1</th>\n",
       "      <td>dead ball</td>\n",
       "      <td>4.047843</td>\n",
       "    </tr>\n",
       "  </tbody>\n",
       "</table>\n",
       "</div>"
      ],
      "text/plain": [
       "               era  mean_runs_per_game\n",
       "0  after dead ball            4.919895\n",
       "1        dead ball            4.047843"
      ]
     },
     "execution_count": 62,
     "metadata": {},
     "output_type": "execute_result"
    }
   ],
   "source": [
    "# Your code here\n",
    "mean_runs_per_9_innings = (pitching\n",
    "                     >> select(X.IPouts, X.yearID, X.R)\n",
    "                     >> filter_by((X.yearID >= 1900) & (X.yearID < 1940))\n",
    "                     >> group_by(X.yearID)\n",
    "                     >> summarise(total_runs = X.R.sum(),\n",
    "                                  total_games = X.IPouts.sum()/27)\n",
    "                     >> ungroup\n",
    "                     >> mutate(runs_per_game = X.total_runs/X.total_games,\n",
    "                               era = ifelse(X.yearID < 1920, \n",
    "                                            \"dead ball\", \n",
    "                                            \"after dead ball\"))\n",
    "                     >> group_by(X.era)\n",
    "                     >> summarise(mean_runs_per_game = mean(X.runs_per_game))\n",
    "                    )\n",
    "mean_runs_per_9_innings"
   ]
  },
  {
   "cell_type": "code",
   "execution_count": 48,
   "metadata": {},
   "outputs": [
    {
     "name": "stdout",
     "output_type": "stream",
     "text": [
      "<class 'pandas.core.frame.DataFrame'>\n",
      "RangeIndex: 47628 entries, 0 to 47627\n",
      "Data columns (total 31 columns):\n",
      " #   Column    Non-Null Count  Dtype  \n",
      "---  ------    --------------  -----  \n",
      " 0   playerID  47628 non-null  object \n",
      " 1   yearID    47628 non-null  int64  \n",
      " 2   stint     47628 non-null  int64  \n",
      " 3   teamID    47628 non-null  object \n",
      " 4   lgID      47496 non-null  object \n",
      " 5   W         47628 non-null  int64  \n",
      " 6   L         47628 non-null  int64  \n",
      " 7   G         47628 non-null  int64  \n",
      " 8   GS        47628 non-null  int64  \n",
      " 9   CG        47628 non-null  int64  \n",
      " 10  SHO       47628 non-null  int64  \n",
      " 11  SV        47628 non-null  int64  \n",
      " 12  IPouts    47628 non-null  int64  \n",
      " 13  H         47628 non-null  int64  \n",
      " 14  ER        47628 non-null  int64  \n",
      " 15  HR        47628 non-null  int64  \n",
      " 16  BB        47628 non-null  int64  \n",
      " 17  SO        47628 non-null  int64  \n",
      " 18  BAOpp     43187 non-null  float64\n",
      " 19  ERA       47534 non-null  float64\n",
      " 20  IBB       33050 non-null  float64\n",
      " 21  WP        47628 non-null  int64  \n",
      " 22  HBP       46894 non-null  float64\n",
      " 23  BK        47628 non-null  int64  \n",
      " 24  BFP       47625 non-null  float64\n",
      " 25  GF        47628 non-null  int64  \n",
      " 26  R         47628 non-null  int64  \n",
      " 27  SH        28441 non-null  float64\n",
      " 28  SF        28441 non-null  float64\n",
      " 29  GIDP      27310 non-null  float64\n",
      " 30  id        47628 non-null  int64  \n",
      "dtypes: float64(8), int64(20), object(3)\n",
      "memory usage: 11.3+ MB\n"
     ]
    }
   ],
   "source": [
    "pitching.info()"
   ]
  },
  {
   "cell_type": "markdown",
   "metadata": {
    "slideshow": {
     "slide_type": "fragment"
    }
   },
   "source": [
    "## <font color=\"red\"> Exercise 5 </font>\n",
    "\n",
    "Compute and plot the average home runs per game allowed per year for all years in the pitching table.  To accomplish this task, you should\n",
    "\n",
    "1. Aggregate total `HR` and `IPouts` for each year.\n",
    "1. Create a `games_pitched`, which is computed by dividing total inning pitched outs `IPouts` by 27, the number of outs in a game.\n",
    "2. Create a `hr_per_game` column by dividing the total `HR` for each year by `games_pitched` for each year.\n",
    "4. Make line plot of the results. You will need to create a new column `HR_per_inning` then perform the group and aggregate. You can use [seaborn's lineplot](https://seaborn.pydata.org/generated/seaborn.lineplot.html) to make the graph."
   ]
  },
  {
   "cell_type": "code",
   "execution_count": 108,
   "metadata": {
    "slideshow": {
     "slide_type": "fragment"
    }
   },
   "outputs": [
    {
     "data": {
      "text/html": [
       "<div>\n",
       "<style scoped>\n",
       "    .dataframe tbody tr th:only-of-type {\n",
       "        vertical-align: middle;\n",
       "    }\n",
       "\n",
       "    .dataframe tbody tr th {\n",
       "        vertical-align: top;\n",
       "    }\n",
       "\n",
       "    .dataframe thead th {\n",
       "        text-align: right;\n",
       "    }\n",
       "</style>\n",
       "<table border=\"1\" class=\"dataframe\">\n",
       "  <thead>\n",
       "    <tr style=\"text-align: right;\">\n",
       "      <th></th>\n",
       "      <th>yearID</th>\n",
       "      <th>mean_runs_per_game</th>\n",
       "      <th>mean_runs_per_inning</th>\n",
       "    </tr>\n",
       "  </thead>\n",
       "  <tbody>\n",
       "    <tr>\n",
       "      <th>0</th>\n",
       "      <td>1871</td>\n",
       "      <td>10.636000</td>\n",
       "      <td>1.181778</td>\n",
       "    </tr>\n",
       "    <tr>\n",
       "      <th>1</th>\n",
       "      <td>1872</td>\n",
       "      <td>9.284845</td>\n",
       "      <td>1.031649</td>\n",
       "    </tr>\n",
       "    <tr>\n",
       "      <th>2</th>\n",
       "      <td>1873</td>\n",
       "      <td>8.988283</td>\n",
       "      <td>0.998698</td>\n",
       "    </tr>\n",
       "    <tr>\n",
       "      <th>3</th>\n",
       "      <td>1874</td>\n",
       "      <td>7.489807</td>\n",
       "      <td>0.832201</td>\n",
       "    </tr>\n",
       "    <tr>\n",
       "      <th>4</th>\n",
       "      <td>1875</td>\n",
       "      <td>6.155727</td>\n",
       "      <td>0.683970</td>\n",
       "    </tr>\n",
       "    <tr>\n",
       "      <th>...</th>\n",
       "      <td>...</td>\n",
       "      <td>...</td>\n",
       "      <td>...</td>\n",
       "    </tr>\n",
       "    <tr>\n",
       "      <th>144</th>\n",
       "      <td>2015</td>\n",
       "      <td>4.280880</td>\n",
       "      <td>0.475653</td>\n",
       "    </tr>\n",
       "    <tr>\n",
       "      <th>145</th>\n",
       "      <td>2016</td>\n",
       "      <td>4.518877</td>\n",
       "      <td>0.502097</td>\n",
       "    </tr>\n",
       "    <tr>\n",
       "      <th>146</th>\n",
       "      <td>2017</td>\n",
       "      <td>4.698384</td>\n",
       "      <td>0.522043</td>\n",
       "    </tr>\n",
       "    <tr>\n",
       "      <th>147</th>\n",
       "      <td>2018</td>\n",
       "      <td>4.476304</td>\n",
       "      <td>0.497367</td>\n",
       "    </tr>\n",
       "    <tr>\n",
       "      <th>148</th>\n",
       "      <td>2019</td>\n",
       "      <td>4.863814</td>\n",
       "      <td>0.540424</td>\n",
       "    </tr>\n",
       "  </tbody>\n",
       "</table>\n",
       "<p>149 rows × 3 columns</p>\n",
       "</div>"
      ],
      "text/plain": [
       "     yearID  mean_runs_per_game  mean_runs_per_inning\n",
       "0      1871           10.636000              1.181778\n",
       "1      1872            9.284845              1.031649\n",
       "2      1873            8.988283              0.998698\n",
       "3      1874            7.489807              0.832201\n",
       "4      1875            6.155727              0.683970\n",
       "..      ...                 ...                   ...\n",
       "144    2015            4.280880              0.475653\n",
       "145    2016            4.518877              0.502097\n",
       "146    2017            4.698384              0.522043\n",
       "147    2018            4.476304              0.497367\n",
       "148    2019            4.863814              0.540424\n",
       "\n",
       "[149 rows x 3 columns]"
      ]
     },
     "execution_count": 108,
     "metadata": {},
     "output_type": "execute_result"
    }
   ],
   "source": [
    "# Your refactored code here\n",
    "avg_runs_per_game_and_inning = (pitching\n",
    " >> select(X.IPouts, X.yearID, X.R)\n",
    " >> group_by(X.yearID)\n",
    " >> summarise(total_runs = X.R.sum(),\n",
    "              games_pitched = X.IPouts.sum()/27)\n",
    " >> mutate(hr_per_game = X.total_runs/X.games_pitched,\n",
    "            hr_per_inning = X.total_runs/ X.games_pitched / 9 )\n",
    " >> summarise(mean_runs_per_game = mean(X.hr_per_game),\n",
    "              mean_runs_per_inning = mean(X.hr_per_inning))\n",
    ")\n",
    "\n",
    "avg_runs_per_game_and_inning"
   ]
  },
  {
   "cell_type": "code",
   "execution_count": 109,
   "metadata": {},
   "outputs": [
    {
     "data": {
      "text/plain": [
       "<AxesSubplot:xlabel='yearID', ylabel='mean_runs_per_inning'>"
      ]
     },
     "execution_count": 109,
     "metadata": {},
     "output_type": "execute_result"
    },
    {
     "data": {
      "image/png": "[encoded data removed]",
      "text/plain": [
       "<Figure size 432x288 with 1 Axes>"
      ]
     },
     "metadata": {
      "needs_background": "light"
     },
     "output_type": "display_data"
    }
   ],
   "source": [
    "sns.lineplot(data=avg_runs_per_game_and_inning, x=\"yearID\", y=\"mean_runs_per_inning\")"
   ]
  }
 ],
 "metadata": {
  "celltoolbar": "Slideshow",
  "kernelspec": {
   "display_name": "Python 3 (ipykernel)",
   "language": "python",
   "name": "python3"
  },
  "language_info": {
   "codemirror_mode": {
    "name": "ipython",
    "version": 3
   },
   "file_extension": ".py",
   "mimetype": "text/x-python",
   "name": "python",
   "nbconvert_exporter": "python",
   "pygments_lexer": "ipython3",
   "version": "3.9.12"
  },
  "varInspector": {
   "cols": {
    "lenName": 16,
    "lenType": 16,
    "lenVar": 40
   },
   "kernels_config": {
    "python": {
     "delete_cmd_postfix": "",
     "delete_cmd_prefix": "del ",
     "library": "var_list.py",
     "varRefreshCmd": "print(var_dic_list())"
    },
    "r": {
     "delete_cmd_postfix": ") ",
     "delete_cmd_prefix": "rm(",
     "library": "var_list.r",
     "varRefreshCmd": "cat(var_dic_list()) "
    }
   },
   "types_to_exclude": [
    "module",
    "function",
    "builtin_function_or_method",
    "instance",
    "_Feature"
   ],
   "window_display": false
  }
 },
 "nbformat": 4,
 "nbformat_minor": 2
}
