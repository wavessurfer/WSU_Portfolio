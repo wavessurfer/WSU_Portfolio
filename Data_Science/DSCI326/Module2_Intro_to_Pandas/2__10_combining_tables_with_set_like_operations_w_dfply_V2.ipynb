{
 "cells": [
  {
   "cell_type": "markdown",
   "metadata": {},
   "source": [
    "# Concatenating Tables with Set-Like Operations\n",
    "\n",
    "One of the two way of combining two tables is to stack one table on top of the other.  When stacking two tables on top of one another, we need to decide\n",
    "\n",
    "1. If we combine columns based on position or name (and if combining by name, what do we do with mismatches?)\n",
    "2. How to decide which rows to keep.  In this case, we will take some guidance from SQL clauses."
   ]
  },
  {
   "cell_type": "markdown",
   "metadata": {},
   "source": [
    "## Three Types of Operations\n",
    "\n",
    "* **Union:** Keeps rows from either table.\n",
    "* **Intersection:** Only keeps common columns\n",
    "* **Set Difference/Except:** Keep rows from the left table *except* those in the right table."
   ]
  },
  {
   "cell_type": "markdown",
   "metadata": {},
   "source": [
    "## Set Operations in Action \n",
    "\n",
    "<img src=\"./img/table_verbs_set.gif\" width=800>"
   ]
  },
  {
   "cell_type": "markdown",
   "metadata": {},
   "source": [
    "## All Operations Match by Position\n",
    "\n",
    "All operations\n",
    "\n",
    "* Match columns by position\n",
    "* Require same number/type of columns"
   ]
  },
  {
   "cell_type": "markdown",
   "metadata": {},
   "source": [
    "## Distinct Versus All\n",
    "\n",
    "* **UNION/INTERSECT/SET DIFFERENE** are **DISTINCT**\n",
    "    * Only keeps distinct rows, removing duplicates.\n",
    "* **UNION ALL/INTERSECT ALL/SET DIFFERENCE ALL**\n",
    "    * Keeps duplicate rows"
   ]
  },
  {
   "cell_type": "code",
   "execution_count": 1,
   "metadata": {},
   "outputs": [],
   "source": [
    "import pandas as pd\n",
    "from dfply import *"
   ]
  },
  {
   "cell_type": "code",
   "execution_count": 2,
   "metadata": {},
   "outputs": [
    {
     "data": {
      "text/html": [
       "<div>\n",
       "<style scoped>\n",
       "    .dataframe tbody tr th:only-of-type {\n",
       "        vertical-align: middle;\n",
       "    }\n",
       "\n",
       "    .dataframe tbody tr th {\n",
       "        vertical-align: top;\n",
       "    }\n",
       "\n",
       "    .dataframe thead th {\n",
       "        text-align: right;\n",
       "    }\n",
       "</style>\n",
       "<table border=\"1\" class=\"dataframe\">\n",
       "  <thead>\n",
       "    <tr style=\"text-align: right;\">\n",
       "      <th></th>\n",
       "      <th>Unnamed: 0</th>\n",
       "      <th>Salesperson</th>\n",
       "      <th>Compact</th>\n",
       "      <th>Sedan</th>\n",
       "      <th>SUV</th>\n",
       "      <th>Truck</th>\n",
       "    </tr>\n",
       "  </thead>\n",
       "  <tbody>\n",
       "    <tr>\n",
       "      <th>0</th>\n",
       "      <td>0</td>\n",
       "      <td>Ann</td>\n",
       "      <td>22</td>\n",
       "      <td>18</td>\n",
       "      <td>15</td>\n",
       "      <td>12</td>\n",
       "    </tr>\n",
       "    <tr>\n",
       "      <th>1</th>\n",
       "      <td>1</td>\n",
       "      <td>Bob</td>\n",
       "      <td>20</td>\n",
       "      <td>14</td>\n",
       "      <td>6</td>\n",
       "      <td>24</td>\n",
       "    </tr>\n",
       "    <tr>\n",
       "      <th>2</th>\n",
       "      <td>2</td>\n",
       "      <td>Yolanda</td>\n",
       "      <td>19</td>\n",
       "      <td>10</td>\n",
       "      <td>28</td>\n",
       "      <td>17</td>\n",
       "    </tr>\n",
       "    <tr>\n",
       "      <th>3</th>\n",
       "      <td>3</td>\n",
       "      <td>Xerxes</td>\n",
       "      <td>11</td>\n",
       "      <td>27</td>\n",
       "      <td>17</td>\n",
       "      <td>9</td>\n",
       "    </tr>\n",
       "  </tbody>\n",
       "</table>\n",
       "</div>"
      ],
      "text/plain": [
       "   Unnamed: 0 Salesperson  Compact  Sedan  SUV  Truck\n",
       "0           0         Ann       22     18   15     12\n",
       "1           1         Bob       20     14    6     24\n",
       "2           2     Yolanda       19     10   28     17\n",
       "3           3      Xerxes       11     27   17      9"
      ]
     },
     "execution_count": 2,
     "metadata": {},
     "output_type": "execute_result"
    }
   ],
   "source": [
    "sales_may = pd.read_csv('./data/auto_sales_may.csv')\n",
    "sales_may"
   ]
  },
  {
   "cell_type": "code",
   "execution_count": 3,
   "metadata": {},
   "outputs": [
    {
     "data": {
      "text/html": [
       "<div>\n",
       "<style scoped>\n",
       "    .dataframe tbody tr th:only-of-type {\n",
       "        vertical-align: middle;\n",
       "    }\n",
       "\n",
       "    .dataframe tbody tr th {\n",
       "        vertical-align: top;\n",
       "    }\n",
       "\n",
       "    .dataframe thead th {\n",
       "        text-align: right;\n",
       "    }\n",
       "</style>\n",
       "<table border=\"1\" class=\"dataframe\">\n",
       "  <thead>\n",
       "    <tr style=\"text-align: right;\">\n",
       "      <th></th>\n",
       "      <th>Unnamed: 0</th>\n",
       "      <th>Salesperson</th>\n",
       "      <th>Compact</th>\n",
       "      <th>Sedan</th>\n",
       "      <th>SUV</th>\n",
       "      <th>Truck</th>\n",
       "    </tr>\n",
       "  </thead>\n",
       "  <tbody>\n",
       "    <tr>\n",
       "      <th>0</th>\n",
       "      <td>0</td>\n",
       "      <td>Ann</td>\n",
       "      <td>22</td>\n",
       "      <td>18</td>\n",
       "      <td>15</td>\n",
       "      <td>12</td>\n",
       "    </tr>\n",
       "    <tr>\n",
       "      <th>1</th>\n",
       "      <td>1</td>\n",
       "      <td>Bob</td>\n",
       "      <td>19</td>\n",
       "      <td>12</td>\n",
       "      <td>17</td>\n",
       "      <td>20</td>\n",
       "    </tr>\n",
       "    <tr>\n",
       "      <th>2</th>\n",
       "      <td>2</td>\n",
       "      <td>Yolanda</td>\n",
       "      <td>19</td>\n",
       "      <td>8</td>\n",
       "      <td>32</td>\n",
       "      <td>15</td>\n",
       "    </tr>\n",
       "    <tr>\n",
       "      <th>3</th>\n",
       "      <td>3</td>\n",
       "      <td>Xerxes</td>\n",
       "      <td>12</td>\n",
       "      <td>23</td>\n",
       "      <td>18</td>\n",
       "      <td>9</td>\n",
       "    </tr>\n",
       "  </tbody>\n",
       "</table>\n",
       "</div>"
      ],
      "text/plain": [
       "   Unnamed: 0 Salesperson  Compact  Sedan  SUV  Truck\n",
       "0           0         Ann       22     18   15     12\n",
       "1           1         Bob       19     12   17     20\n",
       "2           2     Yolanda       19      8   32     15\n",
       "3           3      Xerxes       12     23   18      9"
      ]
     },
     "execution_count": 3,
     "metadata": {},
     "output_type": "execute_result"
    }
   ],
   "source": [
    "sales_apr = pd.read_csv('./data/auto_sales_apr.csv')\n",
    "sales_apr"
   ]
  },
  {
   "cell_type": "markdown",
   "metadata": {},
   "source": [
    "## Unions with `dfply`\n",
    "\n",
    "Use `left_table >> union(right_table)`"
   ]
  },
  {
   "cell_type": "code",
   "execution_count": 4,
   "metadata": {
    "scrolled": true
   },
   "outputs": [
    {
     "name": "stderr",
     "output_type": "stream",
     "text": [
      "/home/wavessurfer/.pyenv/versions/anaconda3-2022.05/lib/python3.9/site-packages/dfply/set_ops.py:51: FutureWarning: The frame.append method is deprecated and will be removed from pandas in a future version. Use pandas.concat instead.\n",
      "  stacked = df.append(other)\n"
     ]
    },
    {
     "data": {
      "text/html": [
       "<div>\n",
       "<style scoped>\n",
       "    .dataframe tbody tr th:only-of-type {\n",
       "        vertical-align: middle;\n",
       "    }\n",
       "\n",
       "    .dataframe tbody tr th {\n",
       "        vertical-align: top;\n",
       "    }\n",
       "\n",
       "    .dataframe thead th {\n",
       "        text-align: right;\n",
       "    }\n",
       "</style>\n",
       "<table border=\"1\" class=\"dataframe\">\n",
       "  <thead>\n",
       "    <tr style=\"text-align: right;\">\n",
       "      <th></th>\n",
       "      <th>Unnamed: 0</th>\n",
       "      <th>Salesperson</th>\n",
       "      <th>Compact</th>\n",
       "      <th>Sedan</th>\n",
       "      <th>SUV</th>\n",
       "      <th>Truck</th>\n",
       "    </tr>\n",
       "  </thead>\n",
       "  <tbody>\n",
       "    <tr>\n",
       "      <th>0</th>\n",
       "      <td>0</td>\n",
       "      <td>Ann</td>\n",
       "      <td>22</td>\n",
       "      <td>18</td>\n",
       "      <td>15</td>\n",
       "      <td>12</td>\n",
       "    </tr>\n",
       "    <tr>\n",
       "      <th>1</th>\n",
       "      <td>1</td>\n",
       "      <td>Bob</td>\n",
       "      <td>20</td>\n",
       "      <td>14</td>\n",
       "      <td>6</td>\n",
       "      <td>24</td>\n",
       "    </tr>\n",
       "    <tr>\n",
       "      <th>2</th>\n",
       "      <td>2</td>\n",
       "      <td>Yolanda</td>\n",
       "      <td>19</td>\n",
       "      <td>10</td>\n",
       "      <td>28</td>\n",
       "      <td>17</td>\n",
       "    </tr>\n",
       "    <tr>\n",
       "      <th>3</th>\n",
       "      <td>3</td>\n",
       "      <td>Xerxes</td>\n",
       "      <td>11</td>\n",
       "      <td>27</td>\n",
       "      <td>17</td>\n",
       "      <td>9</td>\n",
       "    </tr>\n",
       "    <tr>\n",
       "      <th>1</th>\n",
       "      <td>1</td>\n",
       "      <td>Bob</td>\n",
       "      <td>19</td>\n",
       "      <td>12</td>\n",
       "      <td>17</td>\n",
       "      <td>20</td>\n",
       "    </tr>\n",
       "    <tr>\n",
       "      <th>2</th>\n",
       "      <td>2</td>\n",
       "      <td>Yolanda</td>\n",
       "      <td>19</td>\n",
       "      <td>8</td>\n",
       "      <td>32</td>\n",
       "      <td>15</td>\n",
       "    </tr>\n",
       "    <tr>\n",
       "      <th>3</th>\n",
       "      <td>3</td>\n",
       "      <td>Xerxes</td>\n",
       "      <td>12</td>\n",
       "      <td>23</td>\n",
       "      <td>18</td>\n",
       "      <td>9</td>\n",
       "    </tr>\n",
       "  </tbody>\n",
       "</table>\n",
       "</div>"
      ],
      "text/plain": [
       "   Unnamed: 0 Salesperson  Compact  Sedan  SUV  Truck\n",
       "0           0         Ann       22     18   15     12\n",
       "1           1         Bob       20     14    6     24\n",
       "2           2     Yolanda       19     10   28     17\n",
       "3           3      Xerxes       11     27   17      9\n",
       "1           1         Bob       19     12   17     20\n",
       "2           2     Yolanda       19      8   32     15\n",
       "3           3      Xerxes       12     23   18      9"
      ]
     },
     "execution_count": 4,
     "metadata": {},
     "output_type": "execute_result"
    }
   ],
   "source": [
    "sales_may >> union(sales_apr)"
   ]
  },
  {
   "cell_type": "markdown",
   "metadata": {},
   "source": [
    "## `dfply.union` is distinct\n",
    "\n",
    "Since Ann have the same sales each month, her row only included one row.  Note that we can use `keep='last'` to `keep='first'` to determine which row is kept."
   ]
  },
  {
   "cell_type": "code",
   "execution_count": 5,
   "metadata": {
    "scrolled": false
   },
   "outputs": [
    {
     "name": "stderr",
     "output_type": "stream",
     "text": [
      "/home/wavessurfer/.pyenv/versions/anaconda3-2022.05/lib/python3.9/site-packages/dfply/set_ops.py:51: FutureWarning: The frame.append method is deprecated and will be removed from pandas in a future version. Use pandas.concat instead.\n",
      "  stacked = df.append(other)\n"
     ]
    },
    {
     "data": {
      "text/html": [
       "<div>\n",
       "<style scoped>\n",
       "    .dataframe tbody tr th:only-of-type {\n",
       "        vertical-align: middle;\n",
       "    }\n",
       "\n",
       "    .dataframe tbody tr th {\n",
       "        vertical-align: top;\n",
       "    }\n",
       "\n",
       "    .dataframe thead th {\n",
       "        text-align: right;\n",
       "    }\n",
       "</style>\n",
       "<table border=\"1\" class=\"dataframe\">\n",
       "  <thead>\n",
       "    <tr style=\"text-align: right;\">\n",
       "      <th></th>\n",
       "      <th>Unnamed: 0</th>\n",
       "      <th>Salesperson</th>\n",
       "      <th>Compact</th>\n",
       "      <th>Sedan</th>\n",
       "      <th>SUV</th>\n",
       "      <th>Truck</th>\n",
       "    </tr>\n",
       "  </thead>\n",
       "  <tbody>\n",
       "    <tr>\n",
       "      <th>1</th>\n",
       "      <td>1</td>\n",
       "      <td>Bob</td>\n",
       "      <td>20</td>\n",
       "      <td>14</td>\n",
       "      <td>6</td>\n",
       "      <td>24</td>\n",
       "    </tr>\n",
       "    <tr>\n",
       "      <th>2</th>\n",
       "      <td>2</td>\n",
       "      <td>Yolanda</td>\n",
       "      <td>19</td>\n",
       "      <td>10</td>\n",
       "      <td>28</td>\n",
       "      <td>17</td>\n",
       "    </tr>\n",
       "    <tr>\n",
       "      <th>3</th>\n",
       "      <td>3</td>\n",
       "      <td>Xerxes</td>\n",
       "      <td>11</td>\n",
       "      <td>27</td>\n",
       "      <td>17</td>\n",
       "      <td>9</td>\n",
       "    </tr>\n",
       "    <tr>\n",
       "      <th>0</th>\n",
       "      <td>0</td>\n",
       "      <td>Ann</td>\n",
       "      <td>22</td>\n",
       "      <td>18</td>\n",
       "      <td>15</td>\n",
       "      <td>12</td>\n",
       "    </tr>\n",
       "    <tr>\n",
       "      <th>1</th>\n",
       "      <td>1</td>\n",
       "      <td>Bob</td>\n",
       "      <td>19</td>\n",
       "      <td>12</td>\n",
       "      <td>17</td>\n",
       "      <td>20</td>\n",
       "    </tr>\n",
       "    <tr>\n",
       "      <th>2</th>\n",
       "      <td>2</td>\n",
       "      <td>Yolanda</td>\n",
       "      <td>19</td>\n",
       "      <td>8</td>\n",
       "      <td>32</td>\n",
       "      <td>15</td>\n",
       "    </tr>\n",
       "    <tr>\n",
       "      <th>3</th>\n",
       "      <td>3</td>\n",
       "      <td>Xerxes</td>\n",
       "      <td>12</td>\n",
       "      <td>23</td>\n",
       "      <td>18</td>\n",
       "      <td>9</td>\n",
       "    </tr>\n",
       "  </tbody>\n",
       "</table>\n",
       "</div>"
      ],
      "text/plain": [
       "   Unnamed: 0 Salesperson  Compact  Sedan  SUV  Truck\n",
       "1           1         Bob       20     14    6     24\n",
       "2           2     Yolanda       19     10   28     17\n",
       "3           3      Xerxes       11     27   17      9\n",
       "0           0         Ann       22     18   15     12\n",
       "1           1         Bob       19     12   17     20\n",
       "2           2     Yolanda       19      8   32     15\n",
       "3           3      Xerxes       12     23   18      9"
      ]
     },
     "execution_count": 5,
     "metadata": {},
     "output_type": "execute_result"
    }
   ],
   "source": [
    "sales_may >> union(sales_apr, keep='last')"
   ]
  },
  {
   "cell_type": "code",
   "execution_count": 8,
   "metadata": {
    "scrolled": false
   },
   "outputs": [
    {
     "name": "stderr",
     "output_type": "stream",
     "text": [
      "/home/wavessurfer/.pyenv/versions/anaconda3-2022.05/lib/python3.9/site-packages/dfply/set_ops.py:51: FutureWarning: The frame.append method is deprecated and will be removed from pandas in a future version. Use pandas.concat instead.\n",
      "  stacked = df.append(other)\n"
     ]
    },
    {
     "data": {
      "text/html": [
       "<div>\n",
       "<style scoped>\n",
       "    .dataframe tbody tr th:only-of-type {\n",
       "        vertical-align: middle;\n",
       "    }\n",
       "\n",
       "    .dataframe tbody tr th {\n",
       "        vertical-align: top;\n",
       "    }\n",
       "\n",
       "    .dataframe thead th {\n",
       "        text-align: right;\n",
       "    }\n",
       "</style>\n",
       "<table border=\"1\" class=\"dataframe\">\n",
       "  <thead>\n",
       "    <tr style=\"text-align: right;\">\n",
       "      <th></th>\n",
       "      <th>Unnamed: 0</th>\n",
       "      <th>Salesperson</th>\n",
       "      <th>Compact</th>\n",
       "      <th>Sedan</th>\n",
       "      <th>SUV</th>\n",
       "      <th>Truck</th>\n",
       "    </tr>\n",
       "  </thead>\n",
       "  <tbody>\n",
       "    <tr>\n",
       "      <th>0</th>\n",
       "      <td>0</td>\n",
       "      <td>Ann</td>\n",
       "      <td>22</td>\n",
       "      <td>18</td>\n",
       "      <td>15</td>\n",
       "      <td>12</td>\n",
       "    </tr>\n",
       "    <tr>\n",
       "      <th>1</th>\n",
       "      <td>1</td>\n",
       "      <td>Bob</td>\n",
       "      <td>20</td>\n",
       "      <td>14</td>\n",
       "      <td>6</td>\n",
       "      <td>24</td>\n",
       "    </tr>\n",
       "    <tr>\n",
       "      <th>2</th>\n",
       "      <td>2</td>\n",
       "      <td>Yolanda</td>\n",
       "      <td>19</td>\n",
       "      <td>10</td>\n",
       "      <td>28</td>\n",
       "      <td>17</td>\n",
       "    </tr>\n",
       "    <tr>\n",
       "      <th>3</th>\n",
       "      <td>3</td>\n",
       "      <td>Xerxes</td>\n",
       "      <td>11</td>\n",
       "      <td>27</td>\n",
       "      <td>17</td>\n",
       "      <td>9</td>\n",
       "    </tr>\n",
       "    <tr>\n",
       "      <th>1</th>\n",
       "      <td>1</td>\n",
       "      <td>Bob</td>\n",
       "      <td>19</td>\n",
       "      <td>12</td>\n",
       "      <td>17</td>\n",
       "      <td>20</td>\n",
       "    </tr>\n",
       "    <tr>\n",
       "      <th>2</th>\n",
       "      <td>2</td>\n",
       "      <td>Yolanda</td>\n",
       "      <td>19</td>\n",
       "      <td>8</td>\n",
       "      <td>32</td>\n",
       "      <td>15</td>\n",
       "    </tr>\n",
       "    <tr>\n",
       "      <th>3</th>\n",
       "      <td>3</td>\n",
       "      <td>Xerxes</td>\n",
       "      <td>12</td>\n",
       "      <td>23</td>\n",
       "      <td>18</td>\n",
       "      <td>9</td>\n",
       "    </tr>\n",
       "  </tbody>\n",
       "</table>\n",
       "</div>"
      ],
      "text/plain": [
       "   Unnamed: 0 Salesperson  Compact  Sedan  SUV  Truck\n",
       "0           0         Ann       22     18   15     12\n",
       "1           1         Bob       20     14    6     24\n",
       "2           2     Yolanda       19     10   28     17\n",
       "3           3      Xerxes       11     27   17      9\n",
       "1           1         Bob       19     12   17     20\n",
       "2           2     Yolanda       19      8   32     15\n",
       "3           3      Xerxes       12     23   18      9"
      ]
     },
     "execution_count": 8,
     "metadata": {},
     "output_type": "execute_result"
    }
   ],
   "source": [
    "sales_may >> union(sales_apr, keep='first')"
   ]
  },
  {
   "cell_type": "markdown",
   "metadata": {},
   "source": [
    "## Making `union_all`\n",
    "\n",
    "We can use `pd.concat` to perform a `UNION ALL`"
   ]
  },
  {
   "cell_type": "code",
   "execution_count": 10,
   "metadata": {},
   "outputs": [
    {
     "data": {
      "text/html": [
       "<div>\n",
       "<style scoped>\n",
       "    .dataframe tbody tr th:only-of-type {\n",
       "        vertical-align: middle;\n",
       "    }\n",
       "\n",
       "    .dataframe tbody tr th {\n",
       "        vertical-align: top;\n",
       "    }\n",
       "\n",
       "    .dataframe thead th {\n",
       "        text-align: right;\n",
       "    }\n",
       "</style>\n",
       "<table border=\"1\" class=\"dataframe\">\n",
       "  <thead>\n",
       "    <tr style=\"text-align: right;\">\n",
       "      <th></th>\n",
       "      <th>Unnamed: 0</th>\n",
       "      <th>Salesperson</th>\n",
       "      <th>Compact</th>\n",
       "      <th>Sedan</th>\n",
       "      <th>SUV</th>\n",
       "      <th>Truck</th>\n",
       "    </tr>\n",
       "  </thead>\n",
       "  <tbody>\n",
       "    <tr>\n",
       "      <th>0</th>\n",
       "      <td>0</td>\n",
       "      <td>Ann</td>\n",
       "      <td>22</td>\n",
       "      <td>18</td>\n",
       "      <td>15</td>\n",
       "      <td>12</td>\n",
       "    </tr>\n",
       "    <tr>\n",
       "      <th>1</th>\n",
       "      <td>1</td>\n",
       "      <td>Bob</td>\n",
       "      <td>20</td>\n",
       "      <td>14</td>\n",
       "      <td>6</td>\n",
       "      <td>24</td>\n",
       "    </tr>\n",
       "    <tr>\n",
       "      <th>2</th>\n",
       "      <td>2</td>\n",
       "      <td>Yolanda</td>\n",
       "      <td>19</td>\n",
       "      <td>10</td>\n",
       "      <td>28</td>\n",
       "      <td>17</td>\n",
       "    </tr>\n",
       "    <tr>\n",
       "      <th>3</th>\n",
       "      <td>3</td>\n",
       "      <td>Xerxes</td>\n",
       "      <td>11</td>\n",
       "      <td>27</td>\n",
       "      <td>17</td>\n",
       "      <td>9</td>\n",
       "    </tr>\n",
       "    <tr>\n",
       "      <th>4</th>\n",
       "      <td>0</td>\n",
       "      <td>Ann</td>\n",
       "      <td>22</td>\n",
       "      <td>18</td>\n",
       "      <td>15</td>\n",
       "      <td>12</td>\n",
       "    </tr>\n",
       "    <tr>\n",
       "      <th>5</th>\n",
       "      <td>1</td>\n",
       "      <td>Bob</td>\n",
       "      <td>19</td>\n",
       "      <td>12</td>\n",
       "      <td>17</td>\n",
       "      <td>20</td>\n",
       "    </tr>\n",
       "    <tr>\n",
       "      <th>6</th>\n",
       "      <td>2</td>\n",
       "      <td>Yolanda</td>\n",
       "      <td>19</td>\n",
       "      <td>8</td>\n",
       "      <td>32</td>\n",
       "      <td>15</td>\n",
       "    </tr>\n",
       "    <tr>\n",
       "      <th>7</th>\n",
       "      <td>3</td>\n",
       "      <td>Xerxes</td>\n",
       "      <td>12</td>\n",
       "      <td>23</td>\n",
       "      <td>18</td>\n",
       "      <td>9</td>\n",
       "    </tr>\n",
       "  </tbody>\n",
       "</table>\n",
       "</div>"
      ],
      "text/plain": [
       "   Unnamed: 0 Salesperson  Compact  Sedan  SUV  Truck\n",
       "0           0         Ann       22     18   15     12\n",
       "1           1         Bob       20     14    6     24\n",
       "2           2     Yolanda       19     10   28     17\n",
       "3           3      Xerxes       11     27   17      9\n",
       "4           0         Ann       22     18   15     12\n",
       "5           1         Bob       19     12   17     20\n",
       "6           2     Yolanda       19      8   32     15\n",
       "7           3      Xerxes       12     23   18      9"
      ]
     },
     "execution_count": 10,
     "metadata": {},
     "output_type": "execute_result"
    }
   ],
   "source": [
    "from more_dfply import union_all\n",
    "sales_may >> union_all(sales_apr)"
   ]
  },
  {
   "cell_type": "markdown",
   "metadata": {},
   "source": [
    "## Adding a month column\n",
    "\n",
    "Another way to keep both of Ann's sales rows is adding a month column (which we should probably do anyway)."
   ]
  },
  {
   "cell_type": "code",
   "execution_count": 12,
   "metadata": {
    "scrolled": false
   },
   "outputs": [
    {
     "name": "stderr",
     "output_type": "stream",
     "text": [
      "/home/wavessurfer/.pyenv/versions/anaconda3-2022.05/lib/python3.9/site-packages/dfply/set_ops.py:51: FutureWarning: The frame.append method is deprecated and will be removed from pandas in a future version. Use pandas.concat instead.\n",
      "  stacked = df.append(other)\n"
     ]
    },
    {
     "data": {
      "text/html": [
       "<div>\n",
       "<style scoped>\n",
       "    .dataframe tbody tr th:only-of-type {\n",
       "        vertical-align: middle;\n",
       "    }\n",
       "\n",
       "    .dataframe tbody tr th {\n",
       "        vertical-align: top;\n",
       "    }\n",
       "\n",
       "    .dataframe thead th {\n",
       "        text-align: right;\n",
       "    }\n",
       "</style>\n",
       "<table border=\"1\" class=\"dataframe\">\n",
       "  <thead>\n",
       "    <tr style=\"text-align: right;\">\n",
       "      <th></th>\n",
       "      <th>Unnamed: 0</th>\n",
       "      <th>Salesperson</th>\n",
       "      <th>Compact</th>\n",
       "      <th>Sedan</th>\n",
       "      <th>SUV</th>\n",
       "      <th>Truck</th>\n",
       "      <th>month</th>\n",
       "    </tr>\n",
       "  </thead>\n",
       "  <tbody>\n",
       "    <tr>\n",
       "      <th>0</th>\n",
       "      <td>0</td>\n",
       "      <td>Ann</td>\n",
       "      <td>22</td>\n",
       "      <td>18</td>\n",
       "      <td>15</td>\n",
       "      <td>12</td>\n",
       "      <td>May</td>\n",
       "    </tr>\n",
       "    <tr>\n",
       "      <th>1</th>\n",
       "      <td>1</td>\n",
       "      <td>Bob</td>\n",
       "      <td>20</td>\n",
       "      <td>14</td>\n",
       "      <td>6</td>\n",
       "      <td>24</td>\n",
       "      <td>May</td>\n",
       "    </tr>\n",
       "    <tr>\n",
       "      <th>2</th>\n",
       "      <td>2</td>\n",
       "      <td>Yolanda</td>\n",
       "      <td>19</td>\n",
       "      <td>10</td>\n",
       "      <td>28</td>\n",
       "      <td>17</td>\n",
       "      <td>May</td>\n",
       "    </tr>\n",
       "    <tr>\n",
       "      <th>3</th>\n",
       "      <td>3</td>\n",
       "      <td>Xerxes</td>\n",
       "      <td>11</td>\n",
       "      <td>27</td>\n",
       "      <td>17</td>\n",
       "      <td>9</td>\n",
       "      <td>May</td>\n",
       "    </tr>\n",
       "    <tr>\n",
       "      <th>0</th>\n",
       "      <td>0</td>\n",
       "      <td>Ann</td>\n",
       "      <td>22</td>\n",
       "      <td>18</td>\n",
       "      <td>15</td>\n",
       "      <td>12</td>\n",
       "      <td>April</td>\n",
       "    </tr>\n",
       "    <tr>\n",
       "      <th>1</th>\n",
       "      <td>1</td>\n",
       "      <td>Bob</td>\n",
       "      <td>19</td>\n",
       "      <td>12</td>\n",
       "      <td>17</td>\n",
       "      <td>20</td>\n",
       "      <td>April</td>\n",
       "    </tr>\n",
       "    <tr>\n",
       "      <th>2</th>\n",
       "      <td>2</td>\n",
       "      <td>Yolanda</td>\n",
       "      <td>19</td>\n",
       "      <td>8</td>\n",
       "      <td>32</td>\n",
       "      <td>15</td>\n",
       "      <td>April</td>\n",
       "    </tr>\n",
       "    <tr>\n",
       "      <th>3</th>\n",
       "      <td>3</td>\n",
       "      <td>Xerxes</td>\n",
       "      <td>12</td>\n",
       "      <td>23</td>\n",
       "      <td>18</td>\n",
       "      <td>9</td>\n",
       "      <td>April</td>\n",
       "    </tr>\n",
       "  </tbody>\n",
       "</table>\n",
       "</div>"
      ],
      "text/plain": [
       "   Unnamed: 0 Salesperson  Compact  Sedan  SUV  Truck  month\n",
       "0           0         Ann       22     18   15     12    May\n",
       "1           1         Bob       20     14    6     24    May\n",
       "2           2     Yolanda       19     10   28     17    May\n",
       "3           3      Xerxes       11     27   17      9    May\n",
       "0           0         Ann       22     18   15     12  April\n",
       "1           1         Bob       19     12   17     20  April\n",
       "2           2     Yolanda       19      8   32     15  April\n",
       "3           3      Xerxes       12     23   18      9  April"
      ]
     },
     "execution_count": 12,
     "metadata": {},
     "output_type": "execute_result"
    }
   ],
   "source": [
    "sales_may >> mutate(month = 'May') >> union(sales_apr >> mutate(month = 'April'))"
   ]
  },
  {
   "cell_type": "markdown",
   "metadata": {},
   "source": [
    "## Finding common rows with `dfply.intersect`"
   ]
  },
  {
   "cell_type": "code",
   "execution_count": 13,
   "metadata": {},
   "outputs": [
    {
     "data": {
      "text/html": [
       "<div>\n",
       "<style scoped>\n",
       "    .dataframe tbody tr th:only-of-type {\n",
       "        vertical-align: middle;\n",
       "    }\n",
       "\n",
       "    .dataframe tbody tr th {\n",
       "        vertical-align: top;\n",
       "    }\n",
       "\n",
       "    .dataframe thead th {\n",
       "        text-align: right;\n",
       "    }\n",
       "</style>\n",
       "<table border=\"1\" class=\"dataframe\">\n",
       "  <thead>\n",
       "    <tr style=\"text-align: right;\">\n",
       "      <th></th>\n",
       "      <th>Unnamed: 0</th>\n",
       "      <th>Salesperson</th>\n",
       "      <th>Compact</th>\n",
       "      <th>Sedan</th>\n",
       "      <th>SUV</th>\n",
       "      <th>Truck</th>\n",
       "    </tr>\n",
       "  </thead>\n",
       "  <tbody>\n",
       "    <tr>\n",
       "      <th>0</th>\n",
       "      <td>0</td>\n",
       "      <td>Ann</td>\n",
       "      <td>22</td>\n",
       "      <td>18</td>\n",
       "      <td>15</td>\n",
       "      <td>12</td>\n",
       "    </tr>\n",
       "  </tbody>\n",
       "</table>\n",
       "</div>"
      ],
      "text/plain": [
       "   Unnamed: 0 Salesperson  Compact  Sedan  SUV  Truck\n",
       "0           0         Ann       22     18   15     12"
      ]
     },
     "execution_count": 13,
     "metadata": {},
     "output_type": "execute_result"
    }
   ],
   "source": [
    "sales_may >> intersect(sales_apr)"
   ]
  },
  {
   "cell_type": "markdown",
   "metadata": {},
   "source": [
    "## Finding rows unique to the left table.\n",
    "\n",
    "Use `left_table >> dfply.set_diff(right_table)`"
   ]
  },
  {
   "cell_type": "code",
   "execution_count": 10,
   "metadata": {
    "scrolled": false
   },
   "outputs": [
    {
     "data": {
      "text/html": [
       "<div>\n",
       "<style scoped>\n",
       "    .dataframe tbody tr th:only-of-type {\n",
       "        vertical-align: middle;\n",
       "    }\n",
       "\n",
       "    .dataframe tbody tr th {\n",
       "        vertical-align: top;\n",
       "    }\n",
       "\n",
       "    .dataframe thead th {\n",
       "        text-align: right;\n",
       "    }\n",
       "</style>\n",
       "<table border=\"1\" class=\"dataframe\">\n",
       "  <thead>\n",
       "    <tr style=\"text-align: right;\">\n",
       "      <th></th>\n",
       "      <th>Unnamed: 0</th>\n",
       "      <th>Salesperson</th>\n",
       "      <th>Compact</th>\n",
       "      <th>Sedan</th>\n",
       "      <th>SUV</th>\n",
       "      <th>Truck</th>\n",
       "    </tr>\n",
       "  </thead>\n",
       "  <tbody>\n",
       "    <tr>\n",
       "      <th>1</th>\n",
       "      <td>1</td>\n",
       "      <td>Bob</td>\n",
       "      <td>20</td>\n",
       "      <td>14</td>\n",
       "      <td>6</td>\n",
       "      <td>24</td>\n",
       "    </tr>\n",
       "    <tr>\n",
       "      <th>2</th>\n",
       "      <td>2</td>\n",
       "      <td>Yolanda</td>\n",
       "      <td>19</td>\n",
       "      <td>10</td>\n",
       "      <td>28</td>\n",
       "      <td>17</td>\n",
       "    </tr>\n",
       "    <tr>\n",
       "      <th>3</th>\n",
       "      <td>3</td>\n",
       "      <td>Xerxes</td>\n",
       "      <td>11</td>\n",
       "      <td>27</td>\n",
       "      <td>17</td>\n",
       "      <td>9</td>\n",
       "    </tr>\n",
       "  </tbody>\n",
       "</table>\n",
       "</div>"
      ],
      "text/plain": [
       "   Unnamed: 0 Salesperson  Compact  Sedan  SUV  Truck\n",
       "1           1         Bob       20     14    6     24\n",
       "2           2     Yolanda       19     10   28     17\n",
       "3           3      Xerxes       11     27   17      9"
      ]
     },
     "execution_count": 10,
     "metadata": {},
     "output_type": "execute_result"
    }
   ],
   "source": [
    "sales_may >> set_diff(sales_apr)"
   ]
  },
  {
   "cell_type": "markdown",
   "metadata": {},
   "source": [
    "# Working with many and/or large files\n",
    "\n",
    "In this section, we will take a look at techniques for working with many files, as well as large files."
   ]
  },
  {
   "cell_type": "code",
   "execution_count": 14,
   "metadata": {},
   "outputs": [],
   "source": [
    "import pandas as pd\n",
    "from dfply import *"
   ]
  },
  {
   "cell_type": "markdown",
   "metadata": {},
   "source": [
    "## Baseball data\n",
    "\n",
    "We will be using the [Baseball Databank](https://github.com/chadwickbureau/baseballdatabank), make sure you have these data cloned into `./data/baseball`."
   ]
  },
  {
   "cell_type": "code",
   "execution_count": 15,
   "metadata": {},
   "outputs": [
    {
     "name": "stdout",
     "output_type": "stream",
     "text": [
      "fatal: destination path './data/baseball' already exists and is not an empty directory.\r\n"
     ]
    }
   ],
   "source": [
    "!git clone https://github.com/chadwickbureau/baseballdatabank.git ./data/baseball"
   ]
  },
  {
   "cell_type": "markdown",
   "metadata": {},
   "source": [
    "## Working with many files.\n",
    "\n",
    "* Use `glob.glob` to find all files that match a pattern\n",
    "* Convert all files to `pd.DataFrames`\n",
    "* Store the `df` in a list or dictionary"
   ]
  },
  {
   "cell_type": "markdown",
   "metadata": {},
   "source": [
    "## What the heck is a `glob`\n",
    "\n",
    "`glob.glob`\n",
    "\n",
    "* Takes a path regular expression\n",
    "* Returns a list of files that match the patterm\n",
    "* Relative paths!"
   ]
  },
  {
   "cell_type": "markdown",
   "metadata": {},
   "source": [
    "## Store in `dict` or `list`?\n",
    "\n",
    "* Natural sequence/order? $\\rightarrow$ `list`\n",
    "    *  Example: Lakes data and years are a natural sequence\n",
    "* Easier to refer by name? $\\rightarrow$ `dict`\n",
    "    * Baseball files have no order and easier to refer to by name"
   ]
  },
  {
   "cell_type": "markdown",
   "metadata": {},
   "source": [
    "## Example 1 - Using `glob` to read and combine the sales data\n",
    "\n",
    "Using `glob` with a `list` to automate reading an combining files "
   ]
  },
  {
   "cell_type": "markdown",
   "metadata": {},
   "source": [
    "#### Step 1 - Get the file names"
   ]
  },
  {
   "cell_type": "code",
   "execution_count": 16,
   "metadata": {},
   "outputs": [
    {
     "data": {
      "text/plain": [
       "['./data/auto_sales_apr.csv', './data/auto_sales_may.csv']"
      ]
     },
     "execution_count": 16,
     "metadata": {},
     "output_type": "execute_result"
    }
   ],
   "source": [
    "from glob import glob\n",
    "sales_files = glob('./data/auto_sales_*.csv')\n",
    "sales_files"
   ]
  },
  {
   "cell_type": "markdown",
   "metadata": {},
   "source": [
    "#### Step 2 - Read the files into a list of data frames"
   ]
  },
  {
   "cell_type": "code",
   "execution_count": 17,
   "metadata": {},
   "outputs": [],
   "source": [
    "sales_by_month = [pd.read_csv(f) for f in sales_files]"
   ]
  },
  {
   "cell_type": "markdown",
   "metadata": {},
   "source": [
    " #### Inspect each data from with head"
   ]
  },
  {
   "cell_type": "code",
   "execution_count": 18,
   "metadata": {},
   "outputs": [
    {
     "data": {
      "text/plain": [
       "[   Unnamed: 0 Salesperson  Compact  Sedan  SUV  Truck\n",
       " 0           0         Ann       22     18   15     12\n",
       " 1           1         Bob       19     12   17     20,\n",
       "    Unnamed: 0 Salesperson  Compact  Sedan  SUV  Truck\n",
       " 0           0         Ann       22     18   15     12\n",
       " 1           1         Bob       20     14    6     24]"
      ]
     },
     "execution_count": 18,
     "metadata": {},
     "output_type": "execute_result"
    }
   ],
   "source": [
    "[df.head(2) for df in sales_by_month]"
   ]
  },
  {
   "cell_type": "markdown",
   "metadata": {},
   "source": [
    "#### Step 3 - Pull off the month from the file names and repackage as a `dict`"
   ]
  },
  {
   "cell_type": "code",
   "execution_count": 27,
   "metadata": {},
   "outputs": [
    {
     "data": {
      "text/plain": [
       "['apr', 'may']"
      ]
     },
     "execution_count": 27,
     "metadata": {},
     "output_type": "execute_result"
    }
   ],
   "source": [
    "import re\n",
    "my_pattern = re.compile(r'./data/auto_sales_([a-z]{3}).csv')\n",
    "[my_pattern.match(f).group(1) for f in sales_files]"
   ]
  },
  {
   "cell_type": "code",
   "execution_count": 26,
   "metadata": {},
   "outputs": [
    {
     "data": {
      "text/plain": [
       "'jun'"
      ]
     },
     "execution_count": 26,
     "metadata": {},
     "output_type": "execute_result"
    }
   ],
   "source": [
    "my_pattern.match('./data/auto_sales_jun.csv').group(1)"
   ]
  },
  {
   "cell_type": "code",
   "execution_count": 28,
   "metadata": {},
   "outputs": [
    {
     "data": {
      "text/plain": [
       "['apr', 'may']"
      ]
     },
     "execution_count": 28,
     "metadata": {},
     "output_type": "execute_result"
    }
   ],
   "source": [
    "import re\n",
    "\n",
    "MONTH_RE = re.compile(r'./data/auto_sales_([a-z]{3}).csv')\n",
    "get_month = lambda p: MONTH_RE.match(p).group(1) \n",
    "month_names = lambda files: [get_month(p) for p in files]\n",
    "month_names(sales_files)"
   ]
  },
  {
   "cell_type": "code",
   "execution_count": 29,
   "metadata": {},
   "outputs": [
    {
     "data": {
      "text/plain": [
       "[('apr', './data/auto_sales_apr.csv'), ('may', './data/auto_sales_may.csv')]"
      ]
     },
     "execution_count": 29,
     "metadata": {},
     "output_type": "execute_result"
    }
   ],
   "source": [
    "month_name_and_file = list(zip(month_names(sales_files), sales_files))\n",
    "month_name_and_file"
   ]
  },
  {
   "cell_type": "markdown",
   "metadata": {},
   "source": [
    "#### Now repackage with a `list` comprehension\n",
    "\n",
    "Note that we will need the month name later, so we are storing it in a `tuple` with the data frame for now."
   ]
  },
  {
   "cell_type": "code",
   "execution_count": 30,
   "metadata": {},
   "outputs": [],
   "source": [
    "sales_by_month = [(mon,pd.read_csv(file)) for mon, file in month_name_and_file]"
   ]
  },
  {
   "cell_type": "code",
   "execution_count": 31,
   "metadata": {},
   "outputs": [
    {
     "data": {
      "text/plain": [
       "[('apr',\n",
       "     Unnamed: 0 Salesperson  Compact  Sedan  SUV  Truck\n",
       "  0           0         Ann       22     18   15     12\n",
       "  1           1         Bob       19     12   17     20),\n",
       " ('may',\n",
       "     Unnamed: 0 Salesperson  Compact  Sedan  SUV  Truck\n",
       "  0           0         Ann       22     18   15     12\n",
       "  1           1         Bob       20     14    6     24)]"
      ]
     },
     "execution_count": 31,
     "metadata": {},
     "output_type": "execute_result"
    }
   ],
   "source": [
    "[(mon, df.head(2)) for mon, df in sales_by_month]"
   ]
  },
  {
   "cell_type": "markdown",
   "metadata": {},
   "source": [
    "#### Step 4 - Add a month column to each file\n",
    "\n",
    "Notice that we need to put the `dfply` pipe *inside* the `list` comprehension to allow access to the names."
   ]
  },
  {
   "cell_type": "code",
   "execution_count": 32,
   "metadata": {},
   "outputs": [],
   "source": [
    "sale_files_with_month = [(df\n",
    "                          >> mutate(month = mon)\n",
    "                         )\n",
    "                         for mon, df in sales_by_month\n",
    "                        ]"
   ]
  },
  {
   "cell_type": "code",
   "execution_count": 33,
   "metadata": {},
   "outputs": [
    {
     "data": {
      "text/plain": [
       "[   Unnamed: 0 Salesperson  Compact  Sedan  SUV  Truck month\n",
       " 0           0         Ann       22     18   15     12   apr\n",
       " 1           1         Bob       19     12   17     20   apr,\n",
       "    Unnamed: 0 Salesperson  Compact  Sedan  SUV  Truck month\n",
       " 0           0         Ann       22     18   15     12   may\n",
       " 1           1         Bob       20     14    6     24   may]"
      ]
     },
     "execution_count": 33,
     "metadata": {},
     "output_type": "execute_result"
    }
   ],
   "source": [
    "[df.head(2) for df in sale_files_with_month]"
   ]
  },
  {
   "cell_type": "markdown",
   "metadata": {},
   "source": [
    "#### Step 5 - Combine the files using `pd.concat`\n",
    "\n",
    "Note that `pd.concat` is `dfply.union_all`"
   ]
  },
  {
   "cell_type": "code",
   "execution_count": 34,
   "metadata": {},
   "outputs": [],
   "source": [
    "?pd.concat"
   ]
  },
  {
   "cell_type": "code",
   "execution_count": 35,
   "metadata": {},
   "outputs": [
    {
     "data": {
      "text/html": [
       "<div>\n",
       "<style scoped>\n",
       "    .dataframe tbody tr th:only-of-type {\n",
       "        vertical-align: middle;\n",
       "    }\n",
       "\n",
       "    .dataframe tbody tr th {\n",
       "        vertical-align: top;\n",
       "    }\n",
       "\n",
       "    .dataframe thead th {\n",
       "        text-align: right;\n",
       "    }\n",
       "</style>\n",
       "<table border=\"1\" class=\"dataframe\">\n",
       "  <thead>\n",
       "    <tr style=\"text-align: right;\">\n",
       "      <th></th>\n",
       "      <th>Unnamed: 0</th>\n",
       "      <th>Salesperson</th>\n",
       "      <th>Compact</th>\n",
       "      <th>Sedan</th>\n",
       "      <th>SUV</th>\n",
       "      <th>Truck</th>\n",
       "      <th>month</th>\n",
       "    </tr>\n",
       "  </thead>\n",
       "  <tbody>\n",
       "    <tr>\n",
       "      <th>0</th>\n",
       "      <td>0</td>\n",
       "      <td>Ann</td>\n",
       "      <td>22</td>\n",
       "      <td>18</td>\n",
       "      <td>15</td>\n",
       "      <td>12</td>\n",
       "      <td>apr</td>\n",
       "    </tr>\n",
       "    <tr>\n",
       "      <th>1</th>\n",
       "      <td>1</td>\n",
       "      <td>Bob</td>\n",
       "      <td>19</td>\n",
       "      <td>12</td>\n",
       "      <td>17</td>\n",
       "      <td>20</td>\n",
       "      <td>apr</td>\n",
       "    </tr>\n",
       "    <tr>\n",
       "      <th>2</th>\n",
       "      <td>2</td>\n",
       "      <td>Yolanda</td>\n",
       "      <td>19</td>\n",
       "      <td>8</td>\n",
       "      <td>32</td>\n",
       "      <td>15</td>\n",
       "      <td>apr</td>\n",
       "    </tr>\n",
       "    <tr>\n",
       "      <th>3</th>\n",
       "      <td>3</td>\n",
       "      <td>Xerxes</td>\n",
       "      <td>12</td>\n",
       "      <td>23</td>\n",
       "      <td>18</td>\n",
       "      <td>9</td>\n",
       "      <td>apr</td>\n",
       "    </tr>\n",
       "    <tr>\n",
       "      <th>0</th>\n",
       "      <td>0</td>\n",
       "      <td>Ann</td>\n",
       "      <td>22</td>\n",
       "      <td>18</td>\n",
       "      <td>15</td>\n",
       "      <td>12</td>\n",
       "      <td>may</td>\n",
       "    </tr>\n",
       "    <tr>\n",
       "      <th>1</th>\n",
       "      <td>1</td>\n",
       "      <td>Bob</td>\n",
       "      <td>20</td>\n",
       "      <td>14</td>\n",
       "      <td>6</td>\n",
       "      <td>24</td>\n",
       "      <td>may</td>\n",
       "    </tr>\n",
       "    <tr>\n",
       "      <th>2</th>\n",
       "      <td>2</td>\n",
       "      <td>Yolanda</td>\n",
       "      <td>19</td>\n",
       "      <td>10</td>\n",
       "      <td>28</td>\n",
       "      <td>17</td>\n",
       "      <td>may</td>\n",
       "    </tr>\n",
       "    <tr>\n",
       "      <th>3</th>\n",
       "      <td>3</td>\n",
       "      <td>Xerxes</td>\n",
       "      <td>11</td>\n",
       "      <td>27</td>\n",
       "      <td>17</td>\n",
       "      <td>9</td>\n",
       "      <td>may</td>\n",
       "    </tr>\n",
       "  </tbody>\n",
       "</table>\n",
       "</div>"
      ],
      "text/plain": [
       "   Unnamed: 0 Salesperson  Compact  Sedan  SUV  Truck month\n",
       "0           0         Ann       22     18   15     12   apr\n",
       "1           1         Bob       19     12   17     20   apr\n",
       "2           2     Yolanda       19      8   32     15   apr\n",
       "3           3      Xerxes       12     23   18      9   apr\n",
       "0           0         Ann       22     18   15     12   may\n",
       "1           1         Bob       20     14    6     24   may\n",
       "2           2     Yolanda       19     10   28     17   may\n",
       "3           3      Xerxes       11     27   17      9   may"
      ]
     },
     "execution_count": 35,
     "metadata": {},
     "output_type": "execute_result"
    }
   ],
   "source": [
    "combined_files = pd.concat(sale_files_with_month)\n",
    "combined_files"
   ]
  },
  {
   "cell_type": "markdown",
   "metadata": {},
   "source": [
    "## <font color=\"red\"> Exercise 2.10.1</font>\n",
    "\n",
    "In the data folder, you will find 6 files that contain a sample 100,000 rows from the uber data for the month apr14-sep14.  Perform the following tasks:\n",
    "\n",
    "1. Use `glob` to get all 6 file paths.\n",
    "2. Use a regular expression to create a `lambda` function that pulls the month from the files.\n",
    "3. Read the 6 data frames into a `list` of `tuples` containing the month name corresponding data frame.\n",
    "4. Add the month column each data frame using a pipe inside of a comprehension.\n",
    "5. Use `pd.concat` to combine these 6 data frames into one combined `df`"
   ]
  },
  {
   "cell_type": "code",
   "execution_count": 51,
   "metadata": {
    "scrolled": false
   },
   "outputs": [
    {
     "data": {
      "text/plain": [
       "['./data/uber-raw-data-jun14-sample.csv',\n",
       " './data/uber-raw-data-may14-sample.csv',\n",
       " './data/uber-raw-data-aug14-sample.csv',\n",
       " './data/uber-raw-data-sep14-sample.csv',\n",
       " './data/uber-raw-data-apr14-sample.csv',\n",
       " './data/uber-raw-data-jul14-sample.csv']"
      ]
     },
     "execution_count": 51,
     "metadata": {},
     "output_type": "execute_result"
    }
   ],
   "source": [
    "# Your code here\n",
    "uber_files = glob('./data/uber-*.csv')\n",
    "uber_files"
   ]
  },
  {
   "cell_type": "code",
   "execution_count": null,
   "metadata": {},
   "outputs": [],
   "source": [
    "uberf_by_month = [pd.read_csv(f) for f in uber_files]\n",
    "[df.head(3) for df in uberf_by_month]"
   ]
  },
  {
   "cell_type": "code",
   "execution_count": 63,
   "metadata": {},
   "outputs": [
    {
     "data": {
      "text/plain": [
       "[('jun', './data/uber-raw-data-jun14-sample.csv'),\n",
       " ('may', './data/uber-raw-data-may14-sample.csv'),\n",
       " ('aug', './data/uber-raw-data-aug14-sample.csv'),\n",
       " ('sep', './data/uber-raw-data-sep14-sample.csv'),\n",
       " ('apr', './data/uber-raw-data-apr14-sample.csv'),\n",
       " ('jul', './data/uber-raw-data-jul14-sample.csv')]"
      ]
     },
     "execution_count": 63,
     "metadata": {},
     "output_type": "execute_result"
    }
   ],
   "source": [
    "month_re = re.compile(r'./data/uber-raw-data-([a-z]{3})\\d+-sample.csv')\n",
    "get_month = lambda p: month_re.match(p).group(1) \n",
    "month_names = lambda files: [get_month(p) for p in files]\n",
    "month_name_and_file = list(zip(month_names(uber_files), uber_files))\n",
    "month_name_and_file"
   ]
  },
  {
   "cell_type": "code",
   "execution_count": 66,
   "metadata": {},
   "outputs": [
    {
     "data": {
      "text/plain": [
       "[('jun',\n",
       "              Date/Time      Lat      Lon    Base\n",
       "  0  6/19/2014 16:49:00  40.7568 -73.9701  B02682\n",
       "  1  6/12/2014 21:25:00  40.6463 -73.7768  B02598),\n",
       " ('may',\n",
       "              Date/Time      Lat      Lon    Base\n",
       "  0  5/31/2014 18:57:00  40.7660 -73.9714  B02682\n",
       "  1  5/13/2014 21:19:00  40.7598 -73.9782  B02598),\n",
       " ('aug',\n",
       "              Date/Time      Lat      Lon    Base\n",
       "  0  8/12/2014 19:19:00  40.7062 -74.0145  B02598\n",
       "  1  8/30/2014 17:39:00  40.6400 -73.9672  B02764),\n",
       " ('sep',\n",
       "              Date/Time      Lat      Lon    Base\n",
       "  0  9/29/2014 22:30:00  40.7848 -73.9540  B02682\n",
       "  1  9/26/2014 10:41:00  40.7134 -73.9974  B02598),\n",
       " ('apr',\n",
       "              Date/Time      Lat      Lon    Base\n",
       "  0  4/18/2014 21:38:00  40.7359 -73.9852  B02682\n",
       "  1  4/23/2014 15:19:00  40.7642 -73.9543  B02598),\n",
       " ('jul',\n",
       "              Date/Time      Lat      Lon    Base\n",
       "  0  7/29/2014 19:34:00  40.7140 -74.0144  B02682\n",
       "  1  7/11/2014 10:24:00  40.7264 -73.9553  B02617)]"
      ]
     },
     "execution_count": 66,
     "metadata": {},
     "output_type": "execute_result"
    }
   ],
   "source": [
    "uberf_by_month = [(mon,pd.read_csv(file)) for mon, file in month_name_and_file]\n",
    "[(mon, df.head(2)) for mon, df in uberf_by_month]"
   ]
  },
  {
   "cell_type": "code",
   "execution_count": 67,
   "metadata": {},
   "outputs": [
    {
     "data": {
      "text/plain": [
       "[            Date/Time      Lat      Lon    Base Month\n",
       " 0  6/19/2014 16:49:00  40.7568 -73.9701  B02682   jun\n",
       " 1  6/12/2014 21:25:00  40.6463 -73.7768  B02598   jun\n",
       " 2  6/15/2014 22:23:00  40.7205 -73.9575  B02512   jun,\n",
       "             Date/Time      Lat      Lon    Base Month\n",
       " 0  5/31/2014 18:57:00  40.7660 -73.9714  B02682   may\n",
       " 1  5/13/2014 21:19:00  40.7598 -73.9782  B02598   may\n",
       " 2  5/21/2014 18:19:00  40.7254 -73.9979  B02598   may,\n",
       "             Date/Time      Lat      Lon    Base Month\n",
       " 0  8/12/2014 19:19:00  40.7062 -74.0145  B02598   aug\n",
       " 1  8/30/2014 17:39:00  40.6400 -73.9672  B02764   aug\n",
       " 2   8/3/2014 12:21:00  40.7242 -73.9788  B02598   aug,\n",
       "             Date/Time      Lat      Lon    Base Month\n",
       " 0  9/29/2014 22:30:00  40.7848 -73.9540  B02682   sep\n",
       " 1  9/26/2014 10:41:00  40.7134 -73.9974  B02598   sep\n",
       " 2   9/9/2014 14:46:00  40.7174 -73.9584  B02598   sep,\n",
       "             Date/Time      Lat      Lon    Base Month\n",
       " 0  4/18/2014 21:38:00  40.7359 -73.9852  B02682   apr\n",
       " 1  4/23/2014 15:19:00  40.7642 -73.9543  B02598   apr\n",
       " 2   4/10/2014 7:15:00  40.7138 -74.0103  B02598   apr,\n",
       "             Date/Time      Lat      Lon    Base Month\n",
       " 0  7/29/2014 19:34:00  40.7140 -74.0144  B02682   jul\n",
       " 1  7/11/2014 10:24:00  40.7264 -73.9553  B02617   jul\n",
       " 2  7/11/2014 18:44:00  40.7394 -73.9912  B02617   jul]"
      ]
     },
     "execution_count": 67,
     "metadata": {},
     "output_type": "execute_result"
    }
   ],
   "source": [
    "uber_f_with_month = [(df\n",
    "                     >> mutate(Month = mon)\n",
    "                     )\n",
    "                    for mon, df in uberf_by_month\n",
    "                    ]\n",
    "\n",
    "[df.head(3) for df in uber_f_with_month]"
   ]
  },
  {
   "cell_type": "code",
   "execution_count": 72,
   "metadata": {},
   "outputs": [
    {
     "data": {
      "text/html": [
       "<div>\n",
       "<style scoped>\n",
       "    .dataframe tbody tr th:only-of-type {\n",
       "        vertical-align: middle;\n",
       "    }\n",
       "\n",
       "    .dataframe tbody tr th {\n",
       "        vertical-align: top;\n",
       "    }\n",
       "\n",
       "    .dataframe thead th {\n",
       "        text-align: right;\n",
       "    }\n",
       "</style>\n",
       "<table border=\"1\" class=\"dataframe\">\n",
       "  <thead>\n",
       "    <tr style=\"text-align: right;\">\n",
       "      <th></th>\n",
       "      <th>Date/Time</th>\n",
       "      <th>Lat</th>\n",
       "      <th>Lon</th>\n",
       "      <th>Base</th>\n",
       "      <th>Month</th>\n",
       "    </tr>\n",
       "  </thead>\n",
       "  <tbody>\n",
       "    <tr>\n",
       "      <th>2888</th>\n",
       "      <td>6/19/2014 20:39:00</td>\n",
       "      <td>40.7466</td>\n",
       "      <td>-73.9934</td>\n",
       "      <td>B02598</td>\n",
       "      <td>jun</td>\n",
       "    </tr>\n",
       "    <tr>\n",
       "      <th>52359</th>\n",
       "      <td>9/7/2014 16:15:00</td>\n",
       "      <td>40.6682</td>\n",
       "      <td>-73.9360</td>\n",
       "      <td>B02617</td>\n",
       "      <td>sep</td>\n",
       "    </tr>\n",
       "    <tr>\n",
       "      <th>67804</th>\n",
       "      <td>7/18/2014 23:52:00</td>\n",
       "      <td>40.7247</td>\n",
       "      <td>-73.9986</td>\n",
       "      <td>B02682</td>\n",
       "      <td>jul</td>\n",
       "    </tr>\n",
       "    <tr>\n",
       "      <th>82559</th>\n",
       "      <td>9/3/2014 13:01:00</td>\n",
       "      <td>40.7639</td>\n",
       "      <td>-73.9786</td>\n",
       "      <td>B02682</td>\n",
       "      <td>sep</td>\n",
       "    </tr>\n",
       "    <tr>\n",
       "      <th>51267</th>\n",
       "      <td>6/13/2014 23:33:00</td>\n",
       "      <td>40.7739</td>\n",
       "      <td>-73.8734</td>\n",
       "      <td>B02598</td>\n",
       "      <td>jun</td>\n",
       "    </tr>\n",
       "    <tr>\n",
       "      <th>95445</th>\n",
       "      <td>6/8/2014 0:47:00</td>\n",
       "      <td>40.7085</td>\n",
       "      <td>-73.9468</td>\n",
       "      <td>B02617</td>\n",
       "      <td>jun</td>\n",
       "    </tr>\n",
       "  </tbody>\n",
       "</table>\n",
       "</div>"
      ],
      "text/plain": [
       "                Date/Time      Lat      Lon    Base Month\n",
       "2888   6/19/2014 20:39:00  40.7466 -73.9934  B02598   jun\n",
       "52359   9/7/2014 16:15:00  40.6682 -73.9360  B02617   sep\n",
       "67804  7/18/2014 23:52:00  40.7247 -73.9986  B02682   jul\n",
       "82559   9/3/2014 13:01:00  40.7639 -73.9786  B02682   sep\n",
       "51267  6/13/2014 23:33:00  40.7739 -73.8734  B02598   jun\n",
       "95445    6/8/2014 0:47:00  40.7085 -73.9468  B02617   jun"
      ]
     },
     "execution_count": 72,
     "metadata": {},
     "output_type": "execute_result"
    }
   ],
   "source": [
    "uber_final = pd.concat(uber_f_with_month)\n",
    "uber_final.sample(6)"
   ]
  },
  {
   "cell_type": "markdown",
   "metadata": {},
   "source": [
    "## Example 2 - Reading and joining the baseball database using `dict`\n",
    "\n",
    "**Task:** Collect the number of total hits for each batters in the 2010 season join on their first and last name.\n",
    "\n",
    "In the second example, we will store the data frames in a `dict`, which will make it easier to join the files by ne"
   ]
  },
  {
   "cell_type": "markdown",
   "metadata": {},
   "source": [
    "#### Step 1 - Get the files names"
   ]
  },
  {
   "cell_type": "code",
   "execution_count": 73,
   "metadata": {},
   "outputs": [
    {
     "data": {
      "text/plain": [
       "['./data/baseball/core/ManagersHalf.csv',\n",
       " './data/baseball/core/AwardsPlayers.csv',\n",
       " './data/baseball/core/CollegePlaying.csv',\n",
       " './data/baseball/core/FieldingOFsplit.csv',\n",
       " './data/baseball/core/AwardsManagers.csv',\n",
       " './data/baseball/core/FieldingPost.csv',\n",
       " './data/baseball/core/AwardsShareManagers.csv',\n",
       " './data/baseball/core/AwardsSharePlayers.csv',\n",
       " './data/baseball/core/People.csv',\n",
       " './data/baseball/core/Pitching.csv',\n",
       " './data/baseball/core/Salaries.csv',\n",
       " './data/baseball/core/BattingPost.csv',\n",
       " './data/baseball/core/AllstarFull.csv',\n",
       " './data/baseball/core/Parks.csv',\n",
       " './data/baseball/core/PitchingPost.csv',\n",
       " './data/baseball/core/TeamsFranchises.csv',\n",
       " './data/baseball/core/FieldingOF.csv',\n",
       " './data/baseball/core/SeriesPost.csv',\n",
       " './data/baseball/core/Batting.csv',\n",
       " './data/baseball/core/Fielding.csv',\n",
       " './data/baseball/core/TeamsHalf.csv',\n",
       " './data/baseball/core/Schools.csv',\n",
       " './data/baseball/core/HallOfFame.csv',\n",
       " './data/baseball/core/Managers.csv',\n",
       " './data/baseball/core/Appearances.csv',\n",
       " './data/baseball/core/HomeGames.csv',\n",
       " './data/baseball/core/Teams.csv']"
      ]
     },
     "execution_count": 73,
     "metadata": {},
     "output_type": "execute_result"
    }
   ],
   "source": [
    "from glob import glob\n",
    "files = glob('./data/baseball/core/*.csv')\n",
    "files"
   ]
  },
  {
   "cell_type": "markdown",
   "metadata": {},
   "source": [
    "* Only need the `Batting.csv` and `People.csv`.  \n",
    "* Narrow with a RegEx"
   ]
  },
  {
   "cell_type": "code",
   "execution_count": 74,
   "metadata": {},
   "outputs": [
    {
     "data": {
      "text/plain": [
       "['./data/baseball/core/People.csv', './data/baseball/core/Batting.csv']"
      ]
     },
     "execution_count": 74,
     "metadata": {},
     "output_type": "execute_result"
    }
   ],
   "source": [
    "import re\n",
    "needed_file = re.compile(r'./data/baseball/core/(Batting|People).csv')\n",
    "\n",
    "needed_files = [f for f in files if needed_file.match(f)]\n",
    "needed_files"
   ]
  },
  {
   "cell_type": "markdown",
   "metadata": {},
   "source": [
    "#### Step 2 - Make helper functions to get the name from path"
   ]
  },
  {
   "cell_type": "code",
   "execution_count": 75,
   "metadata": {},
   "outputs": [
    {
     "data": {
      "text/plain": [
       "['People', 'Batting']"
      ]
     },
     "execution_count": 75,
     "metadata": {},
     "output_type": "execute_result"
    }
   ],
   "source": [
    "import re\n",
    "FILE_NAME_RE = re.compile(r'^\\./data/baseball/core/([a-zA-Z_]*)\\.csv$')\n",
    "file_name = lambda p: FILE_NAME_RE.match(p).group(1) \n",
    "file_names = lambda files: [file_name(p) for p in files]\n",
    "file_names(needed_files)"
   ]
  },
  {
   "cell_type": "markdown",
   "metadata": {},
   "source": [
    "#### Step 3 - Use a comprehension to read in all files\n",
    "\n",
    "**Note:** The data is small (< 10mb total) so it is safe to read all at once."
   ]
  },
  {
   "cell_type": "code",
   "execution_count": 76,
   "metadata": {},
   "outputs": [
    {
     "data": {
      "text/html": [
       "<div>\n",
       "<style scoped>\n",
       "    .dataframe tbody tr th:only-of-type {\n",
       "        vertical-align: middle;\n",
       "    }\n",
       "\n",
       "    .dataframe tbody tr th {\n",
       "        vertical-align: top;\n",
       "    }\n",
       "\n",
       "    .dataframe thead th {\n",
       "        text-align: right;\n",
       "    }\n",
       "</style>\n",
       "<table border=\"1\" class=\"dataframe\">\n",
       "  <thead>\n",
       "    <tr style=\"text-align: right;\">\n",
       "      <th></th>\n",
       "      <th>playerID</th>\n",
       "      <th>yearID</th>\n",
       "      <th>stint</th>\n",
       "      <th>teamID</th>\n",
       "      <th>lgID</th>\n",
       "      <th>G</th>\n",
       "      <th>AB</th>\n",
       "      <th>R</th>\n",
       "      <th>H</th>\n",
       "      <th>2B</th>\n",
       "      <th>...</th>\n",
       "      <th>RBI</th>\n",
       "      <th>SB</th>\n",
       "      <th>CS</th>\n",
       "      <th>BB</th>\n",
       "      <th>SO</th>\n",
       "      <th>IBB</th>\n",
       "      <th>HBP</th>\n",
       "      <th>SH</th>\n",
       "      <th>SF</th>\n",
       "      <th>GIDP</th>\n",
       "    </tr>\n",
       "  </thead>\n",
       "  <tbody>\n",
       "    <tr>\n",
       "      <th>0</th>\n",
       "      <td>abercda01</td>\n",
       "      <td>1871</td>\n",
       "      <td>1</td>\n",
       "      <td>TRO</td>\n",
       "      <td>NaN</td>\n",
       "      <td>1</td>\n",
       "      <td>4</td>\n",
       "      <td>0</td>\n",
       "      <td>0</td>\n",
       "      <td>0</td>\n",
       "      <td>...</td>\n",
       "      <td>0.0</td>\n",
       "      <td>0.0</td>\n",
       "      <td>0.0</td>\n",
       "      <td>0</td>\n",
       "      <td>0.0</td>\n",
       "      <td>NaN</td>\n",
       "      <td>NaN</td>\n",
       "      <td>NaN</td>\n",
       "      <td>NaN</td>\n",
       "      <td>0.0</td>\n",
       "    </tr>\n",
       "    <tr>\n",
       "      <th>1</th>\n",
       "      <td>addybo01</td>\n",
       "      <td>1871</td>\n",
       "      <td>1</td>\n",
       "      <td>RC1</td>\n",
       "      <td>NaN</td>\n",
       "      <td>25</td>\n",
       "      <td>118</td>\n",
       "      <td>30</td>\n",
       "      <td>32</td>\n",
       "      <td>6</td>\n",
       "      <td>...</td>\n",
       "      <td>13.0</td>\n",
       "      <td>8.0</td>\n",
       "      <td>1.0</td>\n",
       "      <td>4</td>\n",
       "      <td>0.0</td>\n",
       "      <td>NaN</td>\n",
       "      <td>NaN</td>\n",
       "      <td>NaN</td>\n",
       "      <td>NaN</td>\n",
       "      <td>0.0</td>\n",
       "    </tr>\n",
       "    <tr>\n",
       "      <th>2</th>\n",
       "      <td>allisar01</td>\n",
       "      <td>1871</td>\n",
       "      <td>1</td>\n",
       "      <td>CL1</td>\n",
       "      <td>NaN</td>\n",
       "      <td>29</td>\n",
       "      <td>137</td>\n",
       "      <td>28</td>\n",
       "      <td>40</td>\n",
       "      <td>4</td>\n",
       "      <td>...</td>\n",
       "      <td>19.0</td>\n",
       "      <td>3.0</td>\n",
       "      <td>1.0</td>\n",
       "      <td>2</td>\n",
       "      <td>5.0</td>\n",
       "      <td>NaN</td>\n",
       "      <td>NaN</td>\n",
       "      <td>NaN</td>\n",
       "      <td>NaN</td>\n",
       "      <td>1.0</td>\n",
       "    </tr>\n",
       "    <tr>\n",
       "      <th>3</th>\n",
       "      <td>allisdo01</td>\n",
       "      <td>1871</td>\n",
       "      <td>1</td>\n",
       "      <td>WS3</td>\n",
       "      <td>NaN</td>\n",
       "      <td>27</td>\n",
       "      <td>133</td>\n",
       "      <td>28</td>\n",
       "      <td>44</td>\n",
       "      <td>10</td>\n",
       "      <td>...</td>\n",
       "      <td>27.0</td>\n",
       "      <td>1.0</td>\n",
       "      <td>1.0</td>\n",
       "      <td>0</td>\n",
       "      <td>2.0</td>\n",
       "      <td>NaN</td>\n",
       "      <td>NaN</td>\n",
       "      <td>NaN</td>\n",
       "      <td>NaN</td>\n",
       "      <td>0.0</td>\n",
       "    </tr>\n",
       "    <tr>\n",
       "      <th>4</th>\n",
       "      <td>ansonca01</td>\n",
       "      <td>1871</td>\n",
       "      <td>1</td>\n",
       "      <td>RC1</td>\n",
       "      <td>NaN</td>\n",
       "      <td>25</td>\n",
       "      <td>120</td>\n",
       "      <td>29</td>\n",
       "      <td>39</td>\n",
       "      <td>11</td>\n",
       "      <td>...</td>\n",
       "      <td>16.0</td>\n",
       "      <td>6.0</td>\n",
       "      <td>2.0</td>\n",
       "      <td>2</td>\n",
       "      <td>1.0</td>\n",
       "      <td>NaN</td>\n",
       "      <td>NaN</td>\n",
       "      <td>NaN</td>\n",
       "      <td>NaN</td>\n",
       "      <td>0.0</td>\n",
       "    </tr>\n",
       "  </tbody>\n",
       "</table>\n",
       "<p>5 rows × 22 columns</p>\n",
       "</div>"
      ],
      "text/plain": [
       "    playerID  yearID  stint teamID lgID   G   AB   R   H  2B  ...   RBI   SB  \\\n",
       "0  abercda01    1871      1    TRO  NaN   1    4   0   0   0  ...   0.0  0.0   \n",
       "1   addybo01    1871      1    RC1  NaN  25  118  30  32   6  ...  13.0  8.0   \n",
       "2  allisar01    1871      1    CL1  NaN  29  137  28  40   4  ...  19.0  3.0   \n",
       "3  allisdo01    1871      1    WS3  NaN  27  133  28  44  10  ...  27.0  1.0   \n",
       "4  ansonca01    1871      1    RC1  NaN  25  120  29  39  11  ...  16.0  6.0   \n",
       "\n",
       "    CS  BB   SO  IBB  HBP  SH  SF  GIDP  \n",
       "0  0.0   0  0.0  NaN  NaN NaN NaN   0.0  \n",
       "1  1.0   4  0.0  NaN  NaN NaN NaN   0.0  \n",
       "2  1.0   2  5.0  NaN  NaN NaN NaN   1.0  \n",
       "3  1.0   0  2.0  NaN  NaN NaN NaN   0.0  \n",
       "4  2.0   2  1.0  NaN  NaN NaN NaN   0.0  \n",
       "\n",
       "[5 rows x 22 columns]"
      ]
     },
     "execution_count": 76,
     "metadata": {},
     "output_type": "execute_result"
    }
   ],
   "source": [
    "dfs = {name:pd.read_csv(path) for name, path in zip(file_names(needed_files), needed_files)}\n",
    "dfs['Batting'].head()"
   ]
  },
  {
   "cell_type": "code",
   "execution_count": 77,
   "metadata": {},
   "outputs": [
    {
     "data": {
      "text/plain": [
       "{'People':     playerID  birthYear  birthMonth  birthDay birthCountry birthState  \\\n",
       " 0  aardsda01     1981.0        12.0      27.0          USA         CO   \n",
       " 1  aaronha01     1934.0         2.0       5.0          USA         AL   \n",
       " \n",
       "   birthCity  deathYear  deathMonth  deathDay  ... nameLast    nameGiven  \\\n",
       " 0    Denver        NaN         NaN       NaN  ...  Aardsma  David Allan   \n",
       " 1    Mobile        NaN         NaN       NaN  ...    Aaron  Henry Louis   \n",
       " \n",
       "   weight height bats throws       debut   finalGame   retroID    bbrefID  \n",
       " 0  215.0   75.0    R      R  2004-04-06  2015-08-23  aardd001  aardsda01  \n",
       " 1  180.0   72.0    R      R  1954-04-13  1976-10-03  aaroh101  aaronha01  \n",
       " \n",
       " [2 rows x 24 columns],\n",
       " 'Batting':     playerID  yearID  stint teamID lgID   G   AB   R   H  2B  ...   RBI   SB  \\\n",
       " 0  abercda01    1871      1    TRO  NaN   1    4   0   0   0  ...   0.0  0.0   \n",
       " 1   addybo01    1871      1    RC1  NaN  25  118  30  32   6  ...  13.0  8.0   \n",
       " \n",
       "     CS  BB   SO  IBB  HBP  SH  SF  GIDP  \n",
       " 0  0.0   0  0.0  NaN  NaN NaN NaN   0.0  \n",
       " 1  1.0   4  0.0  NaN  NaN NaN NaN   0.0  \n",
       " \n",
       " [2 rows x 22 columns]}"
      ]
     },
     "execution_count": 77,
     "metadata": {},
     "output_type": "execute_result"
    }
   ],
   "source": [
    "{n:df.head(2) for n, df in dfs.items()}"
   ]
  },
  {
   "cell_type": "code",
   "execution_count": 78,
   "metadata": {},
   "outputs": [
    {
     "data": {
      "text/html": [
       "<div>\n",
       "<style scoped>\n",
       "    .dataframe tbody tr th:only-of-type {\n",
       "        vertical-align: middle;\n",
       "    }\n",
       "\n",
       "    .dataframe tbody tr th {\n",
       "        vertical-align: top;\n",
       "    }\n",
       "\n",
       "    .dataframe thead th {\n",
       "        text-align: right;\n",
       "    }\n",
       "</style>\n",
       "<table border=\"1\" class=\"dataframe\">\n",
       "  <thead>\n",
       "    <tr style=\"text-align: right;\">\n",
       "      <th></th>\n",
       "      <th>playerID</th>\n",
       "      <th>birthYear</th>\n",
       "      <th>birthMonth</th>\n",
       "      <th>birthDay</th>\n",
       "      <th>birthCountry</th>\n",
       "      <th>birthState</th>\n",
       "      <th>birthCity</th>\n",
       "      <th>deathYear</th>\n",
       "      <th>deathMonth</th>\n",
       "      <th>deathDay</th>\n",
       "      <th>...</th>\n",
       "      <th>nameLast</th>\n",
       "      <th>nameGiven</th>\n",
       "      <th>weight</th>\n",
       "      <th>height</th>\n",
       "      <th>bats</th>\n",
       "      <th>throws</th>\n",
       "      <th>debut</th>\n",
       "      <th>finalGame</th>\n",
       "      <th>retroID</th>\n",
       "      <th>bbrefID</th>\n",
       "    </tr>\n",
       "  </thead>\n",
       "  <tbody>\n",
       "    <tr>\n",
       "      <th>0</th>\n",
       "      <td>aardsda01</td>\n",
       "      <td>1981.0</td>\n",
       "      <td>12.0</td>\n",
       "      <td>27.0</td>\n",
       "      <td>USA</td>\n",
       "      <td>CO</td>\n",
       "      <td>Denver</td>\n",
       "      <td>NaN</td>\n",
       "      <td>NaN</td>\n",
       "      <td>NaN</td>\n",
       "      <td>...</td>\n",
       "      <td>Aardsma</td>\n",
       "      <td>David Allan</td>\n",
       "      <td>215.0</td>\n",
       "      <td>75.0</td>\n",
       "      <td>R</td>\n",
       "      <td>R</td>\n",
       "      <td>2004-04-06</td>\n",
       "      <td>2015-08-23</td>\n",
       "      <td>aardd001</td>\n",
       "      <td>aardsda01</td>\n",
       "    </tr>\n",
       "    <tr>\n",
       "      <th>1</th>\n",
       "      <td>aaronha01</td>\n",
       "      <td>1934.0</td>\n",
       "      <td>2.0</td>\n",
       "      <td>5.0</td>\n",
       "      <td>USA</td>\n",
       "      <td>AL</td>\n",
       "      <td>Mobile</td>\n",
       "      <td>NaN</td>\n",
       "      <td>NaN</td>\n",
       "      <td>NaN</td>\n",
       "      <td>...</td>\n",
       "      <td>Aaron</td>\n",
       "      <td>Henry Louis</td>\n",
       "      <td>180.0</td>\n",
       "      <td>72.0</td>\n",
       "      <td>R</td>\n",
       "      <td>R</td>\n",
       "      <td>1954-04-13</td>\n",
       "      <td>1976-10-03</td>\n",
       "      <td>aaroh101</td>\n",
       "      <td>aaronha01</td>\n",
       "    </tr>\n",
       "    <tr>\n",
       "      <th>2</th>\n",
       "      <td>aaronto01</td>\n",
       "      <td>1939.0</td>\n",
       "      <td>8.0</td>\n",
       "      <td>5.0</td>\n",
       "      <td>USA</td>\n",
       "      <td>AL</td>\n",
       "      <td>Mobile</td>\n",
       "      <td>1984.0</td>\n",
       "      <td>8.0</td>\n",
       "      <td>16.0</td>\n",
       "      <td>...</td>\n",
       "      <td>Aaron</td>\n",
       "      <td>Tommie Lee</td>\n",
       "      <td>190.0</td>\n",
       "      <td>75.0</td>\n",
       "      <td>R</td>\n",
       "      <td>R</td>\n",
       "      <td>1962-04-10</td>\n",
       "      <td>1971-09-26</td>\n",
       "      <td>aarot101</td>\n",
       "      <td>aaronto01</td>\n",
       "    </tr>\n",
       "    <tr>\n",
       "      <th>3</th>\n",
       "      <td>aasedo01</td>\n",
       "      <td>1954.0</td>\n",
       "      <td>9.0</td>\n",
       "      <td>8.0</td>\n",
       "      <td>USA</td>\n",
       "      <td>CA</td>\n",
       "      <td>Orange</td>\n",
       "      <td>NaN</td>\n",
       "      <td>NaN</td>\n",
       "      <td>NaN</td>\n",
       "      <td>...</td>\n",
       "      <td>Aase</td>\n",
       "      <td>Donald William</td>\n",
       "      <td>190.0</td>\n",
       "      <td>75.0</td>\n",
       "      <td>R</td>\n",
       "      <td>R</td>\n",
       "      <td>1977-07-26</td>\n",
       "      <td>1990-10-03</td>\n",
       "      <td>aased001</td>\n",
       "      <td>aasedo01</td>\n",
       "    </tr>\n",
       "    <tr>\n",
       "      <th>4</th>\n",
       "      <td>abadan01</td>\n",
       "      <td>1972.0</td>\n",
       "      <td>8.0</td>\n",
       "      <td>25.0</td>\n",
       "      <td>USA</td>\n",
       "      <td>FL</td>\n",
       "      <td>Palm Beach</td>\n",
       "      <td>NaN</td>\n",
       "      <td>NaN</td>\n",
       "      <td>NaN</td>\n",
       "      <td>...</td>\n",
       "      <td>Abad</td>\n",
       "      <td>Fausto Andres</td>\n",
       "      <td>184.0</td>\n",
       "      <td>73.0</td>\n",
       "      <td>L</td>\n",
       "      <td>L</td>\n",
       "      <td>2001-09-10</td>\n",
       "      <td>2006-04-13</td>\n",
       "      <td>abada001</td>\n",
       "      <td>abadan01</td>\n",
       "    </tr>\n",
       "  </tbody>\n",
       "</table>\n",
       "<p>5 rows × 24 columns</p>\n",
       "</div>"
      ],
      "text/plain": [
       "    playerID  birthYear  birthMonth  birthDay birthCountry birthState  \\\n",
       "0  aardsda01     1981.0        12.0      27.0          USA         CO   \n",
       "1  aaronha01     1934.0         2.0       5.0          USA         AL   \n",
       "2  aaronto01     1939.0         8.0       5.0          USA         AL   \n",
       "3   aasedo01     1954.0         9.0       8.0          USA         CA   \n",
       "4   abadan01     1972.0         8.0      25.0          USA         FL   \n",
       "\n",
       "    birthCity  deathYear  deathMonth  deathDay  ... nameLast       nameGiven  \\\n",
       "0      Denver        NaN         NaN       NaN  ...  Aardsma     David Allan   \n",
       "1      Mobile        NaN         NaN       NaN  ...    Aaron     Henry Louis   \n",
       "2      Mobile     1984.0         8.0      16.0  ...    Aaron      Tommie Lee   \n",
       "3      Orange        NaN         NaN       NaN  ...     Aase  Donald William   \n",
       "4  Palm Beach        NaN         NaN       NaN  ...     Abad   Fausto Andres   \n",
       "\n",
       "  weight height bats throws       debut   finalGame   retroID    bbrefID  \n",
       "0  215.0   75.0    R      R  2004-04-06  2015-08-23  aardd001  aardsda01  \n",
       "1  180.0   72.0    R      R  1954-04-13  1976-10-03  aaroh101  aaronha01  \n",
       "2  190.0   75.0    R      R  1962-04-10  1971-09-26  aarot101  aaronto01  \n",
       "3  190.0   75.0    R      R  1977-07-26  1990-10-03  aased001   aasedo01  \n",
       "4  184.0   73.0    L      L  2001-09-10  2006-04-13  abada001   abadan01  \n",
       "\n",
       "[5 rows x 24 columns]"
      ]
     },
     "execution_count": 78,
     "metadata": {},
     "output_type": "execute_result"
    }
   ],
   "source": [
    "dfs['People'].head()"
   ]
  },
  {
   "cell_type": "markdown",
   "metadata": {},
   "source": [
    "#### Step 4 - Preprocess each file."
   ]
  },
  {
   "cell_type": "code",
   "execution_count": 80,
   "metadata": {},
   "outputs": [
    {
     "data": {
      "text/html": [
       "<div>\n",
       "<style scoped>\n",
       "    .dataframe tbody tr th:only-of-type {\n",
       "        vertical-align: middle;\n",
       "    }\n",
       "\n",
       "    .dataframe tbody tr th {\n",
       "        vertical-align: top;\n",
       "    }\n",
       "\n",
       "    .dataframe thead th {\n",
       "        text-align: right;\n",
       "    }\n",
       "</style>\n",
       "<table border=\"1\" class=\"dataframe\">\n",
       "  <thead>\n",
       "    <tr style=\"text-align: right;\">\n",
       "      <th></th>\n",
       "      <th>playerID</th>\n",
       "      <th>total_hits</th>\n",
       "    </tr>\n",
       "  </thead>\n",
       "  <tbody>\n",
       "    <tr>\n",
       "      <th>0</th>\n",
       "      <td>aardsda01</td>\n",
       "      <td>0</td>\n",
       "    </tr>\n",
       "    <tr>\n",
       "      <th>1</th>\n",
       "      <td>abadfe01</td>\n",
       "      <td>0</td>\n",
       "    </tr>\n",
       "    <tr>\n",
       "      <th>2</th>\n",
       "      <td>abreubo01</td>\n",
       "      <td>146</td>\n",
       "    </tr>\n",
       "  </tbody>\n",
       "</table>\n",
       "</div>"
      ],
      "text/plain": [
       "    playerID  total_hits\n",
       "0  aardsda01           0\n",
       "1   abadfe01           0\n",
       "2  abreubo01         146"
      ]
     },
     "execution_count": 80,
     "metadata": {},
     "output_type": "execute_result"
    }
   ],
   "source": [
    "# Filter, select, and aggregate hits for 2010.\n",
    "hits_in_2010_raw = (dfs['Batting']\n",
    "                   >> select(X.yearID, X.playerID, X.H)\n",
    "                   >> filter_by(X.yearID == 2010)\n",
    "                   >> group_by(X.playerID)\n",
    "                   >> summarise(total_hits = X.H.sum())\n",
    "                   )\n",
    "                   \n",
    "hits_in_2010_raw.head(3)"
   ]
  },
  {
   "cell_type": "code",
   "execution_count": 81,
   "metadata": {},
   "outputs": [
    {
     "data": {
      "text/html": [
       "<div>\n",
       "<style scoped>\n",
       "    .dataframe tbody tr th:only-of-type {\n",
       "        vertical-align: middle;\n",
       "    }\n",
       "\n",
       "    .dataframe tbody tr th {\n",
       "        vertical-align: top;\n",
       "    }\n",
       "\n",
       "    .dataframe thead th {\n",
       "        text-align: right;\n",
       "    }\n",
       "</style>\n",
       "<table border=\"1\" class=\"dataframe\">\n",
       "  <thead>\n",
       "    <tr style=\"text-align: right;\">\n",
       "      <th></th>\n",
       "      <th>playerID</th>\n",
       "      <th>nameFirst</th>\n",
       "      <th>nameLast</th>\n",
       "    </tr>\n",
       "  </thead>\n",
       "  <tbody>\n",
       "    <tr>\n",
       "      <th>0</th>\n",
       "      <td>aardsda01</td>\n",
       "      <td>David</td>\n",
       "      <td>Aardsma</td>\n",
       "    </tr>\n",
       "    <tr>\n",
       "      <th>1</th>\n",
       "      <td>aaronha01</td>\n",
       "      <td>Hank</td>\n",
       "      <td>Aaron</td>\n",
       "    </tr>\n",
       "    <tr>\n",
       "      <th>2</th>\n",
       "      <td>aaronto01</td>\n",
       "      <td>Tommie</td>\n",
       "      <td>Aaron</td>\n",
       "    </tr>\n",
       "  </tbody>\n",
       "</table>\n",
       "</div>"
      ],
      "text/plain": [
       "    playerID nameFirst nameLast\n",
       "0  aardsda01     David  Aardsma\n",
       "1  aaronha01      Hank    Aaron\n",
       "2  aaronto01    Tommie    Aaron"
      ]
     },
     "execution_count": 81,
     "metadata": {},
     "output_type": "execute_result"
    }
   ],
   "source": [
    "# Grab the first and last names from People.\n",
    "\n",
    "player_names = (dfs['People']\n",
    "         >> select(X.playerID, X.nameFirst, X.nameLast))\n",
    "player_names.head(3)"
   ]
  },
  {
   "cell_type": "markdown",
   "metadata": {},
   "source": [
    "#### Step 4 -- Join the tables"
   ]
  },
  {
   "cell_type": "code",
   "execution_count": 82,
   "metadata": {},
   "outputs": [
    {
     "data": {
      "text/html": [
       "<div>\n",
       "<style scoped>\n",
       "    .dataframe tbody tr th:only-of-type {\n",
       "        vertical-align: middle;\n",
       "    }\n",
       "\n",
       "    .dataframe tbody tr th {\n",
       "        vertical-align: top;\n",
       "    }\n",
       "\n",
       "    .dataframe thead th {\n",
       "        text-align: right;\n",
       "    }\n",
       "</style>\n",
       "<table border=\"1\" class=\"dataframe\">\n",
       "  <thead>\n",
       "    <tr style=\"text-align: right;\">\n",
       "      <th></th>\n",
       "      <th>total_hits</th>\n",
       "      <th>nameFirst</th>\n",
       "      <th>nameLast</th>\n",
       "    </tr>\n",
       "  </thead>\n",
       "  <tbody>\n",
       "    <tr>\n",
       "      <th>0</th>\n",
       "      <td>0</td>\n",
       "      <td>David</td>\n",
       "      <td>Aardsma</td>\n",
       "    </tr>\n",
       "    <tr>\n",
       "      <th>1</th>\n",
       "      <td>0</td>\n",
       "      <td>Fernando</td>\n",
       "      <td>Abad</td>\n",
       "    </tr>\n",
       "    <tr>\n",
       "      <th>2</th>\n",
       "      <td>146</td>\n",
       "      <td>Bobby</td>\n",
       "      <td>Abreu</td>\n",
       "    </tr>\n",
       "    <tr>\n",
       "      <th>3</th>\n",
       "      <td>45</td>\n",
       "      <td>Tony</td>\n",
       "      <td>Abreu</td>\n",
       "    </tr>\n",
       "    <tr>\n",
       "      <th>4</th>\n",
       "      <td>0</td>\n",
       "      <td>Jeremy</td>\n",
       "      <td>Accardo</td>\n",
       "    </tr>\n",
       "  </tbody>\n",
       "</table>\n",
       "</div>"
      ],
      "text/plain": [
       "   total_hits nameFirst nameLast\n",
       "0           0     David  Aardsma\n",
       "1           0  Fernando     Abad\n",
       "2         146     Bobby    Abreu\n",
       "3          45      Tony    Abreu\n",
       "4           0    Jeremy  Accardo"
      ]
     },
     "execution_count": 82,
     "metadata": {},
     "output_type": "execute_result"
    }
   ],
   "source": [
    "hits_in_2010 = (hits_in_2010_raw \n",
    "                >> left_join(player_names, by='playerID')\n",
    "                >> drop(X.playerID)\n",
    "               )\n",
    "hits_in_2010.head()"
   ]
  },
  {
   "cell_type": "markdown",
   "metadata": {},
   "source": [
    "## <font color=\"red\"> Exercise 2.10.2 </font>\n",
    "\n",
    "We want to get the total hits allowed for all pitchers during the 2000-2010 seasons.  Use `glob` and a `dict` to collect this information into a table that includes the players first and last names."
   ]
  },
  {
   "cell_type": "code",
   "execution_count": 105,
   "metadata": {},
   "outputs": [
    {
     "data": {
      "text/html": [
       "<div>\n",
       "<style scoped>\n",
       "    .dataframe tbody tr th:only-of-type {\n",
       "        vertical-align: middle;\n",
       "    }\n",
       "\n",
       "    .dataframe tbody tr th {\n",
       "        vertical-align: top;\n",
       "    }\n",
       "\n",
       "    .dataframe thead th {\n",
       "        text-align: right;\n",
       "    }\n",
       "</style>\n",
       "<table border=\"1\" class=\"dataframe\">\n",
       "  <thead>\n",
       "    <tr style=\"text-align: right;\">\n",
       "      <th></th>\n",
       "      <th>playerID</th>\n",
       "      <th>yearID</th>\n",
       "      <th>stint</th>\n",
       "      <th>teamID</th>\n",
       "      <th>lgID</th>\n",
       "      <th>W</th>\n",
       "      <th>L</th>\n",
       "      <th>G</th>\n",
       "      <th>GS</th>\n",
       "      <th>CG</th>\n",
       "      <th>...</th>\n",
       "      <th>IBB</th>\n",
       "      <th>WP</th>\n",
       "      <th>HBP</th>\n",
       "      <th>BK</th>\n",
       "      <th>BFP</th>\n",
       "      <th>GF</th>\n",
       "      <th>R</th>\n",
       "      <th>SH</th>\n",
       "      <th>SF</th>\n",
       "      <th>GIDP</th>\n",
       "    </tr>\n",
       "  </thead>\n",
       "  <tbody>\n",
       "    <tr>\n",
       "      <th>18850</th>\n",
       "      <td>coxca01</td>\n",
       "      <td>1969</td>\n",
       "      <td>1</td>\n",
       "      <td>WS2</td>\n",
       "      <td>AL</td>\n",
       "      <td>12</td>\n",
       "      <td>7</td>\n",
       "      <td>52</td>\n",
       "      <td>13</td>\n",
       "      <td>4</td>\n",
       "      <td>...</td>\n",
       "      <td>7.0</td>\n",
       "      <td>1</td>\n",
       "      <td>1.0</td>\n",
       "      <td>1</td>\n",
       "      <td>719.0</td>\n",
       "      <td>11</td>\n",
       "      <td>62</td>\n",
       "      <td>NaN</td>\n",
       "      <td>NaN</td>\n",
       "      <td>NaN</td>\n",
       "    </tr>\n",
       "    <tr>\n",
       "      <th>17281</th>\n",
       "      <td>kochal01</td>\n",
       "      <td>1964</td>\n",
       "      <td>1</td>\n",
       "      <td>DET</td>\n",
       "      <td>AL</td>\n",
       "      <td>0</td>\n",
       "      <td>0</td>\n",
       "      <td>3</td>\n",
       "      <td>0</td>\n",
       "      <td>0</td>\n",
       "      <td>...</td>\n",
       "      <td>0.0</td>\n",
       "      <td>1</td>\n",
       "      <td>0.0</td>\n",
       "      <td>0</td>\n",
       "      <td>19.0</td>\n",
       "      <td>1</td>\n",
       "      <td>3</td>\n",
       "      <td>NaN</td>\n",
       "      <td>NaN</td>\n",
       "      <td>NaN</td>\n",
       "    </tr>\n",
       "    <tr>\n",
       "      <th>16211</th>\n",
       "      <td>barbest01</td>\n",
       "      <td>1961</td>\n",
       "      <td>1</td>\n",
       "      <td>BAL</td>\n",
       "      <td>AL</td>\n",
       "      <td>18</td>\n",
       "      <td>12</td>\n",
       "      <td>37</td>\n",
       "      <td>34</td>\n",
       "      <td>14</td>\n",
       "      <td>...</td>\n",
       "      <td>4.0</td>\n",
       "      <td>9</td>\n",
       "      <td>2.0</td>\n",
       "      <td>1</td>\n",
       "      <td>1040.0</td>\n",
       "      <td>1</td>\n",
       "      <td>102</td>\n",
       "      <td>NaN</td>\n",
       "      <td>NaN</td>\n",
       "      <td>NaN</td>\n",
       "    </tr>\n",
       "    <tr>\n",
       "      <th>30384</th>\n",
       "      <td>thomami01</td>\n",
       "      <td>1995</td>\n",
       "      <td>1</td>\n",
       "      <td>ML4</td>\n",
       "      <td>AL</td>\n",
       "      <td>0</td>\n",
       "      <td>0</td>\n",
       "      <td>1</td>\n",
       "      <td>0</td>\n",
       "      <td>0</td>\n",
       "      <td>...</td>\n",
       "      <td>0.0</td>\n",
       "      <td>0</td>\n",
       "      <td>0.0</td>\n",
       "      <td>0</td>\n",
       "      <td>7.0</td>\n",
       "      <td>0</td>\n",
       "      <td>0</td>\n",
       "      <td>0.0</td>\n",
       "      <td>0.0</td>\n",
       "      <td>0.0</td>\n",
       "    </tr>\n",
       "  </tbody>\n",
       "</table>\n",
       "<p>4 rows × 30 columns</p>\n",
       "</div>"
      ],
      "text/plain": [
       "        playerID  yearID  stint teamID lgID   W   L   G  GS  CG  ...  IBB  WP  \\\n",
       "18850    coxca01    1969      1    WS2   AL  12   7  52  13   4  ...  7.0   1   \n",
       "17281   kochal01    1964      1    DET   AL   0   0   3   0   0  ...  0.0   1   \n",
       "16211  barbest01    1961      1    BAL   AL  18  12  37  34  14  ...  4.0   9   \n",
       "30384  thomami01    1995      1    ML4   AL   0   0   1   0   0  ...  0.0   0   \n",
       "\n",
       "       HBP  BK     BFP  GF    R   SH   SF  GIDP  \n",
       "18850  1.0   1   719.0  11   62  NaN  NaN   NaN  \n",
       "17281  0.0   0    19.0   1    3  NaN  NaN   NaN  \n",
       "16211  2.0   1  1040.0   1  102  NaN  NaN   NaN  \n",
       "30384  0.0   0     7.0   0    0  0.0  0.0   0.0  \n",
       "\n",
       "[4 rows x 30 columns]"
      ]
     },
     "execution_count": 105,
     "metadata": {},
     "output_type": "execute_result"
    }
   ],
   "source": [
    "# Your code here\n",
    "files = glob('./data/baseball/core/*.csv')\n",
    "\n",
    "needed_file = re.compile(r'./data/baseball/core/(Pitching|People).csv')\n",
    "needed_files = [f for f in files if needed_file.match(f)]\n",
    "\n",
    "FILE_NAME_RE = re.compile(r'^\\./data/baseball/core/([a-zA-Z_]*)\\.csv$')\n",
    "file_name = lambda p: FILE_NAME_RE.match(p).group(1) \n",
    "file_names = lambda files: [file_name(p) for p in files]\n",
    "\n",
    "dfs = {name:pd.read_csv(path) for name, path in zip(file_names(needed_files), needed_files)}\n",
    "dfs['Pitching'].sample(4)"
   ]
  },
  {
   "cell_type": "code",
   "execution_count": 125,
   "metadata": {},
   "outputs": [
    {
     "data": {
      "text/html": [
       "<div>\n",
       "<style scoped>\n",
       "    .dataframe tbody tr th:only-of-type {\n",
       "        vertical-align: middle;\n",
       "    }\n",
       "\n",
       "    .dataframe tbody tr th {\n",
       "        vertical-align: top;\n",
       "    }\n",
       "\n",
       "    .dataframe thead th {\n",
       "        text-align: right;\n",
       "    }\n",
       "</style>\n",
       "<table border=\"1\" class=\"dataframe\">\n",
       "  <thead>\n",
       "    <tr style=\"text-align: right;\">\n",
       "      <th></th>\n",
       "      <th>playerID</th>\n",
       "      <th>total_hits</th>\n",
       "    </tr>\n",
       "  </thead>\n",
       "  <tbody>\n",
       "    <tr>\n",
       "      <th>1220</th>\n",
       "      <td>palacvi01</td>\n",
       "      <td>12</td>\n",
       "    </tr>\n",
       "    <tr>\n",
       "      <th>1756</th>\n",
       "      <td>wallaje01</td>\n",
       "      <td>85</td>\n",
       "    </tr>\n",
       "    <tr>\n",
       "      <th>575</th>\n",
       "      <td>glynnry01</td>\n",
       "      <td>209</td>\n",
       "    </tr>\n",
       "    <tr>\n",
       "      <th>1554</th>\n",
       "      <td>smithgr02</td>\n",
       "      <td>218</td>\n",
       "    </tr>\n",
       "    <tr>\n",
       "      <th>1063</th>\n",
       "      <td>middlja01</td>\n",
       "      <td>75</td>\n",
       "    </tr>\n",
       "  </tbody>\n",
       "</table>\n",
       "</div>"
      ],
      "text/plain": [
       "       playerID  total_hits\n",
       "1220  palacvi01          12\n",
       "1756  wallaje01          85\n",
       "575   glynnry01         209\n",
       "1554  smithgr02         218\n",
       "1063  middlja01          75"
      ]
     },
     "execution_count": 125,
     "metadata": {},
     "output_type": "execute_result"
    }
   ],
   "source": [
    "hits_allowed = (dfs['Pitching']\n",
    "                >> select(X.yearID, X.playerID, X.H)\n",
    "                >> filter_by(X.yearID >= 2000, X.yearID <= 2010)\n",
    "                >> group_by(X.playerID)\n",
    "                >> summarise(total_hits = X.H.sum())\n",
    "                )\n",
    "hits_allowed.sample(5)"
   ]
  },
  {
   "cell_type": "code",
   "execution_count": 126,
   "metadata": {},
   "outputs": [
    {
     "data": {
      "text/html": [
       "<div>\n",
       "<style scoped>\n",
       "    .dataframe tbody tr th:only-of-type {\n",
       "        vertical-align: middle;\n",
       "    }\n",
       "\n",
       "    .dataframe tbody tr th {\n",
       "        vertical-align: top;\n",
       "    }\n",
       "\n",
       "    .dataframe thead th {\n",
       "        text-align: right;\n",
       "    }\n",
       "</style>\n",
       "<table border=\"1\" class=\"dataframe\">\n",
       "  <thead>\n",
       "    <tr style=\"text-align: right;\">\n",
       "      <th></th>\n",
       "      <th>playerID</th>\n",
       "      <th>nameFirst</th>\n",
       "      <th>nameLast</th>\n",
       "    </tr>\n",
       "  </thead>\n",
       "  <tbody>\n",
       "    <tr>\n",
       "      <th>16872</th>\n",
       "      <td>smithge01</td>\n",
       "      <td>Germany</td>\n",
       "      <td>Smith</td>\n",
       "    </tr>\n",
       "    <tr>\n",
       "      <th>3675</th>\n",
       "      <td>coreyma01</td>\n",
       "      <td>Mark</td>\n",
       "      <td>Corey</td>\n",
       "    </tr>\n",
       "    <tr>\n",
       "      <th>773</th>\n",
       "      <td>banksbr01</td>\n",
       "      <td>Brian</td>\n",
       "      <td>Banks</td>\n",
       "    </tr>\n",
       "    <tr>\n",
       "      <th>14673</th>\n",
       "      <td>quinnfr02</td>\n",
       "      <td>Frank</td>\n",
       "      <td>Quinn</td>\n",
       "    </tr>\n",
       "    <tr>\n",
       "      <th>16050</th>\n",
       "      <td>scantpa01</td>\n",
       "      <td>Pat</td>\n",
       "      <td>Scantlebury</td>\n",
       "    </tr>\n",
       "  </tbody>\n",
       "</table>\n",
       "</div>"
      ],
      "text/plain": [
       "        playerID nameFirst     nameLast\n",
       "16872  smithge01   Germany        Smith\n",
       "3675   coreyma01      Mark        Corey\n",
       "773    banksbr01     Brian        Banks\n",
       "14673  quinnfr02     Frank        Quinn\n",
       "16050  scantpa01       Pat  Scantlebury"
      ]
     },
     "execution_count": 126,
     "metadata": {},
     "output_type": "execute_result"
    }
   ],
   "source": [
    "player_names = (dfs['People']\n",
    "         >> select(X.playerID, X.nameFirst, X.nameLast))\n",
    "player_names.sample(5)"
   ]
  },
  {
   "cell_type": "code",
   "execution_count": 127,
   "metadata": {},
   "outputs": [
    {
     "data": {
      "text/html": [
       "<div>\n",
       "<style scoped>\n",
       "    .dataframe tbody tr th:only-of-type {\n",
       "        vertical-align: middle;\n",
       "    }\n",
       "\n",
       "    .dataframe tbody tr th {\n",
       "        vertical-align: top;\n",
       "    }\n",
       "\n",
       "    .dataframe thead th {\n",
       "        text-align: right;\n",
       "    }\n",
       "</style>\n",
       "<table border=\"1\" class=\"dataframe\">\n",
       "  <thead>\n",
       "    <tr style=\"text-align: right;\">\n",
       "      <th></th>\n",
       "      <th>total_hits</th>\n",
       "      <th>nameFirst</th>\n",
       "      <th>nameLast</th>\n",
       "    </tr>\n",
       "  </thead>\n",
       "  <tbody>\n",
       "    <tr>\n",
       "      <th>990</th>\n",
       "      <td>245</td>\n",
       "      <td>Tom</td>\n",
       "      <td>Martin</td>\n",
       "    </tr>\n",
       "    <tr>\n",
       "      <th>1403</th>\n",
       "      <td>76</td>\n",
       "      <td>Frankie</td>\n",
       "      <td>Rodriguez</td>\n",
       "    </tr>\n",
       "    <tr>\n",
       "      <th>829</th>\n",
       "      <td>10</td>\n",
       "      <td>Brandon</td>\n",
       "      <td>Kintzler</td>\n",
       "    </tr>\n",
       "    <tr>\n",
       "      <th>42</th>\n",
       "      <td>89</td>\n",
       "      <td>Jose</td>\n",
       "      <td>Arredondo</td>\n",
       "    </tr>\n",
       "    <tr>\n",
       "      <th>104</th>\n",
       "      <td>532</td>\n",
       "      <td>Matt</td>\n",
       "      <td>Belisle</td>\n",
       "    </tr>\n",
       "  </tbody>\n",
       "</table>\n",
       "</div>"
      ],
      "text/plain": [
       "      total_hits nameFirst   nameLast\n",
       "990          245       Tom     Martin\n",
       "1403          76   Frankie  Rodriguez\n",
       "829           10   Brandon   Kintzler\n",
       "42            89      Jose  Arredondo\n",
       "104          532      Matt    Belisle"
      ]
     },
     "execution_count": 127,
     "metadata": {},
     "output_type": "execute_result"
    }
   ],
   "source": [
    "hits_from_00_to_10 = (hits_allowed \n",
    "                >> left_join(player_names, by='playerID')\n",
    "                >> drop(X.playerID)\n",
    "               )\n",
    "hits_from_00_to_10.sample(5)"
   ]
  }
 ],
 "metadata": {
  "kernelspec": {
   "display_name": "Python 3.9.12 64-bit ('base')",
   "language": "python",
   "name": "python3"
  },
  "language_info": {
   "codemirror_mode": {
    "name": "ipython",
    "version": 3
   },
   "file_extension": ".py",
   "mimetype": "text/x-python",
   "name": "python",
   "nbconvert_exporter": "python",
   "pygments_lexer": "ipython3",
   "version": "3.9.12"
  },
  "vscode": {
   "interpreter": {
    "hash": "5ce7a541852eef2eb90254a9e9bce4bf4b1848adf2c8b30b413c73d00698b47f"
   }
  }
 },
 "nbformat": 4,
 "nbformat_minor": 2
}
