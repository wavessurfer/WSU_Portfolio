{
 "cells": [
  {
   "cell_type": "markdown",
   "metadata": {
    "id": "HR7pznJRVl_I"
   },
   "source": [
    "#### Setting up Colab\n",
    "\n",
    "To run this notebook on [Google's Colab](https://colab.research.google.com), you will need to perform the following steps."
   ]
  },
  {
   "cell_type": "markdown",
   "metadata": {
    "id": "9wQcorCqV5Dz"
   },
   "source": [
    "Step 1. Install pyspark\n",
    "\n",
    "Since pyspark isn't included in Colab's Python installation, you will need to install it each time you open this notebook."
   ]
  },
  {
   "cell_type": "code",
   "execution_count": 1,
   "metadata": {
    "colab": {
     "base_uri": "https://localhost:8080/"
    },
    "id": "D8Bz7cWgVn0H",
    "outputId": "510cea83-bea2-4f0b-9819-c575131fbd35"
   },
   "outputs": [
    {
     "name": "stdout",
     "output_type": "stream",
     "text": [
      "Looking in indexes: https://pypi.org/simple, https://us-python.pkg.dev/colab-wheels/public/simple/\n",
      "Collecting pyspark\n",
      "  Downloading pyspark-3.3.0.tar.gz (281.3 MB)\n",
      "\u001b[K     |████████████████████████████████| 281.3 MB 34 kB/s \n",
      "\u001b[?25hCollecting py4j==0.10.9.5\n",
      "  Downloading py4j-0.10.9.5-py2.py3-none-any.whl (199 kB)\n",
      "\u001b[K     |████████████████████████████████| 199 kB 56.7 MB/s \n",
      "\u001b[?25hBuilding wheels for collected packages: pyspark\n",
      "  Building wheel for pyspark (setup.py) ... \u001b[?25l\u001b[?25hdone\n",
      "  Created wheel for pyspark: filename=pyspark-3.3.0-py2.py3-none-any.whl size=281764026 sha256=4761cd53dd1371ebb71d7149f239c331ee35d6db055f83fd8801b4d49a2ea6f4\n",
      "  Stored in directory: /root/.cache/pip/wheels/7a/8e/1b/f73a52650d2e5f337708d9f6a1750d451a7349a867f928b885\n",
      "Successfully built pyspark\n",
      "Installing collected packages: py4j, pyspark\n",
      "Successfully installed py4j-0.10.9.5 pyspark-3.3.0\n"
     ]
    }
   ],
   "source": [
    "!pip install pyspark"
   ]
  },
  {
   "cell_type": "code",
   "execution_count": 2,
   "metadata": {
    "colab": {
     "base_uri": "https://localhost:8080/"
    },
    "id": "Ew5QQt13VpiA",
    "outputId": "f7048ab5-7f63-43e4-fc3a-364292682f9c"
   },
   "outputs": [
    {
     "name": "stdout",
     "output_type": "stream",
     "text": [
      "Looking in indexes: https://pypi.org/simple, https://us-python.pkg.dev/colab-wheels/public/simple/\n",
      "Collecting composable\n",
      "  Downloading composable-0.2.5-py3-none-any.whl (7.3 kB)\n",
      "Collecting python-forge<19.0,>=18.6\n",
      "  Downloading python_forge-18.6.0-py35-none-any.whl (31 kB)\n",
      "Collecting toolz<0.12.0,>=0.11.1\n",
      "  Downloading toolz-0.11.2-py3-none-any.whl (55 kB)\n",
      "\u001b[K     |████████████████████████████████| 55 kB 3.4 MB/s \n",
      "\u001b[?25hInstalling collected packages: toolz, python-forge, composable\n",
      "  Attempting uninstall: toolz\n",
      "    Found existing installation: toolz 0.12.0\n",
      "    Uninstalling toolz-0.12.0:\n",
      "      Successfully uninstalled toolz-0.12.0\n",
      "Successfully installed composable-0.2.5 python-forge-18.6.0 toolz-0.11.2\n"
     ]
    }
   ],
   "source": [
    "!pip install composable"
   ]
  },
  {
   "cell_type": "markdown",
   "metadata": {
    "id": "nUrpmAptVv8n"
   },
   "source": [
    "Step 2. Download and unzip the data\n",
    "\n",
    "Next, the easiest way to access the data from the module is to download and unzip."
   ]
  },
  {
   "cell_type": "code",
   "execution_count": 3,
   "metadata": {
    "colab": {
     "base_uri": "https://localhost:8080/"
    },
    "id": "-V_69-dPVx5D",
    "outputId": "9e13e258-6a97-4918-b7f1-83e6bb3ef8e0"
   },
   "outputs": [
    {
     "name": "stdout",
     "output_type": "stream",
     "text": [
      "--2022-10-11 13:59:27--  https://github.com/wsu-stat489/module5_intro_to_pyspark/raw/main/data.zip\n",
      "Resolving github.com (github.com)... 140.82.113.4\n",
      "Connecting to github.com (github.com)|140.82.113.4|:443... connected.\n",
      "HTTP request sent, awaiting response... 302 Found\n",
      "Location: https://raw.githubusercontent.com/wsu-stat489/module5_intro_to_pyspark/main/data.zip [following]\n",
      "--2022-10-11 13:59:27--  https://raw.githubusercontent.com/wsu-stat489/module5_intro_to_pyspark/main/data.zip\n",
      "Resolving raw.githubusercontent.com (raw.githubusercontent.com)... 185.199.108.133, 185.199.109.133, 185.199.110.133, ...\n",
      "Connecting to raw.githubusercontent.com (raw.githubusercontent.com)|185.199.108.133|:443... connected.\n",
      "HTTP request sent, awaiting response... 200 OK\n",
      "Length: 14959102 (14M) [application/zip]\n",
      "Saving to: ‘data.zip’\n",
      "\n",
      "data.zip            100%[===================>]  14.27M  --.-KB/s    in 0.1s    \n",
      "\n",
      "2022-10-11 13:59:27 (122 MB/s) - ‘data.zip’ saved [14959102/14959102]\n",
      "\n"
     ]
    }
   ],
   "source": [
    "!wget https://github.com/wsu-stat489/module5_intro_to_pyspark/raw/main/data.zip"
   ]
  },
  {
   "cell_type": "code",
   "execution_count": 4,
   "metadata": {
    "colab": {
     "base_uri": "https://localhost:8080/"
    },
    "id": "ShhhYsg0Vzft",
    "outputId": "9234ed9a-403f-4e12-9842-4e81c7190f3f"
   },
   "outputs": [
    {
     "name": "stdout",
     "output_type": "stream",
     "text": [
      "Archive:  data.zip\n",
      "   creating: data/\n",
      "  inflating: __MACOSX/._data         \n",
      "  inflating: data/Rochester_temps_2019.xlsx  \n",
      "  inflating: __MACOSX/data/._Rochester_temps_2019.xlsx  \n",
      "  inflating: data/uber-raw-data-jun14-sample.csv  \n",
      "  inflating: __MACOSX/data/._uber-raw-data-jun14-sample.csv  \n",
      "  inflating: data/heroes_information.csv  \n",
      "  inflating: __MACOSX/data/._heroes_information.csv  \n",
      "  inflating: data/employee.csv       \n",
      "  inflating: __MACOSX/data/._employee.csv  \n",
      "  inflating: data/uber-raw-data-apr14-sample.csv  \n",
      "  inflating: __MACOSX/data/._uber-raw-data-apr14-sample.csv  \n",
      "   creating: data/baseball/\n",
      "  inflating: __MACOSX/data/._baseball  \n",
      "  inflating: data/uber-raw-data-may14-sample.csv  \n",
      "  inflating: __MACOSX/data/._uber-raw-data-may14-sample.csv  \n",
      "  inflating: data/auto_sales_apr.csv  \n",
      "  inflating: __MACOSX/data/._auto_sales_apr.csv  \n",
      "  inflating: data/uber-raw-data-sep14-sample.csv  \n",
      "  inflating: __MACOSX/data/._uber-raw-data-sep14-sample.csv  \n",
      "  inflating: data/department.csv     \n",
      "  inflating: __MACOSX/data/._department.csv  \n",
      "  inflating: data/PEW_income_religion.csv  \n",
      "  inflating: __MACOSX/data/._PEW_income_religion.csv  \n",
      "  inflating: data/health_survey.csv  \n",
      "  inflating: __MACOSX/data/._health_survey.csv  \n",
      "  inflating: data/TB_bad.csv         \n",
      "  inflating: __MACOSX/data/._TB_bad.csv  \n",
      "  inflating: data/uber-raw-data-aug14-sample.csv  \n",
      "  inflating: __MACOSX/data/._uber-raw-data-aug14-sample.csv  \n",
      "  inflating: data/uber-raw-data-jul14-sample.csv  \n",
      "  inflating: __MACOSX/data/._uber-raw-data-jul14-sample.csv  \n",
      "  inflating: data/auto_sales_may.csv  \n",
      "  inflating: __MACOSX/data/._auto_sales_may.csv  \n",
      "  inflating: data/auto_sales.csv     \n",
      "  inflating: __MACOSX/data/._auto_sales.csv  \n",
      "  inflating: data/Rochester_temps_2019.csv  \n",
      "  inflating: __MACOSX/data/._Rochester_temps_2019.csv  \n",
      "   creating: data/baseball/core/\n",
      "  inflating: __MACOSX/data/baseball/._core  \n",
      "  inflating: data/baseball/README.txt  \n",
      "  inflating: __MACOSX/data/baseball/._README.txt  \n",
      "   creating: data/baseball/upstream/\n",
      "  inflating: __MACOSX/data/baseball/._upstream  \n",
      "  inflating: data/baseball/core/AwardsManagers.csv  \n",
      "  inflating: __MACOSX/data/baseball/core/._AwardsManagers.csv  \n",
      "  inflating: data/baseball/core/Managers.csv  \n",
      "  inflating: __MACOSX/data/baseball/core/._Managers.csv  \n",
      "  inflating: data/baseball/core/AwardsPlayers.csv  \n",
      "  inflating: __MACOSX/data/baseball/core/._AwardsPlayers.csv  \n",
      "  inflating: data/baseball/core/Fielding.csv  \n",
      "  inflating: __MACOSX/data/baseball/core/._Fielding.csv  \n",
      "  inflating: data/baseball/core/Salaries.csv  \n",
      "  inflating: __MACOSX/data/baseball/core/._Salaries.csv  \n",
      "  inflating: data/baseball/core/Parks.csv  \n",
      "  inflating: __MACOSX/data/baseball/core/._Parks.csv  \n",
      "  inflating: data/baseball/core/Schools.csv  \n",
      "  inflating: __MACOSX/data/baseball/core/._Schools.csv  \n",
      "  inflating: data/baseball/core/People.csv  \n",
      "  inflating: __MACOSX/data/baseball/core/._People.csv  \n",
      "  inflating: data/baseball/core/PitchingPost.csv  \n",
      "  inflating: __MACOSX/data/baseball/core/._PitchingPost.csv  \n",
      "  inflating: data/baseball/core/Teams.csv  \n",
      "  inflating: __MACOSX/data/baseball/core/._Teams.csv  \n",
      "  inflating: data/baseball/core/Appearances.csv  \n",
      "  inflating: __MACOSX/data/baseball/core/._Appearances.csv  \n",
      "  inflating: data/baseball/core/AwardsSharePlayers.csv  \n",
      "  inflating: __MACOSX/data/baseball/core/._AwardsSharePlayers.csv  \n",
      "  inflating: data/baseball/core/TeamsFranchises.csv  \n",
      "  inflating: __MACOSX/data/baseball/core/._TeamsFranchises.csv  \n",
      "  inflating: data/baseball/core/Batting.csv  \n",
      "  inflating: __MACOSX/data/baseball/core/._Batting.csv  \n",
      "  inflating: data/baseball/core/ManagersHalf.csv  \n",
      "  inflating: __MACOSX/data/baseball/core/._ManagersHalf.csv  \n",
      "  inflating: data/baseball/core/FieldingOF.csv  \n",
      "  inflating: __MACOSX/data/baseball/core/._FieldingOF.csv  \n",
      "  inflating: data/baseball/core/Pitching.csv  \n",
      "  inflating: __MACOSX/data/baseball/core/._Pitching.csv  \n",
      "  inflating: data/baseball/core/CollegePlaying.csv  \n",
      "  inflating: __MACOSX/data/baseball/core/._CollegePlaying.csv  \n",
      "  inflating: data/baseball/core/HomeGames.csv  \n",
      "  inflating: __MACOSX/data/baseball/core/._HomeGames.csv  \n",
      "  inflating: data/baseball/core/HallOfFame.csv  \n",
      "  inflating: __MACOSX/data/baseball/core/._HallOfFame.csv  \n",
      "  inflating: data/baseball/core/readme2014.txt  \n",
      "  inflating: __MACOSX/data/baseball/core/._readme2014.txt  \n",
      "  inflating: data/baseball/core/AwardsShareManagers.csv  \n",
      "  inflating: __MACOSX/data/baseball/core/._AwardsShareManagers.csv  \n",
      "  inflating: data/baseball/core/BattingPost.csv  \n",
      "  inflating: __MACOSX/data/baseball/core/._BattingPost.csv  \n",
      "  inflating: data/baseball/core/TeamsHalf.csv  \n",
      "  inflating: __MACOSX/data/baseball/core/._TeamsHalf.csv  \n",
      "  inflating: data/baseball/core/SeriesPost.csv  \n",
      "  inflating: __MACOSX/data/baseball/core/._SeriesPost.csv  \n",
      "  inflating: data/baseball/core/FieldingPost.csv  \n",
      "  inflating: __MACOSX/data/baseball/core/._FieldingPost.csv  \n",
      "  inflating: data/baseball/core/AllstarFull.csv  \n",
      "  inflating: __MACOSX/data/baseball/core/._AllstarFull.csv  \n",
      "  inflating: data/baseball/core/FieldingOFsplit.csv  \n",
      "  inflating: __MACOSX/data/baseball/core/._FieldingOFsplit.csv  \n",
      "  inflating: data/baseball/upstream/Teams.csv  \n",
      "  inflating: __MACOSX/data/baseball/upstream/._Teams.csv  \n"
     ]
    }
   ],
   "source": [
    "!unzip data.zip"
   ]
  },
  {
   "cell_type": "code",
   "execution_count": 5,
   "metadata": {
    "colab": {
     "base_uri": "https://localhost:8080/"
    },
    "id": "TNouyY7mVy3Q",
    "outputId": "90c39bc8-7e16-4ba9-dc30-b55d66d439cf"
   },
   "outputs": [
    {
     "name": "stdout",
     "output_type": "stream",
     "text": [
      "--2022-10-11 13:59:28--  https://github.com/wsu-stat489/module5_intro_to_pyspark/raw/main/more_pyspark.py\n",
      "Resolving github.com (github.com)... 140.82.113.4\n",
      "Connecting to github.com (github.com)|140.82.113.4|:443... connected.\n",
      "HTTP request sent, awaiting response... 302 Found\n",
      "Location: https://raw.githubusercontent.com/wsu-stat489/module5_intro_to_pyspark/main/more_pyspark.py [following]\n",
      "--2022-10-11 13:59:28--  https://raw.githubusercontent.com/wsu-stat489/module5_intro_to_pyspark/main/more_pyspark.py\n",
      "Resolving raw.githubusercontent.com (raw.githubusercontent.com)... 185.199.108.133, 185.199.109.133, 185.199.110.133, ...\n",
      "Connecting to raw.githubusercontent.com (raw.githubusercontent.com)|185.199.108.133|:443... connected.\n",
      "HTTP request sent, awaiting response... 200 OK\n",
      "Length: 2786 (2.7K) [text/plain]\n",
      "Saving to: ‘more_pyspark.py’\n",
      "\n",
      "more_pyspark.py     100%[===================>]   2.72K  --.-KB/s    in 0s      \n",
      "\n",
      "2022-10-11 13:59:28 (29.5 MB/s) - ‘more_pyspark.py’ saved [2786/2786]\n",
      "\n"
     ]
    }
   ],
   "source": [
    "!wget https://github.com/wsu-stat489/module5_intro_to_pyspark/raw/main/more_pyspark.py"
   ]
  },
  {
   "cell_type": "markdown",
   "metadata": {
    "id": "Z4PJOzNjVjl2"
   },
   "source": [
    "# Aggregation"
   ]
  },
  {
   "cell_type": "markdown",
   "metadata": {
    "id": "FKvuo0OsVjl7"
   },
   "source": [
    "## What is aggregation?\n",
    "\n",
    "The act of collapsing many rows into few rows."
   ]
  },
  {
   "cell_type": "code",
   "execution_count": 1,
   "metadata": {
    "id": "VtpXCInFVjl8"
   },
   "outputs": [
    {
     "name": "stdout",
     "output_type": "stream",
     "text": [
      "22/10/27 16:42:21 WARN Utils: Your hostname, nn1448lr222 resolves to a loopback address: 127.0.1.1; using 172.17.25.238 instead (on interface eth0)\n",
      "22/10/27 16:42:21 WARN Utils: Set SPARK_LOCAL_IP if you need to bind to another address\n"
     ]
    },
    {
     "name": "stderr",
     "output_type": "stream",
     "text": [
      "Setting default log level to \"WARN\".\n",
      "To adjust logging level use sc.setLogLevel(newLevel). For SparkR, use setLogLevel(newLevel).\n"
     ]
    },
    {
     "name": "stdout",
     "output_type": "stream",
     "text": [
      "22/10/27 16:42:23 WARN NativeCodeLoader: Unable to load native-hadoop library for your platform... using builtin-java classes where applicable\n",
      "22/10/27 16:42:24 WARN Utils: Service 'SparkUI' could not bind on port 4040. Attempting port 4041.\n",
      "22/10/27 16:42:24 WARN Utils: Service 'SparkUI' could not bind on port 4041. Attempting port 4042.\n",
      "22/10/27 16:42:24 WARN Utils: Service 'SparkUI' could not bind on port 4042. Attempting port 4043.\n",
      "22/10/27 16:42:24 WARN Utils: Service 'SparkUI' could not bind on port 4043. Attempting port 4044.\n",
      "22/10/27 16:42:24 WARN Utils: Service 'SparkUI' could not bind on port 4044. Attempting port 4045.\n"
     ]
    },
    {
     "name": "stderr",
     "output_type": "stream",
     "text": [
      "                                                                                \r"
     ]
    }
   ],
   "source": [
    "from pyspark.sql import SparkSession\n",
    "from more_pyspark import get_spark_types, to_pandas\n",
    "\n",
    "spark = SparkSession.builder.appName('Ops').getOrCreate()\n",
    "pitching_spark =  spark.read.csv('data/baseball/core/Pitching.csv', inferSchema=True, header=True)"
   ]
  },
  {
   "cell_type": "code",
   "execution_count": 2,
   "metadata": {
    "colab": {
     "base_uri": "https://localhost:8080/",
     "height": 233
    },
    "id": "rG1V_E2CVjl_",
    "outputId": "7165e1dc-74b7-428f-fc1c-f1f9ad83c875"
   },
   "outputs": [
    {
     "name": "stdout",
     "output_type": "stream",
     "text": [
      "22/10/27 16:42:35 WARN package: Truncated the string representation of a plan since it was too large. This behavior can be adjusted by setting 'spark.sql.debug.maxToStringFields'.\n"
     ]
    },
    {
     "data": {
      "text/html": [
       "<div>\n",
       "<style scoped>\n",
       "    .dataframe tbody tr th:only-of-type {\n",
       "        vertical-align: middle;\n",
       "    }\n",
       "\n",
       "    .dataframe tbody tr th {\n",
       "        vertical-align: top;\n",
       "    }\n",
       "\n",
       "    .dataframe thead th {\n",
       "        text-align: right;\n",
       "    }\n",
       "</style>\n",
       "<table border=\"1\" class=\"dataframe\">\n",
       "  <thead>\n",
       "    <tr style=\"text-align: right;\">\n",
       "      <th></th>\n",
       "      <th>playerID</th>\n",
       "      <th>yearID</th>\n",
       "      <th>stint</th>\n",
       "      <th>teamID</th>\n",
       "      <th>lgID</th>\n",
       "      <th>W</th>\n",
       "      <th>L</th>\n",
       "      <th>G</th>\n",
       "      <th>GS</th>\n",
       "      <th>CG</th>\n",
       "      <th>...</th>\n",
       "      <th>IBB</th>\n",
       "      <th>WP</th>\n",
       "      <th>HBP</th>\n",
       "      <th>BK</th>\n",
       "      <th>BFP</th>\n",
       "      <th>GF</th>\n",
       "      <th>R</th>\n",
       "      <th>SH</th>\n",
       "      <th>SF</th>\n",
       "      <th>GIDP</th>\n",
       "    </tr>\n",
       "  </thead>\n",
       "  <tbody>\n",
       "    <tr>\n",
       "      <th>0</th>\n",
       "      <td>bechtge01</td>\n",
       "      <td>1871</td>\n",
       "      <td>1</td>\n",
       "      <td>PH1</td>\n",
       "      <td>NA</td>\n",
       "      <td>1</td>\n",
       "      <td>2</td>\n",
       "      <td>3</td>\n",
       "      <td>3</td>\n",
       "      <td>2</td>\n",
       "      <td>...</td>\n",
       "      <td>None</td>\n",
       "      <td>7</td>\n",
       "      <td>None</td>\n",
       "      <td>0</td>\n",
       "      <td>146</td>\n",
       "      <td>0</td>\n",
       "      <td>42</td>\n",
       "      <td>None</td>\n",
       "      <td>None</td>\n",
       "      <td>None</td>\n",
       "    </tr>\n",
       "    <tr>\n",
       "      <th>1</th>\n",
       "      <td>brainas01</td>\n",
       "      <td>1871</td>\n",
       "      <td>1</td>\n",
       "      <td>WS3</td>\n",
       "      <td>NA</td>\n",
       "      <td>12</td>\n",
       "      <td>15</td>\n",
       "      <td>30</td>\n",
       "      <td>30</td>\n",
       "      <td>30</td>\n",
       "      <td>...</td>\n",
       "      <td>None</td>\n",
       "      <td>7</td>\n",
       "      <td>None</td>\n",
       "      <td>0</td>\n",
       "      <td>1291</td>\n",
       "      <td>0</td>\n",
       "      <td>292</td>\n",
       "      <td>None</td>\n",
       "      <td>None</td>\n",
       "      <td>None</td>\n",
       "    </tr>\n",
       "    <tr>\n",
       "      <th>2</th>\n",
       "      <td>fergubo01</td>\n",
       "      <td>1871</td>\n",
       "      <td>1</td>\n",
       "      <td>NY2</td>\n",
       "      <td>NA</td>\n",
       "      <td>0</td>\n",
       "      <td>0</td>\n",
       "      <td>1</td>\n",
       "      <td>0</td>\n",
       "      <td>0</td>\n",
       "      <td>...</td>\n",
       "      <td>None</td>\n",
       "      <td>2</td>\n",
       "      <td>None</td>\n",
       "      <td>0</td>\n",
       "      <td>14</td>\n",
       "      <td>0</td>\n",
       "      <td>9</td>\n",
       "      <td>None</td>\n",
       "      <td>None</td>\n",
       "      <td>None</td>\n",
       "    </tr>\n",
       "    <tr>\n",
       "      <th>3</th>\n",
       "      <td>fishech01</td>\n",
       "      <td>1871</td>\n",
       "      <td>1</td>\n",
       "      <td>RC1</td>\n",
       "      <td>NA</td>\n",
       "      <td>4</td>\n",
       "      <td>16</td>\n",
       "      <td>24</td>\n",
       "      <td>24</td>\n",
       "      <td>22</td>\n",
       "      <td>...</td>\n",
       "      <td>None</td>\n",
       "      <td>20</td>\n",
       "      <td>None</td>\n",
       "      <td>0</td>\n",
       "      <td>1080</td>\n",
       "      <td>1</td>\n",
       "      <td>257</td>\n",
       "      <td>None</td>\n",
       "      <td>None</td>\n",
       "      <td>None</td>\n",
       "    </tr>\n",
       "    <tr>\n",
       "      <th>4</th>\n",
       "      <td>fleetfr01</td>\n",
       "      <td>1871</td>\n",
       "      <td>1</td>\n",
       "      <td>NY2</td>\n",
       "      <td>NA</td>\n",
       "      <td>0</td>\n",
       "      <td>1</td>\n",
       "      <td>1</td>\n",
       "      <td>1</td>\n",
       "      <td>1</td>\n",
       "      <td>...</td>\n",
       "      <td>None</td>\n",
       "      <td>0</td>\n",
       "      <td>None</td>\n",
       "      <td>0</td>\n",
       "      <td>57</td>\n",
       "      <td>0</td>\n",
       "      <td>21</td>\n",
       "      <td>None</td>\n",
       "      <td>None</td>\n",
       "      <td>None</td>\n",
       "    </tr>\n",
       "  </tbody>\n",
       "</table>\n",
       "<p>5 rows × 30 columns</p>\n",
       "</div>"
      ],
      "text/plain": [
       "    playerID  yearID  stint teamID lgID   W   L   G  GS  CG  ...   IBB  WP  \\\n",
       "0  bechtge01    1871      1    PH1   NA   1   2   3   3   2  ...  None   7   \n",
       "1  brainas01    1871      1    WS3   NA  12  15  30  30  30  ...  None   7   \n",
       "2  fergubo01    1871      1    NY2   NA   0   0   1   0   0  ...  None   2   \n",
       "3  fishech01    1871      1    RC1   NA   4  16  24  24  22  ...  None  20   \n",
       "4  fleetfr01    1871      1    NY2   NA   0   1   1   1   1  ...  None   0   \n",
       "\n",
       "    HBP  BK   BFP  GF    R    SH    SF  GIDP  \n",
       "0  None   0   146   0   42  None  None  None  \n",
       "1  None   0  1291   0  292  None  None  None  \n",
       "2  None   0    14   0    9  None  None  None  \n",
       "3  None   0  1080   1  257  None  None  None  \n",
       "4  None   0    57   0   21  None  None  None  \n",
       "\n",
       "[5 rows x 30 columns]"
      ]
     },
     "execution_count": 2,
     "metadata": {},
     "output_type": "execute_result"
    }
   ],
   "source": [
    "(pitching_spark\n",
    " .take(5)\n",
    ") >> to_pandas"
   ]
  },
  {
   "cell_type": "markdown",
   "metadata": {
    "id": "5qvXkU8MVjmA"
   },
   "source": [
    "## Simple Aggregation\n",
    "\n",
    "A **simple aggregation** collapses all rows into one row.\n",
    "\n",
    "<img src=\"https://github.com/wsu-stat489/module5_intro_to_pyspark/blob/main/img/simple_aggregation.png?raw=1\" width=800>"
   ]
  },
  {
   "cell_type": "markdown",
   "metadata": {
    "id": "OdYzQIh-VjmB"
   },
   "source": [
    "## Simple aggregation in `pyspark`"
   ]
  },
  {
   "cell_type": "markdown",
   "metadata": {
    "id": "CpIzX3g1VjmB"
   },
   "source": [
    "#### Using aggregation functions with an alias"
   ]
  },
  {
   "cell_type": "code",
   "execution_count": 3,
   "metadata": {
    "colab": {
     "base_uri": "https://localhost:8080/",
     "height": 80
    },
    "id": "gdkY5XXiVjmC",
    "outputId": "a056f593-46ec-4772-bdea-a9b8339f85b5"
   },
   "outputs": [
    {
     "name": "stderr",
     "output_type": "stream",
     "text": [
      "                                                                                \r"
     ]
    },
    {
     "data": {
      "text/html": [
       "<div>\n",
       "<style scoped>\n",
       "    .dataframe tbody tr th:only-of-type {\n",
       "        vertical-align: middle;\n",
       "    }\n",
       "\n",
       "    .dataframe tbody tr th {\n",
       "        vertical-align: top;\n",
       "    }\n",
       "\n",
       "    .dataframe thead th {\n",
       "        text-align: right;\n",
       "    }\n",
       "</style>\n",
       "<table border=\"1\" class=\"dataframe\">\n",
       "  <thead>\n",
       "    <tr style=\"text-align: right;\">\n",
       "      <th></th>\n",
       "      <th>mean_ers</th>\n",
       "      <th>sd_era</th>\n",
       "      <th>max_wins</th>\n",
       "      <th>min_wins</th>\n",
       "    </tr>\n",
       "  </thead>\n",
       "  <tbody>\n",
       "    <tr>\n",
       "      <th>0</th>\n",
       "      <td>5.11792</td>\n",
       "      <td>5.466654</td>\n",
       "      <td>60</td>\n",
       "      <td>0</td>\n",
       "    </tr>\n",
       "  </tbody>\n",
       "</table>\n",
       "</div>"
      ],
      "text/plain": [
       "   mean_ers    sd_era  max_wins  min_wins\n",
       "0   5.11792  5.466654        60         0"
      ]
     },
     "execution_count": 3,
     "metadata": {},
     "output_type": "execute_result"
    }
   ],
   "source": [
    "import pyspark.sql.functions as fn\n",
    "(pitching_spark\n",
    "  .agg(fn.mean('ERA').alias('mean_ers'),\n",
    "       fn.stddev('ERA').alias('sd_era'),\n",
    "       fn.max('W').alias('max_wins'),\n",
    "       fn.min('W').alias('min_wins'))\n",
    "  .collect()\n",
    ") >> to_pandas"
   ]
  },
  {
   "cell_type": "markdown",
   "metadata": {
    "id": "18r8g6nzVjmD"
   },
   "source": [
    "#### Using column expressions"
   ]
  },
  {
   "cell_type": "code",
   "execution_count": 27,
   "metadata": {
    "colab": {
     "base_uri": "https://localhost:8080/",
     "height": 80
    },
    "id": "0XSPg0chVjmD",
    "outputId": "32749beb-eb1c-46e0-944a-0d34d7371722"
   },
   "outputs": [
    {
     "data": {
      "text/html": [
       "<div>\n",
       "<style scoped>\n",
       "    .dataframe tbody tr th:only-of-type {\n",
       "        vertical-align: middle;\n",
       "    }\n",
       "\n",
       "    .dataframe tbody tr th {\n",
       "        vertical-align: top;\n",
       "    }\n",
       "\n",
       "    .dataframe thead th {\n",
       "        text-align: right;\n",
       "    }\n",
       "</style>\n",
       "<table border=\"1\" class=\"dataframe\">\n",
       "  <thead>\n",
       "    <tr style=\"text-align: right;\">\n",
       "      <th></th>\n",
       "      <th>mean_ers</th>\n",
       "      <th>sd_era</th>\n",
       "    </tr>\n",
       "  </thead>\n",
       "  <tbody>\n",
       "    <tr>\n",
       "      <th>0</th>\n",
       "      <td>5.11792</td>\n",
       "      <td>5.466654</td>\n",
       "    </tr>\n",
       "  </tbody>\n",
       "</table>\n",
       "</div>"
      ],
      "text/plain": [
       "   mean_ers    sd_era\n",
       "0   5.11792  5.466654"
      ]
     },
     "execution_count": 27,
     "metadata": {},
     "output_type": "execute_result"
    }
   ],
   "source": [
    "from pyspark.sql.functions import mean, stddev, col\n",
    "(pitching_spark\n",
    "  .agg(mean(col('ERA')).alias('mean_ers'),\n",
    "       stddev(col('ERA')).alias('sd_era'))\n",
    "  .collect()\n",
    ") >> to_pandas"
   ]
  },
  {
   "cell_type": "markdown",
   "metadata": {
    "id": "lISEmS31VjmE"
   },
   "source": [
    "## <font color=\"red\"> Exercise 1 </font>\n",
    "\n",
    "The [dead ball era](https://en.wikipedia.org/wiki/Dead-ball_era) in MLB includes the year from about 1900 to 1918, which was known for a low number of runs per game.  After this period, the number of runs per game increased dramatically and one possible reason for this change was a changes made to the baseball at the start of the 1920 season.    \n",
    "\n",
    "**Tasks:** Complete that following tasks using `pyspark.sql`\n",
    "\n",
    "* Compute the average runs allowed per pitcher (column `R`) for the following two ranges of years: \n",
    "    * 1900-1919 and \n",
    "    * 1920-1939.  \n",
    "* Is there evidence of a difference in the number of runs allowed for each era?"
   ]
  },
  {
   "cell_type": "code",
   "execution_count": 5,
   "metadata": {
    "id": "krxOLGLsVjmF"
   },
   "outputs": [
    {
     "data": {
      "text/html": [
       "<div>\n",
       "<style scoped>\n",
       "    .dataframe tbody tr th:only-of-type {\n",
       "        vertical-align: middle;\n",
       "    }\n",
       "\n",
       "    .dataframe tbody tr th {\n",
       "        vertical-align: top;\n",
       "    }\n",
       "\n",
       "    .dataframe thead th {\n",
       "        text-align: right;\n",
       "    }\n",
       "</style>\n",
       "<table border=\"1\" class=\"dataframe\">\n",
       "  <thead>\n",
       "    <tr style=\"text-align: right;\">\n",
       "      <th></th>\n",
       "      <th>mean_r</th>\n",
       "    </tr>\n",
       "  </thead>\n",
       "  <tbody>\n",
       "    <tr>\n",
       "      <th>0</th>\n",
       "      <td>49.707696</td>\n",
       "    </tr>\n",
       "  </tbody>\n",
       "</table>\n",
       "</div>"
      ],
      "text/plain": [
       "      mean_r\n",
       "0  49.707696"
      ]
     },
     "execution_count": 5,
     "metadata": {},
     "output_type": "execute_result"
    }
   ],
   "source": [
    "# Your code here\n",
    "from pyspark.sql.functions import col\n",
    "(pitching_spark\n",
    "        .where((col('yearID') >= 1900) & (col('yearID') <= 1919))\n",
    "        .agg(mean(col('R')).alias('mean_r'))\n",
    "        .collect()\n",
    ") >> to_pandas"
   ]
  },
  {
   "cell_type": "code",
   "execution_count": 28,
   "metadata": {},
   "outputs": [
    {
     "data": {
      "text/html": [
       "<div>\n",
       "<style scoped>\n",
       "    .dataframe tbody tr th:only-of-type {\n",
       "        vertical-align: middle;\n",
       "    }\n",
       "\n",
       "    .dataframe tbody tr th {\n",
       "        vertical-align: top;\n",
       "    }\n",
       "\n",
       "    .dataframe thead th {\n",
       "        text-align: right;\n",
       "    }\n",
       "</style>\n",
       "<table border=\"1\" class=\"dataframe\">\n",
       "  <thead>\n",
       "    <tr style=\"text-align: right;\">\n",
       "      <th></th>\n",
       "      <th>mean_r</th>\n",
       "    </tr>\n",
       "  </thead>\n",
       "  <tbody>\n",
       "    <tr>\n",
       "      <th>0</th>\n",
       "      <td>55.289698</td>\n",
       "    </tr>\n",
       "  </tbody>\n",
       "</table>\n",
       "</div>"
      ],
      "text/plain": [
       "      mean_r\n",
       "0  55.289698"
      ]
     },
     "execution_count": 28,
     "metadata": {},
     "output_type": "execute_result"
    }
   ],
   "source": [
    "# Your code here\n",
    "(pitching_spark\n",
    "        .where((col('yearID') >= 1920) & (col('yearID') <= 1939))\n",
    "        .agg(mean(col('R')).alias('mean_r'))\n",
    "        .collect()\n",
    ") >> to_pandas"
   ]
  },
  {
   "cell_type": "markdown",
   "metadata": {
    "id": "3lImq1EdVjmF"
   },
   "source": [
    "> *On average, there were more runs between 20-39 than 00-19*\n"
   ]
  },
  {
   "cell_type": "markdown",
   "metadata": {
    "id": "OrpgA4E-VjmG"
   },
   "source": [
    "## Group and Aggregate\n",
    "\n",
    "Group and aggregate\n",
    "\n",
    "* combines multiple filter + aggregates\n",
    "* considers all possible groups."
   ]
  },
  {
   "cell_type": "markdown",
   "metadata": {
    "id": "UPZRvSUxVjmG"
   },
   "source": [
    "<img src=\"https://github.com/wsu-stat489/module5_intro_to_pyspark/blob/main/img/group_and_aggregate.png?raw=1\" width=800>"
   ]
  },
  {
   "cell_type": "code",
   "execution_count": 7,
   "metadata": {
    "colab": {
     "base_uri": "https://localhost:8080/",
     "height": 233
    },
    "id": "4BieFi85VjmH",
    "outputId": "05e4a9ca-ac3b-49d2-9fdf-41251dc68dc5"
   },
   "outputs": [
    {
     "data": {
      "text/html": [
       "<div>\n",
       "<style scoped>\n",
       "    .dataframe tbody tr th:only-of-type {\n",
       "        vertical-align: middle;\n",
       "    }\n",
       "\n",
       "    .dataframe tbody tr th {\n",
       "        vertical-align: top;\n",
       "    }\n",
       "\n",
       "    .dataframe thead th {\n",
       "        text-align: right;\n",
       "    }\n",
       "</style>\n",
       "<table border=\"1\" class=\"dataframe\">\n",
       "  <thead>\n",
       "    <tr style=\"text-align: right;\">\n",
       "      <th></th>\n",
       "      <th>playerID</th>\n",
       "      <th>yearID</th>\n",
       "      <th>stint</th>\n",
       "      <th>teamID</th>\n",
       "      <th>lgID</th>\n",
       "      <th>W</th>\n",
       "      <th>L</th>\n",
       "      <th>G</th>\n",
       "      <th>GS</th>\n",
       "      <th>CG</th>\n",
       "      <th>...</th>\n",
       "      <th>IBB</th>\n",
       "      <th>WP</th>\n",
       "      <th>HBP</th>\n",
       "      <th>BK</th>\n",
       "      <th>BFP</th>\n",
       "      <th>GF</th>\n",
       "      <th>R</th>\n",
       "      <th>SH</th>\n",
       "      <th>SF</th>\n",
       "      <th>GIDP</th>\n",
       "    </tr>\n",
       "  </thead>\n",
       "  <tbody>\n",
       "    <tr>\n",
       "      <th>0</th>\n",
       "      <td>baileha01</td>\n",
       "      <td>1900</td>\n",
       "      <td>1</td>\n",
       "      <td>BSN</td>\n",
       "      <td>NL</td>\n",
       "      <td>0</td>\n",
       "      <td>0</td>\n",
       "      <td>4</td>\n",
       "      <td>1</td>\n",
       "      <td>0</td>\n",
       "      <td>...</td>\n",
       "      <td>None</td>\n",
       "      <td>3</td>\n",
       "      <td>2</td>\n",
       "      <td>0</td>\n",
       "      <td>94</td>\n",
       "      <td>2</td>\n",
       "      <td>16</td>\n",
       "      <td>None</td>\n",
       "      <td>None</td>\n",
       "      <td>None</td>\n",
       "    </tr>\n",
       "    <tr>\n",
       "      <th>1</th>\n",
       "      <td>bernhbi01</td>\n",
       "      <td>1900</td>\n",
       "      <td>1</td>\n",
       "      <td>PHI</td>\n",
       "      <td>NL</td>\n",
       "      <td>15</td>\n",
       "      <td>10</td>\n",
       "      <td>32</td>\n",
       "      <td>27</td>\n",
       "      <td>20</td>\n",
       "      <td>...</td>\n",
       "      <td>None</td>\n",
       "      <td>11</td>\n",
       "      <td>5</td>\n",
       "      <td>1</td>\n",
       "      <td>986</td>\n",
       "      <td>5</td>\n",
       "      <td>151</td>\n",
       "      <td>None</td>\n",
       "      <td>None</td>\n",
       "      <td>None</td>\n",
       "    </tr>\n",
       "    <tr>\n",
       "      <th>2</th>\n",
       "      <td>breitte01</td>\n",
       "      <td>1900</td>\n",
       "      <td>1</td>\n",
       "      <td>CIN</td>\n",
       "      <td>NL</td>\n",
       "      <td>10</td>\n",
       "      <td>10</td>\n",
       "      <td>24</td>\n",
       "      <td>20</td>\n",
       "      <td>18</td>\n",
       "      <td>...</td>\n",
       "      <td>None</td>\n",
       "      <td>4</td>\n",
       "      <td>14</td>\n",
       "      <td>0</td>\n",
       "      <td>846</td>\n",
       "      <td>3</td>\n",
       "      <td>111</td>\n",
       "      <td>None</td>\n",
       "      <td>None</td>\n",
       "      <td>None</td>\n",
       "    </tr>\n",
       "    <tr>\n",
       "      <th>3</th>\n",
       "      <td>callani01</td>\n",
       "      <td>1900</td>\n",
       "      <td>1</td>\n",
       "      <td>CHN</td>\n",
       "      <td>NL</td>\n",
       "      <td>13</td>\n",
       "      <td>16</td>\n",
       "      <td>32</td>\n",
       "      <td>32</td>\n",
       "      <td>32</td>\n",
       "      <td>...</td>\n",
       "      <td>None</td>\n",
       "      <td>8</td>\n",
       "      <td>22</td>\n",
       "      <td>0</td>\n",
       "      <td>1256</td>\n",
       "      <td>0</td>\n",
       "      <td>195</td>\n",
       "      <td>None</td>\n",
       "      <td>None</td>\n",
       "      <td>None</td>\n",
       "    </tr>\n",
       "    <tr>\n",
       "      <th>4</th>\n",
       "      <td>carribi01</td>\n",
       "      <td>1900</td>\n",
       "      <td>1</td>\n",
       "      <td>NY1</td>\n",
       "      <td>NL</td>\n",
       "      <td>19</td>\n",
       "      <td>22</td>\n",
       "      <td>45</td>\n",
       "      <td>41</td>\n",
       "      <td>32</td>\n",
       "      <td>...</td>\n",
       "      <td>None</td>\n",
       "      <td>7</td>\n",
       "      <td>13</td>\n",
       "      <td>0</td>\n",
       "      <td>1493</td>\n",
       "      <td>4</td>\n",
       "      <td>224</td>\n",
       "      <td>None</td>\n",
       "      <td>None</td>\n",
       "      <td>None</td>\n",
       "    </tr>\n",
       "  </tbody>\n",
       "</table>\n",
       "<p>5 rows × 30 columns</p>\n",
       "</div>"
      ],
      "text/plain": [
       "    playerID  yearID  stint teamID lgID   W   L   G  GS  CG  ...   IBB  WP  \\\n",
       "0  baileha01    1900      1    BSN   NL   0   0   4   1   0  ...  None   3   \n",
       "1  bernhbi01    1900      1    PHI   NL  15  10  32  27  20  ...  None  11   \n",
       "2  breitte01    1900      1    CIN   NL  10  10  24  20  18  ...  None   4   \n",
       "3  callani01    1900      1    CHN   NL  13  16  32  32  32  ...  None   8   \n",
       "4  carribi01    1900      1    NY1   NL  19  22  45  41  32  ...  None   7   \n",
       "\n",
       "   HBP  BK   BFP  GF    R    SH    SF  GIDP  \n",
       "0    2   0    94   2   16  None  None  None  \n",
       "1    5   1   986   5  151  None  None  None  \n",
       "2   14   0   846   3  111  None  None  None  \n",
       "3   22   0  1256   0  195  None  None  None  \n",
       "4   13   0  1493   4  224  None  None  None  \n",
       "\n",
       "[5 rows x 30 columns]"
      ]
     },
     "execution_count": 7,
     "metadata": {},
     "output_type": "execute_result"
    }
   ],
   "source": [
    "from pyspark.sql.functions import when, col\n",
    "\n",
    "eras = (pitching_spark\n",
    "        .where((col('yearID') >= 1900) & (col('yearID') < 1940))\n",
    "        .withColumn('era', (when(col('yearID') < 1920, \"dead ball\")\n",
    "                           .otherwise(\"after dead ball\" )))\n",
    "       )\n",
    "eras.take(5) >> to_pandas"
   ]
  },
  {
   "cell_type": "markdown",
   "metadata": {
    "id": "9NVCbM3QVjmI"
   },
   "source": [
    "<img src=\"https://github.com/wsu-stat489/module5_intro_to_pyspark/blob/main/img/filter_group_aggregate.png?raw=1\" width=800>\n",
    "\n",
    "What we did here is actually `filter + groupby + aggregate`"
   ]
  },
  {
   "cell_type": "markdown",
   "metadata": {
    "id": "wgn7VpgHVjmI"
   },
   "source": [
    "## Using `groupby` and `agg` "
   ]
  },
  {
   "cell_type": "code",
   "execution_count": 8,
   "metadata": {
    "colab": {
     "base_uri": "https://localhost:8080/",
     "height": 111
    },
    "id": "eP90NChRVjmJ",
    "outputId": "b99220ac-e8ab-4261-883f-99e41ad5184d",
    "scrolled": true
   },
   "outputs": [
    {
     "data": {
      "text/html": [
       "<div>\n",
       "<style scoped>\n",
       "    .dataframe tbody tr th:only-of-type {\n",
       "        vertical-align: middle;\n",
       "    }\n",
       "\n",
       "    .dataframe tbody tr th {\n",
       "        vertical-align: top;\n",
       "    }\n",
       "\n",
       "    .dataframe thead th {\n",
       "        text-align: right;\n",
       "    }\n",
       "</style>\n",
       "<table border=\"1\" class=\"dataframe\">\n",
       "  <thead>\n",
       "    <tr style=\"text-align: right;\">\n",
       "      <th></th>\n",
       "      <th>era</th>\n",
       "      <th>mean_runs</th>\n",
       "    </tr>\n",
       "  </thead>\n",
       "  <tbody>\n",
       "    <tr>\n",
       "      <th>0</th>\n",
       "      <td>dead ball</td>\n",
       "      <td>49.707696</td>\n",
       "    </tr>\n",
       "    <tr>\n",
       "      <th>1</th>\n",
       "      <td>after dead ball</td>\n",
       "      <td>55.289698</td>\n",
       "    </tr>\n",
       "  </tbody>\n",
       "</table>\n",
       "</div>"
      ],
      "text/plain": [
       "               era  mean_runs\n",
       "0        dead ball  49.707696\n",
       "1  after dead ball  55.289698"
      ]
     },
     "execution_count": 8,
     "metadata": {},
     "output_type": "execute_result"
    }
   ],
   "source": [
    "mean_runs = (eras\n",
    "             .groupby(col('era'))\n",
    "             .agg(mean(col('R')).alias('mean_runs'))\n",
    "            )\n",
    "out_pandas = mean_runs.collect() >> to_pandas\n",
    "out_pandas"
   ]
  },
  {
   "cell_type": "markdown",
   "metadata": {
    "id": "-4Y9nbovVjmJ"
   },
   "source": [
    "## Visualizing the data with `seaborn`"
   ]
  },
  {
   "cell_type": "code",
   "execution_count": 9,
   "metadata": {
    "colab": {
     "base_uri": "https://localhost:8080/",
     "height": 296
    },
    "id": "-yt8G1qXVjmK",
    "outputId": "c5d06a3e-fe46-43ea-bdb9-38df5e478ee0"
   },
   "outputs": [
    {
     "data": {
      "text/plain": [
       "<AxesSubplot:xlabel='era', ylabel='mean_runs'>"
      ]
     },
     "execution_count": 9,
     "metadata": {},
     "output_type": "execute_result"
    },
    {
     "data": {
      "image/png": "[encoded data removed]",
      "text/plain": [
       "<Figure size 432x288 with 1 Axes>"
      ]
     },
     "metadata": {
      "needs_background": "light"
     },
     "output_type": "display_data"
    }
   ],
   "source": [
    "import seaborn as sns\n",
    "import matplotlib.pylab as plt\n",
    "%matplotlib inline\n",
    "sns.barplot(x = \"era\", y=\"mean_runs\", data=out_pandas)"
   ]
  },
  {
   "cell_type": "markdown",
   "metadata": {
    "id": "zbiw5EvCVjmL"
   },
   "source": [
    "## <font color=\"red\"> Exercise 2 </font>\n",
    "\n",
    "Compose the two queries into one dot-chained expression"
   ]
  },
  {
   "cell_type": "code",
   "execution_count": 10,
   "metadata": {
    "id": "wGXIHv9UVjmL"
   },
   "outputs": [
    {
     "data": {
      "text/html": [
       "<div>\n",
       "<style scoped>\n",
       "    .dataframe tbody tr th:only-of-type {\n",
       "        vertical-align: middle;\n",
       "    }\n",
       "\n",
       "    .dataframe tbody tr th {\n",
       "        vertical-align: top;\n",
       "    }\n",
       "\n",
       "    .dataframe thead th {\n",
       "        text-align: right;\n",
       "    }\n",
       "</style>\n",
       "<table border=\"1\" class=\"dataframe\">\n",
       "  <thead>\n",
       "    <tr style=\"text-align: right;\">\n",
       "      <th></th>\n",
       "      <th>era</th>\n",
       "      <th>mean_runs</th>\n",
       "    </tr>\n",
       "  </thead>\n",
       "  <tbody>\n",
       "    <tr>\n",
       "      <th>0</th>\n",
       "      <td>dead ball</td>\n",
       "      <td>49.707696</td>\n",
       "    </tr>\n",
       "    <tr>\n",
       "      <th>1</th>\n",
       "      <td>after dead ball</td>\n",
       "      <td>55.289698</td>\n",
       "    </tr>\n",
       "  </tbody>\n",
       "</table>\n",
       "</div>"
      ],
      "text/plain": [
       "               era  mean_runs\n",
       "0        dead ball  49.707696\n",
       "1  after dead ball  55.289698"
      ]
     },
     "execution_count": 10,
     "metadata": {},
     "output_type": "execute_result"
    }
   ],
   "source": [
    "# Your code here\n",
    "(pitching_spark\n",
    "    .where((col('yearID') >= 1900) & (col('yearID') < 1940))\n",
    "    .withColumn('era', (when(col('yearID') < 1920, \"dead ball\")\n",
    "                        .otherwise(\"after dead ball\" )))\n",
    "    .groupby(col('era'))\n",
    "    .agg(mean(col('R')).alias('mean_runs'))\n",
    "    .collect()\n",
    ") >> to_pandas "
   ]
  },
  {
   "cell_type": "markdown",
   "metadata": {
    "id": "yTZ1sqUeVjmL"
   },
   "source": [
    "## Grouping by more than one category\n",
    "\n",
    "* `group_by` accepts multiple columns\n",
    "* Groups all combinations"
   ]
  },
  {
   "cell_type": "code",
   "execution_count": 11,
   "metadata": {
    "colab": {
     "base_uri": "https://localhost:8080/",
     "height": 204
    },
    "id": "j9ZX0bIdVjmM",
    "outputId": "310c37f6-c293-48dc-a22d-4fd1a2dc5eaf"
   },
   "outputs": [
    {
     "data": {
      "text/html": [
       "<div>\n",
       "<style scoped>\n",
       "    .dataframe tbody tr th:only-of-type {\n",
       "        vertical-align: middle;\n",
       "    }\n",
       "\n",
       "    .dataframe tbody tr th {\n",
       "        vertical-align: top;\n",
       "    }\n",
       "\n",
       "    .dataframe thead th {\n",
       "        text-align: right;\n",
       "    }\n",
       "</style>\n",
       "<table border=\"1\" class=\"dataframe\">\n",
       "  <thead>\n",
       "    <tr style=\"text-align: right;\">\n",
       "      <th></th>\n",
       "      <th>yearID</th>\n",
       "      <th>teamID</th>\n",
       "      <th>total_wins</th>\n",
       "    </tr>\n",
       "  </thead>\n",
       "  <tbody>\n",
       "    <tr>\n",
       "      <th>0</th>\n",
       "      <td>1892</td>\n",
       "      <td>BSN</td>\n",
       "      <td>102</td>\n",
       "    </tr>\n",
       "    <tr>\n",
       "      <th>1</th>\n",
       "      <td>1898</td>\n",
       "      <td>BSN</td>\n",
       "      <td>102</td>\n",
       "    </tr>\n",
       "    <tr>\n",
       "      <th>2</th>\n",
       "      <td>1902</td>\n",
       "      <td>PIT</td>\n",
       "      <td>102</td>\n",
       "    </tr>\n",
       "    <tr>\n",
       "      <th>3</th>\n",
       "      <td>1904</td>\n",
       "      <td>NY1</td>\n",
       "      <td>106</td>\n",
       "    </tr>\n",
       "    <tr>\n",
       "      <th>4</th>\n",
       "      <td>1905</td>\n",
       "      <td>NY1</td>\n",
       "      <td>105</td>\n",
       "    </tr>\n",
       "  </tbody>\n",
       "</table>\n",
       "</div>"
      ],
      "text/plain": [
       "   yearID teamID  total_wins\n",
       "0    1892    BSN         102\n",
       "1    1898    BSN         102\n",
       "2    1902    PIT         102\n",
       "3    1904    NY1         106\n",
       "4    1905    NY1         105"
      ]
     },
     "execution_count": 11,
     "metadata": {},
     "output_type": "execute_result"
    }
   ],
   "source": [
    "from pyspark.sql.functions import sum\n",
    "\n",
    "(pitching_spark\n",
    " .select(col('yearID'), col('teamID'), col('W'))\n",
    " .groupby(col('yearID'), col('teamID'))\n",
    " .agg(sum(col('W')).alias('total_wins'))\n",
    " .where(col('total_wins') >= 100)\n",
    " .sort(col('yearID').asc(), col('total_wins').desc())\n",
    " .take(5)\n",
    ") >> to_pandas"
   ]
  },
  {
   "cell_type": "markdown",
   "metadata": {
    "id": "vuVyx6M5VjmN"
   },
   "source": [
    "## <font color=\"red\"> Exercise 3 </font>\n",
    "\n",
    "The query is pretty complicated.  Let's refactor the expression to improve readability.\n",
    "\n",
    "1. Move the `when` expression out of the main query, assign it to a good name, then use the new name in the main query.\n",
    "2. Do something similar with the expression inside the `where` and `agg` clauses."
   ]
  },
  {
   "cell_type": "code",
   "execution_count": 29,
   "metadata": {
    "id": "YORj_37OVjmN"
   },
   "outputs": [
    {
     "data": {
      "text/html": [
       "<div>\n",
       "<style scoped>\n",
       "    .dataframe tbody tr th:only-of-type {\n",
       "        vertical-align: middle;\n",
       "    }\n",
       "\n",
       "    .dataframe tbody tr th {\n",
       "        vertical-align: top;\n",
       "    }\n",
       "\n",
       "    .dataframe thead th {\n",
       "        text-align: right;\n",
       "    }\n",
       "</style>\n",
       "<table border=\"1\" class=\"dataframe\">\n",
       "  <thead>\n",
       "    <tr style=\"text-align: right;\">\n",
       "      <th></th>\n",
       "      <th>era</th>\n",
       "      <th>mean_runs</th>\n",
       "    </tr>\n",
       "  </thead>\n",
       "  <tbody>\n",
       "    <tr>\n",
       "      <th>0</th>\n",
       "      <td>dead ball</td>\n",
       "      <td>49.707696</td>\n",
       "    </tr>\n",
       "    <tr>\n",
       "      <th>1</th>\n",
       "      <td>after dead ball</td>\n",
       "      <td>55.289698</td>\n",
       "    </tr>\n",
       "  </tbody>\n",
       "</table>\n",
       "</div>"
      ],
      "text/plain": [
       "               era  mean_runs\n",
       "0        dead ball  49.707696\n",
       "1  after dead ball  55.289698"
      ]
     },
     "execution_count": 29,
     "metadata": {},
     "output_type": "execute_result"
    }
   ],
   "source": [
    "# Your refactored code here\n",
    "between_1900_n_1940 = (col('yearID') >= 1900) & (col('yearID') < 1940)\n",
    "determine_dead_ball_period = when(col('yearID') < 1920, \"dead ball\") .otherwise(\"after dead ball\" )\n",
    "mean_runs = mean(col('R')).alias('mean_runs')\n",
    "\n",
    "(pitching_spark\n",
    "    .where(between_1900_n_1940)\n",
    "    .withColumn('era', determine_dead_ball_period)\n",
    "    .groupby(col('era'))\n",
    "    .agg(mean_runs)\n",
    "    .collect()\n",
    ") >> to_pandas \n"
   ]
  },
  {
   "cell_type": "markdown",
   "metadata": {
    "id": "sQ6Q8Iy2VjmO"
   },
   "source": [
    "## The last comparison might not be fair\n",
    "\n",
    "Comparison is only fair if pitchers all pitch the same number of outs/games/innings.  Let's see if there is a difference between the eras in terms of outs pitched (`IPouts`)."
   ]
  },
  {
   "cell_type": "code",
   "execution_count": 13,
   "metadata": {
    "colab": {
     "base_uri": "https://localhost:8080/"
    },
    "id": "ucwWqD8BWSUv",
    "outputId": "e4768d9f-2acc-4a3d-e467-da3860ebe19a"
   },
   "outputs": [
    {
     "name": "stdout",
     "output_type": "stream",
     "text": [
      "Requirement already satisfied: dfply in /home/wavessurfer/.pyenv/versions/anaconda3-2022.05/lib/python3.9/site-packages (0.3.3)\n",
      "Requirement already satisfied: numpy in /home/wavessurfer/.pyenv/versions/anaconda3-2022.05/lib/python3.9/site-packages (from dfply) (1.21.5)\n",
      "Requirement already satisfied: pandas in /home/wavessurfer/.pyenv/versions/anaconda3-2022.05/lib/python3.9/site-packages (from dfply) (1.4.2)\n",
      "Requirement already satisfied: python-dateutil>=2.8.1 in /home/wavessurfer/.pyenv/versions/anaconda3-2022.05/lib/python3.9/site-packages (from pandas->dfply) (2.8.2)\n",
      "Requirement already satisfied: pytz>=2020.1 in /home/wavessurfer/.pyenv/versions/anaconda3-2022.05/lib/python3.9/site-packages (from pandas->dfply) (2021.3)\n",
      "Requirement already satisfied: six>=1.5 in /home/wavessurfer/.pyenv/versions/anaconda3-2022.05/lib/python3.9/site-packages (from python-dateutil>=2.8.1->pandas->dfply) (1.16.0)\n"
     ]
    }
   ],
   "source": [
    "!pip install dfply"
   ]
  },
  {
   "cell_type": "code",
   "execution_count": 14,
   "metadata": {
    "colab": {
     "base_uri": "https://localhost:8080/"
    },
    "id": "9OUssti_WYpL",
    "outputId": "ac19529b-8273-4a3d-d1b1-d3ee5722fe14"
   },
   "outputs": [
    {
     "name": "stdout",
     "output_type": "stream",
     "text": [
      "Requirement already satisfied: more_dfply in /home/wavessurfer/.pyenv/versions/anaconda3-2022.05/lib/python3.9/site-packages (0.2.10)\n",
      "Requirement already satisfied: dfply<0.4.0,>=0.3.3 in /home/wavessurfer/.pyenv/versions/anaconda3-2022.05/lib/python3.9/site-packages (from more_dfply) (0.3.3)\n",
      "Requirement already satisfied: composable<0.3.0,>=0.2.5 in /home/wavessurfer/.pyenv/versions/anaconda3-2022.05/lib/python3.9/site-packages (from more_dfply) (0.2.5)\n",
      "Requirement already satisfied: python-forge<19.0,>=18.6 in /home/wavessurfer/.pyenv/versions/anaconda3-2022.05/lib/python3.9/site-packages (from composable<0.3.0,>=0.2.5->more_dfply) (18.6.0)\n",
      "Requirement already satisfied: toolz<0.12.0,>=0.11.1 in /home/wavessurfer/.pyenv/versions/anaconda3-2022.05/lib/python3.9/site-packages (from composable<0.3.0,>=0.2.5->more_dfply) (0.11.2)\n",
      "Requirement already satisfied: pandas in /home/wavessurfer/.pyenv/versions/anaconda3-2022.05/lib/python3.9/site-packages (from dfply<0.4.0,>=0.3.3->more_dfply) (1.4.2)\n",
      "Requirement already satisfied: numpy in /home/wavessurfer/.pyenv/versions/anaconda3-2022.05/lib/python3.9/site-packages (from dfply<0.4.0,>=0.3.3->more_dfply) (1.21.5)\n",
      "Requirement already satisfied: python-dateutil>=2.8.1 in /home/wavessurfer/.pyenv/versions/anaconda3-2022.05/lib/python3.9/site-packages (from pandas->dfply<0.4.0,>=0.3.3->more_dfply) (2.8.2)\n",
      "Requirement already satisfied: pytz>=2020.1 in /home/wavessurfer/.pyenv/versions/anaconda3-2022.05/lib/python3.9/site-packages (from pandas->dfply<0.4.0,>=0.3.3->more_dfply) (2021.3)\n",
      "Requirement already satisfied: six>=1.5 in /home/wavessurfer/.pyenv/versions/anaconda3-2022.05/lib/python3.9/site-packages (from python-dateutil>=2.8.1->pandas->dfply<0.4.0,>=0.3.3->more_dfply) (1.16.0)\n"
     ]
    }
   ],
   "source": [
    "!pip install more_dfply"
   ]
  },
  {
   "cell_type": "markdown",
   "metadata": {
    "id": "xq64xLWGVjmO"
   },
   "source": [
    "## <font color=\"red\"> Exercise 4 </font>\n",
    "\n",
    "Below you will find the `pandas + dfply` solution that makes a more fair comparison.  Convert this piped expression to a `pyspark.sql` dot-chained expression.  Note that you will need to\n",
    "\n",
    "1. Convert intentions to column expressions\n",
    "2. Switch the `>>` to `.`\n",
    "3. Switch the `dfply` function to the corresponding `pyspark.sql` method (e.g., `mutate` ==> `withColumn`)"
   ]
  },
  {
   "cell_type": "code",
   "execution_count": 30,
   "metadata": {
    "colab": {
     "base_uri": "https://localhost:8080/",
     "height": 111
    },
    "id": "xWruocdbVjmP",
    "outputId": "0ed64274-f031-4781-900c-7f2ff28a049e"
   },
   "outputs": [
    {
     "data": {
      "text/html": [
       "<div>\n",
       "<style scoped>\n",
       "    .dataframe tbody tr th:only-of-type {\n",
       "        vertical-align: middle;\n",
       "    }\n",
       "\n",
       "    .dataframe tbody tr th {\n",
       "        vertical-align: top;\n",
       "    }\n",
       "\n",
       "    .dataframe thead th {\n",
       "        text-align: right;\n",
       "    }\n",
       "</style>\n",
       "<table border=\"1\" class=\"dataframe\">\n",
       "  <thead>\n",
       "    <tr style=\"text-align: right;\">\n",
       "      <th></th>\n",
       "      <th>era</th>\n",
       "      <th>mean_runs_per_out</th>\n",
       "    </tr>\n",
       "  </thead>\n",
       "  <tbody>\n",
       "    <tr>\n",
       "      <th>0</th>\n",
       "      <td>after dead ball</td>\n",
       "      <td>0.182218</td>\n",
       "    </tr>\n",
       "    <tr>\n",
       "      <th>1</th>\n",
       "      <td>dead ball</td>\n",
       "      <td>0.149920</td>\n",
       "    </tr>\n",
       "  </tbody>\n",
       "</table>\n",
       "</div>"
      ],
      "text/plain": [
       "               era  mean_runs_per_out\n",
       "0  after dead ball           0.182218\n",
       "1        dead ball           0.149920"
      ]
     },
     "execution_count": 30,
     "metadata": {},
     "output_type": "execute_result"
    }
   ],
   "source": [
    "#Pandas code\n",
    "import pandas as pd\n",
    "from dfply import *\n",
    "from more_dfply import ifelse\n",
    "\n",
    "pitching = pd.read_csv('./data/baseball/core/Pitching.csv')\n",
    "mean_runs_per_out = (pitching\n",
    "                     >> select(X.IPouts, X.yearID, X.R)\n",
    "                     >> filter_by((X.yearID >= 1900) & (X.yearID < 1940))\n",
    "                     >> group_by(X.yearID)\n",
    "                     >> summarise(total_runs = X.R.sum(),\n",
    "                                  total_ipouts = X.IPouts.sum())\n",
    "                     >> ungroup\n",
    "                     >> mutate(runs_per_out = X.total_runs/X.total_ipouts,\n",
    "                               era = ifelse(X.yearID < 1920, \n",
    "                                            \"dead ball\", \n",
    "                                            \"after dead ball\"))\n",
    "                     >> group_by(X.era)\n",
    "                     >> summarise(mean_runs_per_out = mean(X.runs_per_out))\n",
    "                    )\n",
    "mean_runs_per_out"
   ]
  },
  {
   "cell_type": "code",
   "execution_count": null,
   "metadata": {},
   "outputs": [],
   "source": [
    "\n",
    "mean_runs_per_out_pyspark = (pitching_spark\n",
    "                             .select(\"IPouts\", \"yearID\",\"R\")\n",
    "                             .where((col('yearID') >= 1900) & (col('yearID') <= 1940))\n",
    "                             .groupby(col('yearID'))\n",
    "                             .agg((sum(col('R')).alias('total_runs')),\n",
    "                                  (sum(col('IPouts')).alias('total_ipouts'))\n",
    "                                 )\n",
    "#                              >> ungroup\n",
    "#                              >> mutate(runs_per_out = X.total_runs/X.total_ipouts,\n",
    "#                                        era = ifelse(X.yearID < 1920, \n",
    "#                                                     \"dead ball\", \n",
    "#                                                     \"after dead ball\"))\n",
    "#                              >> group_by(X.era)\n",
    "#                              >> summarise(mean_runs_per_out = mean(X.runs_per_out))\n",
    "                             .collect()\n",
    "                            )\n",
    "mean_runs_per_out_pyspark >> to_pandas "
   ]
  },
  {
   "cell_type": "code",
   "execution_count": 37,
   "metadata": {
    "id": "r5p5-JpAVjmP",
    "outputId": "bc150f5d-ea60-4207-9bdb-f76da92141a8"
   },
   "outputs": [
    {
     "data": {
      "text/plain": [
       "<AxesSubplot:xlabel='era', ylabel='mean_runs_per_out'>"
      ]
     },
     "execution_count": 37,
     "metadata": {},
     "output_type": "execute_result"
    },
    {
     "data": {
      "image/png": "[encoded data removed]",
      "text/plain": [
       "<Figure size 432x288 with 1 Axes>"
      ]
     },
     "metadata": {
      "needs_background": "light"
     },
     "output_type": "display_data"
    }
   ],
   "source": [
    "sns.barplot(x = \"era\", y=\"mean_runs_per_out\", data=mean_runs_per_out)"
   ]
  },
  {
   "cell_type": "code",
   "execution_count": 38,
   "metadata": {},
   "outputs": [
    {
     "data": {
      "text/plain": [
       "['__class__',\n",
       " '__delattr__',\n",
       " '__dict__',\n",
       " '__dir__',\n",
       " '__doc__',\n",
       " '__eq__',\n",
       " '__format__',\n",
       " '__ge__',\n",
       " '__getattr__',\n",
       " '__getattribute__',\n",
       " '__getitem__',\n",
       " '__gt__',\n",
       " '__hash__',\n",
       " '__init__',\n",
       " '__init_subclass__',\n",
       " '__le__',\n",
       " '__lt__',\n",
       " '__module__',\n",
       " '__ne__',\n",
       " '__new__',\n",
       " '__reduce__',\n",
       " '__reduce_ex__',\n",
       " '__repr__',\n",
       " '__setattr__',\n",
       " '__sizeof__',\n",
       " '__str__',\n",
       " '__subclasshook__',\n",
       " '__weakref__',\n",
       " '_collect_as_arrow',\n",
       " '_jcols',\n",
       " '_jdf',\n",
       " '_jmap',\n",
       " '_joinAsOf',\n",
       " '_jseq',\n",
       " '_lazy_rdd',\n",
       " '_repr_html_',\n",
       " '_sc',\n",
       " '_schema',\n",
       " '_session',\n",
       " '_sort_cols',\n",
       " '_sql_ctx',\n",
       " '_support_repr_html',\n",
       " '_to_corrected_pandas_type',\n",
       " 'agg',\n",
       " 'alias',\n",
       " 'approxQuantile',\n",
       " 'cache',\n",
       " 'checkpoint',\n",
       " 'coalesce',\n",
       " 'colRegex',\n",
       " 'collect',\n",
       " 'columns',\n",
       " 'corr',\n",
       " 'count',\n",
       " 'cov',\n",
       " 'createGlobalTempView',\n",
       " 'createOrReplaceGlobalTempView',\n",
       " 'createOrReplaceTempView',\n",
       " 'createTempView',\n",
       " 'crossJoin',\n",
       " 'crosstab',\n",
       " 'cube',\n",
       " 'describe',\n",
       " 'distinct',\n",
       " 'drop',\n",
       " 'dropDuplicates',\n",
       " 'drop_duplicates',\n",
       " 'dropna',\n",
       " 'dtypes',\n",
       " 'exceptAll',\n",
       " 'explain',\n",
       " 'fillna',\n",
       " 'filter',\n",
       " 'first',\n",
       " 'foreach',\n",
       " 'foreachPartition',\n",
       " 'freqItems',\n",
       " 'groupBy',\n",
       " 'groupby',\n",
       " 'head',\n",
       " 'hint',\n",
       " 'inputFiles',\n",
       " 'intersect',\n",
       " 'intersectAll',\n",
       " 'isEmpty',\n",
       " 'isLocal',\n",
       " 'isStreaming',\n",
       " 'is_cached',\n",
       " 'join',\n",
       " 'limit',\n",
       " 'localCheckpoint',\n",
       " 'mapInArrow',\n",
       " 'mapInPandas',\n",
       " 'na',\n",
       " 'observe',\n",
       " 'orderBy',\n",
       " 'pandas_api',\n",
       " 'persist',\n",
       " 'printSchema',\n",
       " 'randomSplit',\n",
       " 'rdd',\n",
       " 'registerTempTable',\n",
       " 'repartition',\n",
       " 'repartitionByRange',\n",
       " 'replace',\n",
       " 'rollup',\n",
       " 'sameSemantics',\n",
       " 'sample',\n",
       " 'sampleBy',\n",
       " 'schema',\n",
       " 'select',\n",
       " 'selectExpr',\n",
       " 'semanticHash',\n",
       " 'show',\n",
       " 'sort',\n",
       " 'sortWithinPartitions',\n",
       " 'sparkSession',\n",
       " 'sql_ctx',\n",
       " 'stat',\n",
       " 'storageLevel',\n",
       " 'subtract',\n",
       " 'summary',\n",
       " 'tail',\n",
       " 'take',\n",
       " 'toDF',\n",
       " 'toJSON',\n",
       " 'toLocalIterator',\n",
       " 'toPandas',\n",
       " 'to_koalas',\n",
       " 'to_pandas_on_spark',\n",
       " 'transform',\n",
       " 'union',\n",
       " 'unionAll',\n",
       " 'unionByName',\n",
       " 'unpersist',\n",
       " 'where',\n",
       " 'withColumn',\n",
       " 'withColumnRenamed',\n",
       " 'withColumns',\n",
       " 'withMetadata',\n",
       " 'withWatermark',\n",
       " 'write',\n",
       " 'writeStream',\n",
       " 'writeTo']"
      ]
     },
     "execution_count": 38,
     "metadata": {},
     "output_type": "execute_result"
    }
   ],
   "source": [
    "dir(pitching_spark)"
   ]
  },
  {
   "cell_type": "code",
   "execution_count": null,
   "metadata": {},
   "outputs": [],
   "source": []
  }
 ],
 "metadata": {
  "celltoolbar": "Slideshow",
  "colab": {
   "provenance": []
  },
  "kernelspec": {
   "display_name": "Python 3 (ipykernel)",
   "language": "python",
   "name": "python3"
  },
  "language_info": {
   "codemirror_mode": {
    "name": "ipython",
    "version": 3
   },
   "file_extension": ".py",
   "mimetype": "text/x-python",
   "name": "python",
   "nbconvert_exporter": "python",
   "pygments_lexer": "ipython3",
   "version": "3.9.12"
  },
  "varInspector": {
   "cols": {
    "lenName": 16,
    "lenType": 16,
    "lenVar": 40
   },
   "kernels_config": {
    "python": {
     "delete_cmd_postfix": "",
     "delete_cmd_prefix": "del ",
     "library": "var_list.py",
     "varRefreshCmd": "print(var_dic_list())"
    },
    "r": {
     "delete_cmd_postfix": ") ",
     "delete_cmd_prefix": "rm(",
     "library": "var_list.r",
     "varRefreshCmd": "cat(var_dic_list()) "
    }
   },
   "types_to_exclude": [
    "module",
    "function",
    "builtin_function_or_method",
    "instance",
    "_Feature"
   ],
   "window_display": false
  },
  "vscode": {
   "interpreter": {
    "hash": "5ce7a541852eef2eb90254a9e9bce4bf4b1848adf2c8b30b413c73d00698b47f"
   }
  }
 },
 "nbformat": 4,
 "nbformat_minor": 1
}
