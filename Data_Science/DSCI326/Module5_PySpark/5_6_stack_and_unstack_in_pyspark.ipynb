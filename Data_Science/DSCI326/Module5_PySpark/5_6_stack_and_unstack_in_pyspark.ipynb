{
 "cells": [
  {
   "cell_type": "markdown",
   "metadata": {
    "id": "-5mulkzTZdpe"
   },
   "source": [
    "#### Setting up Colab\n",
    "\n",
    "To run this notebook on [Google's Colab](https://colab.research.google.com), you will need to perform the following steps."
   ]
  },
  {
   "cell_type": "markdown",
   "metadata": {
    "id": "YvyckdapZeTs"
   },
   "source": []
  },
  {
   "cell_type": "code",
   "execution_count": 1,
   "metadata": {
    "colab": {
     "base_uri": "https://localhost:8080/"
    },
    "id": "foAZNkYBZfNO",
    "outputId": "4886bcf7-abd3-42be-a0c3-18adbdd26d55"
   },
   "outputs": [
    {
     "name": "stdout",
     "output_type": "stream",
     "text": [
      "Looking in indexes: https://pypi.org/simple, https://us-python.pkg.dev/colab-wheels/public/simple/\n",
      "Collecting pyspark\n",
      "  Downloading pyspark-3.3.0.tar.gz (281.3 MB)\n",
      "\u001b[K     |████████████████████████████████| 281.3 MB 46 kB/s \n",
      "\u001b[?25hCollecting py4j==0.10.9.5\n",
      "  Downloading py4j-0.10.9.5-py2.py3-none-any.whl (199 kB)\n",
      "\u001b[K     |████████████████████████████████| 199 kB 56.2 MB/s \n",
      "\u001b[?25hBuilding wheels for collected packages: pyspark\n",
      "  Building wheel for pyspark (setup.py) ... \u001b[?25l\u001b[?25hdone\n",
      "  Created wheel for pyspark: filename=pyspark-3.3.0-py2.py3-none-any.whl size=281764026 sha256=ed7f1d62fb5d9683302bb143680b45a7a60eb6bc24f8813c1cfcf6975cc73d4d\n",
      "  Stored in directory: /root/.cache/pip/wheels/7a/8e/1b/f73a52650d2e5f337708d9f6a1750d451a7349a867f928b885\n",
      "Successfully built pyspark\n",
      "Installing collected packages: py4j, pyspark\n",
      "Successfully installed py4j-0.10.9.5 pyspark-3.3.0\n"
     ]
    }
   ],
   "source": [
    "!pip install pyspark"
   ]
  },
  {
   "cell_type": "code",
   "execution_count": 2,
   "metadata": {
    "colab": {
     "base_uri": "https://localhost:8080/"
    },
    "id": "IMweaut0Ze3p",
    "outputId": "a7f00eb3-74be-4691-b04f-cf37b217f266"
   },
   "outputs": [
    {
     "name": "stdout",
     "output_type": "stream",
     "text": [
      "Looking in indexes: https://pypi.org/simple, https://us-python.pkg.dev/colab-wheels/public/simple/\n",
      "Collecting composable\n",
      "  Downloading composable-0.2.5-py3-none-any.whl (7.3 kB)\n",
      "Collecting toolz<0.12.0,>=0.11.1\n",
      "  Downloading toolz-0.11.2-py3-none-any.whl (55 kB)\n",
      "\u001b[K     |████████████████████████████████| 55 kB 3.1 MB/s \n",
      "\u001b[?25hCollecting python-forge<19.0,>=18.6\n",
      "  Downloading python_forge-18.6.0-py35-none-any.whl (31 kB)\n",
      "Installing collected packages: toolz, python-forge, composable\n",
      "  Attempting uninstall: toolz\n",
      "    Found existing installation: toolz 0.12.0\n",
      "    Uninstalling toolz-0.12.0:\n",
      "      Successfully uninstalled toolz-0.12.0\n",
      "Successfully installed composable-0.2.5 python-forge-18.6.0 toolz-0.11.2\n"
     ]
    }
   ],
   "source": [
    "!pip install composable"
   ]
  },
  {
   "cell_type": "markdown",
   "metadata": {
    "id": "mLbrTIEYZfoA"
   },
   "source": [
    "Step 2. Download and unzip the data\n",
    "\n",
    "Next, the easiest way to access the data from the module is to download and unzip."
   ]
  },
  {
   "cell_type": "code",
   "execution_count": 3,
   "metadata": {
    "colab": {
     "base_uri": "https://localhost:8080/"
    },
    "id": "39ly83uzZg6z",
    "outputId": "11f0ffbe-f67a-4cef-9254-6509ed4e2fc3"
   },
   "outputs": [
    {
     "name": "stdout",
     "output_type": "stream",
     "text": [
      "--2022-10-11 14:16:35--  https://github.com/wsu-stat489/module5_intro_to_pyspark/raw/main/data.zip\n",
      "Resolving github.com (github.com)... 192.30.255.112\n",
      "Connecting to github.com (github.com)|192.30.255.112|:443... connected.\n",
      "HTTP request sent, awaiting response... 302 Found\n",
      "Location: https://raw.githubusercontent.com/wsu-stat489/module5_intro_to_pyspark/main/data.zip [following]\n",
      "--2022-10-11 14:16:36--  https://raw.githubusercontent.com/wsu-stat489/module5_intro_to_pyspark/main/data.zip\n",
      "Resolving raw.githubusercontent.com (raw.githubusercontent.com)... 185.199.108.133, 185.199.110.133, 185.199.111.133, ...\n",
      "Connecting to raw.githubusercontent.com (raw.githubusercontent.com)|185.199.108.133|:443... connected.\n",
      "HTTP request sent, awaiting response... 200 OK\n",
      "Length: 14959102 (14M) [application/zip]\n",
      "Saving to: ‘data.zip’\n",
      "\n",
      "data.zip            100%[===================>]  14.27M  --.-KB/s    in 0.1s    \n",
      "\n",
      "2022-10-11 14:16:37 (146 MB/s) - ‘data.zip’ saved [14959102/14959102]\n",
      "\n"
     ]
    }
   ],
   "source": [
    "!wget https://github.com/wsu-stat489/module5_intro_to_pyspark/raw/main/data.zip"
   ]
  },
  {
   "cell_type": "code",
   "execution_count": 4,
   "metadata": {
    "colab": {
     "base_uri": "https://localhost:8080/"
    },
    "id": "zc9mAtUqZgvc",
    "outputId": "7ef32830-9b47-48a3-b28e-0694c1aa128c"
   },
   "outputs": [
    {
     "name": "stdout",
     "output_type": "stream",
     "text": [
      "Archive:  data.zip\n",
      "   creating: data/\n",
      "  inflating: __MACOSX/._data         \n",
      "  inflating: data/Rochester_temps_2019.xlsx  \n",
      "  inflating: __MACOSX/data/._Rochester_temps_2019.xlsx  \n",
      "  inflating: data/uber-raw-data-jun14-sample.csv  \n",
      "  inflating: __MACOSX/data/._uber-raw-data-jun14-sample.csv  \n",
      "  inflating: data/heroes_information.csv  \n",
      "  inflating: __MACOSX/data/._heroes_information.csv  \n",
      "  inflating: data/employee.csv       \n",
      "  inflating: __MACOSX/data/._employee.csv  \n",
      "  inflating: data/uber-raw-data-apr14-sample.csv  \n",
      "  inflating: __MACOSX/data/._uber-raw-data-apr14-sample.csv  \n",
      "   creating: data/baseball/\n",
      "  inflating: __MACOSX/data/._baseball  \n",
      "  inflating: data/uber-raw-data-may14-sample.csv  \n",
      "  inflating: __MACOSX/data/._uber-raw-data-may14-sample.csv  \n",
      "  inflating: data/auto_sales_apr.csv  \n",
      "  inflating: __MACOSX/data/._auto_sales_apr.csv  \n",
      "  inflating: data/uber-raw-data-sep14-sample.csv  \n",
      "  inflating: __MACOSX/data/._uber-raw-data-sep14-sample.csv  \n",
      "  inflating: data/department.csv     \n",
      "  inflating: __MACOSX/data/._department.csv  \n",
      "  inflating: data/PEW_income_religion.csv  \n",
      "  inflating: __MACOSX/data/._PEW_income_religion.csv  \n",
      "  inflating: data/health_survey.csv  \n",
      "  inflating: __MACOSX/data/._health_survey.csv  \n",
      "  inflating: data/TB_bad.csv         \n",
      "  inflating: __MACOSX/data/._TB_bad.csv  \n",
      "  inflating: data/uber-raw-data-aug14-sample.csv  \n",
      "  inflating: __MACOSX/data/._uber-raw-data-aug14-sample.csv  \n",
      "  inflating: data/uber-raw-data-jul14-sample.csv  \n",
      "  inflating: __MACOSX/data/._uber-raw-data-jul14-sample.csv  \n",
      "  inflating: data/auto_sales_may.csv  \n",
      "  inflating: __MACOSX/data/._auto_sales_may.csv  \n",
      "  inflating: data/auto_sales.csv     \n",
      "  inflating: __MACOSX/data/._auto_sales.csv  \n",
      "  inflating: data/Rochester_temps_2019.csv  \n",
      "  inflating: __MACOSX/data/._Rochester_temps_2019.csv  \n",
      "   creating: data/baseball/core/\n",
      "  inflating: __MACOSX/data/baseball/._core  \n",
      "  inflating: data/baseball/README.txt  \n",
      "  inflating: __MACOSX/data/baseball/._README.txt  \n",
      "   creating: data/baseball/upstream/\n",
      "  inflating: __MACOSX/data/baseball/._upstream  \n",
      "  inflating: data/baseball/core/AwardsManagers.csv  \n",
      "  inflating: __MACOSX/data/baseball/core/._AwardsManagers.csv  \n",
      "  inflating: data/baseball/core/Managers.csv  \n",
      "  inflating: __MACOSX/data/baseball/core/._Managers.csv  \n",
      "  inflating: data/baseball/core/AwardsPlayers.csv  \n",
      "  inflating: __MACOSX/data/baseball/core/._AwardsPlayers.csv  \n",
      "  inflating: data/baseball/core/Fielding.csv  \n",
      "  inflating: __MACOSX/data/baseball/core/._Fielding.csv  \n",
      "  inflating: data/baseball/core/Salaries.csv  \n",
      "  inflating: __MACOSX/data/baseball/core/._Salaries.csv  \n",
      "  inflating: data/baseball/core/Parks.csv  \n",
      "  inflating: __MACOSX/data/baseball/core/._Parks.csv  \n",
      "  inflating: data/baseball/core/Schools.csv  \n",
      "  inflating: __MACOSX/data/baseball/core/._Schools.csv  \n",
      "  inflating: data/baseball/core/People.csv  \n",
      "  inflating: __MACOSX/data/baseball/core/._People.csv  \n",
      "  inflating: data/baseball/core/PitchingPost.csv  \n",
      "  inflating: __MACOSX/data/baseball/core/._PitchingPost.csv  \n",
      "  inflating: data/baseball/core/Teams.csv  \n",
      "  inflating: __MACOSX/data/baseball/core/._Teams.csv  \n",
      "  inflating: data/baseball/core/Appearances.csv  \n",
      "  inflating: __MACOSX/data/baseball/core/._Appearances.csv  \n",
      "  inflating: data/baseball/core/AwardsSharePlayers.csv  \n",
      "  inflating: __MACOSX/data/baseball/core/._AwardsSharePlayers.csv  \n",
      "  inflating: data/baseball/core/TeamsFranchises.csv  \n",
      "  inflating: __MACOSX/data/baseball/core/._TeamsFranchises.csv  \n",
      "  inflating: data/baseball/core/Batting.csv  \n",
      "  inflating: __MACOSX/data/baseball/core/._Batting.csv  \n",
      "  inflating: data/baseball/core/ManagersHalf.csv  \n",
      "  inflating: __MACOSX/data/baseball/core/._ManagersHalf.csv  \n",
      "  inflating: data/baseball/core/FieldingOF.csv  \n",
      "  inflating: __MACOSX/data/baseball/core/._FieldingOF.csv  \n",
      "  inflating: data/baseball/core/Pitching.csv  \n",
      "  inflating: __MACOSX/data/baseball/core/._Pitching.csv  \n",
      "  inflating: data/baseball/core/CollegePlaying.csv  \n",
      "  inflating: __MACOSX/data/baseball/core/._CollegePlaying.csv  \n",
      "  inflating: data/baseball/core/HomeGames.csv  \n",
      "  inflating: __MACOSX/data/baseball/core/._HomeGames.csv  \n",
      "  inflating: data/baseball/core/HallOfFame.csv  \n",
      "  inflating: __MACOSX/data/baseball/core/._HallOfFame.csv  \n",
      "  inflating: data/baseball/core/readme2014.txt  \n",
      "  inflating: __MACOSX/data/baseball/core/._readme2014.txt  \n",
      "  inflating: data/baseball/core/AwardsShareManagers.csv  \n",
      "  inflating: __MACOSX/data/baseball/core/._AwardsShareManagers.csv  \n",
      "  inflating: data/baseball/core/BattingPost.csv  \n",
      "  inflating: __MACOSX/data/baseball/core/._BattingPost.csv  \n",
      "  inflating: data/baseball/core/TeamsHalf.csv  \n",
      "  inflating: __MACOSX/data/baseball/core/._TeamsHalf.csv  \n",
      "  inflating: data/baseball/core/SeriesPost.csv  \n",
      "  inflating: __MACOSX/data/baseball/core/._SeriesPost.csv  \n",
      "  inflating: data/baseball/core/FieldingPost.csv  \n",
      "  inflating: __MACOSX/data/baseball/core/._FieldingPost.csv  \n",
      "  inflating: data/baseball/core/AllstarFull.csv  \n",
      "  inflating: __MACOSX/data/baseball/core/._AllstarFull.csv  \n",
      "  inflating: data/baseball/core/FieldingOFsplit.csv  \n",
      "  inflating: __MACOSX/data/baseball/core/._FieldingOFsplit.csv  \n",
      "  inflating: data/baseball/upstream/Teams.csv  \n",
      "  inflating: __MACOSX/data/baseball/upstream/._Teams.csv  \n"
     ]
    }
   ],
   "source": [
    "!unzip data.zip"
   ]
  },
  {
   "cell_type": "code",
   "execution_count": 5,
   "metadata": {
    "colab": {
     "base_uri": "https://localhost:8080/"
    },
    "id": "6tofg4ydZgbj",
    "outputId": "bbd1abf9-7e29-4944-8729-f53fbb6c64e5"
   },
   "outputs": [
    {
     "name": "stdout",
     "output_type": "stream",
     "text": [
      "--2022-10-11 14:16:37--  https://github.com/wsu-stat489/module5_intro_to_pyspark/raw/main/more_pyspark.py\n",
      "Resolving github.com (github.com)... 192.30.255.112\n",
      "Connecting to github.com (github.com)|192.30.255.112|:443... connected.\n",
      "HTTP request sent, awaiting response... 302 Found\n",
      "Location: https://raw.githubusercontent.com/wsu-stat489/module5_intro_to_pyspark/main/more_pyspark.py [following]\n",
      "--2022-10-11 14:16:38--  https://raw.githubusercontent.com/wsu-stat489/module5_intro_to_pyspark/main/more_pyspark.py\n",
      "Resolving raw.githubusercontent.com (raw.githubusercontent.com)... 185.199.108.133, 185.199.109.133, 185.199.110.133, ...\n",
      "Connecting to raw.githubusercontent.com (raw.githubusercontent.com)|185.199.108.133|:443... connected.\n",
      "HTTP request sent, awaiting response... 200 OK\n",
      "Length: 2786 (2.7K) [text/plain]\n",
      "Saving to: ‘more_pyspark.py’\n",
      "\n",
      "more_pyspark.py     100%[===================>]   2.72K  --.-KB/s    in 0s      \n",
      "\n",
      "2022-10-11 14:16:38 (44.3 MB/s) - ‘more_pyspark.py’ saved [2786/2786]\n",
      "\n"
     ]
    }
   ],
   "source": [
    "!wget https://github.com/wsu-stat489/module5_intro_to_pyspark/raw/main/more_pyspark.py"
   ]
  },
  {
   "cell_type": "markdown",
   "metadata": {
    "id": "3uyYuqyfZb2N"
   },
   "source": [
    "# Stacking and Unstacking data in `pyspark`"
   ]
  },
  {
   "cell_type": "markdown",
   "metadata": {
    "id": "_YA51_amZb2S"
   },
   "source": [
    "## Welcome back to developer's corner\n",
    "\n",
    "While `pyspark` doesn't provide explicit methods for these two actions, we will be able to accomplish each operation using a combination of methods.  In this lecture, we will \n",
    "\n",
    "1. Build up expressions for stacking and unstacking a `pyspark df` \n",
    "2. Create helper functions for each operation to automate these processes."
   ]
  },
  {
   "cell_type": "markdown",
   "metadata": {
    "id": "Bn2xcFdGZb2T"
   },
   "source": [
    "#### `pyspark` setup"
   ]
  },
  {
   "cell_type": "code",
   "execution_count": 1,
   "metadata": {
    "id": "1ttvuk-9Zb2U"
   },
   "outputs": [
    {
     "name": "stdout",
     "output_type": "stream",
     "text": [
      "22/10/27 22:55:42 WARN Utils: Your hostname, nn1448lr222 resolves to a loopback address: 127.0.1.1; using 172.17.25.238 instead (on interface eth0)\n",
      "22/10/27 22:55:42 WARN Utils: Set SPARK_LOCAL_IP if you need to bind to another address\n"
     ]
    },
    {
     "name": "stderr",
     "output_type": "stream",
     "text": [
      "Setting default log level to \"WARN\".\n",
      "To adjust logging level use sc.setLogLevel(newLevel). For SparkR, use setLogLevel(newLevel).\n"
     ]
    },
    {
     "name": "stdout",
     "output_type": "stream",
     "text": [
      "22/10/27 22:55:44 WARN NativeCodeLoader: Unable to load native-hadoop library for your platform... using builtin-java classes where applicable\n",
      "22/10/27 22:55:45 WARN Utils: Service 'SparkUI' could not bind on port 4040. Attempting port 4041.\n",
      "22/10/27 22:55:45 WARN Utils: Service 'SparkUI' could not bind on port 4041. Attempting port 4042.\n",
      "22/10/27 22:55:45 WARN Utils: Service 'SparkUI' could not bind on port 4042. Attempting port 4043.\n",
      "22/10/27 22:55:45 WARN Utils: Service 'SparkUI' could not bind on port 4043. Attempting port 4044.\n",
      "22/10/27 22:55:45 WARN Utils: Service 'SparkUI' could not bind on port 4044. Attempting port 4045.\n",
      "22/10/27 22:55:45 WARN Utils: Service 'SparkUI' could not bind on port 4045. Attempting port 4046.\n",
      "22/10/27 22:55:45 WARN Utils: Service 'SparkUI' could not bind on port 4046. Attempting port 4047.\n",
      "22/10/27 22:55:45 WARN Utils: Service 'SparkUI' could not bind on port 4047. Attempting port 4048.\n"
     ]
    }
   ],
   "source": [
    "from pyspark.sql import SparkSession\n",
    "spark = SparkSession.builder.appName('Ops').config('spark.driver.host', 'localhost').getOrCreate()"
   ]
  },
  {
   "cell_type": "code",
   "execution_count": 2,
   "metadata": {
    "colab": {
     "base_uri": "https://localhost:8080/",
     "height": 204
    },
    "id": "hEwmhy9LZb2X",
    "outputId": "bc231988-c849-45e4-81de-5fbaa6526c08"
   },
   "outputs": [
    {
     "name": "stderr",
     "output_type": "stream",
     "text": [
      "\r",
      "[Stage 0:>                                                          (0 + 1) / 1]\r",
      "\r",
      "                                                                                \r"
     ]
    },
    {
     "data": {
      "text/html": [
       "<div>\n",
       "<style scoped>\n",
       "    .dataframe tbody tr th:only-of-type {\n",
       "        vertical-align: middle;\n",
       "    }\n",
       "\n",
       "    .dataframe tbody tr th {\n",
       "        vertical-align: top;\n",
       "    }\n",
       "\n",
       "    .dataframe thead th {\n",
       "        text-align: right;\n",
       "    }\n",
       "</style>\n",
       "<table border=\"1\" class=\"dataframe\">\n",
       "  <thead>\n",
       "    <tr style=\"text-align: right;\">\n",
       "      <th></th>\n",
       "      <th>Salesperson</th>\n",
       "      <th>Compact</th>\n",
       "      <th>Sedan</th>\n",
       "      <th>SUV</th>\n",
       "      <th>Truck</th>\n",
       "    </tr>\n",
       "  </thead>\n",
       "  <tbody>\n",
       "    <tr>\n",
       "      <th>0</th>\n",
       "      <td>Ann</td>\n",
       "      <td>22</td>\n",
       "      <td>18</td>\n",
       "      <td>15.0</td>\n",
       "      <td>12</td>\n",
       "    </tr>\n",
       "    <tr>\n",
       "      <th>1</th>\n",
       "      <td>Bob</td>\n",
       "      <td>19</td>\n",
       "      <td>12</td>\n",
       "      <td>17.0</td>\n",
       "      <td>20</td>\n",
       "    </tr>\n",
       "    <tr>\n",
       "      <th>2</th>\n",
       "      <td>Doug</td>\n",
       "      <td>20</td>\n",
       "      <td>13</td>\n",
       "      <td>NaN</td>\n",
       "      <td>20</td>\n",
       "    </tr>\n",
       "    <tr>\n",
       "      <th>3</th>\n",
       "      <td>Yolanda</td>\n",
       "      <td>19</td>\n",
       "      <td>8</td>\n",
       "      <td>32.0</td>\n",
       "      <td>15</td>\n",
       "    </tr>\n",
       "    <tr>\n",
       "      <th>4</th>\n",
       "      <td>Xerxes</td>\n",
       "      <td>12</td>\n",
       "      <td>23</td>\n",
       "      <td>18.0</td>\n",
       "      <td>9</td>\n",
       "    </tr>\n",
       "  </tbody>\n",
       "</table>\n",
       "</div>"
      ],
      "text/plain": [
       "  Salesperson  Compact  Sedan   SUV  Truck\n",
       "0         Ann       22     18  15.0     12\n",
       "1         Bob       19     12  17.0     20\n",
       "2        Doug       20     13   NaN     20\n",
       "3     Yolanda       19      8  32.0     15\n",
       "4      Xerxes       12     23  18.0      9"
      ]
     },
     "execution_count": 2,
     "metadata": {},
     "output_type": "execute_result"
    }
   ],
   "source": [
    "from more_pyspark import to_pandas\n",
    "sales = spark.read.csv(\"./data/auto_sales.csv\",  \n",
    "                       header=True, \n",
    "                       inferSchema=True)\n",
    "sales.collect() >> to_pandas"
   ]
  },
  {
   "cell_type": "markdown",
   "metadata": {
    "id": "ypipIjy_Zb2Y"
   },
   "source": [
    "## Stacking data in `pyspark`\n",
    "\n",
    "Two step process\n",
    "\n",
    "1. Combine the columns to be stacked into an array\n",
    "2. Explode the array\n",
    "\n",
    "[Source](https://www.mien.in/2018/03/25/reshaping-dataframe-using-pivot-and-melt-in-apache-spark-and-pandas/)"
   ]
  },
  {
   "cell_type": "markdown",
   "metadata": {
    "id": "74zHfaszZb2Y"
   },
   "source": [
    "#### A helper function that combines multiple column entries into a column array"
   ]
  },
  {
   "cell_type": "code",
   "execution_count": 3,
   "metadata": {
    "colab": {
     "base_uri": "https://localhost:8080/"
    },
    "id": "sHGEWzt3Zb2Z",
    "outputId": "4f02b691-024c-4959-bc44-b1c5edcbb391"
   },
   "outputs": [
    {
     "data": {
      "text/plain": [
       "Column<'array(struct(Compact AS car_type, Compact AS qtr_sales), struct(Sedan AS car_type, Sedan AS qtr_sales), struct(SUV AS car_type, SUV AS qtr_sales), struct(Truck AS car_type, Truck AS qtr_sales))'>"
      ]
     },
     "execution_count": 3,
     "metadata": {},
     "output_type": "execute_result"
    }
   ],
   "source": [
    "from pyspark.sql.functions import array, explode, struct, lit, col\n",
    "make_array = lambda var_name, val_name, cols: (array(*(struct(lit(c).alias(var_name), \n",
    "                                                              col(c).alias(val_name))\n",
    "                                                       for c in cols)))\n",
    "\n",
    "sales_cols = ['Compact','Sedan', 'SUV', 'Truck']\n",
    "make_array('car_type', 'qtr_sales', sales_cols)"
   ]
  },
  {
   "cell_type": "markdown",
   "metadata": {
    "id": "_-_8JKcaZb2a"
   },
   "source": [
    "#### Testing `make_array`"
   ]
  },
  {
   "cell_type": "code",
   "execution_count": 4,
   "metadata": {
    "colab": {
     "base_uri": "https://localhost:8080/",
     "height": 204
    },
    "id": "ghvQMwupZb2a",
    "outputId": "f6cd4258-b299-410a-99be-c4a192c73e71"
   },
   "outputs": [
    {
     "data": {
      "text/html": [
       "<div>\n",
       "<style scoped>\n",
       "    .dataframe tbody tr th:only-of-type {\n",
       "        vertical-align: middle;\n",
       "    }\n",
       "\n",
       "    .dataframe tbody tr th {\n",
       "        vertical-align: top;\n",
       "    }\n",
       "\n",
       "    .dataframe thead th {\n",
       "        text-align: right;\n",
       "    }\n",
       "</style>\n",
       "<table border=\"1\" class=\"dataframe\">\n",
       "  <thead>\n",
       "    <tr style=\"text-align: right;\">\n",
       "      <th></th>\n",
       "      <th>Salesperson</th>\n",
       "      <th>Compact</th>\n",
       "      <th>Sedan</th>\n",
       "      <th>SUV</th>\n",
       "      <th>Truck</th>\n",
       "      <th>sales</th>\n",
       "    </tr>\n",
       "  </thead>\n",
       "  <tbody>\n",
       "    <tr>\n",
       "      <th>0</th>\n",
       "      <td>Ann</td>\n",
       "      <td>22</td>\n",
       "      <td>18</td>\n",
       "      <td>15.0</td>\n",
       "      <td>12</td>\n",
       "      <td>[(Compact, 22), (Sedan, 18), (SUV, 15), (Truck...</td>\n",
       "    </tr>\n",
       "    <tr>\n",
       "      <th>1</th>\n",
       "      <td>Bob</td>\n",
       "      <td>19</td>\n",
       "      <td>12</td>\n",
       "      <td>17.0</td>\n",
       "      <td>20</td>\n",
       "      <td>[(Compact, 19), (Sedan, 12), (SUV, 17), (Truck...</td>\n",
       "    </tr>\n",
       "    <tr>\n",
       "      <th>2</th>\n",
       "      <td>Doug</td>\n",
       "      <td>20</td>\n",
       "      <td>13</td>\n",
       "      <td>NaN</td>\n",
       "      <td>20</td>\n",
       "      <td>[(Compact, 20), (Sedan, 13), (SUV, None), (Tru...</td>\n",
       "    </tr>\n",
       "    <tr>\n",
       "      <th>3</th>\n",
       "      <td>Yolanda</td>\n",
       "      <td>19</td>\n",
       "      <td>8</td>\n",
       "      <td>32.0</td>\n",
       "      <td>15</td>\n",
       "      <td>[(Compact, 19), (Sedan, 8), (SUV, 32), (Truck,...</td>\n",
       "    </tr>\n",
       "    <tr>\n",
       "      <th>4</th>\n",
       "      <td>Xerxes</td>\n",
       "      <td>12</td>\n",
       "      <td>23</td>\n",
       "      <td>18.0</td>\n",
       "      <td>9</td>\n",
       "      <td>[(Compact, 12), (Sedan, 23), (SUV, 18), (Truck...</td>\n",
       "    </tr>\n",
       "  </tbody>\n",
       "</table>\n",
       "</div>"
      ],
      "text/plain": [
       "  Salesperson  Compact  Sedan   SUV  Truck  \\\n",
       "0         Ann       22     18  15.0     12   \n",
       "1         Bob       19     12  17.0     20   \n",
       "2        Doug       20     13   NaN     20   \n",
       "3     Yolanda       19      8  32.0     15   \n",
       "4      Xerxes       12     23  18.0      9   \n",
       "\n",
       "                                               sales  \n",
       "0  [(Compact, 22), (Sedan, 18), (SUV, 15), (Truck...  \n",
       "1  [(Compact, 19), (Sedan, 12), (SUV, 17), (Truck...  \n",
       "2  [(Compact, 20), (Sedan, 13), (SUV, None), (Tru...  \n",
       "3  [(Compact, 19), (Sedan, 8), (SUV, 32), (Truck,...  \n",
       "4  [(Compact, 12), (Sedan, 23), (SUV, 18), (Truck...  "
      ]
     },
     "execution_count": 4,
     "metadata": {},
     "output_type": "execute_result"
    }
   ],
   "source": [
    "from pyspark.sql.functions import array, explode, struct, lit, col, collect_list\n",
    "(sales\n",
    " .withColumn('sales', \n",
    "             make_array('car_type', \n",
    "                        'qtr_sales', \n",
    "                        sales_cols))\n",
    " .collect()) >> to_pandas"
   ]
  },
  {
   "cell_type": "markdown",
   "metadata": {
    "id": "f83ZP7TSZb2b"
   },
   "source": [
    "#### `explode` the contents to the array column to stack entries"
   ]
  },
  {
   "cell_type": "code",
   "execution_count": 5,
   "metadata": {
    "colab": {
     "base_uri": "https://localhost:8080/",
     "height": 142
    },
    "id": "sT6ves0GZb2b",
    "outputId": "e7212db4-dead-4eec-989f-8242da0a2c43"
   },
   "outputs": [
    {
     "data": {
      "text/html": [
       "<div>\n",
       "<style scoped>\n",
       "    .dataframe tbody tr th:only-of-type {\n",
       "        vertical-align: middle;\n",
       "    }\n",
       "\n",
       "    .dataframe tbody tr th {\n",
       "        vertical-align: top;\n",
       "    }\n",
       "\n",
       "    .dataframe thead th {\n",
       "        text-align: right;\n",
       "    }\n",
       "</style>\n",
       "<table border=\"1\" class=\"dataframe\">\n",
       "  <thead>\n",
       "    <tr style=\"text-align: right;\">\n",
       "      <th></th>\n",
       "      <th>Salesperson</th>\n",
       "      <th>Compact</th>\n",
       "      <th>Sedan</th>\n",
       "      <th>SUV</th>\n",
       "      <th>Truck</th>\n",
       "      <th>sales</th>\n",
       "      <th>vars_and_vals</th>\n",
       "    </tr>\n",
       "  </thead>\n",
       "  <tbody>\n",
       "    <tr>\n",
       "      <th>0</th>\n",
       "      <td>Ann</td>\n",
       "      <td>22</td>\n",
       "      <td>18</td>\n",
       "      <td>15</td>\n",
       "      <td>12</td>\n",
       "      <td>[(Compact, 22), (Sedan, 18), (SUV, 15), (Truck...</td>\n",
       "      <td>(Compact, 22)</td>\n",
       "    </tr>\n",
       "    <tr>\n",
       "      <th>1</th>\n",
       "      <td>Ann</td>\n",
       "      <td>22</td>\n",
       "      <td>18</td>\n",
       "      <td>15</td>\n",
       "      <td>12</td>\n",
       "      <td>[(Compact, 22), (Sedan, 18), (SUV, 15), (Truck...</td>\n",
       "      <td>(Sedan, 18)</td>\n",
       "    </tr>\n",
       "    <tr>\n",
       "      <th>2</th>\n",
       "      <td>Ann</td>\n",
       "      <td>22</td>\n",
       "      <td>18</td>\n",
       "      <td>15</td>\n",
       "      <td>12</td>\n",
       "      <td>[(Compact, 22), (Sedan, 18), (SUV, 15), (Truck...</td>\n",
       "      <td>(SUV, 15)</td>\n",
       "    </tr>\n",
       "  </tbody>\n",
       "</table>\n",
       "</div>"
      ],
      "text/plain": [
       "  Salesperson  Compact  Sedan  SUV  Truck  \\\n",
       "0         Ann       22     18   15     12   \n",
       "1         Ann       22     18   15     12   \n",
       "2         Ann       22     18   15     12   \n",
       "\n",
       "                                               sales  vars_and_vals  \n",
       "0  [(Compact, 22), (Sedan, 18), (SUV, 15), (Truck...  (Compact, 22)  \n",
       "1  [(Compact, 22), (Sedan, 18), (SUV, 15), (Truck...    (Sedan, 18)  \n",
       "2  [(Compact, 22), (Sedan, 18), (SUV, 15), (Truck...      (SUV, 15)  "
      ]
     },
     "execution_count": 5,
     "metadata": {},
     "output_type": "execute_result"
    }
   ],
   "source": [
    "t = (sales\n",
    "    .withColumn('sales', \n",
    "                make_array('car_type', \n",
    "                           'qtr_sales', \n",
    "                           sales_cols))\n",
    "    .withColumn(\"vars_and_vals\", explode(col('sales'))))\n",
    "t.take(3) >> to_pandas"
   ]
  },
  {
   "cell_type": "markdown",
   "metadata": {
    "id": "x5aHgHkdZb2c"
   },
   "source": [
    "#### Checking out the schema of the result\n",
    "\n",
    "Note that the exploded entries are named `'car_type'` and `'qtr_sales'`"
   ]
  },
  {
   "cell_type": "code",
   "execution_count": 6,
   "metadata": {
    "colab": {
     "base_uri": "https://localhost:8080/"
    },
    "id": "poIH4FZXZb2d",
    "outputId": "77b28211-ca4c-4861-ab63-84f92994cc7c"
   },
   "outputs": [
    {
     "name": "stdout",
     "output_type": "stream",
     "text": [
      "root\n",
      " |-- Salesperson: string (nullable = true)\n",
      " |-- Compact: integer (nullable = true)\n",
      " |-- Sedan: integer (nullable = true)\n",
      " |-- SUV: integer (nullable = true)\n",
      " |-- Truck: integer (nullable = true)\n",
      " |-- sales: array (nullable = false)\n",
      " |    |-- element: struct (containsNull = false)\n",
      " |    |    |-- car_type: string (nullable = false)\n",
      " |    |    |-- qtr_sales: integer (nullable = true)\n",
      " |-- vars_and_vals: struct (nullable = false)\n",
      " |    |-- car_type: string (nullable = false)\n",
      " |    |-- qtr_sales: integer (nullable = true)\n",
      "\n"
     ]
    }
   ],
   "source": [
    "t.printSchema()"
   ]
  },
  {
   "cell_type": "markdown",
   "metadata": {
    "id": "x251nF3nZb2d"
   },
   "source": [
    "#### Testing extraction of tuple entries"
   ]
  },
  {
   "cell_type": "code",
   "execution_count": 7,
   "metadata": {
    "colab": {
     "base_uri": "https://localhost:8080/",
     "height": 142
    },
    "id": "QCRJZLp8Zb2e",
    "outputId": "61c16a5b-edd8-4f73-b4f9-1d7e6ecd6f6a"
   },
   "outputs": [
    {
     "data": {
      "text/html": [
       "<div>\n",
       "<style scoped>\n",
       "    .dataframe tbody tr th:only-of-type {\n",
       "        vertical-align: middle;\n",
       "    }\n",
       "\n",
       "    .dataframe tbody tr th {\n",
       "        vertical-align: top;\n",
       "    }\n",
       "\n",
       "    .dataframe thead th {\n",
       "        text-align: right;\n",
       "    }\n",
       "</style>\n",
       "<table border=\"1\" class=\"dataframe\">\n",
       "  <thead>\n",
       "    <tr style=\"text-align: right;\">\n",
       "      <th></th>\n",
       "      <th>Salesperson</th>\n",
       "      <th>Compact</th>\n",
       "      <th>Sedan</th>\n",
       "      <th>SUV</th>\n",
       "      <th>Truck</th>\n",
       "      <th>sales</th>\n",
       "      <th>vars_and_vals</th>\n",
       "      <th>types</th>\n",
       "    </tr>\n",
       "  </thead>\n",
       "  <tbody>\n",
       "    <tr>\n",
       "      <th>0</th>\n",
       "      <td>Ann</td>\n",
       "      <td>22</td>\n",
       "      <td>18</td>\n",
       "      <td>15</td>\n",
       "      <td>12</td>\n",
       "      <td>22</td>\n",
       "      <td>(Compact, 22)</td>\n",
       "      <td>Compact</td>\n",
       "    </tr>\n",
       "    <tr>\n",
       "      <th>1</th>\n",
       "      <td>Ann</td>\n",
       "      <td>22</td>\n",
       "      <td>18</td>\n",
       "      <td>15</td>\n",
       "      <td>12</td>\n",
       "      <td>18</td>\n",
       "      <td>(Sedan, 18)</td>\n",
       "      <td>Sedan</td>\n",
       "    </tr>\n",
       "    <tr>\n",
       "      <th>2</th>\n",
       "      <td>Ann</td>\n",
       "      <td>22</td>\n",
       "      <td>18</td>\n",
       "      <td>15</td>\n",
       "      <td>12</td>\n",
       "      <td>15</td>\n",
       "      <td>(SUV, 15)</td>\n",
       "      <td>SUV</td>\n",
       "    </tr>\n",
       "  </tbody>\n",
       "</table>\n",
       "</div>"
      ],
      "text/plain": [
       "  Salesperson  Compact  Sedan  SUV  Truck  sales  vars_and_vals    types\n",
       "0         Ann       22     18   15     12     22  (Compact, 22)  Compact\n",
       "1         Ann       22     18   15     12     18    (Sedan, 18)    Sedan\n",
       "2         Ann       22     18   15     12     15      (SUV, 15)      SUV"
      ]
     },
     "execution_count": 7,
     "metadata": {},
     "output_type": "execute_result"
    }
   ],
   "source": [
    "t = (t\n",
    " .withColumn('types', t['vars_and_vals'].getItem(\"car_type\"))\n",
    " .withColumn('sales', t['vars_and_vals'].getItem(\"qtr_sales\")))\n",
    "t.take(3) >> to_pandas"
   ]
  },
  {
   "cell_type": "markdown",
   "metadata": {
    "id": "xmHWOC7NZb2f"
   },
   "source": [
    "#### Dropping extra columns\n"
   ]
  },
  {
   "cell_type": "code",
   "execution_count": 8,
   "metadata": {
    "colab": {
     "base_uri": "https://localhost:8080/",
     "height": 142
    },
    "id": "FKzhZjAoZb2f",
    "outputId": "b8500fca-5f3d-4e16-840c-ae8fd1e2b63f"
   },
   "outputs": [
    {
     "data": {
      "text/html": [
       "<div>\n",
       "<style scoped>\n",
       "    .dataframe tbody tr th:only-of-type {\n",
       "        vertical-align: middle;\n",
       "    }\n",
       "\n",
       "    .dataframe tbody tr th {\n",
       "        vertical-align: top;\n",
       "    }\n",
       "\n",
       "    .dataframe thead th {\n",
       "        text-align: right;\n",
       "    }\n",
       "</style>\n",
       "<table border=\"1\" class=\"dataframe\">\n",
       "  <thead>\n",
       "    <tr style=\"text-align: right;\">\n",
       "      <th></th>\n",
       "      <th>Salesperson</th>\n",
       "      <th>sales</th>\n",
       "      <th>types</th>\n",
       "    </tr>\n",
       "  </thead>\n",
       "  <tbody>\n",
       "    <tr>\n",
       "      <th>0</th>\n",
       "      <td>Ann</td>\n",
       "      <td>22</td>\n",
       "      <td>Compact</td>\n",
       "    </tr>\n",
       "    <tr>\n",
       "      <th>1</th>\n",
       "      <td>Ann</td>\n",
       "      <td>18</td>\n",
       "      <td>Sedan</td>\n",
       "    </tr>\n",
       "    <tr>\n",
       "      <th>2</th>\n",
       "      <td>Ann</td>\n",
       "      <td>15</td>\n",
       "      <td>SUV</td>\n",
       "    </tr>\n",
       "  </tbody>\n",
       "</table>\n",
       "</div>"
      ],
      "text/plain": [
       "  Salesperson  sales    types\n",
       "0         Ann     22  Compact\n",
       "1         Ann     18    Sedan\n",
       "2         Ann     15      SUV"
      ]
     },
     "execution_count": 8,
     "metadata": {},
     "output_type": "execute_result"
    }
   ],
   "source": [
    "t = (t\n",
    " .drop(*sales_cols)\n",
    " .drop('vars_and_vals'))\n",
    "t.take(3) >> to_pandas"
   ]
  },
  {
   "cell_type": "markdown",
   "metadata": {
    "id": "TGZEXjuPZb2g"
   },
   "source": [
    "####  Putting it all together with generic names"
   ]
  },
  {
   "cell_type": "code",
   "execution_count": 9,
   "metadata": {
    "colab": {
     "base_uri": "https://localhost:8080/",
     "height": 669
    },
    "id": "k_3tCQ_SZb2g",
    "outputId": "1446959f-6139-47f5-c502-461c680a66fe"
   },
   "outputs": [
    {
     "data": {
      "text/html": [
       "<div>\n",
       "<style scoped>\n",
       "    .dataframe tbody tr th:only-of-type {\n",
       "        vertical-align: middle;\n",
       "    }\n",
       "\n",
       "    .dataframe tbody tr th {\n",
       "        vertical-align: top;\n",
       "    }\n",
       "\n",
       "    .dataframe thead th {\n",
       "        text-align: right;\n",
       "    }\n",
       "</style>\n",
       "<table border=\"1\" class=\"dataframe\">\n",
       "  <thead>\n",
       "    <tr style=\"text-align: right;\">\n",
       "      <th></th>\n",
       "      <th>Salesperson</th>\n",
       "      <th>car_type</th>\n",
       "      <th>qtr_sales</th>\n",
       "    </tr>\n",
       "  </thead>\n",
       "  <tbody>\n",
       "    <tr>\n",
       "      <th>0</th>\n",
       "      <td>Ann</td>\n",
       "      <td>Compact</td>\n",
       "      <td>22.0</td>\n",
       "    </tr>\n",
       "    <tr>\n",
       "      <th>1</th>\n",
       "      <td>Ann</td>\n",
       "      <td>Sedan</td>\n",
       "      <td>18.0</td>\n",
       "    </tr>\n",
       "    <tr>\n",
       "      <th>2</th>\n",
       "      <td>Ann</td>\n",
       "      <td>SUV</td>\n",
       "      <td>15.0</td>\n",
       "    </tr>\n",
       "    <tr>\n",
       "      <th>3</th>\n",
       "      <td>Ann</td>\n",
       "      <td>Truck</td>\n",
       "      <td>12.0</td>\n",
       "    </tr>\n",
       "    <tr>\n",
       "      <th>4</th>\n",
       "      <td>Bob</td>\n",
       "      <td>Compact</td>\n",
       "      <td>19.0</td>\n",
       "    </tr>\n",
       "    <tr>\n",
       "      <th>5</th>\n",
       "      <td>Bob</td>\n",
       "      <td>Sedan</td>\n",
       "      <td>12.0</td>\n",
       "    </tr>\n",
       "    <tr>\n",
       "      <th>6</th>\n",
       "      <td>Bob</td>\n",
       "      <td>SUV</td>\n",
       "      <td>17.0</td>\n",
       "    </tr>\n",
       "    <tr>\n",
       "      <th>7</th>\n",
       "      <td>Bob</td>\n",
       "      <td>Truck</td>\n",
       "      <td>20.0</td>\n",
       "    </tr>\n",
       "    <tr>\n",
       "      <th>8</th>\n",
       "      <td>Doug</td>\n",
       "      <td>Compact</td>\n",
       "      <td>20.0</td>\n",
       "    </tr>\n",
       "    <tr>\n",
       "      <th>9</th>\n",
       "      <td>Doug</td>\n",
       "      <td>Sedan</td>\n",
       "      <td>13.0</td>\n",
       "    </tr>\n",
       "    <tr>\n",
       "      <th>10</th>\n",
       "      <td>Doug</td>\n",
       "      <td>SUV</td>\n",
       "      <td>NaN</td>\n",
       "    </tr>\n",
       "    <tr>\n",
       "      <th>11</th>\n",
       "      <td>Doug</td>\n",
       "      <td>Truck</td>\n",
       "      <td>20.0</td>\n",
       "    </tr>\n",
       "    <tr>\n",
       "      <th>12</th>\n",
       "      <td>Yolanda</td>\n",
       "      <td>Compact</td>\n",
       "      <td>19.0</td>\n",
       "    </tr>\n",
       "    <tr>\n",
       "      <th>13</th>\n",
       "      <td>Yolanda</td>\n",
       "      <td>Sedan</td>\n",
       "      <td>8.0</td>\n",
       "    </tr>\n",
       "    <tr>\n",
       "      <th>14</th>\n",
       "      <td>Yolanda</td>\n",
       "      <td>SUV</td>\n",
       "      <td>32.0</td>\n",
       "    </tr>\n",
       "    <tr>\n",
       "      <th>15</th>\n",
       "      <td>Yolanda</td>\n",
       "      <td>Truck</td>\n",
       "      <td>15.0</td>\n",
       "    </tr>\n",
       "    <tr>\n",
       "      <th>16</th>\n",
       "      <td>Xerxes</td>\n",
       "      <td>Compact</td>\n",
       "      <td>12.0</td>\n",
       "    </tr>\n",
       "    <tr>\n",
       "      <th>17</th>\n",
       "      <td>Xerxes</td>\n",
       "      <td>Sedan</td>\n",
       "      <td>23.0</td>\n",
       "    </tr>\n",
       "    <tr>\n",
       "      <th>18</th>\n",
       "      <td>Xerxes</td>\n",
       "      <td>SUV</td>\n",
       "      <td>18.0</td>\n",
       "    </tr>\n",
       "    <tr>\n",
       "      <th>19</th>\n",
       "      <td>Xerxes</td>\n",
       "      <td>Truck</td>\n",
       "      <td>9.0</td>\n",
       "    </tr>\n",
       "  </tbody>\n",
       "</table>\n",
       "</div>"
      ],
      "text/plain": [
       "   Salesperson car_type  qtr_sales\n",
       "0          Ann  Compact       22.0\n",
       "1          Ann    Sedan       18.0\n",
       "2          Ann      SUV       15.0\n",
       "3          Ann    Truck       12.0\n",
       "4          Bob  Compact       19.0\n",
       "5          Bob    Sedan       12.0\n",
       "6          Bob      SUV       17.0\n",
       "7          Bob    Truck       20.0\n",
       "8         Doug  Compact       20.0\n",
       "9         Doug    Sedan       13.0\n",
       "10        Doug      SUV        NaN\n",
       "11        Doug    Truck       20.0\n",
       "12     Yolanda  Compact       19.0\n",
       "13     Yolanda    Sedan        8.0\n",
       "14     Yolanda      SUV       32.0\n",
       "15     Yolanda    Truck       15.0\n",
       "16      Xerxes  Compact       12.0\n",
       "17      Xerxes    Sedan       23.0\n",
       "18      Xerxes      SUV       18.0\n",
       "19      Xerxes    Truck        9.0"
      ]
     },
     "execution_count": 9,
     "metadata": {},
     "output_type": "execute_result"
    }
   ],
   "source": [
    "cols_to_stack = sales_cols\n",
    "var_lbl = 'car_type'\n",
    "val_lbl = 'qtr_sales'\n",
    "(sales\n",
    " .withColumn('var_val_array', \n",
    "             make_array(var_lbl, \n",
    "                        val_lbl, \n",
    "                        cols_to_stack))\n",
    " .withColumn(\"vars_and_vals\", explode(col('var_val_array')))\n",
    " .withColumn(var_lbl, col(\"vars_and_vals\").getItem(var_lbl))\n",
    " .withColumn(val_lbl, col(\"vars_and_vals\").getItem(val_lbl))\n",
    " .drop(*(cols_to_stack + ['var_val_array', \"vars_and_vals\"]))\n",
    " .collect()) >> to_pandas"
   ]
  },
  {
   "cell_type": "markdown",
   "metadata": {
    "id": "ocJ-x5OeZb2h"
   },
   "source": [
    "#### Building a `gather` functions"
   ]
  },
  {
   "cell_type": "code",
   "execution_count": 10,
   "metadata": {
    "colab": {
     "base_uri": "https://localhost:8080/",
     "height": 669
    },
    "id": "amuKROlwZb2i",
    "outputId": "796515b0-ef0d-4ca8-97ed-5128aecd7c3b",
    "scrolled": true
   },
   "outputs": [
    {
     "data": {
      "text/html": [
       "<div>\n",
       "<style scoped>\n",
       "    .dataframe tbody tr th:only-of-type {\n",
       "        vertical-align: middle;\n",
       "    }\n",
       "\n",
       "    .dataframe tbody tr th {\n",
       "        vertical-align: top;\n",
       "    }\n",
       "\n",
       "    .dataframe thead th {\n",
       "        text-align: right;\n",
       "    }\n",
       "</style>\n",
       "<table border=\"1\" class=\"dataframe\">\n",
       "  <thead>\n",
       "    <tr style=\"text-align: right;\">\n",
       "      <th></th>\n",
       "      <th>Salesperson</th>\n",
       "      <th>car_type</th>\n",
       "      <th>qtr_sales</th>\n",
       "    </tr>\n",
       "  </thead>\n",
       "  <tbody>\n",
       "    <tr>\n",
       "      <th>0</th>\n",
       "      <td>Ann</td>\n",
       "      <td>Compact</td>\n",
       "      <td>22.0</td>\n",
       "    </tr>\n",
       "    <tr>\n",
       "      <th>1</th>\n",
       "      <td>Ann</td>\n",
       "      <td>Sedan</td>\n",
       "      <td>18.0</td>\n",
       "    </tr>\n",
       "    <tr>\n",
       "      <th>2</th>\n",
       "      <td>Ann</td>\n",
       "      <td>SUV</td>\n",
       "      <td>15.0</td>\n",
       "    </tr>\n",
       "    <tr>\n",
       "      <th>3</th>\n",
       "      <td>Ann</td>\n",
       "      <td>Truck</td>\n",
       "      <td>12.0</td>\n",
       "    </tr>\n",
       "    <tr>\n",
       "      <th>4</th>\n",
       "      <td>Bob</td>\n",
       "      <td>Compact</td>\n",
       "      <td>19.0</td>\n",
       "    </tr>\n",
       "    <tr>\n",
       "      <th>5</th>\n",
       "      <td>Bob</td>\n",
       "      <td>Sedan</td>\n",
       "      <td>12.0</td>\n",
       "    </tr>\n",
       "    <tr>\n",
       "      <th>6</th>\n",
       "      <td>Bob</td>\n",
       "      <td>SUV</td>\n",
       "      <td>17.0</td>\n",
       "    </tr>\n",
       "    <tr>\n",
       "      <th>7</th>\n",
       "      <td>Bob</td>\n",
       "      <td>Truck</td>\n",
       "      <td>20.0</td>\n",
       "    </tr>\n",
       "    <tr>\n",
       "      <th>8</th>\n",
       "      <td>Doug</td>\n",
       "      <td>Compact</td>\n",
       "      <td>20.0</td>\n",
       "    </tr>\n",
       "    <tr>\n",
       "      <th>9</th>\n",
       "      <td>Doug</td>\n",
       "      <td>Sedan</td>\n",
       "      <td>13.0</td>\n",
       "    </tr>\n",
       "    <tr>\n",
       "      <th>10</th>\n",
       "      <td>Doug</td>\n",
       "      <td>SUV</td>\n",
       "      <td>NaN</td>\n",
       "    </tr>\n",
       "    <tr>\n",
       "      <th>11</th>\n",
       "      <td>Doug</td>\n",
       "      <td>Truck</td>\n",
       "      <td>20.0</td>\n",
       "    </tr>\n",
       "    <tr>\n",
       "      <th>12</th>\n",
       "      <td>Yolanda</td>\n",
       "      <td>Compact</td>\n",
       "      <td>19.0</td>\n",
       "    </tr>\n",
       "    <tr>\n",
       "      <th>13</th>\n",
       "      <td>Yolanda</td>\n",
       "      <td>Sedan</td>\n",
       "      <td>8.0</td>\n",
       "    </tr>\n",
       "    <tr>\n",
       "      <th>14</th>\n",
       "      <td>Yolanda</td>\n",
       "      <td>SUV</td>\n",
       "      <td>32.0</td>\n",
       "    </tr>\n",
       "    <tr>\n",
       "      <th>15</th>\n",
       "      <td>Yolanda</td>\n",
       "      <td>Truck</td>\n",
       "      <td>15.0</td>\n",
       "    </tr>\n",
       "    <tr>\n",
       "      <th>16</th>\n",
       "      <td>Xerxes</td>\n",
       "      <td>Compact</td>\n",
       "      <td>12.0</td>\n",
       "    </tr>\n",
       "    <tr>\n",
       "      <th>17</th>\n",
       "      <td>Xerxes</td>\n",
       "      <td>Sedan</td>\n",
       "      <td>23.0</td>\n",
       "    </tr>\n",
       "    <tr>\n",
       "      <th>18</th>\n",
       "      <td>Xerxes</td>\n",
       "      <td>SUV</td>\n",
       "      <td>18.0</td>\n",
       "    </tr>\n",
       "    <tr>\n",
       "      <th>19</th>\n",
       "      <td>Xerxes</td>\n",
       "      <td>Truck</td>\n",
       "      <td>9.0</td>\n",
       "    </tr>\n",
       "  </tbody>\n",
       "</table>\n",
       "</div>"
      ],
      "text/plain": [
       "   Salesperson car_type  qtr_sales\n",
       "0          Ann  Compact       22.0\n",
       "1          Ann    Sedan       18.0\n",
       "2          Ann      SUV       15.0\n",
       "3          Ann    Truck       12.0\n",
       "4          Bob  Compact       19.0\n",
       "5          Bob    Sedan       12.0\n",
       "6          Bob      SUV       17.0\n",
       "7          Bob    Truck       20.0\n",
       "8         Doug  Compact       20.0\n",
       "9         Doug    Sedan       13.0\n",
       "10        Doug      SUV        NaN\n",
       "11        Doug    Truck       20.0\n",
       "12     Yolanda  Compact       19.0\n",
       "13     Yolanda    Sedan        8.0\n",
       "14     Yolanda      SUV       32.0\n",
       "15     Yolanda    Truck       15.0\n",
       "16      Xerxes  Compact       12.0\n",
       "17      Xerxes    Sedan       23.0\n",
       "18      Xerxes      SUV       18.0\n",
       "19      Xerxes    Truck        9.0"
      ]
     },
     "execution_count": 10,
     "metadata": {},
     "output_type": "execute_result"
    }
   ],
   "source": [
    "from composable import pipeable\n",
    "\n",
    "cols_to_stack = sales_cols\n",
    "var_lbl = 'car_type'\n",
    "val_lbl = 'qtr_sales'\n",
    "\n",
    "@pipeable\n",
    "def gather(var_lbl, val_lbl, cols_to_stack, df):\n",
    "    make_array = lambda var_name, val_name, cols: (array(*(struct(lit(c).alias(var_name), \n",
    "                                                                  col(c).alias(val_name))\n",
    "                                                           for c in cols)))\n",
    "    return (df\n",
    "            .withColumn('var_val_array', \n",
    "                        make_array(var_lbl, \n",
    "                                   val_lbl, \n",
    "                                   cols_to_stack))\n",
    "            .withColumn(\"vars_and_vals\", explode(col('var_val_array')))\n",
    "            .withColumn(var_lbl, col(\"vars_and_vals\").getItem(var_lbl))\n",
    "            .withColumn(val_lbl, col(\"vars_and_vals\").getItem(val_lbl))\n",
    "            .drop(*(cols_to_stack + ['var_val_array', \"vars_and_vals\"])))\n",
    "sales_stacked = sales >> gather('car_type', 'qtr_sales', sales_cols)\n",
    "sales_stacked.collect() >> to_pandas"
   ]
  },
  {
   "cell_type": "markdown",
   "metadata": {
    "id": "bEVG7yxCZb2i"
   },
   "source": [
    "## Unstacking columns in `pyspark` with `group_by` and `pivot`"
   ]
  },
  {
   "cell_type": "code",
   "execution_count": 11,
   "metadata": {
    "colab": {
     "base_uri": "https://localhost:8080/",
     "height": 204
    },
    "id": "2V_gkJfoZb2j",
    "outputId": "6b0b66ca-322d-447d-dae3-8c2b2af6e89c"
   },
   "outputs": [
    {
     "data": {
      "text/html": [
       "<div>\n",
       "<style scoped>\n",
       "    .dataframe tbody tr th:only-of-type {\n",
       "        vertical-align: middle;\n",
       "    }\n",
       "\n",
       "    .dataframe tbody tr th {\n",
       "        vertical-align: top;\n",
       "    }\n",
       "\n",
       "    .dataframe thead th {\n",
       "        text-align: right;\n",
       "    }\n",
       "</style>\n",
       "<table border=\"1\" class=\"dataframe\">\n",
       "  <thead>\n",
       "    <tr style=\"text-align: right;\">\n",
       "      <th></th>\n",
       "      <th>Salesperson</th>\n",
       "      <th>Compact</th>\n",
       "      <th>SUV</th>\n",
       "      <th>Sedan</th>\n",
       "      <th>Truck</th>\n",
       "    </tr>\n",
       "  </thead>\n",
       "  <tbody>\n",
       "    <tr>\n",
       "      <th>0</th>\n",
       "      <td>Yolanda</td>\n",
       "      <td>19</td>\n",
       "      <td>32.0</td>\n",
       "      <td>8</td>\n",
       "      <td>15</td>\n",
       "    </tr>\n",
       "    <tr>\n",
       "      <th>1</th>\n",
       "      <td>Doug</td>\n",
       "      <td>20</td>\n",
       "      <td>NaN</td>\n",
       "      <td>13</td>\n",
       "      <td>20</td>\n",
       "    </tr>\n",
       "    <tr>\n",
       "      <th>2</th>\n",
       "      <td>Xerxes</td>\n",
       "      <td>12</td>\n",
       "      <td>18.0</td>\n",
       "      <td>23</td>\n",
       "      <td>9</td>\n",
       "    </tr>\n",
       "    <tr>\n",
       "      <th>3</th>\n",
       "      <td>Ann</td>\n",
       "      <td>22</td>\n",
       "      <td>15.0</td>\n",
       "      <td>18</td>\n",
       "      <td>12</td>\n",
       "    </tr>\n",
       "    <tr>\n",
       "      <th>4</th>\n",
       "      <td>Bob</td>\n",
       "      <td>19</td>\n",
       "      <td>17.0</td>\n",
       "      <td>12</td>\n",
       "      <td>20</td>\n",
       "    </tr>\n",
       "  </tbody>\n",
       "</table>\n",
       "</div>"
      ],
      "text/plain": [
       "  Salesperson  Compact   SUV  Sedan  Truck\n",
       "0     Yolanda       19  32.0      8     15\n",
       "1        Doug       20   NaN     13     20\n",
       "2      Xerxes       12  18.0     23      9\n",
       "3         Ann       22  15.0     18     12\n",
       "4         Bob       19  17.0     12     20"
      ]
     },
     "execution_count": 11,
     "metadata": {},
     "output_type": "execute_result"
    }
   ],
   "source": [
    "(sales_stacked\n",
    " .groupBy('Salesperson')\n",
    " .pivot('car_type')\n",
    " .sum('qtr_sales')\n",
    " .collect()) >> to_pandas"
   ]
  },
  {
   "cell_type": "markdown",
   "metadata": {
    "id": "bwMtea2gZb2j"
   },
   "source": [
    "#### Creating a `spread` helper function"
   ]
  },
  {
   "cell_type": "code",
   "execution_count": 12,
   "metadata": {
    "colab": {
     "base_uri": "https://localhost:8080/",
     "height": 204
    },
    "id": "a2KibIxKZb2k",
    "outputId": "dd9cff75-666f-4b9b-d057-bad83e56d9bc"
   },
   "outputs": [
    {
     "data": {
      "text/html": [
       "<div>\n",
       "<style scoped>\n",
       "    .dataframe tbody tr th:only-of-type {\n",
       "        vertical-align: middle;\n",
       "    }\n",
       "\n",
       "    .dataframe tbody tr th {\n",
       "        vertical-align: top;\n",
       "    }\n",
       "\n",
       "    .dataframe thead th {\n",
       "        text-align: right;\n",
       "    }\n",
       "</style>\n",
       "<table border=\"1\" class=\"dataframe\">\n",
       "  <thead>\n",
       "    <tr style=\"text-align: right;\">\n",
       "      <th></th>\n",
       "      <th>Salesperson</th>\n",
       "      <th>Compact</th>\n",
       "      <th>SUV</th>\n",
       "      <th>Sedan</th>\n",
       "      <th>Truck</th>\n",
       "    </tr>\n",
       "  </thead>\n",
       "  <tbody>\n",
       "    <tr>\n",
       "      <th>0</th>\n",
       "      <td>Yolanda</td>\n",
       "      <td>19</td>\n",
       "      <td>32.0</td>\n",
       "      <td>8</td>\n",
       "      <td>15</td>\n",
       "    </tr>\n",
       "    <tr>\n",
       "      <th>1</th>\n",
       "      <td>Doug</td>\n",
       "      <td>20</td>\n",
       "      <td>NaN</td>\n",
       "      <td>13</td>\n",
       "      <td>20</td>\n",
       "    </tr>\n",
       "    <tr>\n",
       "      <th>2</th>\n",
       "      <td>Xerxes</td>\n",
       "      <td>12</td>\n",
       "      <td>18.0</td>\n",
       "      <td>23</td>\n",
       "      <td>9</td>\n",
       "    </tr>\n",
       "    <tr>\n",
       "      <th>3</th>\n",
       "      <td>Ann</td>\n",
       "      <td>22</td>\n",
       "      <td>15.0</td>\n",
       "      <td>18</td>\n",
       "      <td>12</td>\n",
       "    </tr>\n",
       "    <tr>\n",
       "      <th>4</th>\n",
       "      <td>Bob</td>\n",
       "      <td>19</td>\n",
       "      <td>17.0</td>\n",
       "      <td>12</td>\n",
       "      <td>20</td>\n",
       "    </tr>\n",
       "  </tbody>\n",
       "</table>\n",
       "</div>"
      ],
      "text/plain": [
       "  Salesperson  Compact   SUV  Sedan  Truck\n",
       "0     Yolanda       19  32.0      8     15\n",
       "1        Doug       20   NaN     13     20\n",
       "2      Xerxes       12  18.0     23      9\n",
       "3         Ann       22  15.0     18     12\n",
       "4         Bob       19  17.0     12     20"
      ]
     },
     "execution_count": 12,
     "metadata": {},
     "output_type": "execute_result"
    }
   ],
   "source": [
    "from pyspark.sql.functions import array, explode, struct, lit, col\n",
    "\n",
    "@pipeable\n",
    "def spread(val_col, var_col, group_by_col, df):\n",
    "    return  (df\n",
    "             .groupBy(group_by_col)\n",
    "             .pivot(val_col)\n",
    "             .sum(var_col))\n",
    "sales_unstacked = sales_stacked >> spread('car_type', 'qtr_sales', 'Salesperson')\n",
    "sales_unstacked.take(5) >> to_pandas"
   ]
  },
  {
   "cell_type": "markdown",
   "metadata": {
    "id": "Kn74cGwkZb2k"
   },
   "source": [
    "## <font color=\"red\"> Exercise 3 </font>\n",
    "    \n",
    "**Task:** Load the `Rochester_temps_2019.csv` data, contains data weather data for Rochester, MN. that is available at the [DNR website](https://www.dnr.state.mn.us/climate/historical/lcd.html?loc=rst). Note that `SM` and `AV` stand for *sum* and *average*, respectively.\n",
    "\n",
    "1. Identify that problem with the current format.\n",
    "2. Use `gather` and `spread` to fix the issue."
   ]
  },
  {
   "cell_type": "code",
   "execution_count": 13,
   "metadata": {
    "colab": {
     "base_uri": "https://localhost:8080/",
     "height": 204
    },
    "id": "Hb7tqioWZb2l",
    "outputId": "42e970d1-6d14-4c20-e849-87f2a3c4d774"
   },
   "outputs": [
    {
     "data": {
      "text/html": [
       "<div>\n",
       "<style scoped>\n",
       "    .dataframe tbody tr th:only-of-type {\n",
       "        vertical-align: middle;\n",
       "    }\n",
       "\n",
       "    .dataframe tbody tr th {\n",
       "        vertical-align: top;\n",
       "    }\n",
       "\n",
       "    .dataframe thead th {\n",
       "        text-align: right;\n",
       "    }\n",
       "</style>\n",
       "<table border=\"1\" class=\"dataframe\">\n",
       "  <thead>\n",
       "    <tr style=\"text-align: right;\">\n",
       "      <th></th>\n",
       "      <th>ELEMENT</th>\n",
       "      <th>JAN</th>\n",
       "      <th>FEB</th>\n",
       "      <th>MAR</th>\n",
       "      <th>APR</th>\n",
       "      <th>MAY</th>\n",
       "      <th>JUN</th>\n",
       "      <th>JUL</th>\n",
       "      <th>AUG</th>\n",
       "      <th>SEP</th>\n",
       "      <th>OCT</th>\n",
       "      <th>NOV</th>\n",
       "      <th>DEC</th>\n",
       "    </tr>\n",
       "  </thead>\n",
       "  <tbody>\n",
       "    <tr>\n",
       "      <th>0</th>\n",
       "      <td>MEAN DAILY MAXIMUM</td>\n",
       "      <td>19.7</td>\n",
       "      <td>20.3</td>\n",
       "      <td>33.9</td>\n",
       "      <td>54.6</td>\n",
       "      <td>63.5</td>\n",
       "      <td>76.0</td>\n",
       "      <td>81.7</td>\n",
       "      <td>76.7</td>\n",
       "      <td>74.7</td>\n",
       "      <td>52.1</td>\n",
       "      <td>34.6</td>\n",
       "      <td>29.2</td>\n",
       "    </tr>\n",
       "    <tr>\n",
       "      <th>1</th>\n",
       "      <td>HIGHEST DAILY MAXIMUM</td>\n",
       "      <td>44.0</td>\n",
       "      <td>41.0</td>\n",
       "      <td>61.0</td>\n",
       "      <td>83.0</td>\n",
       "      <td>86.0</td>\n",
       "      <td>87.0</td>\n",
       "      <td>90.0</td>\n",
       "      <td>85.0</td>\n",
       "      <td>89.0</td>\n",
       "      <td>71.0</td>\n",
       "      <td>47.0</td>\n",
       "      <td>42.0</td>\n",
       "    </tr>\n",
       "    <tr>\n",
       "      <th>2</th>\n",
       "      <td>MEAN DAILY MINIMUM</td>\n",
       "      <td>4.4</td>\n",
       "      <td>2.4</td>\n",
       "      <td>17.9</td>\n",
       "      <td>35.1</td>\n",
       "      <td>44.3</td>\n",
       "      <td>56.5</td>\n",
       "      <td>62.6</td>\n",
       "      <td>56.7</td>\n",
       "      <td>55.5</td>\n",
       "      <td>35.6</td>\n",
       "      <td>21.5</td>\n",
       "      <td>13.9</td>\n",
       "    </tr>\n",
       "    <tr>\n",
       "      <th>3</th>\n",
       "      <td>LOWEST DAILY MINIMUM</td>\n",
       "      <td>-30.0</td>\n",
       "      <td>-15.0</td>\n",
       "      <td>-17.0</td>\n",
       "      <td>24.0</td>\n",
       "      <td>33.0</td>\n",
       "      <td>43.0</td>\n",
       "      <td>52.0</td>\n",
       "      <td>48.0</td>\n",
       "      <td>46.0</td>\n",
       "      <td>19.0</td>\n",
       "      <td>0.0</td>\n",
       "      <td>-8.0</td>\n",
       "    </tr>\n",
       "    <tr>\n",
       "      <th>4</th>\n",
       "      <td>AVERAGE DRY BULB</td>\n",
       "      <td>12.1</td>\n",
       "      <td>11.3</td>\n",
       "      <td>25.9</td>\n",
       "      <td>44.8</td>\n",
       "      <td>53.9</td>\n",
       "      <td>66.3</td>\n",
       "      <td>72.2</td>\n",
       "      <td>66.7</td>\n",
       "      <td>65.1</td>\n",
       "      <td>43.9</td>\n",
       "      <td>28.1</td>\n",
       "      <td>21.5</td>\n",
       "    </tr>\n",
       "  </tbody>\n",
       "</table>\n",
       "</div>"
      ],
      "text/plain": [
       "                 ELEMENT   JAN   FEB   MAR   APR   MAY   JUN   JUL   AUG  \\\n",
       "0     MEAN DAILY MAXIMUM  19.7  20.3  33.9  54.6  63.5  76.0  81.7  76.7   \n",
       "1  HIGHEST DAILY MAXIMUM  44.0  41.0  61.0  83.0  86.0  87.0  90.0  85.0   \n",
       "2     MEAN DAILY MINIMUM   4.4   2.4  17.9  35.1  44.3  56.5  62.6  56.7   \n",
       "3   LOWEST DAILY MINIMUM -30.0 -15.0 -17.0  24.0  33.0  43.0  52.0  48.0   \n",
       "4       AVERAGE DRY BULB  12.1  11.3  25.9  44.8  53.9  66.3  72.2  66.7   \n",
       "\n",
       "    SEP   OCT   NOV   DEC  \n",
       "0  74.7  52.1  34.6  29.2  \n",
       "1  89.0  71.0  47.0  42.0  \n",
       "2  55.5  35.6  21.5  13.9  \n",
       "3  46.0  19.0   0.0  -8.0  \n",
       "4  65.1  43.9  28.1  21.5  "
      ]
     },
     "execution_count": 13,
     "metadata": {},
     "output_type": "execute_result"
    }
   ],
   "source": [
    "min_max = spark.read.csv(\"./data/Rochester_temps_2019.csv\", header=True, inferSchema=True)\n",
    "min_max.take(5) >> to_pandas"
   ]
  },
  {
   "cell_type": "markdown",
   "metadata": {
    "id": "Jx3ZHInSZb2l"
   },
   "source": [
    "> *Measurement information in column labels and Measurments on the same individual across multiple row.\n"
   ]
  },
  {
   "cell_type": "code",
   "execution_count": 20,
   "metadata": {
    "id": "stSuFyj8Zb2m"
   },
   "outputs": [
    {
     "data": {
      "text/html": [
       "<div>\n",
       "<style scoped>\n",
       "    .dataframe tbody tr th:only-of-type {\n",
       "        vertical-align: middle;\n",
       "    }\n",
       "\n",
       "    .dataframe tbody tr th {\n",
       "        vertical-align: top;\n",
       "    }\n",
       "\n",
       "    .dataframe thead th {\n",
       "        text-align: right;\n",
       "    }\n",
       "</style>\n",
       "<table border=\"1\" class=\"dataframe\">\n",
       "  <thead>\n",
       "    <tr style=\"text-align: right;\">\n",
       "      <th></th>\n",
       "      <th>Month</th>\n",
       "      <th>NUM DAYS W  MINIMUM &lt;=  0°</th>\n",
       "      <th>AVERAGE DRY BULB</th>\n",
       "      <th>HIGHEST DAILY MAXIMUM</th>\n",
       "      <th>LOWEST DAILY MINIMUM</th>\n",
       "      <th>MEAN DAILY MAXIMUM</th>\n",
       "      <th>MEAN DAILY MINIMUM</th>\n",
       "      <th>MEAN DEW POINT</th>\n",
       "      <th>MEAN WET BULB</th>\n",
       "      <th>NUM DAYS W  MAXIMUM &lt;= 32°</th>\n",
       "      <th>NUM DAYS W  MINIMUM &lt;= 32°</th>\n",
       "      <th>NUM DAYS W MAXIMUM &gt;=  90°</th>\n",
       "    </tr>\n",
       "  </thead>\n",
       "  <tbody>\n",
       "    <tr>\n",
       "      <th>0</th>\n",
       "      <td>APR</td>\n",
       "      <td>0.0</td>\n",
       "      <td>44.8</td>\n",
       "      <td>83.0</td>\n",
       "      <td>24.0</td>\n",
       "      <td>54.6</td>\n",
       "      <td>35.1</td>\n",
       "      <td>NaN</td>\n",
       "      <td>NaN</td>\n",
       "      <td>0.0</td>\n",
       "      <td>11.0</td>\n",
       "      <td>0.0</td>\n",
       "    </tr>\n",
       "    <tr>\n",
       "      <th>1</th>\n",
       "      <td>OCT</td>\n",
       "      <td>0.0</td>\n",
       "      <td>43.9</td>\n",
       "      <td>71.0</td>\n",
       "      <td>19.0</td>\n",
       "      <td>52.1</td>\n",
       "      <td>35.6</td>\n",
       "      <td>NaN</td>\n",
       "      <td>NaN</td>\n",
       "      <td>1.0</td>\n",
       "      <td>14.0</td>\n",
       "      <td>0.0</td>\n",
       "    </tr>\n",
       "    <tr>\n",
       "      <th>2</th>\n",
       "      <td>NOV</td>\n",
       "      <td>1.0</td>\n",
       "      <td>28.1</td>\n",
       "      <td>47.0</td>\n",
       "      <td>0.0</td>\n",
       "      <td>34.6</td>\n",
       "      <td>21.5</td>\n",
       "      <td>22.6</td>\n",
       "      <td>26.4</td>\n",
       "      <td>12.0</td>\n",
       "      <td>29.0</td>\n",
       "      <td>0.0</td>\n",
       "    </tr>\n",
       "    <tr>\n",
       "      <th>3</th>\n",
       "      <td>FEB</td>\n",
       "      <td>15.0</td>\n",
       "      <td>11.3</td>\n",
       "      <td>41.0</td>\n",
       "      <td>-15.0</td>\n",
       "      <td>20.3</td>\n",
       "      <td>2.4</td>\n",
       "      <td>NaN</td>\n",
       "      <td>NaN</td>\n",
       "      <td>24.0</td>\n",
       "      <td>27.0</td>\n",
       "      <td>0.0</td>\n",
       "    </tr>\n",
       "    <tr>\n",
       "      <th>4</th>\n",
       "      <td>SEP</td>\n",
       "      <td>0.0</td>\n",
       "      <td>65.1</td>\n",
       "      <td>89.0</td>\n",
       "      <td>46.0</td>\n",
       "      <td>74.7</td>\n",
       "      <td>55.5</td>\n",
       "      <td>57.5</td>\n",
       "      <td>60.6</td>\n",
       "      <td>0.0</td>\n",
       "      <td>0.0</td>\n",
       "      <td>0.0</td>\n",
       "    </tr>\n",
       "    <tr>\n",
       "      <th>5</th>\n",
       "      <td>JAN</td>\n",
       "      <td>11.0</td>\n",
       "      <td>12.1</td>\n",
       "      <td>44.0</td>\n",
       "      <td>-30.0</td>\n",
       "      <td>19.7</td>\n",
       "      <td>4.4</td>\n",
       "      <td>8.3</td>\n",
       "      <td>11.3</td>\n",
       "      <td>25.0</td>\n",
       "      <td>31.0</td>\n",
       "      <td>0.0</td>\n",
       "    </tr>\n",
       "    <tr>\n",
       "      <th>6</th>\n",
       "      <td>AUG</td>\n",
       "      <td>0.0</td>\n",
       "      <td>66.7</td>\n",
       "      <td>85.0</td>\n",
       "      <td>48.0</td>\n",
       "      <td>76.7</td>\n",
       "      <td>56.7</td>\n",
       "      <td>57.8</td>\n",
       "      <td>61.1</td>\n",
       "      <td>0.0</td>\n",
       "      <td>0.0</td>\n",
       "      <td>0.0</td>\n",
       "    </tr>\n",
       "    <tr>\n",
       "      <th>7</th>\n",
       "      <td>MAR</td>\n",
       "      <td>6.0</td>\n",
       "      <td>25.9</td>\n",
       "      <td>61.0</td>\n",
       "      <td>-17.0</td>\n",
       "      <td>33.9</td>\n",
       "      <td>17.9</td>\n",
       "      <td>NaN</td>\n",
       "      <td>NaN</td>\n",
       "      <td>11.0</td>\n",
       "      <td>27.0</td>\n",
       "      <td>0.0</td>\n",
       "    </tr>\n",
       "    <tr>\n",
       "      <th>8</th>\n",
       "      <td>DEC</td>\n",
       "      <td>6.0</td>\n",
       "      <td>21.5</td>\n",
       "      <td>42.0</td>\n",
       "      <td>-8.0</td>\n",
       "      <td>29.2</td>\n",
       "      <td>13.9</td>\n",
       "      <td>18.3</td>\n",
       "      <td>21.6</td>\n",
       "      <td>17.0</td>\n",
       "      <td>31.0</td>\n",
       "      <td>0.0</td>\n",
       "    </tr>\n",
       "    <tr>\n",
       "      <th>9</th>\n",
       "      <td>JUN</td>\n",
       "      <td>0.0</td>\n",
       "      <td>66.3</td>\n",
       "      <td>87.0</td>\n",
       "      <td>43.0</td>\n",
       "      <td>76.0</td>\n",
       "      <td>56.5</td>\n",
       "      <td>55.2</td>\n",
       "      <td>59.9</td>\n",
       "      <td>0.0</td>\n",
       "      <td>0.0</td>\n",
       "      <td>0.0</td>\n",
       "    </tr>\n",
       "    <tr>\n",
       "      <th>10</th>\n",
       "      <td>JUL</td>\n",
       "      <td>0.0</td>\n",
       "      <td>72.2</td>\n",
       "      <td>90.0</td>\n",
       "      <td>52.0</td>\n",
       "      <td>81.7</td>\n",
       "      <td>62.6</td>\n",
       "      <td>64.3</td>\n",
       "      <td>67.3</td>\n",
       "      <td>0.0</td>\n",
       "      <td>0.0</td>\n",
       "      <td>1.0</td>\n",
       "    </tr>\n",
       "    <tr>\n",
       "      <th>11</th>\n",
       "      <td>MAY</td>\n",
       "      <td>0.0</td>\n",
       "      <td>53.9</td>\n",
       "      <td>86.0</td>\n",
       "      <td>33.0</td>\n",
       "      <td>63.5</td>\n",
       "      <td>44.3</td>\n",
       "      <td>43.0</td>\n",
       "      <td>48.2</td>\n",
       "      <td>0.0</td>\n",
       "      <td>0.0</td>\n",
       "      <td>0.0</td>\n",
       "    </tr>\n",
       "  </tbody>\n",
       "</table>\n",
       "</div>"
      ],
      "text/plain": [
       "   Month   NUM DAYS W  MINIMUM <=  0°  AVERAGE DRY BULB  \\\n",
       "0    APR                          0.0              44.8   \n",
       "1    OCT                          0.0              43.9   \n",
       "2    NOV                          1.0              28.1   \n",
       "3    FEB                         15.0              11.3   \n",
       "4    SEP                          0.0              65.1   \n",
       "5    JAN                         11.0              12.1   \n",
       "6    AUG                          0.0              66.7   \n",
       "7    MAR                          6.0              25.9   \n",
       "8    DEC                          6.0              21.5   \n",
       "9    JUN                          0.0              66.3   \n",
       "10   JUL                          0.0              72.2   \n",
       "11   MAY                          0.0              53.9   \n",
       "\n",
       "    HIGHEST DAILY MAXIMUM  LOWEST DAILY MINIMUM  MEAN DAILY MAXIMUM  \\\n",
       "0                    83.0                  24.0                54.6   \n",
       "1                    71.0                  19.0                52.1   \n",
       "2                    47.0                   0.0                34.6   \n",
       "3                    41.0                 -15.0                20.3   \n",
       "4                    89.0                  46.0                74.7   \n",
       "5                    44.0                 -30.0                19.7   \n",
       "6                    85.0                  48.0                76.7   \n",
       "7                    61.0                 -17.0                33.9   \n",
       "8                    42.0                  -8.0                29.2   \n",
       "9                    87.0                  43.0                76.0   \n",
       "10                   90.0                  52.0                81.7   \n",
       "11                   86.0                  33.0                63.5   \n",
       "\n",
       "    MEAN DAILY MINIMUM  MEAN DEW POINT  MEAN WET BULB  \\\n",
       "0                 35.1             NaN            NaN   \n",
       "1                 35.6             NaN            NaN   \n",
       "2                 21.5            22.6           26.4   \n",
       "3                  2.4             NaN            NaN   \n",
       "4                 55.5            57.5           60.6   \n",
       "5                  4.4             8.3           11.3   \n",
       "6                 56.7            57.8           61.1   \n",
       "7                 17.9             NaN            NaN   \n",
       "8                 13.9            18.3           21.6   \n",
       "9                 56.5            55.2           59.9   \n",
       "10                62.6            64.3           67.3   \n",
       "11                44.3            43.0           48.2   \n",
       "\n",
       "    NUM DAYS W  MAXIMUM <= 32°  NUM DAYS W  MINIMUM <= 32°  \\\n",
       "0                          0.0                        11.0   \n",
       "1                          1.0                        14.0   \n",
       "2                         12.0                        29.0   \n",
       "3                         24.0                        27.0   \n",
       "4                          0.0                         0.0   \n",
       "5                         25.0                        31.0   \n",
       "6                          0.0                         0.0   \n",
       "7                         11.0                        27.0   \n",
       "8                         17.0                        31.0   \n",
       "9                          0.0                         0.0   \n",
       "10                         0.0                         0.0   \n",
       "11                         0.0                         0.0   \n",
       "\n",
       "    NUM DAYS W MAXIMUM >=  90°  \n",
       "0                          0.0  \n",
       "1                          0.0  \n",
       "2                          0.0  \n",
       "3                          0.0  \n",
       "4                          0.0  \n",
       "5                          0.0  \n",
       "6                          0.0  \n",
       "7                          0.0  \n",
       "8                          0.0  \n",
       "9                          0.0  \n",
       "10                         1.0  \n",
       "11                         0.0  "
      ]
     },
     "execution_count": 20,
     "metadata": {},
     "output_type": "execute_result"
    }
   ],
   "source": [
    "# Your code here\n",
    "import calendar\n",
    "upper_months = list(map(lambda s: s.upper(), calendar.month_abbr))\n",
    "upper_months\n",
    "\n",
    "( (min_max\n",
    "    >> gather(\"Month\", \"Value\", upper_months[1:])\n",
    "    >> spread('ELEMENT', 'Value', 'Month')\n",
    "  )\n",
    "    .collect()\n",
    ") >> to_pandas"
   ]
  },
  {
   "cell_type": "code",
   "execution_count": null,
   "metadata": {},
   "outputs": [],
   "source": []
  }
 ],
 "metadata": {
  "celltoolbar": "Slideshow",
  "colab": {
   "provenance": []
  },
  "kernelspec": {
   "display_name": "Python 3 (ipykernel)",
   "language": "python",
   "name": "python3"
  },
  "language_info": {
   "codemirror_mode": {
    "name": "ipython",
    "version": 3
   },
   "file_extension": ".py",
   "mimetype": "text/x-python",
   "name": "python",
   "nbconvert_exporter": "python",
   "pygments_lexer": "ipython3",
   "version": "3.9.12"
  },
  "varInspector": {
   "cols": {
    "lenName": 16,
    "lenType": 16,
    "lenVar": 40
   },
   "kernels_config": {
    "python": {
     "delete_cmd_postfix": "",
     "delete_cmd_prefix": "del ",
     "library": "var_list.py",
     "varRefreshCmd": "print(var_dic_list())"
    },
    "r": {
     "delete_cmd_postfix": ") ",
     "delete_cmd_prefix": "rm(",
     "library": "var_list.r",
     "varRefreshCmd": "cat(var_dic_list()) "
    }
   },
   "types_to_exclude": [
    "module",
    "function",
    "builtin_function_or_method",
    "instance",
    "_Feature"
   ],
   "window_display": false
  }
 },
 "nbformat": 4,
 "nbformat_minor": 1
}
