{
 "cells": [
  {
   "cell_type": "markdown",
   "metadata": {
    "id": "7Mlgw_b7XiVC"
   },
   "source": [
    "#### Setting up Colab\n",
    "\n",
    "To run this notebook on [Google's Colab](https://colab.research.google.com), you will need to perform the following steps."
   ]
  },
  {
   "cell_type": "markdown",
   "metadata": {
    "id": "SzUjNM8lXiBO"
   },
   "source": [
    "Step 1. Install pyspark\n",
    "\n",
    "Since pyspark isn't included in Colab's Python installation, you will need to install it each time you open this notebook."
   ]
  },
  {
   "cell_type": "code",
   "execution_count": 1,
   "metadata": {
    "colab": {
     "base_uri": "https://localhost:8080/"
    },
    "id": "Mo4M2FIPXju1",
    "outputId": "fe3ce963-c737-498b-b960-8824774ba44e"
   },
   "outputs": [
    {
     "name": "stdout",
     "output_type": "stream",
     "text": [
      "Looking in indexes: https://pypi.org/simple, https://us-python.pkg.dev/colab-wheels/public/simple/\n",
      "Collecting pyspark\n",
      "  Downloading pyspark-3.3.0.tar.gz (281.3 MB)\n",
      "\u001b[K     |████████████████████████████████| 281.3 MB 43 kB/s \n",
      "\u001b[?25hCollecting py4j==0.10.9.5\n",
      "  Downloading py4j-0.10.9.5-py2.py3-none-any.whl (199 kB)\n",
      "\u001b[K     |████████████████████████████████| 199 kB 47.7 MB/s \n",
      "\u001b[?25hBuilding wheels for collected packages: pyspark\n",
      "  Building wheel for pyspark (setup.py) ... \u001b[?25l\u001b[?25hdone\n",
      "  Created wheel for pyspark: filename=pyspark-3.3.0-py2.py3-none-any.whl size=281764026 sha256=47525917b3b96a30b4f5fb73a81c625b2b7e1511e182df30d0b2af455ac3c32d\n",
      "  Stored in directory: /root/.cache/pip/wheels/7a/8e/1b/f73a52650d2e5f337708d9f6a1750d451a7349a867f928b885\n",
      "Successfully built pyspark\n",
      "Installing collected packages: py4j, pyspark\n",
      "Successfully installed py4j-0.10.9.5 pyspark-3.3.0\n"
     ]
    }
   ],
   "source": [
    "!pip install pyspark"
   ]
  },
  {
   "cell_type": "code",
   "execution_count": 2,
   "metadata": {
    "colab": {
     "base_uri": "https://localhost:8080/"
    },
    "id": "MYtA-0VnXjhU",
    "outputId": "1e56a9d9-21ba-4081-eee9-fa189e64de33"
   },
   "outputs": [
    {
     "name": "stdout",
     "output_type": "stream",
     "text": [
      "Looking in indexes: https://pypi.org/simple, https://us-python.pkg.dev/colab-wheels/public/simple/\n",
      "Collecting composable\n",
      "  Downloading composable-0.2.5-py3-none-any.whl (7.3 kB)\n",
      "Collecting python-forge<19.0,>=18.6\n",
      "  Downloading python_forge-18.6.0-py35-none-any.whl (31 kB)\n",
      "Collecting toolz<0.12.0,>=0.11.1\n",
      "  Downloading toolz-0.11.2-py3-none-any.whl (55 kB)\n",
      "\u001b[K     |████████████████████████████████| 55 kB 3.4 MB/s \n",
      "\u001b[?25hInstalling collected packages: toolz, python-forge, composable\n",
      "  Attempting uninstall: toolz\n",
      "    Found existing installation: toolz 0.12.0\n",
      "    Uninstalling toolz-0.12.0:\n",
      "      Successfully uninstalled toolz-0.12.0\n",
      "Successfully installed composable-0.2.5 python-forge-18.6.0 toolz-0.11.2\n"
     ]
    }
   ],
   "source": [
    "!pip install composable"
   ]
  },
  {
   "cell_type": "markdown",
   "metadata": {
    "id": "eokVJuuuXkMe"
   },
   "source": [
    "Step 2. Download and unzip the data\n",
    "\n",
    "Next, the easiest way to access the data from the module is to download and unzip."
   ]
  },
  {
   "cell_type": "code",
   "execution_count": 3,
   "metadata": {
    "colab": {
     "base_uri": "https://localhost:8080/"
    },
    "id": "TvtpMxEbXlbG",
    "outputId": "31f731b7-bf0a-4ed7-9970-d2cb9ef5ac52"
   },
   "outputs": [
    {
     "name": "stdout",
     "output_type": "stream",
     "text": [
      "--2022-10-11 14:08:09--  https://github.com/wsu-stat489/module5_intro_to_pyspark/raw/main/data.zip\n",
      "Resolving github.com (github.com)... 140.82.113.3\n",
      "Connecting to github.com (github.com)|140.82.113.3|:443... connected.\n",
      "HTTP request sent, awaiting response... 302 Found\n",
      "Location: https://raw.githubusercontent.com/wsu-stat489/module5_intro_to_pyspark/main/data.zip [following]\n",
      "--2022-10-11 14:08:09--  https://raw.githubusercontent.com/wsu-stat489/module5_intro_to_pyspark/main/data.zip\n",
      "Resolving raw.githubusercontent.com (raw.githubusercontent.com)... 185.199.108.133, 185.199.109.133, 185.199.110.133, ...\n",
      "Connecting to raw.githubusercontent.com (raw.githubusercontent.com)|185.199.108.133|:443... connected.\n",
      "HTTP request sent, awaiting response... 200 OK\n",
      "Length: 14959102 (14M) [application/zip]\n",
      "Saving to: ‘data.zip’\n",
      "\n",
      "data.zip            100%[===================>]  14.27M  --.-KB/s    in 0.1s    \n",
      "\n",
      "2022-10-11 14:08:09 (120 MB/s) - ‘data.zip’ saved [14959102/14959102]\n",
      "\n"
     ]
    }
   ],
   "source": [
    "!wget https://github.com/wsu-stat489/module5_intro_to_pyspark/raw/main/data.zip"
   ]
  },
  {
   "cell_type": "code",
   "execution_count": 4,
   "metadata": {
    "colab": {
     "base_uri": "https://localhost:8080/"
    },
    "id": "F2xs7YfcXlMy",
    "outputId": "0d19e4a1-8c9a-47fc-968f-1f2be4f206b9"
   },
   "outputs": [
    {
     "name": "stdout",
     "output_type": "stream",
     "text": [
      "Archive:  data.zip\n",
      "   creating: data/\n",
      "  inflating: __MACOSX/._data         \n",
      "  inflating: data/Rochester_temps_2019.xlsx  \n",
      "  inflating: __MACOSX/data/._Rochester_temps_2019.xlsx  \n",
      "  inflating: data/uber-raw-data-jun14-sample.csv  \n",
      "  inflating: __MACOSX/data/._uber-raw-data-jun14-sample.csv  \n",
      "  inflating: data/heroes_information.csv  \n",
      "  inflating: __MACOSX/data/._heroes_information.csv  \n",
      "  inflating: data/employee.csv       \n",
      "  inflating: __MACOSX/data/._employee.csv  \n",
      "  inflating: data/uber-raw-data-apr14-sample.csv  \n",
      "  inflating: __MACOSX/data/._uber-raw-data-apr14-sample.csv  \n",
      "   creating: data/baseball/\n",
      "  inflating: __MACOSX/data/._baseball  \n",
      "  inflating: data/uber-raw-data-may14-sample.csv  \n",
      "  inflating: __MACOSX/data/._uber-raw-data-may14-sample.csv  \n",
      "  inflating: data/auto_sales_apr.csv  \n",
      "  inflating: __MACOSX/data/._auto_sales_apr.csv  \n",
      "  inflating: data/uber-raw-data-sep14-sample.csv  \n",
      "  inflating: __MACOSX/data/._uber-raw-data-sep14-sample.csv  \n",
      "  inflating: data/department.csv     \n",
      "  inflating: __MACOSX/data/._department.csv  \n",
      "  inflating: data/PEW_income_religion.csv  \n",
      "  inflating: __MACOSX/data/._PEW_income_religion.csv  \n",
      "  inflating: data/health_survey.csv  \n",
      "  inflating: __MACOSX/data/._health_survey.csv  \n",
      "  inflating: data/TB_bad.csv         \n",
      "  inflating: __MACOSX/data/._TB_bad.csv  \n",
      "  inflating: data/uber-raw-data-aug14-sample.csv  \n",
      "  inflating: __MACOSX/data/._uber-raw-data-aug14-sample.csv  \n",
      "  inflating: data/uber-raw-data-jul14-sample.csv  \n",
      "  inflating: __MACOSX/data/._uber-raw-data-jul14-sample.csv  \n",
      "  inflating: data/auto_sales_may.csv  \n",
      "  inflating: __MACOSX/data/._auto_sales_may.csv  \n",
      "  inflating: data/auto_sales.csv     \n",
      "  inflating: __MACOSX/data/._auto_sales.csv  \n",
      "  inflating: data/Rochester_temps_2019.csv  \n",
      "  inflating: __MACOSX/data/._Rochester_temps_2019.csv  \n",
      "   creating: data/baseball/core/\n",
      "  inflating: __MACOSX/data/baseball/._core  \n",
      "  inflating: data/baseball/README.txt  \n",
      "  inflating: __MACOSX/data/baseball/._README.txt  \n",
      "   creating: data/baseball/upstream/\n",
      "  inflating: __MACOSX/data/baseball/._upstream  \n",
      "  inflating: data/baseball/core/AwardsManagers.csv  \n",
      "  inflating: __MACOSX/data/baseball/core/._AwardsManagers.csv  \n",
      "  inflating: data/baseball/core/Managers.csv  \n",
      "  inflating: __MACOSX/data/baseball/core/._Managers.csv  \n",
      "  inflating: data/baseball/core/AwardsPlayers.csv  \n",
      "  inflating: __MACOSX/data/baseball/core/._AwardsPlayers.csv  \n",
      "  inflating: data/baseball/core/Fielding.csv  \n",
      "  inflating: __MACOSX/data/baseball/core/._Fielding.csv  \n",
      "  inflating: data/baseball/core/Salaries.csv  \n",
      "  inflating: __MACOSX/data/baseball/core/._Salaries.csv  \n",
      "  inflating: data/baseball/core/Parks.csv  \n",
      "  inflating: __MACOSX/data/baseball/core/._Parks.csv  \n",
      "  inflating: data/baseball/core/Schools.csv  \n",
      "  inflating: __MACOSX/data/baseball/core/._Schools.csv  \n",
      "  inflating: data/baseball/core/People.csv  \n",
      "  inflating: __MACOSX/data/baseball/core/._People.csv  \n",
      "  inflating: data/baseball/core/PitchingPost.csv  \n",
      "  inflating: __MACOSX/data/baseball/core/._PitchingPost.csv  \n",
      "  inflating: data/baseball/core/Teams.csv  \n",
      "  inflating: __MACOSX/data/baseball/core/._Teams.csv  \n",
      "  inflating: data/baseball/core/Appearances.csv  \n",
      "  inflating: __MACOSX/data/baseball/core/._Appearances.csv  \n",
      "  inflating: data/baseball/core/AwardsSharePlayers.csv  \n",
      "  inflating: __MACOSX/data/baseball/core/._AwardsSharePlayers.csv  \n",
      "  inflating: data/baseball/core/TeamsFranchises.csv  \n",
      "  inflating: __MACOSX/data/baseball/core/._TeamsFranchises.csv  \n",
      "  inflating: data/baseball/core/Batting.csv  \n",
      "  inflating: __MACOSX/data/baseball/core/._Batting.csv  \n",
      "  inflating: data/baseball/core/ManagersHalf.csv  \n",
      "  inflating: __MACOSX/data/baseball/core/._ManagersHalf.csv  \n",
      "  inflating: data/baseball/core/FieldingOF.csv  \n",
      "  inflating: __MACOSX/data/baseball/core/._FieldingOF.csv  \n",
      "  inflating: data/baseball/core/Pitching.csv  \n",
      "  inflating: __MACOSX/data/baseball/core/._Pitching.csv  \n",
      "  inflating: data/baseball/core/CollegePlaying.csv  \n",
      "  inflating: __MACOSX/data/baseball/core/._CollegePlaying.csv  \n",
      "  inflating: data/baseball/core/HomeGames.csv  \n",
      "  inflating: __MACOSX/data/baseball/core/._HomeGames.csv  \n",
      "  inflating: data/baseball/core/HallOfFame.csv  \n",
      "  inflating: __MACOSX/data/baseball/core/._HallOfFame.csv  \n",
      "  inflating: data/baseball/core/readme2014.txt  \n",
      "  inflating: __MACOSX/data/baseball/core/._readme2014.txt  \n",
      "  inflating: data/baseball/core/AwardsShareManagers.csv  \n",
      "  inflating: __MACOSX/data/baseball/core/._AwardsShareManagers.csv  \n",
      "  inflating: data/baseball/core/BattingPost.csv  \n",
      "  inflating: __MACOSX/data/baseball/core/._BattingPost.csv  \n",
      "  inflating: data/baseball/core/TeamsHalf.csv  \n",
      "  inflating: __MACOSX/data/baseball/core/._TeamsHalf.csv  \n",
      "  inflating: data/baseball/core/SeriesPost.csv  \n",
      "  inflating: __MACOSX/data/baseball/core/._SeriesPost.csv  \n",
      "  inflating: data/baseball/core/FieldingPost.csv  \n",
      "  inflating: __MACOSX/data/baseball/core/._FieldingPost.csv  \n",
      "  inflating: data/baseball/core/AllstarFull.csv  \n",
      "  inflating: __MACOSX/data/baseball/core/._AllstarFull.csv  \n",
      "  inflating: data/baseball/core/FieldingOFsplit.csv  \n",
      "  inflating: __MACOSX/data/baseball/core/._FieldingOFsplit.csv  \n",
      "  inflating: data/baseball/upstream/Teams.csv  \n",
      "  inflating: __MACOSX/data/baseball/upstream/._Teams.csv  \n"
     ]
    }
   ],
   "source": [
    "!unzip data.zip"
   ]
  },
  {
   "cell_type": "code",
   "execution_count": 5,
   "metadata": {
    "colab": {
     "base_uri": "https://localhost:8080/"
    },
    "id": "rYOYjR2UXk6V",
    "outputId": "6c264396-c906-4f9d-c896-c29dee0f3120"
   },
   "outputs": [
    {
     "name": "stdout",
     "output_type": "stream",
     "text": [
      "--2022-10-11 14:08:10--  https://github.com/wsu-stat489/module5_intro_to_pyspark/raw/main/more_pyspark.py\n",
      "Resolving github.com (github.com)... 140.82.114.4\n",
      "Connecting to github.com (github.com)|140.82.114.4|:443... connected.\n",
      "HTTP request sent, awaiting response... 302 Found\n",
      "Location: https://raw.githubusercontent.com/wsu-stat489/module5_intro_to_pyspark/main/more_pyspark.py [following]\n",
      "--2022-10-11 14:08:10--  https://raw.githubusercontent.com/wsu-stat489/module5_intro_to_pyspark/main/more_pyspark.py\n",
      "Resolving raw.githubusercontent.com (raw.githubusercontent.com)... 185.199.108.133, 185.199.109.133, 185.199.110.133, ...\n",
      "Connecting to raw.githubusercontent.com (raw.githubusercontent.com)|185.199.108.133|:443... connected.\n",
      "HTTP request sent, awaiting response... 200 OK\n",
      "Length: 2786 (2.7K) [text/plain]\n",
      "Saving to: ‘more_pyspark.py’\n",
      "\n",
      "more_pyspark.py     100%[===================>]   2.72K  --.-KB/s    in 0s      \n",
      "\n",
      "2022-10-11 14:08:10 (27.1 MB/s) - ‘more_pyspark.py’ saved [2786/2786]\n",
      "\n"
     ]
    }
   ],
   "source": [
    "!wget https://github.com/wsu-stat489/module5_intro_to_pyspark/raw/main/more_pyspark.py"
   ]
  },
  {
   "cell_type": "markdown",
   "metadata": {
    "id": "5KyUoLMeXgiE"
   },
   "source": [
    "# Concatenating Tables with Set-Like Operations in `pyspark`\n",
    "\n",
    "Now let's look at combining tables with `union`, `intersect`, and `except` in `pyspark`."
   ]
  },
  {
   "cell_type": "markdown",
   "metadata": {
    "id": "7nnK6fBLXgiG"
   },
   "source": [
    "## Example - Auto Sales in Spark"
   ]
  },
  {
   "cell_type": "code",
   "execution_count": 1,
   "metadata": {
    "id": "MMZ5sH81XgiH"
   },
   "outputs": [
    {
     "name": "stdout",
     "output_type": "stream",
     "text": [
      "22/10/27 22:44:24 WARN Utils: Your hostname, nn1448lr222 resolves to a loopback address: 127.0.1.1; using 172.17.25.238 instead (on interface eth0)\n",
      "22/10/27 22:44:24 WARN Utils: Set SPARK_LOCAL_IP if you need to bind to another address\n"
     ]
    },
    {
     "name": "stderr",
     "output_type": "stream",
     "text": [
      "Setting default log level to \"WARN\".\n",
      "To adjust logging level use sc.setLogLevel(newLevel). For SparkR, use setLogLevel(newLevel).\n"
     ]
    },
    {
     "name": "stdout",
     "output_type": "stream",
     "text": [
      "22/10/27 22:44:26 WARN NativeCodeLoader: Unable to load native-hadoop library for your platform... using builtin-java classes where applicable\n",
      "22/10/27 22:44:28 WARN Utils: Service 'SparkUI' could not bind on port 4040. Attempting port 4041.\n",
      "22/10/27 22:44:28 WARN Utils: Service 'SparkUI' could not bind on port 4041. Attempting port 4042.\n",
      "22/10/27 22:44:28 WARN Utils: Service 'SparkUI' could not bind on port 4042. Attempting port 4043.\n",
      "22/10/27 22:44:28 WARN Utils: Service 'SparkUI' could not bind on port 4043. Attempting port 4044.\n",
      "22/10/27 22:44:28 WARN Utils: Service 'SparkUI' could not bind on port 4044. Attempting port 4045.\n",
      "22/10/27 22:44:28 WARN Utils: Service 'SparkUI' could not bind on port 4045. Attempting port 4046.\n",
      "22/10/27 22:44:28 WARN Utils: Service 'SparkUI' could not bind on port 4046. Attempting port 4047.\n"
     ]
    }
   ],
   "source": [
    "from pyspark.sql import SparkSession\n",
    "spark = SparkSession.builder.appName('Ops').config('spark.driver.host', 'localhost').getOrCreate()"
   ]
  },
  {
   "cell_type": "code",
   "execution_count": 2,
   "metadata": {
    "colab": {
     "base_uri": "https://localhost:8080/",
     "height": 173
    },
    "id": "HwaGmMzgXgiI",
    "outputId": "7c4bc8d1-30ce-4a6d-c754-191684ccd1e0"
   },
   "outputs": [
    {
     "name": "stderr",
     "output_type": "stream",
     "text": [
      "\r",
      "[Stage 0:>                                                          (0 + 1) / 1]\r",
      "\r",
      "                                                                                \r"
     ]
    },
    {
     "name": "stdout",
     "output_type": "stream",
     "text": [
      "22/10/27 22:44:43 WARN CSVHeaderChecker: CSV header does not conform to the schema.\n",
      " Header: , Salesperson, Compact, Sedan, SUV, Truck\n",
      " Schema: _c0, Salesperson, Compact, Sedan, SUV, Truck\n",
      "Expected: _c0 but found: \n",
      "CSV file: file:///home/wavessurfer/github-classroom/wsu-stat489/module-5-lectures-wavessurfer/data/auto_sales_apr.csv\n"
     ]
    },
    {
     "data": {
      "text/html": [
       "<div>\n",
       "<style scoped>\n",
       "    .dataframe tbody tr th:only-of-type {\n",
       "        vertical-align: middle;\n",
       "    }\n",
       "\n",
       "    .dataframe tbody tr th {\n",
       "        vertical-align: top;\n",
       "    }\n",
       "\n",
       "    .dataframe thead th {\n",
       "        text-align: right;\n",
       "    }\n",
       "</style>\n",
       "<table border=\"1\" class=\"dataframe\">\n",
       "  <thead>\n",
       "    <tr style=\"text-align: right;\">\n",
       "      <th></th>\n",
       "      <th>_c0</th>\n",
       "      <th>Salesperson</th>\n",
       "      <th>Compact</th>\n",
       "      <th>Sedan</th>\n",
       "      <th>SUV</th>\n",
       "      <th>Truck</th>\n",
       "    </tr>\n",
       "  </thead>\n",
       "  <tbody>\n",
       "    <tr>\n",
       "      <th>0</th>\n",
       "      <td>0</td>\n",
       "      <td>Ann</td>\n",
       "      <td>22</td>\n",
       "      <td>18</td>\n",
       "      <td>15</td>\n",
       "      <td>12</td>\n",
       "    </tr>\n",
       "    <tr>\n",
       "      <th>1</th>\n",
       "      <td>1</td>\n",
       "      <td>Bob</td>\n",
       "      <td>19</td>\n",
       "      <td>12</td>\n",
       "      <td>17</td>\n",
       "      <td>20</td>\n",
       "    </tr>\n",
       "    <tr>\n",
       "      <th>2</th>\n",
       "      <td>2</td>\n",
       "      <td>Yolanda</td>\n",
       "      <td>19</td>\n",
       "      <td>8</td>\n",
       "      <td>32</td>\n",
       "      <td>15</td>\n",
       "    </tr>\n",
       "    <tr>\n",
       "      <th>3</th>\n",
       "      <td>3</td>\n",
       "      <td>Xerxes</td>\n",
       "      <td>12</td>\n",
       "      <td>23</td>\n",
       "      <td>18</td>\n",
       "      <td>9</td>\n",
       "    </tr>\n",
       "  </tbody>\n",
       "</table>\n",
       "</div>"
      ],
      "text/plain": [
       "   _c0 Salesperson  Compact  Sedan  SUV  Truck\n",
       "0    0         Ann       22     18   15     12\n",
       "1    1         Bob       19     12   17     20\n",
       "2    2     Yolanda       19      8   32     15\n",
       "3    3      Xerxes       12     23   18      9"
      ]
     },
     "execution_count": 2,
     "metadata": {},
     "output_type": "execute_result"
    }
   ],
   "source": [
    "from more_pyspark import to_pandas\n",
    "sales_apr = spark.read.csv(\"./data/auto_sales_apr.csv\",  header=True, inferSchema=True)\n",
    "sales_apr.collect() >> to_pandas"
   ]
  },
  {
   "cell_type": "code",
   "execution_count": 3,
   "metadata": {
    "colab": {
     "base_uri": "https://localhost:8080/",
     "height": 173
    },
    "id": "h8dYa5Q7XgiK",
    "outputId": "8d4b4c8b-fda3-4ee1-b713-70a55be97e74"
   },
   "outputs": [
    {
     "name": "stdout",
     "output_type": "stream",
     "text": [
      "22/10/27 22:44:54 WARN CSVHeaderChecker: CSV header does not conform to the schema.\n",
      " Header: , Salesperson, Compact, Sedan, SUV, Truck\n",
      " Schema: _c0, Salesperson, Compact, Sedan, SUV, Truck\n",
      "Expected: _c0 but found: \n",
      "CSV file: file:///home/wavessurfer/github-classroom/wsu-stat489/module-5-lectures-wavessurfer/data/auto_sales_may.csv\n"
     ]
    },
    {
     "data": {
      "text/html": [
       "<div>\n",
       "<style scoped>\n",
       "    .dataframe tbody tr th:only-of-type {\n",
       "        vertical-align: middle;\n",
       "    }\n",
       "\n",
       "    .dataframe tbody tr th {\n",
       "        vertical-align: top;\n",
       "    }\n",
       "\n",
       "    .dataframe thead th {\n",
       "        text-align: right;\n",
       "    }\n",
       "</style>\n",
       "<table border=\"1\" class=\"dataframe\">\n",
       "  <thead>\n",
       "    <tr style=\"text-align: right;\">\n",
       "      <th></th>\n",
       "      <th>_c0</th>\n",
       "      <th>Salesperson</th>\n",
       "      <th>Compact</th>\n",
       "      <th>Sedan</th>\n",
       "      <th>SUV</th>\n",
       "      <th>Truck</th>\n",
       "    </tr>\n",
       "  </thead>\n",
       "  <tbody>\n",
       "    <tr>\n",
       "      <th>0</th>\n",
       "      <td>0</td>\n",
       "      <td>Ann</td>\n",
       "      <td>22</td>\n",
       "      <td>18</td>\n",
       "      <td>15</td>\n",
       "      <td>12</td>\n",
       "    </tr>\n",
       "    <tr>\n",
       "      <th>1</th>\n",
       "      <td>1</td>\n",
       "      <td>Bob</td>\n",
       "      <td>20</td>\n",
       "      <td>14</td>\n",
       "      <td>6</td>\n",
       "      <td>24</td>\n",
       "    </tr>\n",
       "    <tr>\n",
       "      <th>2</th>\n",
       "      <td>2</td>\n",
       "      <td>Yolanda</td>\n",
       "      <td>19</td>\n",
       "      <td>10</td>\n",
       "      <td>28</td>\n",
       "      <td>17</td>\n",
       "    </tr>\n",
       "    <tr>\n",
       "      <th>3</th>\n",
       "      <td>3</td>\n",
       "      <td>Xerxes</td>\n",
       "      <td>11</td>\n",
       "      <td>27</td>\n",
       "      <td>17</td>\n",
       "      <td>9</td>\n",
       "    </tr>\n",
       "  </tbody>\n",
       "</table>\n",
       "</div>"
      ],
      "text/plain": [
       "   _c0 Salesperson  Compact  Sedan  SUV  Truck\n",
       "0    0         Ann       22     18   15     12\n",
       "1    1         Bob       20     14    6     24\n",
       "2    2     Yolanda       19     10   28     17\n",
       "3    3      Xerxes       11     27   17      9"
      ]
     },
     "execution_count": 3,
     "metadata": {},
     "output_type": "execute_result"
    }
   ],
   "source": [
    "sales_may = spark.read.csv(\"./data/auto_sales_may.csv\",  header=True, inferSchema=True)\n",
    "sales_may.collect() >> to_pandas"
   ]
  },
  {
   "cell_type": "markdown",
   "metadata": {
    "id": "8EMcdKF0XgiK"
   },
   "source": [
    "## `UNION ALL` in `pyspark`\n",
    "\n",
    "Both `union` and `unionAll` area actually `UNION ALL`"
   ]
  },
  {
   "cell_type": "code",
   "execution_count": 4,
   "metadata": {
    "colab": {
     "base_uri": "https://localhost:8080/",
     "height": 297
    },
    "id": "YHgOomzAXgiL",
    "outputId": "829d83f9-7833-44a4-89de-7a6161d1b17d"
   },
   "outputs": [
    {
     "name": "stdout",
     "output_type": "stream",
     "text": [
      "22/10/27 22:45:18 WARN CSVHeaderChecker: CSV header does not conform to the schema.\n",
      " Header: , Salesperson, Compact, Sedan, SUV, Truck\n",
      " Schema: _c0, Salesperson, Compact, Sedan, SUV, Truck\n",
      "Expected: _c0 but found: \n",
      "CSV file: file:///home/wavessurfer/github-classroom/wsu-stat489/module-5-lectures-wavessurfer/data/auto_sales_apr.csv\n",
      "22/10/27 22:45:18 WARN CSVHeaderChecker: CSV header does not conform to the schema.\n",
      " Header: , Salesperson, Compact, Sedan, SUV, Truck\n",
      " Schema: _c0, Salesperson, Compact, Sedan, SUV, Truck\n",
      "Expected: _c0 but found: \n",
      "CSV file: file:///home/wavessurfer/github-classroom/wsu-stat489/module-5-lectures-wavessurfer/data/auto_sales_may.csv\n"
     ]
    },
    {
     "data": {
      "text/html": [
       "<div>\n",
       "<style scoped>\n",
       "    .dataframe tbody tr th:only-of-type {\n",
       "        vertical-align: middle;\n",
       "    }\n",
       "\n",
       "    .dataframe tbody tr th {\n",
       "        vertical-align: top;\n",
       "    }\n",
       "\n",
       "    .dataframe thead th {\n",
       "        text-align: right;\n",
       "    }\n",
       "</style>\n",
       "<table border=\"1\" class=\"dataframe\">\n",
       "  <thead>\n",
       "    <tr style=\"text-align: right;\">\n",
       "      <th></th>\n",
       "      <th>_c0</th>\n",
       "      <th>Salesperson</th>\n",
       "      <th>Compact</th>\n",
       "      <th>Sedan</th>\n",
       "      <th>SUV</th>\n",
       "      <th>Truck</th>\n",
       "    </tr>\n",
       "  </thead>\n",
       "  <tbody>\n",
       "    <tr>\n",
       "      <th>0</th>\n",
       "      <td>0</td>\n",
       "      <td>Ann</td>\n",
       "      <td>22</td>\n",
       "      <td>18</td>\n",
       "      <td>15</td>\n",
       "      <td>12</td>\n",
       "    </tr>\n",
       "    <tr>\n",
       "      <th>1</th>\n",
       "      <td>1</td>\n",
       "      <td>Bob</td>\n",
       "      <td>19</td>\n",
       "      <td>12</td>\n",
       "      <td>17</td>\n",
       "      <td>20</td>\n",
       "    </tr>\n",
       "    <tr>\n",
       "      <th>2</th>\n",
       "      <td>2</td>\n",
       "      <td>Yolanda</td>\n",
       "      <td>19</td>\n",
       "      <td>8</td>\n",
       "      <td>32</td>\n",
       "      <td>15</td>\n",
       "    </tr>\n",
       "    <tr>\n",
       "      <th>3</th>\n",
       "      <td>3</td>\n",
       "      <td>Xerxes</td>\n",
       "      <td>12</td>\n",
       "      <td>23</td>\n",
       "      <td>18</td>\n",
       "      <td>9</td>\n",
       "    </tr>\n",
       "    <tr>\n",
       "      <th>4</th>\n",
       "      <td>0</td>\n",
       "      <td>Ann</td>\n",
       "      <td>22</td>\n",
       "      <td>18</td>\n",
       "      <td>15</td>\n",
       "      <td>12</td>\n",
       "    </tr>\n",
       "    <tr>\n",
       "      <th>5</th>\n",
       "      <td>1</td>\n",
       "      <td>Bob</td>\n",
       "      <td>20</td>\n",
       "      <td>14</td>\n",
       "      <td>6</td>\n",
       "      <td>24</td>\n",
       "    </tr>\n",
       "    <tr>\n",
       "      <th>6</th>\n",
       "      <td>2</td>\n",
       "      <td>Yolanda</td>\n",
       "      <td>19</td>\n",
       "      <td>10</td>\n",
       "      <td>28</td>\n",
       "      <td>17</td>\n",
       "    </tr>\n",
       "    <tr>\n",
       "      <th>7</th>\n",
       "      <td>3</td>\n",
       "      <td>Xerxes</td>\n",
       "      <td>11</td>\n",
       "      <td>27</td>\n",
       "      <td>17</td>\n",
       "      <td>9</td>\n",
       "    </tr>\n",
       "  </tbody>\n",
       "</table>\n",
       "</div>"
      ],
      "text/plain": [
       "   _c0 Salesperson  Compact  Sedan  SUV  Truck\n",
       "0    0         Ann       22     18   15     12\n",
       "1    1         Bob       19     12   17     20\n",
       "2    2     Yolanda       19      8   32     15\n",
       "3    3      Xerxes       12     23   18      9\n",
       "4    0         Ann       22     18   15     12\n",
       "5    1         Bob       20     14    6     24\n",
       "6    2     Yolanda       19     10   28     17\n",
       "7    3      Xerxes       11     27   17      9"
      ]
     },
     "execution_count": 4,
     "metadata": {},
     "output_type": "execute_result"
    }
   ],
   "source": [
    "(sales_apr\n",
    " .union(sales_may)\n",
    " .collect()\n",
    ") >> to_pandas"
   ]
  },
  {
   "cell_type": "markdown",
   "metadata": {
    "id": "95CEbRnYXgiM"
   },
   "source": [
    "## `UNION/UNION DISTINCT` in `pyspark`\n",
    "\n",
    "Use `distinct` to get the usual `UNION/UNION DISTINCT`"
   ]
  },
  {
   "cell_type": "code",
   "execution_count": 5,
   "metadata": {
    "colab": {
     "base_uri": "https://localhost:8080/",
     "height": 266
    },
    "id": "Z5PCTPi6XgiN",
    "outputId": "241b802c-3e19-4341-e4aa-c5f5ed3ed83c"
   },
   "outputs": [
    {
     "name": "stdout",
     "output_type": "stream",
     "text": [
      "22/10/27 22:45:43 WARN CSVHeaderChecker: CSV header does not conform to the schema.\n",
      " Header: , Salesperson, Compact, Sedan, SUV, Truck\n",
      " Schema: _c0, Salesperson, Compact, Sedan, SUV, Truck\n",
      "Expected: _c0 but found: \n",
      "CSV file: file:///home/wavessurfer/github-classroom/wsu-stat489/module-5-lectures-wavessurfer/data/auto_sales_may.csv\n",
      "22/10/27 22:45:43 WARN CSVHeaderChecker: CSV header does not conform to the schema.\n",
      " Header: , Salesperson, Compact, Sedan, SUV, Truck\n",
      " Schema: _c0, Salesperson, Compact, Sedan, SUV, Truck\n",
      "Expected: _c0 but found: \n",
      "CSV file: file:///home/wavessurfer/github-classroom/wsu-stat489/module-5-lectures-wavessurfer/data/auto_sales_apr.csv\n"
     ]
    },
    {
     "data": {
      "text/html": [
       "<div>\n",
       "<style scoped>\n",
       "    .dataframe tbody tr th:only-of-type {\n",
       "        vertical-align: middle;\n",
       "    }\n",
       "\n",
       "    .dataframe tbody tr th {\n",
       "        vertical-align: top;\n",
       "    }\n",
       "\n",
       "    .dataframe thead th {\n",
       "        text-align: right;\n",
       "    }\n",
       "</style>\n",
       "<table border=\"1\" class=\"dataframe\">\n",
       "  <thead>\n",
       "    <tr style=\"text-align: right;\">\n",
       "      <th></th>\n",
       "      <th>_c0</th>\n",
       "      <th>Salesperson</th>\n",
       "      <th>Compact</th>\n",
       "      <th>Sedan</th>\n",
       "      <th>SUV</th>\n",
       "      <th>Truck</th>\n",
       "    </tr>\n",
       "  </thead>\n",
       "  <tbody>\n",
       "    <tr>\n",
       "      <th>0</th>\n",
       "      <td>2</td>\n",
       "      <td>Yolanda</td>\n",
       "      <td>19</td>\n",
       "      <td>8</td>\n",
       "      <td>32</td>\n",
       "      <td>15</td>\n",
       "    </tr>\n",
       "    <tr>\n",
       "      <th>1</th>\n",
       "      <td>3</td>\n",
       "      <td>Xerxes</td>\n",
       "      <td>12</td>\n",
       "      <td>23</td>\n",
       "      <td>18</td>\n",
       "      <td>9</td>\n",
       "    </tr>\n",
       "    <tr>\n",
       "      <th>2</th>\n",
       "      <td>1</td>\n",
       "      <td>Bob</td>\n",
       "      <td>19</td>\n",
       "      <td>12</td>\n",
       "      <td>17</td>\n",
       "      <td>20</td>\n",
       "    </tr>\n",
       "    <tr>\n",
       "      <th>3</th>\n",
       "      <td>0</td>\n",
       "      <td>Ann</td>\n",
       "      <td>22</td>\n",
       "      <td>18</td>\n",
       "      <td>15</td>\n",
       "      <td>12</td>\n",
       "    </tr>\n",
       "    <tr>\n",
       "      <th>4</th>\n",
       "      <td>1</td>\n",
       "      <td>Bob</td>\n",
       "      <td>20</td>\n",
       "      <td>14</td>\n",
       "      <td>6</td>\n",
       "      <td>24</td>\n",
       "    </tr>\n",
       "    <tr>\n",
       "      <th>5</th>\n",
       "      <td>2</td>\n",
       "      <td>Yolanda</td>\n",
       "      <td>19</td>\n",
       "      <td>10</td>\n",
       "      <td>28</td>\n",
       "      <td>17</td>\n",
       "    </tr>\n",
       "    <tr>\n",
       "      <th>6</th>\n",
       "      <td>3</td>\n",
       "      <td>Xerxes</td>\n",
       "      <td>11</td>\n",
       "      <td>27</td>\n",
       "      <td>17</td>\n",
       "      <td>9</td>\n",
       "    </tr>\n",
       "  </tbody>\n",
       "</table>\n",
       "</div>"
      ],
      "text/plain": [
       "   _c0 Salesperson  Compact  Sedan  SUV  Truck\n",
       "0    2     Yolanda       19      8   32     15\n",
       "1    3      Xerxes       12     23   18      9\n",
       "2    1         Bob       19     12   17     20\n",
       "3    0         Ann       22     18   15     12\n",
       "4    1         Bob       20     14    6     24\n",
       "5    2     Yolanda       19     10   28     17\n",
       "6    3      Xerxes       11     27   17      9"
      ]
     },
     "execution_count": 5,
     "metadata": {},
     "output_type": "execute_result"
    }
   ],
   "source": [
    "(sales_apr\n",
    " .union(sales_may)\n",
    " .distinct()\n",
    " .collect()\n",
    ") >> to_pandas"
   ]
  },
  {
   "cell_type": "markdown",
   "metadata": {
    "id": "5Wi01RIsXgiO"
   },
   "source": [
    "## Adding a `month` column\n",
    "\n",
    "As mentioned before, we really should add a month column here. Note that we need to use `lit` to add a *literal constant*"
   ]
  },
  {
   "cell_type": "code",
   "execution_count": 6,
   "metadata": {
    "colab": {
     "base_uri": "https://localhost:8080/",
     "height": 297
    },
    "id": "oA5Dim8JXgiO",
    "outputId": "dd885f73-f929-4f1f-efe4-d72d50aabfe5"
   },
   "outputs": [
    {
     "name": "stdout",
     "output_type": "stream",
     "text": [
      "22/10/27 22:45:58 WARN CSVHeaderChecker: CSV header does not conform to the schema.\n",
      " Header: , Salesperson, Compact, Sedan, SUV, Truck\n",
      " Schema: _c0, Salesperson, Compact, Sedan, SUV, Truck\n",
      "Expected: _c0 but found: \n",
      "CSV file: file:///home/wavessurfer/github-classroom/wsu-stat489/module-5-lectures-wavessurfer/data/auto_sales_may.csv\n",
      "22/10/27 22:45:58 WARN CSVHeaderChecker: CSV header does not conform to the schema.\n",
      " Header: , Salesperson, Compact, Sedan, SUV, Truck\n",
      " Schema: _c0, Salesperson, Compact, Sedan, SUV, Truck\n",
      "Expected: _c0 but found: \n",
      "CSV file: file:///home/wavessurfer/github-classroom/wsu-stat489/module-5-lectures-wavessurfer/data/auto_sales_apr.csv\n"
     ]
    },
    {
     "data": {
      "text/html": [
       "<div>\n",
       "<style scoped>\n",
       "    .dataframe tbody tr th:only-of-type {\n",
       "        vertical-align: middle;\n",
       "    }\n",
       "\n",
       "    .dataframe tbody tr th {\n",
       "        vertical-align: top;\n",
       "    }\n",
       "\n",
       "    .dataframe thead th {\n",
       "        text-align: right;\n",
       "    }\n",
       "</style>\n",
       "<table border=\"1\" class=\"dataframe\">\n",
       "  <thead>\n",
       "    <tr style=\"text-align: right;\">\n",
       "      <th></th>\n",
       "      <th>_c0</th>\n",
       "      <th>Salesperson</th>\n",
       "      <th>Compact</th>\n",
       "      <th>Sedan</th>\n",
       "      <th>SUV</th>\n",
       "      <th>Truck</th>\n",
       "      <th>month</th>\n",
       "    </tr>\n",
       "  </thead>\n",
       "  <tbody>\n",
       "    <tr>\n",
       "      <th>0</th>\n",
       "      <td>0</td>\n",
       "      <td>Ann</td>\n",
       "      <td>22</td>\n",
       "      <td>18</td>\n",
       "      <td>15</td>\n",
       "      <td>12</td>\n",
       "      <td>April</td>\n",
       "    </tr>\n",
       "    <tr>\n",
       "      <th>1</th>\n",
       "      <td>1</td>\n",
       "      <td>Bob</td>\n",
       "      <td>19</td>\n",
       "      <td>12</td>\n",
       "      <td>17</td>\n",
       "      <td>20</td>\n",
       "      <td>April</td>\n",
       "    </tr>\n",
       "    <tr>\n",
       "      <th>2</th>\n",
       "      <td>2</td>\n",
       "      <td>Yolanda</td>\n",
       "      <td>19</td>\n",
       "      <td>8</td>\n",
       "      <td>32</td>\n",
       "      <td>15</td>\n",
       "      <td>April</td>\n",
       "    </tr>\n",
       "    <tr>\n",
       "      <th>3</th>\n",
       "      <td>3</td>\n",
       "      <td>Xerxes</td>\n",
       "      <td>12</td>\n",
       "      <td>23</td>\n",
       "      <td>18</td>\n",
       "      <td>9</td>\n",
       "      <td>April</td>\n",
       "    </tr>\n",
       "    <tr>\n",
       "      <th>4</th>\n",
       "      <td>0</td>\n",
       "      <td>Ann</td>\n",
       "      <td>22</td>\n",
       "      <td>18</td>\n",
       "      <td>15</td>\n",
       "      <td>12</td>\n",
       "      <td>May</td>\n",
       "    </tr>\n",
       "    <tr>\n",
       "      <th>5</th>\n",
       "      <td>1</td>\n",
       "      <td>Bob</td>\n",
       "      <td>20</td>\n",
       "      <td>14</td>\n",
       "      <td>6</td>\n",
       "      <td>24</td>\n",
       "      <td>May</td>\n",
       "    </tr>\n",
       "    <tr>\n",
       "      <th>6</th>\n",
       "      <td>2</td>\n",
       "      <td>Yolanda</td>\n",
       "      <td>19</td>\n",
       "      <td>10</td>\n",
       "      <td>28</td>\n",
       "      <td>17</td>\n",
       "      <td>May</td>\n",
       "    </tr>\n",
       "    <tr>\n",
       "      <th>7</th>\n",
       "      <td>3</td>\n",
       "      <td>Xerxes</td>\n",
       "      <td>11</td>\n",
       "      <td>27</td>\n",
       "      <td>17</td>\n",
       "      <td>9</td>\n",
       "      <td>May</td>\n",
       "    </tr>\n",
       "  </tbody>\n",
       "</table>\n",
       "</div>"
      ],
      "text/plain": [
       "   _c0 Salesperson  Compact  Sedan  SUV  Truck  month\n",
       "0    0         Ann       22     18   15     12  April\n",
       "1    1         Bob       19     12   17     20  April\n",
       "2    2     Yolanda       19      8   32     15  April\n",
       "3    3      Xerxes       12     23   18      9  April\n",
       "4    0         Ann       22     18   15     12    May\n",
       "5    1         Bob       20     14    6     24    May\n",
       "6    2     Yolanda       19     10   28     17    May\n",
       "7    3      Xerxes       11     27   17      9    May"
      ]
     },
     "execution_count": 6,
     "metadata": {},
     "output_type": "execute_result"
    }
   ],
   "source": [
    "from pyspark.sql.functions import lit\n",
    "\n",
    "(sales_apr.withColumn('month', lit('April'))\n",
    " .union(sales_may.withColumn('month', lit('May')))\n",
    " .collect()\n",
    ") >> to_pandas"
   ]
  },
  {
   "cell_type": "markdown",
   "metadata": {
    "id": "u2wI0xkpXgiP"
   },
   "source": [
    "## Performing `INTERSECT`\n",
    "\n",
    "Note that `intersect` and `intersectAll` are synonymous."
   ]
  },
  {
   "cell_type": "code",
   "execution_count": 7,
   "metadata": {
    "colab": {
     "base_uri": "https://localhost:8080/",
     "height": 80
    },
    "id": "0BTQEA-gXgiP",
    "outputId": "756925ef-b025-4eda-c206-935f57f20c53"
   },
   "outputs": [
    {
     "name": "stdout",
     "output_type": "stream",
     "text": [
      "22/10/27 22:46:21 WARN CSVHeaderChecker: CSV header does not conform to the schema.\n",
      " Header: , Salesperson, Compact, Sedan, SUV, Truck\n",
      " Schema: _c0, Salesperson, Compact, Sedan, SUV, Truck\n",
      "Expected: _c0 but found: \n",
      "CSV file: file:///home/wavessurfer/github-classroom/wsu-stat489/module-5-lectures-wavessurfer/data/auto_sales_may.csv\n",
      "22/10/27 22:46:22 WARN CSVHeaderChecker: CSV header does not conform to the schema.\n",
      " Header: , Salesperson, Compact, Sedan, SUV, Truck\n",
      " Schema: _c0, Salesperson, Compact, Sedan, SUV, Truck\n",
      "Expected: _c0 but found: \n",
      "CSV file: file:///home/wavessurfer/github-classroom/wsu-stat489/module-5-lectures-wavessurfer/data/auto_sales_apr.csv\n"
     ]
    },
    {
     "data": {
      "text/html": [
       "<div>\n",
       "<style scoped>\n",
       "    .dataframe tbody tr th:only-of-type {\n",
       "        vertical-align: middle;\n",
       "    }\n",
       "\n",
       "    .dataframe tbody tr th {\n",
       "        vertical-align: top;\n",
       "    }\n",
       "\n",
       "    .dataframe thead th {\n",
       "        text-align: right;\n",
       "    }\n",
       "</style>\n",
       "<table border=\"1\" class=\"dataframe\">\n",
       "  <thead>\n",
       "    <tr style=\"text-align: right;\">\n",
       "      <th></th>\n",
       "      <th>_c0</th>\n",
       "      <th>Salesperson</th>\n",
       "      <th>Compact</th>\n",
       "      <th>Sedan</th>\n",
       "      <th>SUV</th>\n",
       "      <th>Truck</th>\n",
       "    </tr>\n",
       "  </thead>\n",
       "  <tbody>\n",
       "    <tr>\n",
       "      <th>0</th>\n",
       "      <td>0</td>\n",
       "      <td>Ann</td>\n",
       "      <td>22</td>\n",
       "      <td>18</td>\n",
       "      <td>15</td>\n",
       "      <td>12</td>\n",
       "    </tr>\n",
       "  </tbody>\n",
       "</table>\n",
       "</div>"
      ],
      "text/plain": [
       "   _c0 Salesperson  Compact  Sedan  SUV  Truck\n",
       "0    0         Ann       22     18   15     12"
      ]
     },
     "execution_count": 7,
     "metadata": {},
     "output_type": "execute_result"
    }
   ],
   "source": [
    "sales_apr.intersect(sales_may).collect() >> to_pandas"
   ]
  },
  {
   "cell_type": "markdown",
   "metadata": {
    "id": "OkJw5EwuXgiQ"
   },
   "source": [
    "## Performing a set difference with `exceptAll`"
   ]
  },
  {
   "cell_type": "code",
   "execution_count": 14,
   "metadata": {
    "colab": {
     "base_uri": "https://localhost:8080/",
     "height": 142
    },
    "id": "654j0QvBXgiQ",
    "outputId": "051d362c-06fd-49e8-edbf-dba8cfa62415"
   },
   "outputs": [
    {
     "data": {
      "text/html": [
       "\n",
       "  <div id=\"df-5edb6dd1-5a68-4a54-860a-5d279099a9a8\">\n",
       "    <div class=\"colab-df-container\">\n",
       "      <div>\n",
       "<style scoped>\n",
       "    .dataframe tbody tr th:only-of-type {\n",
       "        vertical-align: middle;\n",
       "    }\n",
       "\n",
       "    .dataframe tbody tr th {\n",
       "        vertical-align: top;\n",
       "    }\n",
       "\n",
       "    .dataframe thead th {\n",
       "        text-align: right;\n",
       "    }\n",
       "</style>\n",
       "<table border=\"1\" class=\"dataframe\">\n",
       "  <thead>\n",
       "    <tr style=\"text-align: right;\">\n",
       "      <th></th>\n",
       "      <th>_c0</th>\n",
       "      <th>Salesperson</th>\n",
       "      <th>Compact</th>\n",
       "      <th>Sedan</th>\n",
       "      <th>SUV</th>\n",
       "      <th>Truck</th>\n",
       "    </tr>\n",
       "  </thead>\n",
       "  <tbody>\n",
       "    <tr>\n",
       "      <th>0</th>\n",
       "      <td>1</td>\n",
       "      <td>Bob</td>\n",
       "      <td>19</td>\n",
       "      <td>12</td>\n",
       "      <td>17</td>\n",
       "      <td>20</td>\n",
       "    </tr>\n",
       "    <tr>\n",
       "      <th>1</th>\n",
       "      <td>2</td>\n",
       "      <td>Yolanda</td>\n",
       "      <td>19</td>\n",
       "      <td>8</td>\n",
       "      <td>32</td>\n",
       "      <td>15</td>\n",
       "    </tr>\n",
       "    <tr>\n",
       "      <th>2</th>\n",
       "      <td>3</td>\n",
       "      <td>Xerxes</td>\n",
       "      <td>12</td>\n",
       "      <td>23</td>\n",
       "      <td>18</td>\n",
       "      <td>9</td>\n",
       "    </tr>\n",
       "  </tbody>\n",
       "</table>\n",
       "</div>\n",
       "      <button class=\"colab-df-convert\" onclick=\"convertToInteractive('df-5edb6dd1-5a68-4a54-860a-5d279099a9a8')\"\n",
       "              title=\"Convert this dataframe to an interactive table.\"\n",
       "              style=\"display:none;\">\n",
       "        \n",
       "  <svg xmlns=\"http://www.w3.org/2000/svg\" height=\"24px\"viewBox=\"0 0 24 24\"\n",
       "       width=\"24px\">\n",
       "    <path d=\"M0 0h24v24H0V0z\" fill=\"none\"/>\n",
       "    <path d=\"M18.56 5.44l.94 2.06.94-2.06 2.06-.94-2.06-.94-.94-2.06-.94 2.06-2.06.94zm-11 1L8.5 8.5l.94-2.06 2.06-.94-2.06-.94L8.5 2.5l-.94 2.06-2.06.94zm10 10l.94 2.06.94-2.06 2.06-.94-2.06-.94-.94-2.06-.94 2.06-2.06.94z\"/><path d=\"M17.41 7.96l-1.37-1.37c-.4-.4-.92-.59-1.43-.59-.52 0-1.04.2-1.43.59L10.3 9.45l-7.72 7.72c-.78.78-.78 2.05 0 2.83L4 21.41c.39.39.9.59 1.41.59.51 0 1.02-.2 1.41-.59l7.78-7.78 2.81-2.81c.8-.78.8-2.07 0-2.86zM5.41 20L4 18.59l7.72-7.72 1.47 1.35L5.41 20z\"/>\n",
       "  </svg>\n",
       "      </button>\n",
       "      \n",
       "  <style>\n",
       "    .colab-df-container {\n",
       "      display:flex;\n",
       "      flex-wrap:wrap;\n",
       "      gap: 12px;\n",
       "    }\n",
       "\n",
       "    .colab-df-convert {\n",
       "      background-color: #E8F0FE;\n",
       "      border: none;\n",
       "      border-radius: 50%;\n",
       "      cursor: pointer;\n",
       "      display: none;\n",
       "      fill: #1967D2;\n",
       "      height: 32px;\n",
       "      padding: 0 0 0 0;\n",
       "      width: 32px;\n",
       "    }\n",
       "\n",
       "    .colab-df-convert:hover {\n",
       "      background-color: #E2EBFA;\n",
       "      box-shadow: 0px 1px 2px rgba(60, 64, 67, 0.3), 0px 1px 3px 1px rgba(60, 64, 67, 0.15);\n",
       "      fill: #174EA6;\n",
       "    }\n",
       "\n",
       "    [theme=dark] .colab-df-convert {\n",
       "      background-color: #3B4455;\n",
       "      fill: #D2E3FC;\n",
       "    }\n",
       "\n",
       "    [theme=dark] .colab-df-convert:hover {\n",
       "      background-color: #434B5C;\n",
       "      box-shadow: 0px 1px 3px 1px rgba(0, 0, 0, 0.15);\n",
       "      filter: drop-shadow(0px 1px 2px rgba(0, 0, 0, 0.3));\n",
       "      fill: #FFFFFF;\n",
       "    }\n",
       "  </style>\n",
       "\n",
       "      <script>\n",
       "        const buttonEl =\n",
       "          document.querySelector('#df-5edb6dd1-5a68-4a54-860a-5d279099a9a8 button.colab-df-convert');\n",
       "        buttonEl.style.display =\n",
       "          google.colab.kernel.accessAllowed ? 'block' : 'none';\n",
       "\n",
       "        async function convertToInteractive(key) {\n",
       "          const element = document.querySelector('#df-5edb6dd1-5a68-4a54-860a-5d279099a9a8');\n",
       "          const dataTable =\n",
       "            await google.colab.kernel.invokeFunction('convertToInteractive',\n",
       "                                                     [key], {});\n",
       "          if (!dataTable) return;\n",
       "\n",
       "          const docLinkHtml = 'Like what you see? Visit the ' +\n",
       "            '<a target=\"_blank\" href=https://colab.research.google.com/notebooks/data_table.ipynb>data table notebook</a>'\n",
       "            + ' to learn more about interactive tables.';\n",
       "          element.innerHTML = '';\n",
       "          dataTable['output_type'] = 'display_data';\n",
       "          await google.colab.output.renderOutput(dataTable, element);\n",
       "          const docLink = document.createElement('div');\n",
       "          docLink.innerHTML = docLinkHtml;\n",
       "          element.appendChild(docLink);\n",
       "        }\n",
       "      </script>\n",
       "    </div>\n",
       "  </div>\n",
       "  "
      ],
      "text/plain": [
       "   _c0 Salesperson  Compact  Sedan  SUV  Truck\n",
       "0    1         Bob       19     12   17     20\n",
       "1    2     Yolanda       19      8   32     15\n",
       "2    3      Xerxes       12     23   18      9"
      ]
     },
     "execution_count": 14,
     "metadata": {},
     "output_type": "execute_result"
    }
   ],
   "source": [
    "sales_apr.exceptAll(sales_may).collect() >> to_pandas"
   ]
  },
  {
   "cell_type": "markdown",
   "metadata": {
    "id": "tzCBaWxzXgiR"
   },
   "source": [
    "## <font color=\"red\"> Exercise 2 </font>\n",
    "\n",
    "In the data folder, you will find 6 files that contain a sample 100,000 rows from the uber data for the month apr14-sep14.  Perform the following tasks:\n",
    "\n",
    "1. Read in `pyspark` dataframes for April and May.\n",
    "2. Check that the information about the date/month is present, and add a column if necessary.\n",
    "3. `union` method to combine these 2 data frames into one combined `pyspark df`"
   ]
  },
  {
   "cell_type": "code",
   "execution_count": 15,
   "metadata": {
    "colab": {
     "base_uri": "https://localhost:8080/"
    },
    "id": "bWw-G-KyYUb-",
    "outputId": "6bd30936-cb7c-461f-ef67-620ec69efa5a"
   },
   "outputs": [
    {
     "name": "stdout",
     "output_type": "stream",
     "text": [
      "uber-raw-data-apr14-sample.csv\n",
      "uber-raw-data-aug14-sample.csv\n",
      "uber-raw-data-jul14-sample.csv\n",
      "uber-raw-data-jun14-sample.csv\n",
      "uber-raw-data-may14-sample.csv\n",
      "uber-raw-data-sep14-sample.csv\n"
     ]
    }
   ],
   "source": [
    "!ls ./data | grep uber"
   ]
  },
  {
   "cell_type": "code",
   "execution_count": 10,
   "metadata": {
    "id": "3Wbw0ii8XgiR"
   },
   "outputs": [
    {
     "name": "stderr",
     "output_type": "stream",
     "text": [
      "\r",
      "[Stage 25:=============================>                            (2 + 2) / 4]\r",
      "\r",
      "                                                                                \r"
     ]
    },
    {
     "data": {
      "text/html": [
       "<div>\n",
       "<style scoped>\n",
       "    .dataframe tbody tr th:only-of-type {\n",
       "        vertical-align: middle;\n",
       "    }\n",
       "\n",
       "    .dataframe tbody tr th {\n",
       "        vertical-align: top;\n",
       "    }\n",
       "\n",
       "    .dataframe thead th {\n",
       "        text-align: right;\n",
       "    }\n",
       "</style>\n",
       "<table border=\"1\" class=\"dataframe\">\n",
       "  <thead>\n",
       "    <tr style=\"text-align: right;\">\n",
       "      <th></th>\n",
       "      <th>Date/Time</th>\n",
       "      <th>Lat</th>\n",
       "      <th>Lon</th>\n",
       "      <th>Base</th>\n",
       "      <th>month</th>\n",
       "    </tr>\n",
       "  </thead>\n",
       "  <tbody>\n",
       "    <tr>\n",
       "      <th>0</th>\n",
       "      <td>4/18/2014 21:38:00</td>\n",
       "      <td>40.7359</td>\n",
       "      <td>-73.9852</td>\n",
       "      <td>B02682</td>\n",
       "      <td>April</td>\n",
       "    </tr>\n",
       "    <tr>\n",
       "      <th>1</th>\n",
       "      <td>4/23/2014 15:19:00</td>\n",
       "      <td>40.7642</td>\n",
       "      <td>-73.9543</td>\n",
       "      <td>B02598</td>\n",
       "      <td>April</td>\n",
       "    </tr>\n",
       "    <tr>\n",
       "      <th>2</th>\n",
       "      <td>4/10/2014 7:15:00</td>\n",
       "      <td>40.7138</td>\n",
       "      <td>-74.0103</td>\n",
       "      <td>B02598</td>\n",
       "      <td>April</td>\n",
       "    </tr>\n",
       "    <tr>\n",
       "      <th>3</th>\n",
       "      <td>4/11/2014 15:23:00</td>\n",
       "      <td>40.7847</td>\n",
       "      <td>-73.9698</td>\n",
       "      <td>B02682</td>\n",
       "      <td>April</td>\n",
       "    </tr>\n",
       "    <tr>\n",
       "      <th>4</th>\n",
       "      <td>4/7/2014 17:26:00</td>\n",
       "      <td>40.6460</td>\n",
       "      <td>-73.7767</td>\n",
       "      <td>B02598</td>\n",
       "      <td>April</td>\n",
       "    </tr>\n",
       "    <tr>\n",
       "      <th>...</th>\n",
       "      <td>...</td>\n",
       "      <td>...</td>\n",
       "      <td>...</td>\n",
       "      <td>...</td>\n",
       "      <td>...</td>\n",
       "    </tr>\n",
       "    <tr>\n",
       "      <th>199995</th>\n",
       "      <td>5/23/2014 22:41:00</td>\n",
       "      <td>40.7341</td>\n",
       "      <td>-74.0084</td>\n",
       "      <td>B02682</td>\n",
       "      <td>May</td>\n",
       "    </tr>\n",
       "    <tr>\n",
       "      <th>199996</th>\n",
       "      <td>5/30/2014 6:53:00</td>\n",
       "      <td>40.6770</td>\n",
       "      <td>-74.0155</td>\n",
       "      <td>B02682</td>\n",
       "      <td>May</td>\n",
       "    </tr>\n",
       "    <tr>\n",
       "      <th>199997</th>\n",
       "      <td>5/3/2014 18:23:00</td>\n",
       "      <td>40.7710</td>\n",
       "      <td>-73.9636</td>\n",
       "      <td>B02682</td>\n",
       "      <td>May</td>\n",
       "    </tr>\n",
       "    <tr>\n",
       "      <th>199998</th>\n",
       "      <td>5/17/2014 13:16:00</td>\n",
       "      <td>40.7586</td>\n",
       "      <td>-73.9614</td>\n",
       "      <td>B02598</td>\n",
       "      <td>May</td>\n",
       "    </tr>\n",
       "    <tr>\n",
       "      <th>199999</th>\n",
       "      <td>5/5/2014 22:37:00</td>\n",
       "      <td>40.7792</td>\n",
       "      <td>-73.9830</td>\n",
       "      <td>B02598</td>\n",
       "      <td>May</td>\n",
       "    </tr>\n",
       "  </tbody>\n",
       "</table>\n",
       "<p>200000 rows × 5 columns</p>\n",
       "</div>"
      ],
      "text/plain": [
       "                 Date/Time      Lat      Lon    Base  month\n",
       "0       4/18/2014 21:38:00  40.7359 -73.9852  B02682  April\n",
       "1       4/23/2014 15:19:00  40.7642 -73.9543  B02598  April\n",
       "2        4/10/2014 7:15:00  40.7138 -74.0103  B02598  April\n",
       "3       4/11/2014 15:23:00  40.7847 -73.9698  B02682  April\n",
       "4        4/7/2014 17:26:00  40.6460 -73.7767  B02598  April\n",
       "...                    ...      ...      ...     ...    ...\n",
       "199995  5/23/2014 22:41:00  40.7341 -74.0084  B02682    May\n",
       "199996   5/30/2014 6:53:00  40.6770 -74.0155  B02682    May\n",
       "199997   5/3/2014 18:23:00  40.7710 -73.9636  B02682    May\n",
       "199998  5/17/2014 13:16:00  40.7586 -73.9614  B02598    May\n",
       "199999   5/5/2014 22:37:00  40.7792 -73.9830  B02598    May\n",
       "\n",
       "[200000 rows x 5 columns]"
      ]
     },
     "execution_count": 10,
     "metadata": {},
     "output_type": "execute_result"
    }
   ],
   "source": [
    "# Your code here\n",
    "uber_april = spark.read.csv(\"./data/uber-raw-data-apr14-sample.csv\",  header=True, inferSchema=True)\n",
    "uber_may = spark.read.csv(\"./data/uber-raw-data-may14-sample.csv\",  header=True, inferSchema=True)\n",
    "\n",
    "(uber_april.withColumn('month', lit('April'))\n",
    " .union(uber_may.withColumn('month', lit('May')))\n",
    " .collect()\n",
    ") >> to_pandas"
   ]
  },
  {
   "cell_type": "markdown",
   "metadata": {
    "id": "LevqEddmYvab"
   },
   "source": [
    "## <font color=\"red\"> Exercise 3 -- Optional </font>\n",
    "\n",
    "In the data folder, you will find 6 files that contain a sample 100,000 rows from the uber data for the month apr14-sep14.  Perform the following tasks:\n",
    "\n",
    "1. Use `glob` to get all 6 file paths.\n",
    "2. Use a regular expression to create a `lambda` function that pulls the month from the files.\n",
    "3. Read the 6 `pyspark` dataframes into a `dict` with keys equal to the month name and values containing the corresponding data frame.\n",
    "4. Use a dictionary comprehension to add a month column to each `df`.\n",
    "5. Use the accumulator pattern and the `union` method to combine these 6 data frames into one combined `pyspark df`\n",
    "6. Inspect the head and compute the number of rows (use the `count` method)"
   ]
  },
  {
   "cell_type": "code",
   "execution_count": null,
   "metadata": {
    "id": "sUZ2MUbjY2oH"
   },
   "outputs": [],
   "source": [
    "!ls ./data | grep uber"
   ]
  },
  {
   "cell_type": "code",
   "execution_count": null,
   "metadata": {
    "id": "T9dKt0_3ZVQB"
   },
   "outputs": [],
   "source": [
    "# Your code here"
   ]
  }
 ],
 "metadata": {
  "colab": {
   "provenance": []
  },
  "kernelspec": {
   "display_name": "Python 3 (ipykernel)",
   "language": "python",
   "name": "python3"
  },
  "language_info": {
   "codemirror_mode": {
    "name": "ipython",
    "version": 3
   },
   "file_extension": ".py",
   "mimetype": "text/x-python",
   "name": "python",
   "nbconvert_exporter": "python",
   "pygments_lexer": "ipython3",
   "version": "3.9.12"
  }
 },
 "nbformat": 4,
 "nbformat_minor": 1
}
