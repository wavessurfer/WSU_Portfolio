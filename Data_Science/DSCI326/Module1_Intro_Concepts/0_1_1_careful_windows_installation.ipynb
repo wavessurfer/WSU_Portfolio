{
 "cells": [
  {
   "cell_type": "markdown",
   "metadata": {},
   "source": [
    "## A Careful Python Installation on Windows\n",
    "\n",
    "1. Turn on Windows Subsystem for Linux\n",
    "2. Install Ubuntu from the Window's Store\n",
    "3. Update/Upgrade Ubuntu\n",
    "4. Install Virtual Studio Code\n",
    "4. Install `pyenv`\n",
    "5. Update/upgrade `pyenv`\n",
    "6. Install a recent version of Anaconda with `pyenv`"
   ]
  },
  {
   "cell_type": "markdown",
   "metadata": {},
   "source": [
    "## Activating and Turning on Windows Subsystem for Linux\n",
    "\n",
    "I will show how to complete this task in the following video."
   ]
  },
  {
   "cell_type": "code",
   "execution_count": 1,
   "metadata": {},
   "outputs": [
    {
     "data": {
      "text/html": [
       "<iframe id=\"kaltura_player\" src=\"https://cdnapisec.kaltura.com/p/812561/sp/81256100/embedIframeJs/uiconf_id/33140371/partner_id/812561?iframeembed=true&playerId=kaltura_player&entry_id=1_m72xiamd&flashvars[mediaProtocol]=rtmp&amp;flashvars[streamerType]=rtmp&amp;flashvars[streamerUrl]=rtmp://www.kaltura.com:1935&amp;flashvars[rtmpFlavors]=1&amp;flashvars[localizationCode]=en&amp;flashvars[leadWithHTML5]=true&amp;flashvars[sideBarContainer.plugin]=true&amp;flashvars[sideBarContainer.position]=left&amp;flashvars[sideBarContainer.clickToClose]=true&amp;flashvars[chapters.plugin]=true&amp;flashvars[chapters.layout]=vertical&amp;flashvars[chapters.thumbnailRotator]=false&amp;flashvars[streamSelector.plugin]=true&amp;flashvars[EmbedPlayer.SpinnerTarget]=videoHolder&amp;flashvars[dualScreen.plugin]=true&amp;&wid=1_kaqcg9e4\" width=\"420\" height=\"336\" allowfullscreen webkitallowfullscreen mozAllowFullScreen allow=\"autoplay *; fullscreen *; encrypted-media *\" frameborder=\"0\" title=\"Kaltura Player\"></iframe>"
      ],
      "text/plain": [
       "<IPython.core.display.HTML object>"
      ]
     },
     "execution_count": 1,
     "metadata": {},
     "output_type": "execute_result"
    }
   ],
   "source": [
    "from IPython.display import HTML\n",
    "HTML('<iframe id=\"kaltura_player\" src=\"https://cdnapisec.kaltura.com/p/812561/sp/81256100/embedIframeJs/uiconf_id/33140371/partner_id/812561?iframeembed=true&playerId=kaltura_player&entry_id=1_m72xiamd&flashvars[mediaProtocol]=rtmp&amp;flashvars[streamerType]=rtmp&amp;flashvars[streamerUrl]=rtmp://www.kaltura.com:1935&amp;flashvars[rtmpFlavors]=1&amp;flashvars[localizationCode]=en&amp;flashvars[leadWithHTML5]=true&amp;flashvars[sideBarContainer.plugin]=true&amp;flashvars[sideBarContainer.position]=left&amp;flashvars[sideBarContainer.clickToClose]=true&amp;flashvars[chapters.plugin]=true&amp;flashvars[chapters.layout]=vertical&amp;flashvars[chapters.thumbnailRotator]=false&amp;flashvars[streamSelector.plugin]=true&amp;flashvars[EmbedPlayer.SpinnerTarget]=videoHolder&amp;flashvars[dualScreen.plugin]=true&amp;&wid=1_kaqcg9e4\" width=\"420\" height=\"336\" allowfullscreen webkitallowfullscreen mozAllowFullScreen allow=\"autoplay *; fullscreen *; encrypted-media *\" frameborder=\"0\" title=\"Kaltura Player\"></iframe>')"
   ]
  },
  {
   "cell_type": "markdown",
   "metadata": {},
   "source": [
    "[Video link](https://mediaspace.minnstate.edu/media/WSL_install.mp4/1_m72xiamd)"
   ]
  },
  {
   "cell_type": "markdown",
   "metadata": {},
   "source": [
    "**Notes:** \n",
    "\n",
    "* My process is adapted from [this video](https://www.youtube.com/watch?v=dq183fOB1Xg).\n",
    "* [Learn more about WSL](https://www.youtube.com/watch?v=JZCPYWrTLTg)\n",
    "\n",
    "#### Update Ubuntu \n",
    "\n",
    "```bash\n",
    "sudo apt update \n",
    "sudo apt upgrade \n",
    "```"
   ]
  },
  {
   "cell_type": "markdown",
   "metadata": {},
   "source": [
    "## Installing Virtual Studio Code\n",
    "\n",
    "We will be using Microsoft's Virtual Studio Code (`vscode` or `code`) as a development environment because\n",
    "\n",
    "1. It has a rich extension library, including extensions that makes it easy to work in WSL and with Python.\n",
    "2. Has easy-to-use git/GitHub integattion.\n",
    "3. Makes it easy to open a Terminal and work on the command line.\n",
    "\n",
    "You can install vscode by visiting [https://code.visualstudio.com/Download](https://code.visualstudio.com/Download) and selecting the installation for your make of PC.\n",
    " "
   ]
  },
  {
   "cell_type": "markdown",
   "metadata": {},
   "source": [
    "## Install Pyenv Installer \n",
    "\n",
    "```bash\n",
    "curl https://pyenv.run | bash\n",
    "```\n",
    "\n",
    "## Use vscode to edit Bash profile \n",
    "\n",
    "Next, we will add commands to the `bash` terminal configuration file so that `pyenv` will be ready to go each time we start a new terminal session.  Open the file `.bashrc`, which is accomplished with the following command in the terminal.\n",
    "\n",
    "```bash\n",
    "code ~/.bash_profile \n",
    "```\n",
    "\n",
    "## Paste into bash profile export\n",
    "\n",
    "When `pyenv` completed the installation, it printed a message that included three lines like those shown below, but `your_linux_username` to the username you selected for Ubuntu or your starid if you have a Mac.\n",
    "\n",
    "```bash\n",
    "PATH=\"/home/your_linux_username/.pyenv/bin:$PATH\" \n",
    "eval \"$(pyenv init -)\" \n",
    "eval \"$(pyenv virtualenv-init -)\" \n",
    "```\n",
    "Copy and paste these three lines at the bottom of the `.bashrc` file; then save and close the file.\n",
    "\n",
    "## Activate the updated Bash profile \n",
    "\n",
    "After adding those lines to `.bashrc`, we will be able to use `pyenv` each time we start a new terminal.  To get `pyenv` running this first time, we need to run those commands in the current terminal.  Do this by executing the following command in the terminal.\n",
    "\n",
    "```bash\n",
    "source ~/.bash_profile\n",
    "```"
   ]
  },
  {
   "cell_type": "markdown",
   "metadata": {},
   "source": [
    "## Finding python distribution to install\n",
    "\n",
    "Now we can use `pyenv` to search for and install a Python installation.  To see all of the available Python distribution, execute the following in the terminal.\n",
    "\n",
    "```bash\n",
    "pyenv install --list\n",
    "```\n",
    "\n",
    "#### Narrowing the list\n",
    "\n",
    "That is a very long list!  We want to install `Anaconda 3`, which is a Python distribution that comes with many of the most important Python modules used in data science. Let's use a bash utility called to narrow the list down to just the anaconda distributions.\n",
    "\n",
    "```bash\n",
    "pyenv install --list | grep anaconda\n",
    "```\n",
    "\n",
    "## Install a Python Version \n",
    "\n",
    "We will be installing the most recent version of anaconda 3. (At the time of writing, this was `anaconda3-2020-02`)/\n",
    "\n",
    "```bash\n",
    "pyenv install anaconda3-2020-02\n",
    "```\n",
    "\n",
    "## Making Anaconda the global Python installation\n",
    "\n",
    "We want this version of Python to be the default installation, which is accomplished using the `pyenv global` command, as shown below.\n",
    "\n",
    "```bash\n",
    "pyenv global anaconda3-2020-02\n",
    "```"
   ]
  }
 ],
 "metadata": {
  "kernelspec": {
   "display_name": "Python 3",
   "language": "python",
   "name": "python3"
  },
  "language_info": {
   "codemirror_mode": {
    "name": "ipython",
    "version": 3
   },
   "file_extension": ".py",
   "mimetype": "text/x-python",
   "name": "python",
   "nbconvert_exporter": "python",
   "pygments_lexer": "ipython3",
   "version": "3.7.2"
  },
  "varInspector": {
   "cols": {
    "lenName": 16,
    "lenType": 16,
    "lenVar": 40
   },
   "kernels_config": {
    "python": {
     "delete_cmd_postfix": "",
     "delete_cmd_prefix": "del ",
     "library": "var_list.py",
     "varRefreshCmd": "print(var_dic_list())"
    },
    "r": {
     "delete_cmd_postfix": ") ",
     "delete_cmd_prefix": "rm(",
     "library": "var_list.r",
     "varRefreshCmd": "cat(var_dic_list()) "
    }
   },
   "types_to_exclude": [
    "module",
    "function",
    "builtin_function_or_method",
    "instance",
    "_Feature"
   ],
   "window_display": false
  }
 },
 "nbformat": 4,
 "nbformat_minor": 2
}
