{
 "cells": [
  {
   "cell_type": "markdown",
   "metadata": {},
   "source": [
    "# A Careful MacOS Installation\n",
    "\n",
    "1. Install `brew`\n",
    "2. Install `pyenv`\n",
    "3. Use `pyenv` to install anaconda\n",
    "4. Install java and DSCI 430 specfic modules"
   ]
  },
  {
   "cell_type": "markdown",
   "metadata": {},
   "source": [
    "## Step 1 - Installing Virtual Studio Code\n",
    "\n",
    "We will be using Microsoft's Virtual Studio Code (`vscode` or `code`) as a development environment because\n",
    "\n",
    "1. It has a rich extension library, including extensions that makes it easy to work in WSL and with Python.\n",
    "2. Has easy-to-use git/GitHub integattion.\n",
    "3. Makes it easy to open a Terminal and work on the command line.\n",
    "\n",
    "You can install vscode by visiting [https://code.visualstudio.com/Download](https://code.visualstudio.com/Download) and selecting the installation for your make of PC.\n",
    " "
   ]
  },
  {
   "cell_type": "markdown",
   "metadata": {},
   "source": [
    "\n",
    "## Step 2 - Install and update `pyenv`\n",
    "\n",
    "1. Run the following code to install `pyenv`\n",
    "\n",
    "```bash\n",
    "curl https://pyenv.run | bash\n",
    "```"
   ]
  },
  {
   "cell_type": "markdown",
   "metadata": {},
   "source": [
    "#### Use vscode text editor to edit Bash profile \n",
    "\n",
    "1. Open up vscode, open a Terminal and execute the following command to open `.bash_profile` in vscode.\n",
    "\n",
    "```bash\n",
    "code ~/.bash_profile \n",
    "```\n",
    "\n",
    "2. Paste into bash profile export\n",
    " \n",
    "**Note:** Change `your_linux_username` to the username you selected for Ubuntu\n",
    "\n",
    "```bash\n",
    "PATH=\"/Users/your_linux_username/.pyenv/bin:$PATH\" \n",
    "eval \"$(pyenv init -)\" \n",
    "eval \"$(pyenv virtualenv-init -)\" \n",
    "```\n",
    "\n",
    "3. Source the update `.bashrc`\n",
    "\n",
    "```bash\n",
    "source ~/.bash_profile\n",
    "```\n",
    "\n",
    "4. Update `pyenv`\n",
    "\n",
    "```bash\n",
    "brew upgrade pyenv \n",
    "```"
   ]
  },
  {
   "cell_type": "markdown",
   "metadata": {},
   "source": [
    "## Step 3 - Use pyenv to install anaconda\n",
    "\n",
    "* To see a list of all possible installations, run\n",
    "\n",
    "```bash\n",
    "pyenv install --list\n",
    "```\n",
    "\n",
    "* To narrow the list to just anaconda, use\n",
    "\n",
    "```bash\n",
    "pyenv install --list | grep anaconda\n",
    "```\n",
    "\n",
    "* To install a recent anaconda, use\n",
    "\n",
    "```bash\n",
    "# This will take a while\n",
    "pyenv install anaconda3-2020.02\n",
    "```\n",
    "\n",
    "* Make anaconda the global default python\n",
    "\n",
    "```bash\n",
    "# This will take a while\n",
    "pyenv global anaconda3-2020.02\n",
    "```\n"
   ]
  },
  {
   "cell_type": "code",
   "execution_count": null,
   "metadata": {},
   "outputs": [],
   "source": []
  }
 ],
 "metadata": {
  "kernelspec": {
   "display_name": "Python 3",
   "language": "python",
   "name": "python3"
  },
  "language_info": {
   "codemirror_mode": {
    "name": "ipython",
    "version": 3
   },
   "file_extension": ".py",
   "mimetype": "text/x-python",
   "name": "python",
   "nbconvert_exporter": "python",
   "pygments_lexer": "ipython3",
   "version": "3.7.2"
  },
  "varInspector": {
   "cols": {
    "lenName": 16,
    "lenType": 16,
    "lenVar": 40
   },
   "kernels_config": {
    "python": {
     "delete_cmd_postfix": "",
     "delete_cmd_prefix": "del ",
     "library": "var_list.py",
     "varRefreshCmd": "print(var_dic_list())"
    },
    "r": {
     "delete_cmd_postfix": ") ",
     "delete_cmd_prefix": "rm(",
     "library": "var_list.r",
     "varRefreshCmd": "cat(var_dic_list()) "
    }
   },
   "types_to_exclude": [
    "module",
    "function",
    "builtin_function_or_method",
    "instance",
    "_Feature"
   ],
   "window_display": false
  }
 },
 "nbformat": 4,
 "nbformat_minor": 2
}
