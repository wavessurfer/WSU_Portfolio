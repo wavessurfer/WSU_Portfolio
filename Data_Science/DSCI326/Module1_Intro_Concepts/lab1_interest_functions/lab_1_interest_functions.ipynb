{
  "cells": [
    {
      "cell_type": "markdown",
      "metadata": {
        "id": "view-in-github",
        "colab_type": "text"
      },
      "source": [
        "<a href=\"https://colab.research.google.com/github/wavessurfer/lab1_interest_functions/blob/master/lab_1_interest_functions.ipynb\" target=\"_parent\"><img src=\"https://colab.research.google.com/assets/colab-badge.svg\" alt=\"Open In Colab\"/></a>"
      ]
    },
    {
      "cell_type": "markdown",
      "metadata": {
        "id": "5AjN0yWtjMPg"
      },
      "source": [
        "## Lab 1 - Compound Interest Functions\n",
        "\n",
        "Below you will find a table of important formulae related to compound interest.  \n",
        "\n",
        "<img src=\"https://www.dummies.com/wp-content/uploads/251689.image0.jpg\" alt=\"image0.jpg\" width=\"400\" height=\"319\">\n",
        "\n",
        "In this lab, you will create functions for each of these using (and documenting) the following workflow.\n",
        "\n",
        "1. Work out the correct answer for a few examples. *Hint* Search for e.g. \"worked out compound interest examples\" on the web.\n",
        "2. Write a `lambda` function and test this function on your test cases.\n",
        "3. Convert the `lambda` function to a `def` statement with an informative doc string that follows the [Google formating rules](https://google.github.io/styleguide/pyguide.html#383-functions-and-methods).\n",
        "4. Write an automated test function (using your previous examples) that will test your `def` statement function each time the code is executed."
      ]
    },
    {
      "cell_type": "markdown",
      "metadata": {
        "id": "XNQ0L_PpjMPi"
      },
      "source": [
        "#### Problem 1 -- Apply the process to create a simple interest functions."
      ]
    },
    {
      "cell_type": "code",
      "source": [
        "principal = 20000\n",
        "interest_value = 0.04\n",
        "time = 5\n",
        "\n",
        "round((principal * interest_value * time),2)"
      ],
      "metadata": {
        "colab": {
          "base_uri": "https://localhost:8080/"
        },
        "id": "roDRlHSJ60au",
        "outputId": "19d92bdf-143f-4d20-f677-bdbae1e35ca3"
      },
      "execution_count": 53,
      "outputs": [
        {
          "output_type": "execute_result",
          "data": {
            "text/plain": [
              "4000.0"
            ]
          },
          "metadata": {},
          "execution_count": 53
        }
      ]
    },
    {
      "cell_type": "code",
      "source": [
        "smpl_intrst = lambda principal, interest_value, time: round((principal * interest_value * time),2)\n",
        "smpl_intrst(50000,0.1,.5)"
      ],
      "metadata": {
        "id": "bq-pSGUr4QuY",
        "outputId": "1839f50c-a1f7-4ee2-8c03-5f9b513bd1b5",
        "colab": {
          "base_uri": "https://localhost:8080/"
        }
      },
      "execution_count": 54,
      "outputs": [
        {
          "output_type": "execute_result",
          "data": {
            "text/plain": [
              "2500.0"
            ]
          },
          "metadata": {},
          "execution_count": 54
        }
      ]
    },
    {
      "cell_type": "code",
      "execution_count": 55,
      "metadata": {
        "id": "JaagQ_yBjMPj"
      },
      "outputs": [],
      "source": [
        "def simple_interest(principal, interest_value, time):\n",
        "    \"\"\"Computes the calculation of the amount of interest ($)\n",
        "       on a cash amount at a given rate, and for a given period of time.\n",
        "\n",
        "       Args:\n",
        "           principal: principal value of the cash flow (loan or invesment)\n",
        "           interest_value: percent of the principal (earned or paid) in decimal expression\n",
        "           time: duration in years for which the principal is deposited or borrowed.\n",
        "      \n",
        "       Returns: the value of the interest earned or owed depending of the interst value and time\n",
        "    \"\"\"\n",
        "    return round((principal * interest_value * time),2)"
      ]
    },
    {
      "cell_type": "code",
      "source": [
        "def test_smpl_intrst():\n",
        "    assert simple_interest(20000,.04,5) == 4000\n",
        "    assert simple_interest(1200,0.06,2) == 144\n",
        "    assert simple_interest(10000,.02,.5) == 100\n",
        "test_smpl_intrst()"
      ],
      "metadata": {
        "id": "LLCceLok3kB6"
      },
      "execution_count": 56,
      "outputs": []
    },
    {
      "cell_type": "markdown",
      "metadata": {
        "id": "xd7SQhZqjMPl"
      },
      "source": [
        "#### Problem 2 -- Apply the process to create a compound interest functions."
      ]
    },
    {
      "cell_type": "code",
      "source": [
        "p = 10000\n",
        "r = 0.03\n",
        "n = 12\n",
        "t = 5\n",
        "\n",
        "round( (p * (1 + (r/n))**(t*n)),2)"
      ],
      "metadata": {
        "colab": {
          "base_uri": "https://localhost:8080/"
        },
        "outputId": "a3055fa0-05db-4573-e567-47b4f4b5a97e",
        "id": "2npGJaLcDWZ9"
      },
      "execution_count": 19,
      "outputs": [
        {
          "output_type": "execute_result",
          "data": {
            "text/plain": [
              "11616.17"
            ]
          },
          "metadata": {},
          "execution_count": 19
        }
      ]
    },
    {
      "cell_type": "code",
      "source": [
        "cmpnd_intrst = lambda p,r,n,t: round( (p * (1 + (r/n))**(t*n)),2)\n",
        "cmpnd_intrst(8000,0.02,4,2)"
      ],
      "metadata": {
        "id": "nOaVXa-kD6_H",
        "outputId": "621fe506-975e-4065-d5b5-59b78fbabfc9",
        "colab": {
          "base_uri": "https://localhost:8080/"
        }
      },
      "execution_count": 20,
      "outputs": [
        {
          "output_type": "execute_result",
          "data": {
            "text/plain": [
              "8325.66"
            ]
          },
          "metadata": {},
          "execution_count": 20
        }
      ]
    },
    {
      "cell_type": "code",
      "source": [
        "def compnd_intrst(p,r,n,t):\n",
        "    \"\"\"Computes the calculation of the amount of interest ($)\n",
        "       on the principal amount AND the accumulated interest a given rate, the\n",
        "       number of times interest is cpmpunded, for a given period of time.\n",
        "\n",
        "       Args:\n",
        "           p: principal value of the cash flow (loan or invesment)\n",
        "           r: interest rate: percent of the principal (earned or paid) in decimal expression\n",
        "           n: number of times interest is compounded per unit 't'\n",
        "           t: duration in years for which the principal is deposited or borrowed.\n",
        "      \n",
        "       Returns: the value of the compounded interest (earned or owed) depending\n",
        "       on the interest rate, periods it gets earned/paid, and time\n",
        "    \"\"\"\n",
        "    return round( (p * (1 + (r/n))**(t*n)),2)"
      ],
      "metadata": {
        "id": "96h2gmqsENqV"
      },
      "execution_count": 21,
      "outputs": []
    },
    {
      "cell_type": "code",
      "source": [
        "def test_cmpnd_intrst():\n",
        "    assert compnd_intrst(5000,.1,1,3) == 6655\n",
        "    assert compnd_intrst(10000,.03,12,5) == 11616.17\n",
        "    assert compnd_intrst(8000,.02,4,2) == 8325.66\n",
        "test_cmpnd_intrst()"
      ],
      "metadata": {
        "id": "iH6UifmJGMs3"
      },
      "execution_count": 22,
      "outputs": []
    },
    {
      "cell_type": "markdown",
      "metadata": {
        "id": "brzG3z9ejMPl"
      },
      "source": [
        "#### Problem 3 -- Apply the process to create a amortized loan payment function."
      ]
    },
    {
      "cell_type": "code",
      "execution_count": 23,
      "metadata": {
        "id": "YsqM28MkjMPm",
        "outputId": "9fe40f45-271d-4c39-e715-9c83a64a4385",
        "colab": {
          "base_uri": "https://localhost:8080/"
        }
      },
      "outputs": [
        {
          "output_type": "execute_result",
          "data": {
            "text/plain": [
              "1856.27"
            ]
          },
          "metadata": {},
          "execution_count": 23
        }
      ],
      "source": [
        "p = 30000\n",
        "i = 0.06\n",
        "n = 60\n",
        "\n",
        "round((p * i) / ( 1 - ( (1+i)**(-n))),2)"
      ]
    },
    {
      "cell_type": "code",
      "source": [
        "amrtzd_loan_pymnt = lambda p,i,n: round((p * i) / ( 1 - ( (1+i)**(-n))),2)\n",
        "amrtzd_loan_pymnt(8000,0.04,48)"
      ],
      "metadata": {
        "id": "gsYCl_VYIyMu",
        "outputId": "5061292e-4184-4eab-e632-9bf496640484",
        "colab": {
          "base_uri": "https://localhost:8080/"
        }
      },
      "execution_count": 24,
      "outputs": [
        {
          "output_type": "execute_result",
          "data": {
            "text/plain": [
              "377.45"
            ]
          },
          "metadata": {},
          "execution_count": 24
        }
      ]
    },
    {
      "cell_type": "code",
      "source": [
        "def amrtzd_loan_pymnt(p,i,n):\n",
        "    \"\"\"Computes the calculation of the amount of an amortized loan payment\n",
        "       at a given rate, and number of payments.\n",
        "\n",
        "       Args:\n",
        "           p: principal value: amount borrowed\n",
        "           i: interest rate: percent of the principal (earned or paid) in decimal expression\n",
        "           n: number of payments\n",
        "      \n",
        "       Returns: the value of the amount of an amortized loan payment\n",
        "       at a given rate, and number of payments.\n",
        "    \"\"\"\n",
        "    return round((p * i) / ( 1 - ( (1+i)**(-n))),2)"
      ],
      "metadata": {
        "id": "iSEqDw8pJQPT"
      },
      "execution_count": 51,
      "outputs": []
    },
    {
      "cell_type": "code",
      "source": [
        "def test_amrtzd_loan_pymnt():\n",
        "    assert amrtzd_loan_pymnt(30000,.06,60) == 1856.27\n",
        "    assert amrtzd_loan_pymnt(8000,.04,48) == 377.45\n",
        "    assert amrtzd_loan_pymnt(1500,0.1,56) == 150.72\n",
        "test_amrtzd_loan_pymnt()"
      ],
      "metadata": {
        "id": "cFGJrb-UKB0F"
      },
      "execution_count": 52,
      "outputs": []
    },
    {
      "cell_type": "markdown",
      "metadata": {
        "id": "QzuRiOyzjMPm"
      },
      "source": [
        "#### Problem 4 -- Apply the process to create a remaining balance function"
      ]
    },
    {
      "cell_type": "code",
      "execution_count": 47,
      "metadata": {
        "id": "tfD2AUrcjMPm",
        "outputId": "dfb35fff-f046-4d9b-8b6b-cf6470dabdbc",
        "colab": {
          "base_uri": "https://localhost:8080/"
        }
      },
      "outputs": [
        {
          "output_type": "execute_result",
          "data": {
            "text/plain": [
              "47285.58"
            ]
          },
          "metadata": {},
          "execution_count": 47
        }
      ],
      "source": [
        "r = 3000\n",
        "i = .06\n",
        "n = 60\n",
        "x = 10\n",
        "\n",
        "round(r * abs( (1-( (1+i)**-(n-x) )) / i ),2)"
      ]
    },
    {
      "cell_type": "code",
      "source": [
        "remaining_blnc = lambda r,i,n,x: round(r * abs( (1-( (1+i)**-(n-x) )) / i ),2)\n",
        "remaining_blnc(150,0.04,48,24)"
      ],
      "metadata": {
        "colab": {
          "base_uri": "https://localhost:8080/"
        },
        "id": "g0bcoLK4NTZD",
        "outputId": "b265bc8e-1f10-4c92-ed4a-74a5fd999384"
      },
      "execution_count": 46,
      "outputs": [
        {
          "output_type": "execute_result",
          "data": {
            "text/plain": [
              "2287.04"
            ]
          },
          "metadata": {},
          "execution_count": 46
        }
      ]
    },
    {
      "cell_type": "code",
      "source": [
        "def remaining_blnc(r,i,n,x):\n",
        "    \"\"\"Computes the calculation of the remaining balance of a loan based on the\n",
        "       regular payment, interest rate, number of payments total, and number of\n",
        "       payments already made.\n",
        "\n",
        "       Args:\n",
        "           r: regular payment\n",
        "           i: interest rate per period\n",
        "           n: number of payments\n",
        "           x: number of payments already made\n",
        "      \n",
        "       Returns: the value of the remaining balance of a loan based on the\n",
        "       regular payment, interest rate, number of payments total, and number of\n",
        "       payments already made.\n",
        "    \"\"\"\n",
        "    return round(r * abs( (1-( (1+i)**-(n-x) )) / i ),2)"
      ],
      "metadata": {
        "id": "pnkpZNFPNUvS"
      },
      "execution_count": 44,
      "outputs": []
    },
    {
      "cell_type": "code",
      "source": [
        "def test_remaining_blnc():\n",
        "    assert remaining_blnc(3000,.06,60,10) == 47285.58\n",
        "    assert remaining_blnc(150,.04,48,24) == 2287.04\n",
        "    assert remaining_blnc(1560,0.09,12,4) == 8634.32\n",
        "test_amrtzd_loan_pymnt()"
      ],
      "metadata": {
        "id": "OZlyMoYPNWGi"
      },
      "execution_count": 43,
      "outputs": []
    }
  ],
  "metadata": {
    "kernelspec": {
      "display_name": "Python 3",
      "language": "python",
      "name": "python3"
    },
    "language_info": {
      "codemirror_mode": {
        "name": "ipython",
        "version": 3
      },
      "file_extension": ".py",
      "mimetype": "text/x-python",
      "name": "python",
      "nbconvert_exporter": "python",
      "pygments_lexer": "ipython3",
      "version": "3.7.2"
    },
    "colab": {
      "provenance": [],
      "include_colab_link": true
    }
  },
  "nbformat": 4,
  "nbformat_minor": 0
}