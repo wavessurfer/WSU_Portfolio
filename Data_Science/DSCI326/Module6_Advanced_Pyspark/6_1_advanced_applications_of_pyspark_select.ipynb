{
 "cells": [
  {
   "cell_type": "markdown",
   "metadata": {},
   "source": [
    "## Advanced Applications of Select"
   ]
  },
  {
   "cell_type": "code",
   "execution_count": 2,
   "metadata": {},
   "outputs": [
    {
     "name": "stdout",
     "output_type": "stream",
     "text": [
      "Requirement already satisfied: pyspark in /Users/bn8210wy/.pyenv/versions/anaconda3-2022.05/lib/python3.9/site-packages (3.3.0)\r\n",
      "Requirement already satisfied: py4j==0.10.9.5 in /Users/bn8210wy/.pyenv/versions/anaconda3-2022.05/lib/python3.9/site-packages (from pyspark) (0.10.9.5)\r\n"
     ]
    }
   ],
   "source": [
    "!pip install pyspark"
   ]
  },
  {
   "cell_type": "code",
   "execution_count": 3,
   "metadata": {},
   "outputs": [
    {
     "name": "stdout",
     "output_type": "stream",
     "text": [
      "Requirement already satisfied: toolz in /Users/bn8210wy/.pyenv/versions/anaconda3-2022.05/lib/python3.9/site-packages (0.11.2)\r\n"
     ]
    }
   ],
   "source": [
    "!pip install toolz"
   ]
  },
  {
   "cell_type": "markdown",
   "metadata": {},
   "source": [
    "## Outline\n",
    "\n",
    "* `select` helper functions\n",
    "* Basic `filter` format"
   ]
  },
  {
   "cell_type": "code",
   "execution_count": 1,
   "metadata": {},
   "outputs": [],
   "source": [
    "import pandas as pd\n",
    "from dfply import *"
   ]
  },
  {
   "cell_type": "markdown",
   "metadata": {},
   "source": [
    "# Reading a `pandas.Dataframe` into `pyspark` \n",
    "\n",
    "Sometimes it is useful to preprocess data in `pandas` before reading the data frame into `pyspark`.  To make this work, use the `more_pyspark.get_spark_types` to get and pass along the `dtypes` defined in `pandas`."
   ]
  },
  {
   "cell_type": "markdown",
   "metadata": {},
   "source": [
    "#### Step 1.  Read/preprocess the data in `pandas`"
   ]
  },
  {
   "cell_type": "code",
   "execution_count": 2,
   "metadata": {},
   "outputs": [
    {
     "data": {
      "text/plain": [
       "Index(['Unnamed: 0', 'F1', 'F5', 'F2', 'F1.1', 'F2.1', 'F6', 'F4', 'F3',\n",
       "       'F5.1', 'F1.2', 'F2.2', 'F6.1', 'F2.3', 'F4.1', 'F2.4', 'F5.2', 'F2.5',\n",
       "       'F6.2', 'F1.3', 'F2.6', 'F5.3', 'F4.2', 'F2.7', 'F3.1', 'F2.8', 'F5.4',\n",
       "       'F3.2', 'F1.4', 'F3.3', 'F1.5', 'F5.5', 'F6.3', 'F1.6', 'F5.6', 'F2.9',\n",
       "       'F3.4', 'F4.3', 'F2.10', 'F1.7', 'F6.4', 'F4.4', 'F5.7', 'F3.5',\n",
       "       'F2.11'],\n",
       "      dtype='object')"
      ]
     },
     "execution_count": 2,
     "metadata": {},
     "output_type": "execute_result"
    }
   ],
   "source": [
    "survey_raw = pd.read_csv(\"./data/health_survey.csv\")\n",
    "survey_raw.columns"
   ]
  },
  {
   "cell_type": "code",
   "execution_count": 3,
   "metadata": {},
   "outputs": [
    {
     "data": {
      "text/html": [
       "<div>\n",
       "<style scoped>\n",
       "    .dataframe tbody tr th:only-of-type {\n",
       "        vertical-align: middle;\n",
       "    }\n",
       "\n",
       "    .dataframe tbody tr th {\n",
       "        vertical-align: top;\n",
       "    }\n",
       "\n",
       "    .dataframe thead th {\n",
       "        text-align: right;\n",
       "    }\n",
       "</style>\n",
       "<table border=\"1\" class=\"dataframe\">\n",
       "  <thead>\n",
       "    <tr style=\"text-align: right;\">\n",
       "      <th></th>\n",
       "      <th>f1</th>\n",
       "      <th>f5</th>\n",
       "      <th>f2</th>\n",
       "      <th>f1_1</th>\n",
       "      <th>f2_1</th>\n",
       "      <th>f6</th>\n",
       "      <th>f4</th>\n",
       "      <th>f3</th>\n",
       "      <th>f5_1</th>\n",
       "      <th>f1_2</th>\n",
       "      <th>...</th>\n",
       "      <th>f3_4</th>\n",
       "      <th>f4_3</th>\n",
       "      <th>f2_10</th>\n",
       "      <th>f1_7</th>\n",
       "      <th>f6_4</th>\n",
       "      <th>f4_4</th>\n",
       "      <th>f5_7</th>\n",
       "      <th>f3_5</th>\n",
       "      <th>f2_11</th>\n",
       "      <th>id</th>\n",
       "    </tr>\n",
       "  </thead>\n",
       "  <tbody>\n",
       "    <tr>\n",
       "      <th>0</th>\n",
       "      <td>Somewhat Agree</td>\n",
       "      <td>Somewhat Disagree</td>\n",
       "      <td>Somewhat Agree</td>\n",
       "      <td>Somewhat Agree</td>\n",
       "      <td>Somewhat Agree</td>\n",
       "      <td>Somewhat Disagree</td>\n",
       "      <td>Somewhat Agree</td>\n",
       "      <td>Somewhat Agree</td>\n",
       "      <td>Somewhat Agree</td>\n",
       "      <td>Somewhat Agree</td>\n",
       "      <td>...</td>\n",
       "      <td>Somewhat Disagree</td>\n",
       "      <td>Neither Agree nor Disagree</td>\n",
       "      <td>Somewhat Agree</td>\n",
       "      <td>Somewhat Agree</td>\n",
       "      <td>Somewhat Agree</td>\n",
       "      <td>Somewhat Agree</td>\n",
       "      <td>Somewhat Agree</td>\n",
       "      <td>Somewhat Agree</td>\n",
       "      <td>Somewhat Agree</td>\n",
       "      <td>0</td>\n",
       "    </tr>\n",
       "    <tr>\n",
       "      <th>1</th>\n",
       "      <td>Somewhat Agree</td>\n",
       "      <td>Somewhat Disagree</td>\n",
       "      <td>Somewhat Agree</td>\n",
       "      <td>Somewhat Agree</td>\n",
       "      <td>Somewhat Agree</td>\n",
       "      <td>Somewhat Disagree</td>\n",
       "      <td>Somewhat Agree</td>\n",
       "      <td>Neither Agree nor Disagree</td>\n",
       "      <td>Neither Agree nor Disagree</td>\n",
       "      <td>Somewhat Agree</td>\n",
       "      <td>...</td>\n",
       "      <td>Somewhat Agree</td>\n",
       "      <td>Neither Agree nor Disagree</td>\n",
       "      <td>Somewhat Agree</td>\n",
       "      <td>Somewhat Agree</td>\n",
       "      <td>Somewhat Disagree</td>\n",
       "      <td>Neither Agree nor Disagree</td>\n",
       "      <td>Somewhat Agree</td>\n",
       "      <td>Neither Agree nor Disagree</td>\n",
       "      <td>Somewhat Agree</td>\n",
       "      <td>1</td>\n",
       "    </tr>\n",
       "  </tbody>\n",
       "</table>\n",
       "<p>2 rows × 45 columns</p>\n",
       "</div>"
      ],
      "text/plain": [
       "               f1                 f5              f2            f1_1  \\\n",
       "0  Somewhat Agree  Somewhat Disagree  Somewhat Agree  Somewhat Agree   \n",
       "1  Somewhat Agree  Somewhat Disagree  Somewhat Agree  Somewhat Agree   \n",
       "\n",
       "             f2_1                 f6              f4  \\\n",
       "0  Somewhat Agree  Somewhat Disagree  Somewhat Agree   \n",
       "1  Somewhat Agree  Somewhat Disagree  Somewhat Agree   \n",
       "\n",
       "                           f3                        f5_1            f1_2  \\\n",
       "0              Somewhat Agree              Somewhat Agree  Somewhat Agree   \n",
       "1  Neither Agree nor Disagree  Neither Agree nor Disagree  Somewhat Agree   \n",
       "\n",
       "   ...               f3_4                        f4_3           f2_10  \\\n",
       "0  ...  Somewhat Disagree  Neither Agree nor Disagree  Somewhat Agree   \n",
       "1  ...     Somewhat Agree  Neither Agree nor Disagree  Somewhat Agree   \n",
       "\n",
       "             f1_7               f6_4                        f4_4  \\\n",
       "0  Somewhat Agree     Somewhat Agree              Somewhat Agree   \n",
       "1  Somewhat Agree  Somewhat Disagree  Neither Agree nor Disagree   \n",
       "\n",
       "             f5_7                        f3_5           f2_11 id  \n",
       "0  Somewhat Agree              Somewhat Agree  Somewhat Agree  0  \n",
       "1  Somewhat Agree  Neither Agree nor Disagree  Somewhat Agree  1  \n",
       "\n",
       "[2 rows x 45 columns]"
      ]
     },
     "execution_count": 3,
     "metadata": {},
     "output_type": "execute_result"
    }
   ],
   "source": [
    "fix_name = lambda n: n.lower().replace('.', '_')\n",
    "survey = (survey_raw >>\n",
    "           select(~X['Unnamed: 0']) >>\n",
    "           rename(**{fix_name(n):n for n in survey_raw.columns}) >>\n",
    "           mutate(id = X.index))\n",
    "survey.head(2)"
   ]
  },
  {
   "cell_type": "markdown",
   "metadata": {},
   "source": [
    "#### Step 2. Convert the `dtypes` into `spark` types"
   ]
  },
  {
   "cell_type": "code",
   "execution_count": 4,
   "metadata": {
    "scrolled": true
   },
   "outputs": [
    {
     "data": {
      "text/plain": [
       "StructType([StructField('f1', StringType(), True), StructField('f5', StringType(), True), StructField('f2', StringType(), True), StructField('f1_1', StringType(), True), StructField('f2_1', StringType(), True), StructField('f6', StringType(), True), StructField('f4', StringType(), True), StructField('f3', StringType(), True), StructField('f5_1', StringType(), True), StructField('f1_2', StringType(), True), StructField('f2_2', StringType(), True), StructField('f6_1', StringType(), True), StructField('f2_3', StringType(), True), StructField('f4_1', StringType(), True), StructField('f2_4', StringType(), True), StructField('f5_2', StringType(), True), StructField('f2_5', StringType(), True), StructField('f6_2', StringType(), True), StructField('f1_3', StringType(), True), StructField('f2_6', StringType(), True), StructField('f5_3', StringType(), True), StructField('f4_2', StringType(), True), StructField('f2_7', StringType(), True), StructField('f3_1', StringType(), True), StructField('f2_8', StringType(), True), StructField('f5_4', StringType(), True), StructField('f3_2', StringType(), True), StructField('f1_4', StringType(), True), StructField('f3_3', StringType(), True), StructField('f1_5', StringType(), True), StructField('f5_5', StringType(), True), StructField('f6_3', StringType(), True), StructField('f1_6', StringType(), True), StructField('f5_6', StringType(), True), StructField('f2_9', StringType(), True), StructField('f3_4', StringType(), True), StructField('f4_3', StringType(), True), StructField('f2_10', StringType(), True), StructField('f1_7', StringType(), True), StructField('f6_4', StringType(), True), StructField('f4_4', StringType(), True), StructField('f5_7', StringType(), True), StructField('f3_5', StringType(), True), StructField('f2_11', StringType(), True), StructField('id', IntegerType(), True)])"
      ]
     },
     "execution_count": 4,
     "metadata": {},
     "output_type": "execute_result"
    }
   ],
   "source": [
    "from toolz import merge\n",
    "from pyspark.sql.types import IntegerType, StringType, StructType, StructField\n",
    "from more_pyspark import get_spark_types\n",
    "\n",
    "spark_type = get_spark_types(survey)\n",
    "spark_type "
   ]
  },
  {
   "cell_type": "code",
   "execution_count": 5,
   "metadata": {
    "scrolled": true
   },
   "outputs": [
    {
     "name": "stdout",
     "output_type": "stream",
     "text": [
      "StructType([\n",
      "    StructField('f1', StringType(), True), \n",
      "    StructField('f5', StringType(), True), \n",
      "    StructField('f2', StringType(), True), \n",
      "    StructField('f1_1', StringType(), True), \n",
      "    StructField('f2_1', StringType(), True), \n",
      "    StructField('f6', StringType(), True), \n",
      "    StructField('f4', StringType(), True), \n",
      "    StructField('f3', StringType(), True), \n",
      "    StructField('f5_1', StringType(), True), \n",
      "    StructField('f1_2', StringType(), True), \n",
      "    StructField('f2_2', StringType(), True), \n",
      "    StructField('f6_1', StringType(), True), \n",
      "    StructField('f2_3', StringType(), True), \n",
      "    StructField('f4_1', StringType(), True), \n",
      "    StructField('f2_4', StringType(), True), \n",
      "    StructField('f5_2', StringType(), True), \n",
      "    StructField('f2_5', StringType(), True), \n",
      "    StructField('f6_2', StringType(), True), \n",
      "    StructField('f1_3', StringType(), True), \n",
      "    StructField('f2_6', StringType(), True), \n",
      "    StructField('f5_3', StringType(), True), \n",
      "    StructField('f4_2', StringType(), True), \n",
      "    StructField('f2_7', StringType(), True), \n",
      "    StructField('f3_1', StringType(), True), \n",
      "    StructField('f2_8', StringType(), True), \n",
      "    StructField('f5_4', StringType(), True), \n",
      "    StructField('f3_2', StringType(), True), \n",
      "    StructField('f1_4', StringType(), True), \n",
      "    StructField('f3_3', StringType(), True), \n",
      "    StructField('f1_5', StringType(), True), \n",
      "    StructField('f5_5', StringType(), True), \n",
      "    StructField('f6_3', StringType(), True), \n",
      "    StructField('f1_6', StringType(), True), \n",
      "    StructField('f5_6', StringType(), True), \n",
      "    StructField('f2_9', StringType(), True), \n",
      "    StructField('f3_4', StringType(), True), \n",
      "    StructField('f4_3', StringType(), True), \n",
      "    StructField('f2_10', StringType(), True), \n",
      "    StructField('f1_7', StringType(), True), \n",
      "    StructField('f6_4', StringType(), True), \n",
      "    StructField('f4_4', StringType(), True), \n",
      "    StructField('f5_7', StringType(), True), \n",
      "    StructField('f3_5', StringType(), True), \n",
      "    StructField('f2_11', StringType(), True), \n",
      "    StructField('id', IntegerType(), True)])\n"
     ]
    }
   ],
   "source": [
    "## Let's make that a bit more readable\n",
    "\n",
    "from composable.string import replace\n",
    "from composable import pipeable\n",
    "\n",
    "str_ = pipeable(str)\n",
    "print_ = pipeable(print)\n",
    "\n",
    "spark_type = get_spark_types(survey)\n",
    "_ = (spark_type \n",
    "     >> str_ \n",
    "     >> replace('StructField', '\\n    StructField')\n",
    "     >> print_)"
   ]
  },
  {
   "cell_type": "markdown",
   "metadata": {},
   "source": [
    "#### Step 3. Create the `pyspark` data frame"
   ]
  },
  {
   "cell_type": "code",
   "execution_count": 6,
   "metadata": {},
   "outputs": [
    {
     "name": "stdout",
     "output_type": "stream",
     "text": [
      "22/10/31 23:00:58 WARN Utils: Your hostname, nn1448lr222 resolves to a loopback address: 127.0.1.1; using 172.22.172.170 instead (on interface eth0)\n",
      "22/10/31 23:00:58 WARN Utils: Set SPARK_LOCAL_IP if you need to bind to another address\n"
     ]
    },
    {
     "name": "stderr",
     "output_type": "stream",
     "text": [
      "Setting default log level to \"WARN\".\n",
      "To adjust logging level use sc.setLogLevel(newLevel). For SparkR, use setLogLevel(newLevel).\n"
     ]
    },
    {
     "name": "stdout",
     "output_type": "stream",
     "text": [
      "22/10/31 23:01:00 WARN NativeCodeLoader: Unable to load native-hadoop library for your platform... using builtin-java classes where applicable\n",
      "22/10/31 23:01:02 WARN Utils: Service 'SparkUI' could not bind on port 4040. Attempting port 4041.\n"
     ]
    }
   ],
   "source": [
    "from pyspark.sql import SparkSession\n",
    "spark = SparkSession.builder.appName('Ops').getOrCreate()"
   ]
  },
  {
   "cell_type": "code",
   "execution_count": 7,
   "metadata": {
    "scrolled": true
   },
   "outputs": [
    {
     "data": {
      "text/plain": [
       "DataFrame[f1: string, f5: string, f2: string, f1_1: string, f2_1: string, f6: string, f4: string, f3: string, f5_1: string, f1_2: string, f2_2: string, f6_1: string, f2_3: string, f4_1: string, f2_4: string, f5_2: string, f2_5: string, f6_2: string, f1_3: string, f2_6: string, f5_3: string, f4_2: string, f2_7: string, f3_1: string, f2_8: string, f5_4: string, f3_2: string, f1_4: string, f3_3: string, f1_5: string, f5_5: string, f6_3: string, f1_6: string, f5_6: string, f2_9: string, f3_4: string, f4_3: string, f2_10: string, f1_7: string, f6_4: string, f4_4: string, f5_7: string, f3_5: string, f2_11: string, id: int]"
      ]
     },
     "execution_count": 7,
     "metadata": {},
     "output_type": "execute_result"
    }
   ],
   "source": [
    "survey_spark = spark.createDataFrame(survey ,schema=spark_type)\n",
    "survey_spark"
   ]
  },
  {
   "cell_type": "markdown",
   "metadata": {},
   "source": [
    "# `pyspark` helpers from `more_pyspark`\n",
    "\n",
    "I have created similar `select` helpers for `pyspark` similar to the `dfply` helpers such as `columns_from`."
   ]
  },
  {
   "cell_type": "code",
   "execution_count": 8,
   "metadata": {},
   "outputs": [],
   "source": [
    "from more_pyspark import all_but, col_startswith, col_endswith, col_contains, cols_to, cols_from, cols_between, to_pandas"
   ]
  },
  {
   "cell_type": "markdown",
   "metadata": {},
   "source": [
    "## `pyspark` helper details\n",
    "\n",
    "* Require the column names\n",
    "* Two embedded forms\n",
    "    * `col_startswith('f1',survey_spark.columns)`\n",
    "    * `survey_spark.columns >>  col_startswith('f1')`\n",
    "* Or just save first"
   ]
  },
  {
   "cell_type": "markdown",
   "metadata": {},
   "source": [
    "#### Function call"
   ]
  },
  {
   "cell_type": "code",
   "execution_count": 9,
   "metadata": {},
   "outputs": [
    {
     "name": "stdout",
     "output_type": "stream",
     "text": [
      "22/10/31 23:01:08 WARN package: Truncated the string representation of a plan since it was too large. This behavior can be adjusted by setting 'spark.sql.debug.maxToStringFields'.\n"
     ]
    },
    {
     "name": "stderr",
     "output_type": "stream",
     "text": [
      "                                                                                \r"
     ]
    },
    {
     "data": {
      "text/html": [
       "<div>\n",
       "<style scoped>\n",
       "    .dataframe tbody tr th:only-of-type {\n",
       "        vertical-align: middle;\n",
       "    }\n",
       "\n",
       "    .dataframe tbody tr th {\n",
       "        vertical-align: top;\n",
       "    }\n",
       "\n",
       "    .dataframe thead th {\n",
       "        text-align: right;\n",
       "    }\n",
       "</style>\n",
       "<table border=\"1\" class=\"dataframe\">\n",
       "  <thead>\n",
       "    <tr style=\"text-align: right;\">\n",
       "      <th></th>\n",
       "      <th>f1</th>\n",
       "      <th>f1_1</th>\n",
       "      <th>f1_2</th>\n",
       "      <th>f1_3</th>\n",
       "      <th>f1_4</th>\n",
       "      <th>f1_5</th>\n",
       "      <th>f1_6</th>\n",
       "      <th>f1_7</th>\n",
       "    </tr>\n",
       "  </thead>\n",
       "  <tbody>\n",
       "    <tr>\n",
       "      <th>0</th>\n",
       "      <td>Somewhat Agree</td>\n",
       "      <td>Somewhat Agree</td>\n",
       "      <td>Somewhat Agree</td>\n",
       "      <td>Somewhat Agree</td>\n",
       "      <td>Neither Agree nor Disagree</td>\n",
       "      <td>Somewhat Agree</td>\n",
       "      <td>Somewhat Agree</td>\n",
       "      <td>Somewhat Agree</td>\n",
       "    </tr>\n",
       "    <tr>\n",
       "      <th>1</th>\n",
       "      <td>Somewhat Agree</td>\n",
       "      <td>Somewhat Agree</td>\n",
       "      <td>Somewhat Agree</td>\n",
       "      <td>Somewhat Agree</td>\n",
       "      <td>Somewhat Agree</td>\n",
       "      <td>Neither Agree nor Disagree</td>\n",
       "      <td>Somewhat Agree</td>\n",
       "      <td>Somewhat Agree</td>\n",
       "    </tr>\n",
       "  </tbody>\n",
       "</table>\n",
       "</div>"
      ],
      "text/plain": [
       "               f1            f1_1            f1_2            f1_3  \\\n",
       "0  Somewhat Agree  Somewhat Agree  Somewhat Agree  Somewhat Agree   \n",
       "1  Somewhat Agree  Somewhat Agree  Somewhat Agree  Somewhat Agree   \n",
       "\n",
       "                         f1_4                        f1_5            f1_6  \\\n",
       "0  Neither Agree nor Disagree              Somewhat Agree  Somewhat Agree   \n",
       "1              Somewhat Agree  Neither Agree nor Disagree  Somewhat Agree   \n",
       "\n",
       "             f1_7  \n",
       "0  Somewhat Agree  \n",
       "1  Somewhat Agree  "
      ]
     },
     "execution_count": 9,
     "metadata": {},
     "output_type": "execute_result"
    }
   ],
   "source": [
    "(survey_spark\n",
    "   .select(col_startswith('f1',survey_spark.columns))\n",
    "   .take(2)\n",
    ") >> to_pandas"
   ]
  },
  {
   "cell_type": "markdown",
   "metadata": {},
   "source": [
    "#### Embedded pipe"
   ]
  },
  {
   "cell_type": "code",
   "execution_count": 10,
   "metadata": {},
   "outputs": [
    {
     "data": {
      "text/html": [
       "<div>\n",
       "<style scoped>\n",
       "    .dataframe tbody tr th:only-of-type {\n",
       "        vertical-align: middle;\n",
       "    }\n",
       "\n",
       "    .dataframe tbody tr th {\n",
       "        vertical-align: top;\n",
       "    }\n",
       "\n",
       "    .dataframe thead th {\n",
       "        text-align: right;\n",
       "    }\n",
       "</style>\n",
       "<table border=\"1\" class=\"dataframe\">\n",
       "  <thead>\n",
       "    <tr style=\"text-align: right;\">\n",
       "      <th></th>\n",
       "      <th>f1</th>\n",
       "      <th>f1_1</th>\n",
       "      <th>f1_2</th>\n",
       "      <th>f1_3</th>\n",
       "      <th>f1_4</th>\n",
       "      <th>f1_5</th>\n",
       "      <th>f1_6</th>\n",
       "      <th>f1_7</th>\n",
       "    </tr>\n",
       "  </thead>\n",
       "  <tbody>\n",
       "    <tr>\n",
       "      <th>0</th>\n",
       "      <td>Somewhat Agree</td>\n",
       "      <td>Somewhat Agree</td>\n",
       "      <td>Somewhat Agree</td>\n",
       "      <td>Somewhat Agree</td>\n",
       "      <td>Neither Agree nor Disagree</td>\n",
       "      <td>Somewhat Agree</td>\n",
       "      <td>Somewhat Agree</td>\n",
       "      <td>Somewhat Agree</td>\n",
       "    </tr>\n",
       "    <tr>\n",
       "      <th>1</th>\n",
       "      <td>Somewhat Agree</td>\n",
       "      <td>Somewhat Agree</td>\n",
       "      <td>Somewhat Agree</td>\n",
       "      <td>Somewhat Agree</td>\n",
       "      <td>Somewhat Agree</td>\n",
       "      <td>Neither Agree nor Disagree</td>\n",
       "      <td>Somewhat Agree</td>\n",
       "      <td>Somewhat Agree</td>\n",
       "    </tr>\n",
       "  </tbody>\n",
       "</table>\n",
       "</div>"
      ],
      "text/plain": [
       "               f1            f1_1            f1_2            f1_3  \\\n",
       "0  Somewhat Agree  Somewhat Agree  Somewhat Agree  Somewhat Agree   \n",
       "1  Somewhat Agree  Somewhat Agree  Somewhat Agree  Somewhat Agree   \n",
       "\n",
       "                         f1_4                        f1_5            f1_6  \\\n",
       "0  Neither Agree nor Disagree              Somewhat Agree  Somewhat Agree   \n",
       "1              Somewhat Agree  Neither Agree nor Disagree  Somewhat Agree   \n",
       "\n",
       "             f1_7  \n",
       "0  Somewhat Agree  \n",
       "1  Somewhat Agree  "
      ]
     },
     "execution_count": 10,
     "metadata": {},
     "output_type": "execute_result"
    }
   ],
   "source": [
    "(survey_spark\n",
    ".select(survey_spark.columns \n",
    "        >> col_startswith('f1'))\n",
    ".take(2)\n",
    ") >> to_pandas\n"
   ]
  },
  {
   "cell_type": "markdown",
   "metadata": {},
   "source": [
    "#### Save first"
   ]
  },
  {
   "cell_type": "code",
   "execution_count": 11,
   "metadata": {},
   "outputs": [
    {
     "data": {
      "text/html": [
       "<div>\n",
       "<style scoped>\n",
       "    .dataframe tbody tr th:only-of-type {\n",
       "        vertical-align: middle;\n",
       "    }\n",
       "\n",
       "    .dataframe tbody tr th {\n",
       "        vertical-align: top;\n",
       "    }\n",
       "\n",
       "    .dataframe thead th {\n",
       "        text-align: right;\n",
       "    }\n",
       "</style>\n",
       "<table border=\"1\" class=\"dataframe\">\n",
       "  <thead>\n",
       "    <tr style=\"text-align: right;\">\n",
       "      <th></th>\n",
       "      <th>f1</th>\n",
       "      <th>f1_1</th>\n",
       "      <th>f1_2</th>\n",
       "      <th>f1_3</th>\n",
       "      <th>f1_4</th>\n",
       "      <th>f1_5</th>\n",
       "      <th>f1_6</th>\n",
       "      <th>f1_7</th>\n",
       "    </tr>\n",
       "  </thead>\n",
       "  <tbody>\n",
       "    <tr>\n",
       "      <th>0</th>\n",
       "      <td>Somewhat Agree</td>\n",
       "      <td>Somewhat Agree</td>\n",
       "      <td>Somewhat Agree</td>\n",
       "      <td>Somewhat Agree</td>\n",
       "      <td>Neither Agree nor Disagree</td>\n",
       "      <td>Somewhat Agree</td>\n",
       "      <td>Somewhat Agree</td>\n",
       "      <td>Somewhat Agree</td>\n",
       "    </tr>\n",
       "    <tr>\n",
       "      <th>1</th>\n",
       "      <td>Somewhat Agree</td>\n",
       "      <td>Somewhat Agree</td>\n",
       "      <td>Somewhat Agree</td>\n",
       "      <td>Somewhat Agree</td>\n",
       "      <td>Somewhat Agree</td>\n",
       "      <td>Neither Agree nor Disagree</td>\n",
       "      <td>Somewhat Agree</td>\n",
       "      <td>Somewhat Agree</td>\n",
       "    </tr>\n",
       "  </tbody>\n",
       "</table>\n",
       "</div>"
      ],
      "text/plain": [
       "               f1            f1_1            f1_2            f1_3  \\\n",
       "0  Somewhat Agree  Somewhat Agree  Somewhat Agree  Somewhat Agree   \n",
       "1  Somewhat Agree  Somewhat Agree  Somewhat Agree  Somewhat Agree   \n",
       "\n",
       "                         f1_4                        f1_5            f1_6  \\\n",
       "0  Neither Agree nor Disagree              Somewhat Agree  Somewhat Agree   \n",
       "1              Somewhat Agree  Neither Agree nor Disagree  Somewhat Agree   \n",
       "\n",
       "             f1_7  \n",
       "0  Somewhat Agree  \n",
       "1  Somewhat Agree  "
      ]
     },
     "execution_count": 11,
     "metadata": {},
     "output_type": "execute_result"
    }
   ],
   "source": [
    "\n",
    "f1_cols = (survey_spark.columns >>  col_startswith('f1'))\n",
    "\n",
    "(survey_spark\n",
    "   .select(f1_cols)\n",
    "   .take(2)\n",
    ") >> to_pandas"
   ]
  },
  {
   "cell_type": "markdown",
   "metadata": {},
   "source": [
    "#### `all_but`"
   ]
  },
  {
   "cell_type": "code",
   "execution_count": 12,
   "metadata": {},
   "outputs": [
    {
     "data": {
      "text/html": [
       "<div>\n",
       "<style scoped>\n",
       "    .dataframe tbody tr th:only-of-type {\n",
       "        vertical-align: middle;\n",
       "    }\n",
       "\n",
       "    .dataframe tbody tr th {\n",
       "        vertical-align: top;\n",
       "    }\n",
       "\n",
       "    .dataframe thead th {\n",
       "        text-align: right;\n",
       "    }\n",
       "</style>\n",
       "<table border=\"1\" class=\"dataframe\">\n",
       "  <thead>\n",
       "    <tr style=\"text-align: right;\">\n",
       "      <th></th>\n",
       "      <th>f5</th>\n",
       "      <th>f2</th>\n",
       "      <th>f1_1</th>\n",
       "      <th>f2_1</th>\n",
       "      <th>f6</th>\n",
       "      <th>f4</th>\n",
       "      <th>f3</th>\n",
       "      <th>f5_1</th>\n",
       "      <th>f1_2</th>\n",
       "      <th>f2_2</th>\n",
       "      <th>...</th>\n",
       "      <th>f3_4</th>\n",
       "      <th>f4_3</th>\n",
       "      <th>f2_10</th>\n",
       "      <th>f1_7</th>\n",
       "      <th>f6_4</th>\n",
       "      <th>f4_4</th>\n",
       "      <th>f5_7</th>\n",
       "      <th>f3_5</th>\n",
       "      <th>f2_11</th>\n",
       "      <th>id</th>\n",
       "    </tr>\n",
       "  </thead>\n",
       "  <tbody>\n",
       "    <tr>\n",
       "      <th>0</th>\n",
       "      <td>Somewhat Disagree</td>\n",
       "      <td>Somewhat Agree</td>\n",
       "      <td>Somewhat Agree</td>\n",
       "      <td>Somewhat Agree</td>\n",
       "      <td>Somewhat Disagree</td>\n",
       "      <td>Somewhat Agree</td>\n",
       "      <td>Somewhat Agree</td>\n",
       "      <td>Somewhat Agree</td>\n",
       "      <td>Somewhat Agree</td>\n",
       "      <td>Somewhat Agree</td>\n",
       "      <td>...</td>\n",
       "      <td>Somewhat Disagree</td>\n",
       "      <td>Neither Agree nor Disagree</td>\n",
       "      <td>Somewhat Agree</td>\n",
       "      <td>Somewhat Agree</td>\n",
       "      <td>Somewhat Agree</td>\n",
       "      <td>Somewhat Agree</td>\n",
       "      <td>Somewhat Agree</td>\n",
       "      <td>Somewhat Agree</td>\n",
       "      <td>Somewhat Agree</td>\n",
       "      <td>0</td>\n",
       "    </tr>\n",
       "    <tr>\n",
       "      <th>1</th>\n",
       "      <td>Somewhat Disagree</td>\n",
       "      <td>Somewhat Agree</td>\n",
       "      <td>Somewhat Agree</td>\n",
       "      <td>Somewhat Agree</td>\n",
       "      <td>Somewhat Disagree</td>\n",
       "      <td>Somewhat Agree</td>\n",
       "      <td>Neither Agree nor Disagree</td>\n",
       "      <td>Neither Agree nor Disagree</td>\n",
       "      <td>Somewhat Agree</td>\n",
       "      <td>Neither Agree nor Disagree</td>\n",
       "      <td>...</td>\n",
       "      <td>Somewhat Agree</td>\n",
       "      <td>Neither Agree nor Disagree</td>\n",
       "      <td>Somewhat Agree</td>\n",
       "      <td>Somewhat Agree</td>\n",
       "      <td>Somewhat Disagree</td>\n",
       "      <td>Neither Agree nor Disagree</td>\n",
       "      <td>Somewhat Agree</td>\n",
       "      <td>Neither Agree nor Disagree</td>\n",
       "      <td>Somewhat Agree</td>\n",
       "      <td>1</td>\n",
       "    </tr>\n",
       "  </tbody>\n",
       "</table>\n",
       "<p>2 rows × 44 columns</p>\n",
       "</div>"
      ],
      "text/plain": [
       "                  f5              f2            f1_1            f2_1  \\\n",
       "0  Somewhat Disagree  Somewhat Agree  Somewhat Agree  Somewhat Agree   \n",
       "1  Somewhat Disagree  Somewhat Agree  Somewhat Agree  Somewhat Agree   \n",
       "\n",
       "                  f6              f4                          f3  \\\n",
       "0  Somewhat Disagree  Somewhat Agree              Somewhat Agree   \n",
       "1  Somewhat Disagree  Somewhat Agree  Neither Agree nor Disagree   \n",
       "\n",
       "                         f5_1            f1_2                        f2_2  \\\n",
       "0              Somewhat Agree  Somewhat Agree              Somewhat Agree   \n",
       "1  Neither Agree nor Disagree  Somewhat Agree  Neither Agree nor Disagree   \n",
       "\n",
       "   ...               f3_4                        f4_3           f2_10  \\\n",
       "0  ...  Somewhat Disagree  Neither Agree nor Disagree  Somewhat Agree   \n",
       "1  ...     Somewhat Agree  Neither Agree nor Disagree  Somewhat Agree   \n",
       "\n",
       "             f1_7               f6_4                        f4_4  \\\n",
       "0  Somewhat Agree     Somewhat Agree              Somewhat Agree   \n",
       "1  Somewhat Agree  Somewhat Disagree  Neither Agree nor Disagree   \n",
       "\n",
       "             f5_7                        f3_5           f2_11 id  \n",
       "0  Somewhat Agree              Somewhat Agree  Somewhat Agree  0  \n",
       "1  Somewhat Agree  Neither Agree nor Disagree  Somewhat Agree  1  \n",
       "\n",
       "[2 rows x 44 columns]"
      ]
     },
     "execution_count": 12,
     "metadata": {},
     "output_type": "execute_result"
    }
   ],
   "source": [
    "(survey_spark\n",
    ".select(survey_spark.columns \n",
    "       >> all_but('f1'))\n",
    ".take(2)\n",
    ") >> to_pandas"
   ]
  },
  {
   "cell_type": "markdown",
   "metadata": {},
   "source": [
    "#### Composing `all_but`"
   ]
  },
  {
   "cell_type": "code",
   "execution_count": 13,
   "metadata": {},
   "outputs": [
    {
     "data": {
      "text/html": [
       "<div>\n",
       "<style scoped>\n",
       "    .dataframe tbody tr th:only-of-type {\n",
       "        vertical-align: middle;\n",
       "    }\n",
       "\n",
       "    .dataframe tbody tr th {\n",
       "        vertical-align: top;\n",
       "    }\n",
       "\n",
       "    .dataframe thead th {\n",
       "        text-align: right;\n",
       "    }\n",
       "</style>\n",
       "<table border=\"1\" class=\"dataframe\">\n",
       "  <thead>\n",
       "    <tr style=\"text-align: right;\">\n",
       "      <th></th>\n",
       "      <th>f1</th>\n",
       "      <th>f5</th>\n",
       "      <th>f2</th>\n",
       "      <th>f6</th>\n",
       "      <th>f4</th>\n",
       "      <th>f3</th>\n",
       "      <th>id</th>\n",
       "    </tr>\n",
       "  </thead>\n",
       "  <tbody>\n",
       "    <tr>\n",
       "      <th>0</th>\n",
       "      <td>Somewhat Agree</td>\n",
       "      <td>Somewhat Disagree</td>\n",
       "      <td>Somewhat Agree</td>\n",
       "      <td>Somewhat Disagree</td>\n",
       "      <td>Somewhat Agree</td>\n",
       "      <td>Somewhat Agree</td>\n",
       "      <td>0</td>\n",
       "    </tr>\n",
       "    <tr>\n",
       "      <th>1</th>\n",
       "      <td>Somewhat Agree</td>\n",
       "      <td>Somewhat Disagree</td>\n",
       "      <td>Somewhat Agree</td>\n",
       "      <td>Somewhat Disagree</td>\n",
       "      <td>Somewhat Agree</td>\n",
       "      <td>Neither Agree nor Disagree</td>\n",
       "      <td>1</td>\n",
       "    </tr>\n",
       "  </tbody>\n",
       "</table>\n",
       "</div>"
      ],
      "text/plain": [
       "               f1                 f5              f2                 f6  \\\n",
       "0  Somewhat Agree  Somewhat Disagree  Somewhat Agree  Somewhat Disagree   \n",
       "1  Somewhat Agree  Somewhat Disagree  Somewhat Agree  Somewhat Disagree   \n",
       "\n",
       "               f4                          f3  id  \n",
       "0  Somewhat Agree              Somewhat Agree   0  \n",
       "1  Somewhat Agree  Neither Agree nor Disagree   1  "
      ]
     },
     "execution_count": 13,
     "metadata": {},
     "output_type": "execute_result"
    }
   ],
   "source": [
    "has_underscore = survey_spark.columns >> col_contains('_')\n",
    "no_underscore = survey_spark.columns >> all_but(has_underscore)\n",
    "                 \n",
    "(survey_spark.\n",
    "   select(no_underscore).\n",
    "   take(2)) >> to_pandas"
   ]
  },
  {
   "cell_type": "markdown",
   "metadata": {},
   "source": [
    "#### Endwith"
   ]
  },
  {
   "cell_type": "code",
   "execution_count": 14,
   "metadata": {},
   "outputs": [
    {
     "data": {
      "text/html": [
       "<div>\n",
       "<style scoped>\n",
       "    .dataframe tbody tr th:only-of-type {\n",
       "        vertical-align: middle;\n",
       "    }\n",
       "\n",
       "    .dataframe tbody tr th {\n",
       "        vertical-align: top;\n",
       "    }\n",
       "\n",
       "    .dataframe thead th {\n",
       "        text-align: right;\n",
       "    }\n",
       "</style>\n",
       "<table border=\"1\" class=\"dataframe\">\n",
       "  <thead>\n",
       "    <tr style=\"text-align: right;\">\n",
       "      <th></th>\n",
       "      <th>f1_2</th>\n",
       "      <th>f2_2</th>\n",
       "      <th>f5_2</th>\n",
       "      <th>f6_2</th>\n",
       "      <th>f4_2</th>\n",
       "      <th>f3_2</th>\n",
       "    </tr>\n",
       "  </thead>\n",
       "  <tbody>\n",
       "    <tr>\n",
       "      <th>0</th>\n",
       "      <td>Somewhat Agree</td>\n",
       "      <td>Somewhat Agree</td>\n",
       "      <td>Somewhat Agree</td>\n",
       "      <td>Somewhat Agree</td>\n",
       "      <td>Somewhat Agree</td>\n",
       "      <td>Somewhat Agree</td>\n",
       "    </tr>\n",
       "    <tr>\n",
       "      <th>1</th>\n",
       "      <td>Somewhat Agree</td>\n",
       "      <td>Neither Agree nor Disagree</td>\n",
       "      <td>Somewhat Agree</td>\n",
       "      <td>Somewhat Agree</td>\n",
       "      <td>Somewhat Agree</td>\n",
       "      <td>Neither Agree nor Disagree</td>\n",
       "    </tr>\n",
       "  </tbody>\n",
       "</table>\n",
       "</div>"
      ],
      "text/plain": [
       "             f1_2                        f2_2            f5_2            f6_2  \\\n",
       "0  Somewhat Agree              Somewhat Agree  Somewhat Agree  Somewhat Agree   \n",
       "1  Somewhat Agree  Neither Agree nor Disagree  Somewhat Agree  Somewhat Agree   \n",
       "\n",
       "             f4_2                        f3_2  \n",
       "0  Somewhat Agree              Somewhat Agree  \n",
       "1  Somewhat Agree  Neither Agree nor Disagree  "
      ]
     },
     "execution_count": 14,
     "metadata": {},
     "output_type": "execute_result"
    }
   ],
   "source": [
    "(survey_spark\n",
    "   .select((survey_spark.columns \n",
    "            >> col_endswith('_2')))\n",
    "   .take(2)) >> to_pandas"
   ]
  },
  {
   "cell_type": "markdown",
   "metadata": {},
   "source": [
    "#### Contains"
   ]
  },
  {
   "cell_type": "code",
   "execution_count": 15,
   "metadata": {},
   "outputs": [
    {
     "data": {
      "text/html": [
       "<div>\n",
       "<style scoped>\n",
       "    .dataframe tbody tr th:only-of-type {\n",
       "        vertical-align: middle;\n",
       "    }\n",
       "\n",
       "    .dataframe tbody tr th {\n",
       "        vertical-align: top;\n",
       "    }\n",
       "\n",
       "    .dataframe thead th {\n",
       "        text-align: right;\n",
       "    }\n",
       "</style>\n",
       "<table border=\"1\" class=\"dataframe\">\n",
       "  <thead>\n",
       "    <tr style=\"text-align: right;\">\n",
       "      <th></th>\n",
       "      <th>f6_1</th>\n",
       "      <th>f6_2</th>\n",
       "      <th>f6_3</th>\n",
       "      <th>f6_4</th>\n",
       "    </tr>\n",
       "  </thead>\n",
       "  <tbody>\n",
       "    <tr>\n",
       "      <th>0</th>\n",
       "      <td>Somewhat Agree</td>\n",
       "      <td>Somewhat Agree</td>\n",
       "      <td>Somewhat Disagree</td>\n",
       "      <td>Somewhat Agree</td>\n",
       "    </tr>\n",
       "    <tr>\n",
       "      <th>1</th>\n",
       "      <td>Somewhat Agree</td>\n",
       "      <td>Somewhat Agree</td>\n",
       "      <td>Somewhat Disagree</td>\n",
       "      <td>Somewhat Disagree</td>\n",
       "    </tr>\n",
       "  </tbody>\n",
       "</table>\n",
       "</div>"
      ],
      "text/plain": [
       "             f6_1            f6_2               f6_3               f6_4\n",
       "0  Somewhat Agree  Somewhat Agree  Somewhat Disagree     Somewhat Agree\n",
       "1  Somewhat Agree  Somewhat Agree  Somewhat Disagree  Somewhat Disagree"
      ]
     },
     "execution_count": 15,
     "metadata": {},
     "output_type": "execute_result"
    }
   ],
   "source": [
    "(survey_spark\n",
    "   .select((survey_spark.columns \n",
    "            >> col_contains('6_')))\n",
    "   .take(2)) >> to_pandas"
   ]
  },
  {
   "cell_type": "markdown",
   "metadata": {},
   "source": [
    "#### Columns up to"
   ]
  },
  {
   "cell_type": "code",
   "execution_count": 16,
   "metadata": {},
   "outputs": [
    {
     "data": {
      "text/html": [
       "<div>\n",
       "<style scoped>\n",
       "    .dataframe tbody tr th:only-of-type {\n",
       "        vertical-align: middle;\n",
       "    }\n",
       "\n",
       "    .dataframe tbody tr th {\n",
       "        vertical-align: top;\n",
       "    }\n",
       "\n",
       "    .dataframe thead th {\n",
       "        text-align: right;\n",
       "    }\n",
       "</style>\n",
       "<table border=\"1\" class=\"dataframe\">\n",
       "  <thead>\n",
       "    <tr style=\"text-align: right;\">\n",
       "      <th></th>\n",
       "      <th>f1</th>\n",
       "      <th>f5</th>\n",
       "      <th>f2</th>\n",
       "      <th>f1_1</th>\n",
       "    </tr>\n",
       "  </thead>\n",
       "  <tbody>\n",
       "    <tr>\n",
       "      <th>0</th>\n",
       "      <td>Somewhat Agree</td>\n",
       "      <td>Somewhat Disagree</td>\n",
       "      <td>Somewhat Agree</td>\n",
       "      <td>Somewhat Agree</td>\n",
       "    </tr>\n",
       "    <tr>\n",
       "      <th>1</th>\n",
       "      <td>Somewhat Agree</td>\n",
       "      <td>Somewhat Disagree</td>\n",
       "      <td>Somewhat Agree</td>\n",
       "      <td>Somewhat Agree</td>\n",
       "    </tr>\n",
       "  </tbody>\n",
       "</table>\n",
       "</div>"
      ],
      "text/plain": [
       "               f1                 f5              f2            f1_1\n",
       "0  Somewhat Agree  Somewhat Disagree  Somewhat Agree  Somewhat Agree\n",
       "1  Somewhat Agree  Somewhat Disagree  Somewhat Agree  Somewhat Agree"
      ]
     },
     "execution_count": 16,
     "metadata": {},
     "output_type": "execute_result"
    }
   ],
   "source": [
    "(survey_spark\n",
    "   .select((survey_spark.columns \n",
    "            >> cols_to('f1_1')))\n",
    "   .take(2)) >> to_pandas"
   ]
  },
  {
   "cell_type": "markdown",
   "metadata": {},
   "source": [
    "#### Columns from"
   ]
  },
  {
   "cell_type": "code",
   "execution_count": 17,
   "metadata": {},
   "outputs": [
    {
     "data": {
      "text/html": [
       "<div>\n",
       "<style scoped>\n",
       "    .dataframe tbody tr th:only-of-type {\n",
       "        vertical-align: middle;\n",
       "    }\n",
       "\n",
       "    .dataframe tbody tr th {\n",
       "        vertical-align: top;\n",
       "    }\n",
       "\n",
       "    .dataframe thead th {\n",
       "        text-align: right;\n",
       "    }\n",
       "</style>\n",
       "<table border=\"1\" class=\"dataframe\">\n",
       "  <thead>\n",
       "    <tr style=\"text-align: right;\">\n",
       "      <th></th>\n",
       "      <th>f6_4</th>\n",
       "      <th>f4_4</th>\n",
       "      <th>f5_7</th>\n",
       "      <th>f3_5</th>\n",
       "      <th>f2_11</th>\n",
       "      <th>id</th>\n",
       "    </tr>\n",
       "  </thead>\n",
       "  <tbody>\n",
       "    <tr>\n",
       "      <th>0</th>\n",
       "      <td>Somewhat Agree</td>\n",
       "      <td>Somewhat Agree</td>\n",
       "      <td>Somewhat Agree</td>\n",
       "      <td>Somewhat Agree</td>\n",
       "      <td>Somewhat Agree</td>\n",
       "      <td>0</td>\n",
       "    </tr>\n",
       "    <tr>\n",
       "      <th>1</th>\n",
       "      <td>Somewhat Disagree</td>\n",
       "      <td>Neither Agree nor Disagree</td>\n",
       "      <td>Somewhat Agree</td>\n",
       "      <td>Neither Agree nor Disagree</td>\n",
       "      <td>Somewhat Agree</td>\n",
       "      <td>1</td>\n",
       "    </tr>\n",
       "  </tbody>\n",
       "</table>\n",
       "</div>"
      ],
      "text/plain": [
       "                f6_4                        f4_4            f5_7  \\\n",
       "0     Somewhat Agree              Somewhat Agree  Somewhat Agree   \n",
       "1  Somewhat Disagree  Neither Agree nor Disagree  Somewhat Agree   \n",
       "\n",
       "                         f3_5           f2_11  id  \n",
       "0              Somewhat Agree  Somewhat Agree   0  \n",
       "1  Neither Agree nor Disagree  Somewhat Agree   1  "
      ]
     },
     "execution_count": 17,
     "metadata": {},
     "output_type": "execute_result"
    }
   ],
   "source": [
    "(survey_spark\n",
    "   .select((survey_spark.columns \n",
    "            >> cols_from('f6_4')))\n",
    "   .take(2)) >> to_pandas"
   ]
  },
  {
   "cell_type": "markdown",
   "metadata": {},
   "source": [
    "#### Columns between"
   ]
  },
  {
   "cell_type": "code",
   "execution_count": 18,
   "metadata": {},
   "outputs": [
    {
     "data": {
      "text/html": [
       "<div>\n",
       "<style scoped>\n",
       "    .dataframe tbody tr th:only-of-type {\n",
       "        vertical-align: middle;\n",
       "    }\n",
       "\n",
       "    .dataframe tbody tr th {\n",
       "        vertical-align: top;\n",
       "    }\n",
       "\n",
       "    .dataframe thead th {\n",
       "        text-align: right;\n",
       "    }\n",
       "</style>\n",
       "<table border=\"1\" class=\"dataframe\">\n",
       "  <thead>\n",
       "    <tr style=\"text-align: right;\">\n",
       "      <th></th>\n",
       "      <th>f1_1</th>\n",
       "      <th>f2_1</th>\n",
       "      <th>f6</th>\n",
       "      <th>f4</th>\n",
       "      <th>f3</th>\n",
       "      <th>f5_1</th>\n",
       "      <th>f1_2</th>\n",
       "      <th>f2_2</th>\n",
       "    </tr>\n",
       "  </thead>\n",
       "  <tbody>\n",
       "    <tr>\n",
       "      <th>0</th>\n",
       "      <td>Somewhat Agree</td>\n",
       "      <td>Somewhat Agree</td>\n",
       "      <td>Somewhat Disagree</td>\n",
       "      <td>Somewhat Agree</td>\n",
       "      <td>Somewhat Agree</td>\n",
       "      <td>Somewhat Agree</td>\n",
       "      <td>Somewhat Agree</td>\n",
       "      <td>Somewhat Agree</td>\n",
       "    </tr>\n",
       "    <tr>\n",
       "      <th>1</th>\n",
       "      <td>Somewhat Agree</td>\n",
       "      <td>Somewhat Agree</td>\n",
       "      <td>Somewhat Disagree</td>\n",
       "      <td>Somewhat Agree</td>\n",
       "      <td>Neither Agree nor Disagree</td>\n",
       "      <td>Neither Agree nor Disagree</td>\n",
       "      <td>Somewhat Agree</td>\n",
       "      <td>Neither Agree nor Disagree</td>\n",
       "    </tr>\n",
       "  </tbody>\n",
       "</table>\n",
       "</div>"
      ],
      "text/plain": [
       "             f1_1            f2_1                 f6              f4  \\\n",
       "0  Somewhat Agree  Somewhat Agree  Somewhat Disagree  Somewhat Agree   \n",
       "1  Somewhat Agree  Somewhat Agree  Somewhat Disagree  Somewhat Agree   \n",
       "\n",
       "                           f3                        f5_1            f1_2  \\\n",
       "0              Somewhat Agree              Somewhat Agree  Somewhat Agree   \n",
       "1  Neither Agree nor Disagree  Neither Agree nor Disagree  Somewhat Agree   \n",
       "\n",
       "                         f2_2  \n",
       "0              Somewhat Agree  \n",
       "1  Neither Agree nor Disagree  "
      ]
     },
     "execution_count": 18,
     "metadata": {},
     "output_type": "execute_result"
    }
   ],
   "source": [
    "(survey_spark\n",
    " .select((survey_spark.columns \n",
    "          >> cols_between('f1_1', 'f2_2')))\n",
    " .take(2)) >> to_pandas"
   ]
  },
  {
   "cell_type": "markdown",
   "metadata": {},
   "source": [
    "## <font color=\"red\"> Exercise 6.1.1 </font> \n",
    "\n",
    "Use the `pyspark` `select` helper functions to create a table that contains all `F2` and `F3` questions.  \n",
    "\n",
    "\n",
    "**Hint:** `select` helpers return intentions that turn into lists.  Think about how you can combine two lists."
   ]
  },
  {
   "cell_type": "code",
   "execution_count": 39,
   "metadata": {},
   "outputs": [
    {
     "data": {
      "text/plain": [
       "['f2',\n",
       " 'f2_1',\n",
       " 'f2_2',\n",
       " 'f2_3',\n",
       " 'f2_4',\n",
       " 'f2_5',\n",
       " 'f2_6',\n",
       " 'f2_7',\n",
       " 'f2_8',\n",
       " 'f2_9',\n",
       " 'f2_10',\n",
       " 'f2_11',\n",
       " 'f3',\n",
       " 'f3_1',\n",
       " 'f3_2',\n",
       " 'f3_3',\n",
       " 'f3_4',\n",
       " 'f3_5']"
      ]
     },
     "execution_count": 39,
     "metadata": {},
     "output_type": "execute_result"
    }
   ],
   "source": [
    "f2_cols = (survey_spark.columns >>  col_contains('f2'))\n",
    "f3_cols = (survey_spark.columns >>  col_contains('f3'))\n",
    "f2_n_3 = f2_cols + f3_cols\n",
    "f2_n_3"
   ]
  },
  {
   "cell_type": "code",
   "execution_count": 40,
   "metadata": {},
   "outputs": [
    {
     "data": {
      "text/html": [
       "<div>\n",
       "<style scoped>\n",
       "    .dataframe tbody tr th:only-of-type {\n",
       "        vertical-align: middle;\n",
       "    }\n",
       "\n",
       "    .dataframe tbody tr th {\n",
       "        vertical-align: top;\n",
       "    }\n",
       "\n",
       "    .dataframe thead th {\n",
       "        text-align: right;\n",
       "    }\n",
       "</style>\n",
       "<table border=\"1\" class=\"dataframe\">\n",
       "  <thead>\n",
       "    <tr style=\"text-align: right;\">\n",
       "      <th></th>\n",
       "      <th>f2</th>\n",
       "      <th>f2_1</th>\n",
       "      <th>f2_2</th>\n",
       "      <th>f2_3</th>\n",
       "      <th>f2_4</th>\n",
       "      <th>f2_5</th>\n",
       "      <th>f2_6</th>\n",
       "      <th>f2_7</th>\n",
       "      <th>f2_8</th>\n",
       "      <th>f2_9</th>\n",
       "      <th>f2_10</th>\n",
       "      <th>f2_11</th>\n",
       "      <th>f3</th>\n",
       "      <th>f3_1</th>\n",
       "      <th>f3_2</th>\n",
       "      <th>f3_3</th>\n",
       "      <th>f3_4</th>\n",
       "      <th>f3_5</th>\n",
       "    </tr>\n",
       "  </thead>\n",
       "  <tbody>\n",
       "    <tr>\n",
       "      <th>0</th>\n",
       "      <td>Somewhat Agree</td>\n",
       "      <td>Somewhat Agree</td>\n",
       "      <td>Somewhat Agree</td>\n",
       "      <td>Somewhat Agree</td>\n",
       "      <td>Somewhat Agree</td>\n",
       "      <td>Somewhat Agree</td>\n",
       "      <td>Somewhat Agree</td>\n",
       "      <td>Somewhat Agree</td>\n",
       "      <td>Somewhat Agree</td>\n",
       "      <td>Somewhat Agree</td>\n",
       "      <td>Somewhat Agree</td>\n",
       "      <td>Somewhat Agree</td>\n",
       "      <td>Somewhat Agree</td>\n",
       "      <td>Somewhat Disagree</td>\n",
       "      <td>Somewhat Agree</td>\n",
       "      <td>Somewhat Agree</td>\n",
       "      <td>Somewhat Disagree</td>\n",
       "      <td>Somewhat Agree</td>\n",
       "    </tr>\n",
       "    <tr>\n",
       "      <th>1</th>\n",
       "      <td>Somewhat Agree</td>\n",
       "      <td>Somewhat Agree</td>\n",
       "      <td>Neither Agree nor Disagree</td>\n",
       "      <td>Somewhat Agree</td>\n",
       "      <td>Somewhat Agree</td>\n",
       "      <td>Somewhat Agree</td>\n",
       "      <td>Somewhat Agree</td>\n",
       "      <td>Somewhat Agree</td>\n",
       "      <td>Somewhat Agree</td>\n",
       "      <td>Somewhat Agree</td>\n",
       "      <td>Somewhat Agree</td>\n",
       "      <td>Somewhat Agree</td>\n",
       "      <td>Neither Agree nor Disagree</td>\n",
       "      <td>Neither Agree nor Disagree</td>\n",
       "      <td>Neither Agree nor Disagree</td>\n",
       "      <td>Neither Agree nor Disagree</td>\n",
       "      <td>Somewhat Agree</td>\n",
       "      <td>Neither Agree nor Disagree</td>\n",
       "    </tr>\n",
       "  </tbody>\n",
       "</table>\n",
       "</div>"
      ],
      "text/plain": [
       "               f2            f2_1                        f2_2            f2_3  \\\n",
       "0  Somewhat Agree  Somewhat Agree              Somewhat Agree  Somewhat Agree   \n",
       "1  Somewhat Agree  Somewhat Agree  Neither Agree nor Disagree  Somewhat Agree   \n",
       "\n",
       "             f2_4            f2_5            f2_6            f2_7  \\\n",
       "0  Somewhat Agree  Somewhat Agree  Somewhat Agree  Somewhat Agree   \n",
       "1  Somewhat Agree  Somewhat Agree  Somewhat Agree  Somewhat Agree   \n",
       "\n",
       "             f2_8            f2_9           f2_10           f2_11  \\\n",
       "0  Somewhat Agree  Somewhat Agree  Somewhat Agree  Somewhat Agree   \n",
       "1  Somewhat Agree  Somewhat Agree  Somewhat Agree  Somewhat Agree   \n",
       "\n",
       "                           f3                        f3_1  \\\n",
       "0              Somewhat Agree           Somewhat Disagree   \n",
       "1  Neither Agree nor Disagree  Neither Agree nor Disagree   \n",
       "\n",
       "                         f3_2                        f3_3               f3_4  \\\n",
       "0              Somewhat Agree              Somewhat Agree  Somewhat Disagree   \n",
       "1  Neither Agree nor Disagree  Neither Agree nor Disagree     Somewhat Agree   \n",
       "\n",
       "                         f3_5  \n",
       "0              Somewhat Agree  \n",
       "1  Neither Agree nor Disagree  "
      ]
     },
     "execution_count": 40,
     "metadata": {},
     "output_type": "execute_result"
    }
   ],
   "source": [
    "(survey_spark\n",
    "   .select(f2_n_3)\n",
    "   .take(2)\n",
    ") >> to_pandas"
   ]
  },
  {
   "cell_type": "code",
   "execution_count": 23,
   "metadata": {},
   "outputs": [
    {
     "name": "stdout",
     "output_type": "stream",
     "text": [
      "Help on list object:\n",
      "\n",
      "class list(object)\n",
      " |  list(iterable=(), /)\n",
      " |  \n",
      " |  Built-in mutable sequence.\n",
      " |  \n",
      " |  If no argument is given, the constructor creates a new empty list.\n",
      " |  The argument must be an iterable if specified.\n",
      " |  \n",
      " |  Methods defined here:\n",
      " |  \n",
      " |  __add__(self, value, /)\n",
      " |      Return self+value.\n",
      " |  \n",
      " |  __contains__(self, key, /)\n",
      " |      Return key in self.\n",
      " |  \n",
      " |  __delitem__(self, key, /)\n",
      " |      Delete self[key].\n",
      " |  \n",
      " |  __eq__(self, value, /)\n",
      " |      Return self==value.\n",
      " |  \n",
      " |  __ge__(self, value, /)\n",
      " |      Return self>=value.\n",
      " |  \n",
      " |  __getattribute__(self, name, /)\n",
      " |      Return getattr(self, name).\n",
      " |  \n",
      " |  __getitem__(...)\n",
      " |      x.__getitem__(y) <==> x[y]\n",
      " |  \n",
      " |  __gt__(self, value, /)\n",
      " |      Return self>value.\n",
      " |  \n",
      " |  __iadd__(self, value, /)\n",
      " |      Implement self+=value.\n",
      " |  \n",
      " |  __imul__(self, value, /)\n",
      " |      Implement self*=value.\n",
      " |  \n",
      " |  __init__(self, /, *args, **kwargs)\n",
      " |      Initialize self.  See help(type(self)) for accurate signature.\n",
      " |  \n",
      " |  __iter__(self, /)\n",
      " |      Implement iter(self).\n",
      " |  \n",
      " |  __le__(self, value, /)\n",
      " |      Return self<=value.\n",
      " |  \n",
      " |  __len__(self, /)\n",
      " |      Return len(self).\n",
      " |  \n",
      " |  __lt__(self, value, /)\n",
      " |      Return self<value.\n",
      " |  \n",
      " |  __mul__(self, value, /)\n",
      " |      Return self*value.\n",
      " |  \n",
      " |  __ne__(self, value, /)\n",
      " |      Return self!=value.\n",
      " |  \n",
      " |  __repr__(self, /)\n",
      " |      Return repr(self).\n",
      " |  \n",
      " |  __reversed__(self, /)\n",
      " |      Return a reverse iterator over the list.\n",
      " |  \n",
      " |  __rmul__(self, value, /)\n",
      " |      Return value*self.\n",
      " |  \n",
      " |  __setitem__(self, key, value, /)\n",
      " |      Set self[key] to value.\n",
      " |  \n",
      " |  __sizeof__(self, /)\n",
      " |      Return the size of the list in memory, in bytes.\n",
      " |  \n",
      " |  append(self, object, /)\n",
      " |      Append object to the end of the list.\n",
      " |  \n",
      " |  clear(self, /)\n",
      " |      Remove all items from list.\n",
      " |  \n",
      " |  copy(self, /)\n",
      " |      Return a shallow copy of the list.\n",
      " |  \n",
      " |  count(self, value, /)\n",
      " |      Return number of occurrences of value.\n",
      " |  \n",
      " |  extend(self, iterable, /)\n",
      " |      Extend list by appending elements from the iterable.\n",
      " |  \n",
      " |  index(self, value, start=0, stop=9223372036854775807, /)\n",
      " |      Return first index of value.\n",
      " |      \n",
      " |      Raises ValueError if the value is not present.\n",
      " |  \n",
      " |  insert(self, index, object, /)\n",
      " |      Insert object before index.\n",
      " |  \n",
      " |  pop(self, index=-1, /)\n",
      " |      Remove and return item at index (default last).\n",
      " |      \n",
      " |      Raises IndexError if list is empty or index is out of range.\n",
      " |  \n",
      " |  remove(self, value, /)\n",
      " |      Remove first occurrence of value.\n",
      " |      \n",
      " |      Raises ValueError if the value is not present.\n",
      " |  \n",
      " |  reverse(self, /)\n",
      " |      Reverse *IN PLACE*.\n",
      " |  \n",
      " |  sort(self, /, *, key=None, reverse=False)\n",
      " |      Sort the list in ascending order and return None.\n",
      " |      \n",
      " |      The sort is in-place (i.e. the list itself is modified) and stable (i.e. the\n",
      " |      order of two equal elements is maintained).\n",
      " |      \n",
      " |      If a key function is given, apply it once to each list item and sort them,\n",
      " |      ascending or descending, according to their function values.\n",
      " |      \n",
      " |      The reverse flag can be set to sort in descending order.\n",
      " |  \n",
      " |  ----------------------------------------------------------------------\n",
      " |  Class methods defined here:\n",
      " |  \n",
      " |  __class_getitem__(...) from builtins.type\n",
      " |      See PEP 585\n",
      " |  \n",
      " |  ----------------------------------------------------------------------\n",
      " |  Static methods defined here:\n",
      " |  \n",
      " |  __new__(*args, **kwargs) from builtins.type\n",
      " |      Create and return a new object.  See help(type) for accurate signature.\n",
      " |  \n",
      " |  ----------------------------------------------------------------------\n",
      " |  Data and other attributes defined here:\n",
      " |  \n",
      " |  __hash__ = None\n",
      "\n"
     ]
    }
   ],
   "source": [
    "help(col_contains('f2',survey_spark.columns))"
   ]
  },
  {
   "cell_type": "code",
   "execution_count": 26,
   "metadata": {},
   "outputs": [
    {
     "data": {
      "text/plain": [
       "list"
      ]
     },
     "execution_count": 26,
     "metadata": {},
     "output_type": "execute_result"
    }
   ],
   "source": [
    "type(f2_cols)"
   ]
  },
  {
   "cell_type": "code",
   "execution_count": 27,
   "metadata": {},
   "outputs": [
    {
     "data": {
      "text/plain": [
       "['f2',\n",
       " 'f2_1',\n",
       " 'f2_2',\n",
       " 'f2_3',\n",
       " 'f2_4',\n",
       " 'f2_5',\n",
       " 'f2_6',\n",
       " 'f2_7',\n",
       " 'f2_8',\n",
       " 'f2_9',\n",
       " 'f2_10',\n",
       " 'f2_11']"
      ]
     },
     "execution_count": 27,
     "metadata": {},
     "output_type": "execute_result"
    }
   ],
   "source": [
    "f2_cols"
   ]
  },
  {
   "cell_type": "code",
   "execution_count": 28,
   "metadata": {},
   "outputs": [
    {
     "data": {
      "text/plain": [
       "['__add__',\n",
       " '__class__',\n",
       " '__class_getitem__',\n",
       " '__contains__',\n",
       " '__delattr__',\n",
       " '__delitem__',\n",
       " '__dir__',\n",
       " '__doc__',\n",
       " '__eq__',\n",
       " '__format__',\n",
       " '__ge__',\n",
       " '__getattribute__',\n",
       " '__getitem__',\n",
       " '__gt__',\n",
       " '__hash__',\n",
       " '__iadd__',\n",
       " '__imul__',\n",
       " '__init__',\n",
       " '__init_subclass__',\n",
       " '__iter__',\n",
       " '__le__',\n",
       " '__len__',\n",
       " '__lt__',\n",
       " '__mul__',\n",
       " '__ne__',\n",
       " '__new__',\n",
       " '__reduce__',\n",
       " '__reduce_ex__',\n",
       " '__repr__',\n",
       " '__reversed__',\n",
       " '__rmul__',\n",
       " '__setattr__',\n",
       " '__setitem__',\n",
       " '__sizeof__',\n",
       " '__str__',\n",
       " '__subclasshook__',\n",
       " 'append',\n",
       " 'clear',\n",
       " 'copy',\n",
       " 'count',\n",
       " 'extend',\n",
       " 'index',\n",
       " 'insert',\n",
       " 'pop',\n",
       " 'remove',\n",
       " 'reverse',\n",
       " 'sort']"
      ]
     },
     "execution_count": 28,
     "metadata": {},
     "output_type": "execute_result"
    }
   ],
   "source": [
    "dir(f2_cols) #append does not work"
   ]
  },
  {
   "cell_type": "code",
   "execution_count": 38,
   "metadata": {},
   "outputs": [
    {
     "data": {
      "text/plain": [
       "['f2',\n",
       " 'f2_1',\n",
       " 'f2_2',\n",
       " 'f2_3',\n",
       " 'f2_4',\n",
       " 'f2_5',\n",
       " 'f2_6',\n",
       " 'f2_7',\n",
       " 'f2_8',\n",
       " 'f2_9',\n",
       " 'f2_10',\n",
       " 'f2_11',\n",
       " 'f3',\n",
       " 'f3_1',\n",
       " 'f3_2',\n",
       " 'f3_3',\n",
       " 'f3_4',\n",
       " 'f3_5']"
      ]
     },
     "execution_count": 38,
     "metadata": {},
     "output_type": "execute_result"
    }
   ],
   "source": [
    "f2_n_3 = f2_cols + f3_cols\n",
    "f2_n_3"
   ]
  }
 ],
 "metadata": {
  "kernelspec": {
   "display_name": "Python 3 (ipykernel)",
   "language": "python",
   "name": "python3"
  },
  "language_info": {
   "codemirror_mode": {
    "name": "ipython",
    "version": 3
   },
   "file_extension": ".py",
   "mimetype": "text/x-python",
   "name": "python",
   "nbconvert_exporter": "python",
   "pygments_lexer": "ipython3",
   "version": "3.9.12"
  },
  "nteract": {
   "version": "nteract-on-jupyter@2.0.3"
  },
  "varInspector": {
   "cols": {
    "lenName": 16,
    "lenType": 16,
    "lenVar": 40
   },
   "kernels_config": {
    "python": {
     "delete_cmd_postfix": "",
     "delete_cmd_prefix": "del ",
     "library": "var_list.py",
     "varRefreshCmd": "print(var_dic_list())"
    },
    "r": {
     "delete_cmd_postfix": ") ",
     "delete_cmd_prefix": "rm(",
     "library": "var_list.r",
     "varRefreshCmd": "cat(var_dic_list()) "
    }
   },
   "types_to_exclude": [
    "module",
    "function",
    "builtin_function_or_method",
    "instance",
    "_Feature"
   ],
   "window_display": false
  }
 },
 "nbformat": 4,
 "nbformat_minor": 2
}
