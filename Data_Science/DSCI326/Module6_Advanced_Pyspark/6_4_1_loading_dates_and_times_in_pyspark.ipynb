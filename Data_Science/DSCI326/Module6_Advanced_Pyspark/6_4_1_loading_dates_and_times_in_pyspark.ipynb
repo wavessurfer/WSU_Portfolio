{
 "cells": [
  {
   "cell_type": "markdown",
   "metadata": {},
   "source": [
    "# Dates in `pyspark`\n",
    "\n",
    "In this and subsequent lectures, you will learn about working with dates and times in `pyspark`.  This includes\n",
    "\n",
    "1. Correctly loading dates and times.\n",
    "2. Extracting various date- and time-parts\n",
    "3. Differencing and offsetting dates."
   ]
  },
  {
   "cell_type": "code",
   "execution_count": 1,
   "metadata": {},
   "outputs": [
    {
     "name": "stdout",
     "output_type": "stream",
     "text": [
      "22/11/02 16:02:38 WARN Utils: Your hostname, nn1448lr222 resolves to a loopback address: 127.0.1.1; using 172.22.165.244 instead (on interface eth0)\n",
      "22/11/02 16:02:38 WARN Utils: Set SPARK_LOCAL_IP if you need to bind to another address\n"
     ]
    },
    {
     "name": "stderr",
     "output_type": "stream",
     "text": [
      "Setting default log level to \"WARN\".\n",
      "To adjust logging level use sc.setLogLevel(newLevel). For SparkR, use setLogLevel(newLevel).\n"
     ]
    },
    {
     "name": "stdout",
     "output_type": "stream",
     "text": [
      "22/11/02 16:02:40 WARN NativeCodeLoader: Unable to load native-hadoop library for your platform... using builtin-java classes where applicable\n"
     ]
    }
   ],
   "source": [
    "from pyspark.sql import SparkSession\n",
    "from more_pyspark import to_pandas\n",
    "\n",
    "spark = SparkSession.builder.appName('Ops').getOrCreate()"
   ]
  },
  {
   "cell_type": "markdown",
   "metadata": {},
   "source": [
    "## Loading Date/Time Data"
   ]
  },
  {
   "cell_type": "markdown",
   "metadata": {},
   "source": [
    "### Dates and Times in `pyspark`\n",
    "\n",
    "Two important columns types\n",
    "* `DateType` represents a calendar date\n",
    "    * default format: `yyyy-MM-dd`\n",
    "* `TimestampType` represents a point in time\n",
    "    * default format: `yyyy-MM-dd HH:mm:ss.SSSS`"
   ]
  },
  {
   "cell_type": "markdown",
   "metadata": {},
   "source": [
    "### Reading in Date/Time data\n",
    "\n",
    "`inferSchema` often fails $\\rightarrow$ manually set the types\n",
    "\n",
    "* Load the raw data\n",
    "* Use `more_pyspark.pprint_schema` to print/copy schema\n",
    "* Edit to define the correct schema\n",
    "* Write a datetime format string\n",
    "* Load the data with correct type"
   ]
  },
  {
   "cell_type": "markdown",
   "metadata": {},
   "source": [
    "## Example 1 - Uber data - Loading a `Timestamp`"
   ]
  },
  {
   "cell_type": "code",
   "execution_count": 2,
   "metadata": {
    "scrolled": false
   },
   "outputs": [
    {
     "name": "stderr",
     "output_type": "stream",
     "text": [
      "                                                                                \r"
     ]
    },
    {
     "data": {
      "text/html": [
       "<div>\n",
       "<style scoped>\n",
       "    .dataframe tbody tr th:only-of-type {\n",
       "        vertical-align: middle;\n",
       "    }\n",
       "\n",
       "    .dataframe tbody tr th {\n",
       "        vertical-align: top;\n",
       "    }\n",
       "\n",
       "    .dataframe thead th {\n",
       "        text-align: right;\n",
       "    }\n",
       "</style>\n",
       "<table border=\"1\" class=\"dataframe\">\n",
       "  <thead>\n",
       "    <tr style=\"text-align: right;\">\n",
       "      <th></th>\n",
       "      <th>Date/Time</th>\n",
       "      <th>Lat</th>\n",
       "      <th>Lon</th>\n",
       "      <th>Base</th>\n",
       "    </tr>\n",
       "  </thead>\n",
       "  <tbody>\n",
       "    <tr>\n",
       "      <th>0</th>\n",
       "      <td>4/18/2014 21:38:00</td>\n",
       "      <td>40.7359</td>\n",
       "      <td>-73.9852</td>\n",
       "      <td>B02682</td>\n",
       "    </tr>\n",
       "    <tr>\n",
       "      <th>1</th>\n",
       "      <td>4/23/2014 15:19:00</td>\n",
       "      <td>40.7642</td>\n",
       "      <td>-73.9543</td>\n",
       "      <td>B02598</td>\n",
       "    </tr>\n",
       "  </tbody>\n",
       "</table>\n",
       "</div>"
      ],
      "text/plain": [
       "            Date/Time      Lat      Lon    Base\n",
       "0  4/18/2014 21:38:00  40.7359 -73.9852  B02682\n",
       "1  4/23/2014 15:19:00  40.7642 -73.9543  B02598"
      ]
     },
     "execution_count": 2,
     "metadata": {},
     "output_type": "execute_result"
    }
   ],
   "source": [
    "uber_april_raw = (spark.read.csv('./data/uber-raw-data-apr14-sample.csv', \n",
    "                            header=True, \n",
    "                            inferSchema=True)\n",
    "             )\n",
    "\n",
    "uber_april_raw.take(2) >> to_pandas"
   ]
  },
  {
   "cell_type": "markdown",
   "metadata": {},
   "source": [
    "#### `inferSchema` didn't catch the timestamps"
   ]
  },
  {
   "cell_type": "code",
   "execution_count": 3,
   "metadata": {},
   "outputs": [
    {
     "name": "stdout",
     "output_type": "stream",
     "text": [
      "StructType([StructField('Date/Time', StringType(), True),\n",
      "            StructField('Lat', DoubleType(), True),\n",
      "            StructField('Lon', DoubleType(), True),\n",
      "            StructField('Base', StringType(), True)])\n"
     ]
    }
   ],
   "source": [
    "from more_pyspark import pprint_schema\n",
    "\n",
    "uber_april_raw >> pprint_schema"
   ]
  },
  {
   "cell_type": "markdown",
   "metadata": {},
   "source": [
    "### Step 1 - Correct the Schema\n",
    "\n",
    "* Copy from above\n",
    "* Replace the `'Date/Time` `StringType`"
   ]
  },
  {
   "cell_type": "code",
   "execution_count": 4,
   "metadata": {},
   "outputs": [],
   "source": [
    "from pyspark.sql.types import StructType, StructField, TimestampType, DoubleType, StringType\n",
    "\n",
    "uber_schema = StructType([StructField('Date/Time', TimestampType(), True),\n",
    "                          StructField('Lat', DoubleType(), True),\n",
    "                          StructField('Lon', DoubleType(), True),\n",
    "                          StructField('Base', StringType(), True)])"
   ]
  },
  {
   "cell_type": "markdown",
   "metadata": {},
   "source": [
    "### Step 2 - Specifying the format for a `TimeStamp`\n",
    "\n",
    "To get the correct schema, we need to\n",
    "    \n",
    "1. Create the schema with a `TimestampType`\n",
    "2. Use `timestampFormat` with the correct [datetime pattern](https://spark.apache.org/docs/latest/sql-ref-datetime-pattern.html)"
   ]
  },
  {
   "cell_type": "markdown",
   "metadata": {},
   "source": [
    "### Determining the datetime format\n",
    "\n",
    "<img src=\"./img/datetime_format.png\" width=\"600\">"
   ]
  },
  {
   "cell_type": "code",
   "execution_count": 5,
   "metadata": {},
   "outputs": [],
   "source": [
    "uber_datetime_format = 'M/d/yyyy H:mm:ss'"
   ]
  },
  {
   "cell_type": "markdown",
   "metadata": {},
   "source": [
    "### Step 3 - Save the format and schema to a script file\n",
    "\n",
    "* Inspect the file `uber_schema.py` to see result.\n",
    "* Make for cleaner and more reusable code."
   ]
  },
  {
   "cell_type": "code",
   "execution_count": 6,
   "metadata": {},
   "outputs": [
    {
     "name": "stdout",
     "output_type": "stream",
     "text": [
      "from pyspark.sql.types import StructType, StructField, TimestampType, DoubleType, StringType\r\n",
      "\r\n",
      "uber_schema = StructType([StructField('Date/Time', TimestampType(), True),\r\n",
      "                          StructField('Lat', DoubleType(), True),\r\n",
      "                          StructField('Lon', DoubleType(), True),\r\n",
      "                          StructField('Base', StringType(), True)])\r\n",
      "                          \r\n",
      "uber_datetime_format = 'M/d/yyyy H:mm:ss'"
     ]
    }
   ],
   "source": [
    "!cat uber_schema.py"
   ]
  },
  {
   "cell_type": "markdown",
   "metadata": {},
   "source": [
    "### Step 4 - Load the data\n",
    "\n",
    "**Warning.** You will need to restart the kernel anytime you change the script file!"
   ]
  },
  {
   "cell_type": "code",
   "execution_count": 7,
   "metadata": {},
   "outputs": [],
   "source": [
    "from pyspark.sql import SparkSession\n",
    "from more_pyspark import to_pandas\n",
    "\n",
    "spark = SparkSession.builder.appName('Ops').getOrCreate()"
   ]
  },
  {
   "cell_type": "code",
   "execution_count": 8,
   "metadata": {},
   "outputs": [
    {
     "data": {
      "text/html": [
       "<div>\n",
       "<style scoped>\n",
       "    .dataframe tbody tr th:only-of-type {\n",
       "        vertical-align: middle;\n",
       "    }\n",
       "\n",
       "    .dataframe tbody tr th {\n",
       "        vertical-align: top;\n",
       "    }\n",
       "\n",
       "    .dataframe thead th {\n",
       "        text-align: right;\n",
       "    }\n",
       "</style>\n",
       "<table border=\"1\" class=\"dataframe\">\n",
       "  <thead>\n",
       "    <tr style=\"text-align: right;\">\n",
       "      <th></th>\n",
       "      <th>Date/Time</th>\n",
       "      <th>Lat</th>\n",
       "      <th>Lon</th>\n",
       "      <th>Base</th>\n",
       "    </tr>\n",
       "  </thead>\n",
       "  <tbody>\n",
       "    <tr>\n",
       "      <th>0</th>\n",
       "      <td>2014-04-18 21:38:00</td>\n",
       "      <td>40.7359</td>\n",
       "      <td>-73.9852</td>\n",
       "      <td>B02682</td>\n",
       "    </tr>\n",
       "    <tr>\n",
       "      <th>1</th>\n",
       "      <td>2014-04-23 15:19:00</td>\n",
       "      <td>40.7642</td>\n",
       "      <td>-73.9543</td>\n",
       "      <td>B02598</td>\n",
       "    </tr>\n",
       "    <tr>\n",
       "      <th>2</th>\n",
       "      <td>2014-04-10 07:15:00</td>\n",
       "      <td>40.7138</td>\n",
       "      <td>-74.0103</td>\n",
       "      <td>B02598</td>\n",
       "    </tr>\n",
       "    <tr>\n",
       "      <th>3</th>\n",
       "      <td>2014-04-11 15:23:00</td>\n",
       "      <td>40.7847</td>\n",
       "      <td>-73.9698</td>\n",
       "      <td>B02682</td>\n",
       "    </tr>\n",
       "    <tr>\n",
       "      <th>4</th>\n",
       "      <td>2014-04-07 17:26:00</td>\n",
       "      <td>40.6460</td>\n",
       "      <td>-73.7767</td>\n",
       "      <td>B02598</td>\n",
       "    </tr>\n",
       "  </tbody>\n",
       "</table>\n",
       "</div>"
      ],
      "text/plain": [
       "            Date/Time      Lat      Lon    Base\n",
       "0 2014-04-18 21:38:00  40.7359 -73.9852  B02682\n",
       "1 2014-04-23 15:19:00  40.7642 -73.9543  B02598\n",
       "2 2014-04-10 07:15:00  40.7138 -74.0103  B02598\n",
       "3 2014-04-11 15:23:00  40.7847 -73.9698  B02682\n",
       "4 2014-04-07 17:26:00  40.6460 -73.7767  B02598"
      ]
     },
     "execution_count": 8,
     "metadata": {},
     "output_type": "execute_result"
    }
   ],
   "source": [
    "# After kernel restart and loading spark\n",
    "from uber_schema import uber_schema, uber_datetime_format\n",
    "\n",
    "uber_april = spark.read.csv('./data/uber-raw-data-apr14-sample.csv', \n",
    "                            header=True, \n",
    "                            schema=uber_schema,\n",
    "                            timestampFormat=uber_datetime_format\n",
    "                           )\n",
    "\n",
    "uber_april.take(5) >> to_pandas"
   ]
  },
  {
   "cell_type": "code",
   "execution_count": 9,
   "metadata": {},
   "outputs": [
    {
     "name": "stdout",
     "output_type": "stream",
     "text": [
      "StructType([StructField('Date/Time', TimestampType(), True),\n",
      "            StructField('Lat', DoubleType(), True),\n",
      "            StructField('Lon', DoubleType(), True),\n",
      "            StructField('Base', StringType(), True)])\n"
     ]
    }
   ],
   "source": [
    "uber_april >> pprint_schema"
   ]
  },
  {
   "cell_type": "markdown",
   "metadata": {},
   "source": [
    "## Example 2 - MoMA exhibitions - Loading a `Date`"
   ]
  },
  {
   "cell_type": "markdown",
   "metadata": {},
   "source": [
    "#### Step 1 - Load, inspect, and define schema"
   ]
  },
  {
   "cell_type": "code",
   "execution_count": 10,
   "metadata": {},
   "outputs": [
    {
     "name": "stderr",
     "output_type": "stream",
     "text": [
      "                                                                                \r"
     ]
    },
    {
     "name": "stdout",
     "output_type": "stream",
     "text": [
      "22/11/02 16:02:56 WARN package: Truncated the string representation of a plan since it was too large. This behavior can be adjusted by setting 'spark.sql.debug.maxToStringFields'.\n"
     ]
    },
    {
     "data": {
      "text/html": [
       "<div>\n",
       "<style scoped>\n",
       "    .dataframe tbody tr th:only-of-type {\n",
       "        vertical-align: middle;\n",
       "    }\n",
       "\n",
       "    .dataframe tbody tr th {\n",
       "        vertical-align: top;\n",
       "    }\n",
       "\n",
       "    .dataframe thead th {\n",
       "        text-align: right;\n",
       "    }\n",
       "</style>\n",
       "<table border=\"1\" class=\"dataframe\">\n",
       "  <thead>\n",
       "    <tr style=\"text-align: right;\">\n",
       "      <th></th>\n",
       "      <th>ExhibitionID</th>\n",
       "      <th>ExhibitionNumber</th>\n",
       "      <th>ExhibitionTitle</th>\n",
       "      <th>ExhibitionCitationDate</th>\n",
       "      <th>ExhibitionBeginDate</th>\n",
       "      <th>ExhibitionEndDate</th>\n",
       "      <th>ExhibitionSortOrder</th>\n",
       "      <th>ExhibitionURL</th>\n",
       "      <th>ExhibitionRole</th>\n",
       "      <th>ExhibitionRoleinPressRelease</th>\n",
       "      <th>...</th>\n",
       "      <th>Institution</th>\n",
       "      <th>Nationality</th>\n",
       "      <th>ConstituentBeginDate</th>\n",
       "      <th>ConstituentEndDate</th>\n",
       "      <th>ArtistBio</th>\n",
       "      <th>Gender</th>\n",
       "      <th>VIAFID</th>\n",
       "      <th>WikidataID</th>\n",
       "      <th>ULANID</th>\n",
       "      <th>ConstituentURL</th>\n",
       "    </tr>\n",
       "  </thead>\n",
       "  <tbody>\n",
       "    <tr>\n",
       "      <th>0</th>\n",
       "      <td>2557</td>\n",
       "      <td>1</td>\n",
       "      <td>Cézanne, Gauguin, Seurat, Van Gogh</td>\n",
       "      <td>[MoMA Exh. #1, November 7-December 7, 1929]</td>\n",
       "      <td>11/7/1929</td>\n",
       "      <td>12/7/1929</td>\n",
       "      <td>1</td>\n",
       "      <td>moma.org/calendar/exhibitions/1767</td>\n",
       "      <td>Curator</td>\n",
       "      <td>Director</td>\n",
       "      <td>...</td>\n",
       "      <td>None</td>\n",
       "      <td>American</td>\n",
       "      <td>1902</td>\n",
       "      <td>1981</td>\n",
       "      <td>American, 19021981</td>\n",
       "      <td>Male</td>\n",
       "      <td>109252853</td>\n",
       "      <td>Q711362</td>\n",
       "      <td>500241556</td>\n",
       "      <td>moma.org/artists/9168</td>\n",
       "    </tr>\n",
       "    <tr>\n",
       "      <th>1</th>\n",
       "      <td>2557</td>\n",
       "      <td>1</td>\n",
       "      <td>Cézanne, Gauguin, Seurat, Van Gogh</td>\n",
       "      <td>[MoMA Exh. #1, November 7-December 7, 1929]</td>\n",
       "      <td>11/7/1929</td>\n",
       "      <td>12/7/1929</td>\n",
       "      <td>1</td>\n",
       "      <td>moma.org/calendar/exhibitions/1767</td>\n",
       "      <td>Artist</td>\n",
       "      <td>Artist</td>\n",
       "      <td>...</td>\n",
       "      <td>None</td>\n",
       "      <td>French</td>\n",
       "      <td>1839</td>\n",
       "      <td>1906</td>\n",
       "      <td>French, 18391906</td>\n",
       "      <td>Male</td>\n",
       "      <td>39374836</td>\n",
       "      <td>Q35548</td>\n",
       "      <td>500004793</td>\n",
       "      <td>moma.org/artists/1053</td>\n",
       "    </tr>\n",
       "    <tr>\n",
       "      <th>2</th>\n",
       "      <td>2557</td>\n",
       "      <td>1</td>\n",
       "      <td>Cézanne, Gauguin, Seurat, Van Gogh</td>\n",
       "      <td>[MoMA Exh. #1, November 7-December 7, 1929]</td>\n",
       "      <td>11/7/1929</td>\n",
       "      <td>12/7/1929</td>\n",
       "      <td>1</td>\n",
       "      <td>moma.org/calendar/exhibitions/1767</td>\n",
       "      <td>Artist</td>\n",
       "      <td>Artist</td>\n",
       "      <td>...</td>\n",
       "      <td>None</td>\n",
       "      <td>French</td>\n",
       "      <td>1848</td>\n",
       "      <td>1903</td>\n",
       "      <td>French, 18481903</td>\n",
       "      <td>Male</td>\n",
       "      <td>27064953</td>\n",
       "      <td>Q37693</td>\n",
       "      <td>500011421</td>\n",
       "      <td>moma.org/artists/2098</td>\n",
       "    </tr>\n",
       "    <tr>\n",
       "      <th>3</th>\n",
       "      <td>2557</td>\n",
       "      <td>1</td>\n",
       "      <td>Cézanne, Gauguin, Seurat, Van Gogh</td>\n",
       "      <td>[MoMA Exh. #1, November 7-December 7, 1929]</td>\n",
       "      <td>11/7/1929</td>\n",
       "      <td>12/7/1929</td>\n",
       "      <td>1</td>\n",
       "      <td>moma.org/calendar/exhibitions/1767</td>\n",
       "      <td>Artist</td>\n",
       "      <td>Artist</td>\n",
       "      <td>...</td>\n",
       "      <td>None</td>\n",
       "      <td>Dutch</td>\n",
       "      <td>1853</td>\n",
       "      <td>1890</td>\n",
       "      <td>Dutch, 18531890</td>\n",
       "      <td>Male</td>\n",
       "      <td>9854560</td>\n",
       "      <td>Q5582</td>\n",
       "      <td>500115588</td>\n",
       "      <td>moma.org/artists/2206</td>\n",
       "    </tr>\n",
       "    <tr>\n",
       "      <th>4</th>\n",
       "      <td>2557</td>\n",
       "      <td>1</td>\n",
       "      <td>Cézanne, Gauguin, Seurat, Van Gogh</td>\n",
       "      <td>[MoMA Exh. #1, November 7-December 7, 1929]</td>\n",
       "      <td>11/7/1929</td>\n",
       "      <td>12/7/1929</td>\n",
       "      <td>1</td>\n",
       "      <td>moma.org/calendar/exhibitions/1767</td>\n",
       "      <td>Artist</td>\n",
       "      <td>Artist</td>\n",
       "      <td>...</td>\n",
       "      <td>None</td>\n",
       "      <td>French</td>\n",
       "      <td>1859</td>\n",
       "      <td>1891</td>\n",
       "      <td>French, 18591891</td>\n",
       "      <td>Male</td>\n",
       "      <td>24608076</td>\n",
       "      <td>Q34013</td>\n",
       "      <td>500008873</td>\n",
       "      <td>moma.org/artists/5358</td>\n",
       "    </tr>\n",
       "  </tbody>\n",
       "</table>\n",
       "<p>5 rows × 28 columns</p>\n",
       "</div>"
      ],
      "text/plain": [
       "   ExhibitionID ExhibitionNumber                     ExhibitionTitle  \\\n",
       "0          2557                1  Cézanne, Gauguin, Seurat, Van Gogh   \n",
       "1          2557                1  Cézanne, Gauguin, Seurat, Van Gogh   \n",
       "2          2557                1  Cézanne, Gauguin, Seurat, Van Gogh   \n",
       "3          2557                1  Cézanne, Gauguin, Seurat, Van Gogh   \n",
       "4          2557                1  Cézanne, Gauguin, Seurat, Van Gogh   \n",
       "\n",
       "                        ExhibitionCitationDate ExhibitionBeginDate  \\\n",
       "0  [MoMA Exh. #1, November 7-December 7, 1929]           11/7/1929   \n",
       "1  [MoMA Exh. #1, November 7-December 7, 1929]           11/7/1929   \n",
       "2  [MoMA Exh. #1, November 7-December 7, 1929]           11/7/1929   \n",
       "3  [MoMA Exh. #1, November 7-December 7, 1929]           11/7/1929   \n",
       "4  [MoMA Exh. #1, November 7-December 7, 1929]           11/7/1929   \n",
       "\n",
       "  ExhibitionEndDate ExhibitionSortOrder                       ExhibitionURL  \\\n",
       "0         12/7/1929                   1  moma.org/calendar/exhibitions/1767   \n",
       "1         12/7/1929                   1  moma.org/calendar/exhibitions/1767   \n",
       "2         12/7/1929                   1  moma.org/calendar/exhibitions/1767   \n",
       "3         12/7/1929                   1  moma.org/calendar/exhibitions/1767   \n",
       "4         12/7/1929                   1  moma.org/calendar/exhibitions/1767   \n",
       "\n",
       "  ExhibitionRole ExhibitionRoleinPressRelease  ... Institution Nationality  \\\n",
       "0        Curator                     Director  ...        None    American   \n",
       "1         Artist                       Artist  ...        None      French   \n",
       "2         Artist                       Artist  ...        None      French   \n",
       "3         Artist                       Artist  ...        None       Dutch   \n",
       "4         Artist                       Artist  ...        None      French   \n",
       "\n",
       "  ConstituentBeginDate ConstituentEndDate            ArtistBio Gender  \\\n",
       "0                 1902               1981  American, 19021981   Male   \n",
       "1                 1839               1906    French, 18391906   Male   \n",
       "2                 1848               1903    French, 18481903   Male   \n",
       "3                 1853               1890     Dutch, 18531890   Male   \n",
       "4                 1859               1891    French, 18591891   Male   \n",
       "\n",
       "      VIAFID WikidataID     ULANID         ConstituentURL  \n",
       "0  109252853    Q711362  500241556  moma.org/artists/9168  \n",
       "1   39374836     Q35548  500004793  moma.org/artists/1053  \n",
       "2   27064953     Q37693  500011421  moma.org/artists/2098  \n",
       "3    9854560      Q5582  500115588  moma.org/artists/2206  \n",
       "4   24608076     Q34013  500008873  moma.org/artists/5358  \n",
       "\n",
       "[5 rows x 28 columns]"
      ]
     },
     "execution_count": 10,
     "metadata": {},
     "output_type": "execute_result"
    }
   ],
   "source": [
    "# Read with correct encoding\n",
    "exhibitions_raw = spark.read.csv('./data/MoMAExhibitions1929to1989.csv', \n",
    "                             header=True, \n",
    "                             inferSchema=True,\n",
    "                             encoding=\"ISO-8859-1\")\n",
    "\n",
    "exhibitions_raw.take(5) >> to_pandas"
   ]
  },
  {
   "cell_type": "code",
   "execution_count": 11,
   "metadata": {
    "scrolled": true
   },
   "outputs": [
    {
     "name": "stdout",
     "output_type": "stream",
     "text": [
      "StructType([StructField('ExhibitionID', IntegerType(), True),\n",
      "            StructField('ExhibitionNumber', StringType(), True),\n",
      "            StructField('ExhibitionTitle', StringType(), True),\n",
      "            StructField('ExhibitionCitationDate', StringType(), True),\n",
      "            StructField('ExhibitionBeginDate', StringType(), True),\n",
      "            StructField('ExhibitionEndDate', StringType(), True),\n",
      "            StructField('ExhibitionSortOrder', StringType(), True),\n",
      "            StructField('ExhibitionURL', StringType(), True),\n",
      "            StructField('ExhibitionRole', StringType(), True),\n",
      "            StructField('ExhibitionRoleinPressRelease', StringType(), True),\n",
      "            StructField('ConstituentID', StringType(), True),\n",
      "            StructField('ConstituentType', StringType(), True),\n",
      "            StructField('DisplayName', StringType(), True),\n",
      "            StructField('AlphaSort', StringType(), True),\n",
      "            StructField('FirstName', StringType(), True),\n",
      "            StructField('MiddleName', StringType(), True),\n",
      "            StructField('LastName', StringType(), True),\n",
      "            StructField('Suffix', StringType(), True),\n",
      "            StructField('Institution', StringType(), True),\n",
      "            StructField('Nationality', StringType(), True),\n",
      "            StructField('ConstituentBeginDate', StringType(), True),\n",
      "            StructField('ConstituentEndDate', IntegerType(), True),\n",
      "            StructField('ArtistBio', StringType(), True),\n",
      "            StructField('Gender', StringType(), True),\n",
      "            StructField('VIAFID', StringType(), True),\n",
      "            StructField('WikidataID', StringType(), True),\n",
      "            StructField('ULANID', StringType(), True),\n",
      "            StructField('ConstituentURL', StringType(), True)])\n"
     ]
    }
   ],
   "source": [
    "exhibitions_raw >> pprint_schema # Copy ==> paste ==> edit the output in a new cell"
   ]
  },
  {
   "cell_type": "code",
   "execution_count": 12,
   "metadata": {},
   "outputs": [],
   "source": [
    "from pyspark.sql.types import StructType, StructField, StringType, DateType, IntegerType\n",
    "\n",
    "exhib_schema = StructType( [StructField('ExhibitionID', IntegerType(), True),\n",
    "                            StructField('ExhibitionNumber', StringType(), True),\n",
    "                            StructField('ExhibitionTitle', StringType(), True),\n",
    "                            StructField('ExhibitionCitationDate', StringType(), True),\n",
    "                            StructField('ExhibitionBeginDate', DateType(), True),\n",
    "                            StructField('ExhibitionEndDate', DateType(), True),\n",
    "                            StructField('ExhibitionSortOrder', StringType(), True),\n",
    "                            StructField('ExhibitionURL', StringType(), True),\n",
    "                            StructField('ExhibitionRole', StringType(), True),\n",
    "                            StructField('ExhibitionRoleinPressRelease', StringType(), True),\n",
    "                            StructField('ConstituentID', StringType(), True),\n",
    "                            StructField('ConstituentType', StringType(), True),\n",
    "                            StructField('DisplayName', StringType(), True),\n",
    "                            StructField('AlphaSort', StringType(), True),\n",
    "                            StructField('FirstName', StringType(), True),\n",
    "                            StructField('MiddleName', StringType(), True),\n",
    "                            StructField('LastName', StringType(), True),\n",
    "                            StructField('Suffix', StringType(), True),\n",
    "                            StructField('Institution', StringType(), True),\n",
    "                            StructField('Nationality', StringType(), True),\n",
    "                            StructField('ConstituentBeginDate', IntegerType(), True),\n",
    "                            StructField('ConstituentEndDate', IntegerType(), True),\n",
    "                            StructField('ArtistBio', StringType(), True),\n",
    "                            StructField('Gender', StringType(), True),\n",
    "                            StructField('VIAFID', StringType(), True),\n",
    "                            StructField('WikidataID', StringType(), True),\n",
    "                            StructField('ULANID', StringType(), True),\n",
    "                            StructField('ConstituentURL', StringType(), True)])\n"
   ]
  },
  {
   "cell_type": "markdown",
   "metadata": {},
   "source": [
    "#### Step 2 - Specifying the format for a `TimeStamp`"
   ]
  },
  {
   "cell_type": "code",
   "execution_count": 13,
   "metadata": {},
   "outputs": [],
   "source": [
    "exhib_date_format = \"M/d/yyyy\""
   ]
  },
  {
   "cell_type": "markdown",
   "metadata": {},
   "source": [
    "#### Step 3 - Save the format and schema to a script file.  Restart kernel."
   ]
  },
  {
   "cell_type": "code",
   "execution_count": 14,
   "metadata": {},
   "outputs": [
    {
     "name": "stdout",
     "output_type": "stream",
     "text": [
      "from pyspark.sql.types import StructType, StructField, StringType, DateType, IntegerType, DoubleType\r\n",
      "\r\n",
      "exhib_schema = StructType( [StructField('ExhibitionID', IntegerType(), True),\r\n",
      "                            StructField('ExhibitionNumber', StringType(), True),\r\n",
      "                            StructField('ExhibitionTitle', StringType(), True),\r\n",
      "                            StructField('ExhibitionCitationDate', StringType(), True),\r\n",
      "                            StructField('ExhibitionBeginDate', DateType(), True),\r\n",
      "                            StructField('ExhibitionEndDate', DateType(), True),\r\n",
      "                            StructField('ExhibitionSortOrder', StringType(), True),\r\n",
      "                            StructField('ExhibitionURL', StringType(), True),\r\n",
      "                            StructField('ExhibitionRole', StringType(), True),\r\n",
      "                            StructField('ExhibitionRoleinPressRelease', StringType(), True),\r\n",
      "                            StructField('ConstituentID', StringType(), True),\r\n",
      "                            StructField('ConstituentType', StringType(), True),\r\n",
      "                            StructField('DisplayName', StringType(), True),\r\n",
      "                            StructField('AlphaSort', StringType(), True),\r\n",
      "                            StructField('FirstName', StringType(), True),\r\n",
      "                            StructField('MiddleName', StringType(), True),\r\n",
      "                            StructField('LastName', StringType(), True),\r\n",
      "                            StructField('Suffix', StringType(), True),\r\n",
      "                            StructField('Institution', StringType(), True),\r\n",
      "                            StructField('Nationality', StringType(), True),\r\n",
      "                            StructField('ConstituentBeginDate', IntegerType(), True),\r\n",
      "                            StructField('ConstituentEndDate', IntegerType(), True),\r\n",
      "                            StructField('ArtistBio', StringType(), True),\r\n",
      "                            StructField('Gender', StringType(), True),\r\n",
      "                            StructField('VIAFID', StringType(), True),\r\n",
      "                            StructField('WikidataID', StringType(), True),\r\n",
      "                            StructField('ULANID', StringType(), True),\r\n",
      "                            StructField('ConstituentURL', StringType(), True)])\r\n",
      "exhib_date_format = \"M/d/yyyy\"\r\n",
      "\r\n",
      "artwork_schema = StructType([StructField('Title', StringType(), True),\r\n",
      "                             StructField('Artist', StringType(), True),\r\n",
      "                             StructField('ConstituentID', StringType(), True),\r\n",
      "                             StructField('ArtistBio', StringType(), True),\r\n",
      "                             StructField('Nationality', StringType(), True),\r\n",
      "                             StructField('BeginDate', StringType(), True),\r\n",
      "                             StructField('EndDate', StringType(), True),\r\n",
      "                             StructField('Gender', StringType(), True),\r\n",
      "                             StructField('Date', StringType(), True),\r\n",
      "                             StructField('Medium', StringType(), True),\r\n",
      "                             StructField('Dimensions', StringType(), True),\r\n",
      "                             StructField('CreditLine', StringType(), True),\r\n",
      "                             StructField('AccessionNumber', StringType(), True),\r\n",
      "                             StructField('Classification', StringType(), True),\r\n",
      "                             StructField('Department', StringType(), True),\r\n",
      "                             StructField('DateAcquired', StringType(), True),\r\n",
      "                             StructField('Cataloged', StringType(), True),\r\n",
      "                             StructField('ObjectID', StringType(), True),\r\n",
      "                             StructField('URL', StringType(), True),\r\n",
      "                             StructField('ThumbnailURL', StringType(), True),\r\n",
      "                             StructField('Circumference (cm)', DoubleType(), True),\r\n",
      "                             StructField('Depth (cm)', DoubleType(), True),\r\n",
      "                             StructField('Diameter (cm)', DoubleType(), True),\r\n",
      "                             StructField('Height (cm)', DoubleType(), True),\r\n",
      "                             StructField('Length (cm)', DoubleType(), True),\r\n",
      "                             StructField('Weight (kg)', DoubleType(), True),\r\n",
      "                             StructField('Width (cm)', DoubleType(), True),\r\n",
      "                             StructField('Seat Height (cm)', DoubleType(), True),\r\n",
      "                             StructField('Duration (sec.)', DoubleType(), True)])"
     ]
    }
   ],
   "source": [
    "!cat MoMA_schema.py"
   ]
  },
  {
   "cell_type": "markdown",
   "metadata": {},
   "source": [
    "#### Step 4 - Load the data"
   ]
  },
  {
   "cell_type": "code",
   "execution_count": 15,
   "metadata": {},
   "outputs": [
    {
     "data": {
      "text/html": [
       "<div>\n",
       "<style scoped>\n",
       "    .dataframe tbody tr th:only-of-type {\n",
       "        vertical-align: middle;\n",
       "    }\n",
       "\n",
       "    .dataframe tbody tr th {\n",
       "        vertical-align: top;\n",
       "    }\n",
       "\n",
       "    .dataframe thead th {\n",
       "        text-align: right;\n",
       "    }\n",
       "</style>\n",
       "<table border=\"1\" class=\"dataframe\">\n",
       "  <thead>\n",
       "    <tr style=\"text-align: right;\">\n",
       "      <th></th>\n",
       "      <th>ExhibitionID</th>\n",
       "      <th>ExhibitionNumber</th>\n",
       "      <th>ExhibitionTitle</th>\n",
       "      <th>ExhibitionCitationDate</th>\n",
       "      <th>ExhibitionBeginDate</th>\n",
       "      <th>ExhibitionEndDate</th>\n",
       "      <th>ExhibitionSortOrder</th>\n",
       "      <th>ExhibitionURL</th>\n",
       "      <th>ExhibitionRole</th>\n",
       "      <th>ExhibitionRoleinPressRelease</th>\n",
       "      <th>...</th>\n",
       "      <th>Institution</th>\n",
       "      <th>Nationality</th>\n",
       "      <th>ConstituentBeginDate</th>\n",
       "      <th>ConstituentEndDate</th>\n",
       "      <th>ArtistBio</th>\n",
       "      <th>Gender</th>\n",
       "      <th>VIAFID</th>\n",
       "      <th>WikidataID</th>\n",
       "      <th>ULANID</th>\n",
       "      <th>ConstituentURL</th>\n",
       "    </tr>\n",
       "  </thead>\n",
       "  <tbody>\n",
       "    <tr>\n",
       "      <th>0</th>\n",
       "      <td>2557</td>\n",
       "      <td>1</td>\n",
       "      <td>Cézanne, Gauguin, Seurat, Van Gogh</td>\n",
       "      <td>[MoMA Exh. #1, November 7-December 7, 1929]</td>\n",
       "      <td>1929-11-07</td>\n",
       "      <td>1929-12-07</td>\n",
       "      <td>1</td>\n",
       "      <td>moma.org/calendar/exhibitions/1767</td>\n",
       "      <td>Curator</td>\n",
       "      <td>Director</td>\n",
       "      <td>...</td>\n",
       "      <td>None</td>\n",
       "      <td>American</td>\n",
       "      <td>1902</td>\n",
       "      <td>1981</td>\n",
       "      <td>American, 19021981</td>\n",
       "      <td>Male</td>\n",
       "      <td>109252853</td>\n",
       "      <td>Q711362</td>\n",
       "      <td>500241556</td>\n",
       "      <td>moma.org/artists/9168</td>\n",
       "    </tr>\n",
       "    <tr>\n",
       "      <th>1</th>\n",
       "      <td>2557</td>\n",
       "      <td>1</td>\n",
       "      <td>Cézanne, Gauguin, Seurat, Van Gogh</td>\n",
       "      <td>[MoMA Exh. #1, November 7-December 7, 1929]</td>\n",
       "      <td>1929-11-07</td>\n",
       "      <td>1929-12-07</td>\n",
       "      <td>1</td>\n",
       "      <td>moma.org/calendar/exhibitions/1767</td>\n",
       "      <td>Artist</td>\n",
       "      <td>Artist</td>\n",
       "      <td>...</td>\n",
       "      <td>None</td>\n",
       "      <td>French</td>\n",
       "      <td>1839</td>\n",
       "      <td>1906</td>\n",
       "      <td>French, 18391906</td>\n",
       "      <td>Male</td>\n",
       "      <td>39374836</td>\n",
       "      <td>Q35548</td>\n",
       "      <td>500004793</td>\n",
       "      <td>moma.org/artists/1053</td>\n",
       "    </tr>\n",
       "  </tbody>\n",
       "</table>\n",
       "<p>2 rows × 28 columns</p>\n",
       "</div>"
      ],
      "text/plain": [
       "   ExhibitionID ExhibitionNumber                     ExhibitionTitle  \\\n",
       "0          2557                1  Cézanne, Gauguin, Seurat, Van Gogh   \n",
       "1          2557                1  Cézanne, Gauguin, Seurat, Van Gogh   \n",
       "\n",
       "                        ExhibitionCitationDate ExhibitionBeginDate  \\\n",
       "0  [MoMA Exh. #1, November 7-December 7, 1929]          1929-11-07   \n",
       "1  [MoMA Exh. #1, November 7-December 7, 1929]          1929-11-07   \n",
       "\n",
       "  ExhibitionEndDate ExhibitionSortOrder                       ExhibitionURL  \\\n",
       "0        1929-12-07                   1  moma.org/calendar/exhibitions/1767   \n",
       "1        1929-12-07                   1  moma.org/calendar/exhibitions/1767   \n",
       "\n",
       "  ExhibitionRole ExhibitionRoleinPressRelease  ... Institution Nationality  \\\n",
       "0        Curator                     Director  ...        None    American   \n",
       "1         Artist                       Artist  ...        None      French   \n",
       "\n",
       "  ConstituentBeginDate ConstituentEndDate            ArtistBio Gender  \\\n",
       "0                 1902               1981  American, 19021981   Male   \n",
       "1                 1839               1906    French, 18391906   Male   \n",
       "\n",
       "      VIAFID WikidataID     ULANID         ConstituentURL  \n",
       "0  109252853    Q711362  500241556  moma.org/artists/9168  \n",
       "1   39374836     Q35548  500004793  moma.org/artists/1053  \n",
       "\n",
       "[2 rows x 28 columns]"
      ]
     },
     "execution_count": 15,
     "metadata": {},
     "output_type": "execute_result"
    }
   ],
   "source": [
    "from MoMA_schema import exhib_schema, exhib_date_format\n",
    "\n",
    "exhibitions = spark.read.csv('./data/MoMAExhibitions1929to1989.csv', \n",
    "                             header=True, \n",
    "                             schema=exhib_schema,\n",
    "                             encoding=\"ISO-8859-1\",\n",
    "                             dateFormat=exhib_date_format)\n",
    "exhibitions.take(2) >> to_pandas # No more \"bad\" symbols"
   ]
  },
  {
   "cell_type": "markdown",
   "metadata": {},
   "source": [
    "## <font color=\"red\"> Exercise 6.4.1 - Makeover Monday Example </font>\n",
    "\n",
    "In the first week of January 2021, the [Makeover Monday](https://data.world/makeovermonday/2021w1/discuss/2021w1/nkpl7c4a#tegzfysi) topic related to a bike boom in 2020.  The weekly totals are provided in `./data/weekly_data.csv`.\n",
    "\n",
    "**Tasks.**\n",
    "1. Load the raw data and inspect the data/types.\n",
    "2. Create the correct `schema` for these data (especially the dates).\n",
    "3. Create an appropriate datetime format string\n",
    "4. Load the data and verify types/data is correct.\n",
    "5. Save the schema and format string to a Python script file."
   ]
  },
  {
   "cell_type": "code",
   "execution_count": 21,
   "metadata": {},
   "outputs": [
    {
     "data": {
      "text/html": [
       "<div>\n",
       "<style scoped>\n",
       "    .dataframe tbody tr th:only-of-type {\n",
       "        vertical-align: middle;\n",
       "    }\n",
       "\n",
       "    .dataframe tbody tr th {\n",
       "        vertical-align: top;\n",
       "    }\n",
       "\n",
       "    .dataframe thead th {\n",
       "        text-align: right;\n",
       "    }\n",
       "</style>\n",
       "<table border=\"1\" class=\"dataframe\">\n",
       "  <thead>\n",
       "    <tr style=\"text-align: right;\">\n",
       "      <th></th>\n",
       "      <th>year</th>\n",
       "      <th>timeframe</th>\n",
       "      <th>week</th>\n",
       "      <th>counts_31_counters</th>\n",
       "      <th>covid_period</th>\n",
       "      <th>pedestrians_14_counters</th>\n",
       "      <th>bikes_14_counters</th>\n",
       "    </tr>\n",
       "  </thead>\n",
       "  <tbody>\n",
       "    <tr>\n",
       "      <th>0</th>\n",
       "      <td>2019</td>\n",
       "      <td>Week 1</td>\n",
       "      <td>2018-12-30</td>\n",
       "      <td>167679</td>\n",
       "      <td>N</td>\n",
       "      <td>68957</td>\n",
       "      <td>63100</td>\n",
       "    </tr>\n",
       "    <tr>\n",
       "      <th>1</th>\n",
       "      <td>2019</td>\n",
       "      <td>Week 2</td>\n",
       "      <td>2019-01-06</td>\n",
       "      <td>82340</td>\n",
       "      <td>N</td>\n",
       "      <td>34778</td>\n",
       "      <td>31703</td>\n",
       "    </tr>\n",
       "    <tr>\n",
       "      <th>2</th>\n",
       "      <td>2019</td>\n",
       "      <td>Week 3</td>\n",
       "      <td>2019-01-13</td>\n",
       "      <td>62315</td>\n",
       "      <td>N</td>\n",
       "      <td>32065</td>\n",
       "      <td>18082</td>\n",
       "    </tr>\n",
       "    <tr>\n",
       "      <th>3</th>\n",
       "      <td>2019</td>\n",
       "      <td>Week 4</td>\n",
       "      <td>2019-01-20</td>\n",
       "      <td>75801</td>\n",
       "      <td>N</td>\n",
       "      <td>35016</td>\n",
       "      <td>26280</td>\n",
       "    </tr>\n",
       "    <tr>\n",
       "      <th>4</th>\n",
       "      <td>2019</td>\n",
       "      <td>Week 5</td>\n",
       "      <td>2019-01-27</td>\n",
       "      <td>75841</td>\n",
       "      <td>N</td>\n",
       "      <td>33627</td>\n",
       "      <td>24447</td>\n",
       "    </tr>\n",
       "  </tbody>\n",
       "</table>\n",
       "</div>"
      ],
      "text/plain": [
       "   year timeframe       week  counts_31_counters covid_period  \\\n",
       "0  2019    Week 1 2018-12-30              167679            N   \n",
       "1  2019    Week 2 2019-01-06               82340            N   \n",
       "2  2019    Week 3 2019-01-13               62315            N   \n",
       "3  2019    Week 4 2019-01-20               75801            N   \n",
       "4  2019    Week 5 2019-01-27               75841            N   \n",
       "\n",
       "   pedestrians_14_counters  bikes_14_counters  \n",
       "0                    68957              63100  \n",
       "1                    34778              31703  \n",
       "2                    32065              18082  \n",
       "3                    35016              26280  \n",
       "4                    33627              24447  "
      ]
     },
     "execution_count": 21,
     "metadata": {},
     "output_type": "execute_result"
    }
   ],
   "source": [
    "# Your code here\n",
    "# Read with correct encoding\n",
    "bikes = spark.read.csv('./data/weekly_data.csv', \n",
    "                             header=True, \n",
    "                             inferSchema=True,\n",
    "                             encoding=\"ISO-8859-1\")\n",
    "\n",
    "bikes.take(5) >> to_pandas"
   ]
  },
  {
   "cell_type": "code",
   "execution_count": 22,
   "metadata": {},
   "outputs": [
    {
     "name": "stdout",
     "output_type": "stream",
     "text": [
      "StructType([StructField('year', IntegerType(), True),\n",
      "            StructField('timeframe', StringType(), True),\n",
      "            StructField('week', TimestampType(), True),\n",
      "            StructField('counts_31_counters', IntegerType(), True),\n",
      "            StructField('covid_period', StringType(), True),\n",
      "            StructField('pedestrians_14_counters', IntegerType(), True),\n",
      "            StructField('bikes_14_counters', IntegerType(), True)])\n"
     ]
    }
   ],
   "source": [
    "bikes >> pprint_schema"
   ]
  },
  {
   "cell_type": "code",
   "execution_count": 23,
   "metadata": {},
   "outputs": [],
   "source": [
    "from pyspark.sql.types import *\n",
    "\n",
    "bikes_schema = StructType([StructField('year', IntegerType(), True),\n",
    "                            StructField('timeframe', StringType(), True),\n",
    "                            StructField('week', DateType(), True),\n",
    "                            StructField('counts_31_counters', IntegerType(), True),\n",
    "                            StructField('covid_period', StringType(), True),\n",
    "                            StructField('pedestrians_14_counters', IntegerType(), True),\n",
    "                            StructField('bikes_14_counters', IntegerType(), True)])\n",
    "\n",
    "bike_datetime_format = 'yyyy-m-d'"
   ]
  },
  {
   "cell_type": "code",
   "execution_count": 27,
   "metadata": {},
   "outputs": [
    {
     "name": "stdout",
     "output_type": "stream",
     "text": [
      "from pyspark.sql.types import *\r\n",
      "\r\n",
      "bikes_schema = StructType([StructField('year', IntegerType(), True),\r\n",
      "                            StructField('timeframe', StringType(), True),\r\n",
      "                            StructField('week', DateType(), True),\r\n",
      "                            StructField('counts_31_counters', IntegerType(), True),\r\n",
      "                            StructField('covid_period', StringType(), True),\r\n",
      "                            StructField('pedestrians_14_counters', IntegerType(), True),\r\n",
      "                            StructField('bikes_14_counters', IntegerType(), True)])\r\n",
      "\r\n",
      "bike_datetime_format = 'yyyy-m-d'"
     ]
    }
   ],
   "source": [
    "!cat bikes_schema.py"
   ]
  },
  {
   "cell_type": "code",
   "execution_count": 28,
   "metadata": {},
   "outputs": [
    {
     "data": {
      "text/html": [
       "<div>\n",
       "<style scoped>\n",
       "    .dataframe tbody tr th:only-of-type {\n",
       "        vertical-align: middle;\n",
       "    }\n",
       "\n",
       "    .dataframe tbody tr th {\n",
       "        vertical-align: top;\n",
       "    }\n",
       "\n",
       "    .dataframe thead th {\n",
       "        text-align: right;\n",
       "    }\n",
       "</style>\n",
       "<table border=\"1\" class=\"dataframe\">\n",
       "  <thead>\n",
       "    <tr style=\"text-align: right;\">\n",
       "      <th></th>\n",
       "      <th>year</th>\n",
       "      <th>timeframe</th>\n",
       "      <th>week</th>\n",
       "      <th>counts_31_counters</th>\n",
       "      <th>covid_period</th>\n",
       "      <th>pedestrians_14_counters</th>\n",
       "      <th>bikes_14_counters</th>\n",
       "    </tr>\n",
       "  </thead>\n",
       "  <tbody>\n",
       "    <tr>\n",
       "      <th>0</th>\n",
       "      <td>2019</td>\n",
       "      <td>Week 1</td>\n",
       "      <td>2018-01-30</td>\n",
       "      <td>167679</td>\n",
       "      <td>N</td>\n",
       "      <td>68957</td>\n",
       "      <td>63100</td>\n",
       "    </tr>\n",
       "    <tr>\n",
       "      <th>1</th>\n",
       "      <td>2019</td>\n",
       "      <td>Week 2</td>\n",
       "      <td>2019-01-06</td>\n",
       "      <td>82340</td>\n",
       "      <td>N</td>\n",
       "      <td>34778</td>\n",
       "      <td>31703</td>\n",
       "    </tr>\n",
       "    <tr>\n",
       "      <th>2</th>\n",
       "      <td>2019</td>\n",
       "      <td>Week 3</td>\n",
       "      <td>2019-01-13</td>\n",
       "      <td>62315</td>\n",
       "      <td>N</td>\n",
       "      <td>32065</td>\n",
       "      <td>18082</td>\n",
       "    </tr>\n",
       "    <tr>\n",
       "      <th>3</th>\n",
       "      <td>2019</td>\n",
       "      <td>Week 4</td>\n",
       "      <td>2019-01-20</td>\n",
       "      <td>75801</td>\n",
       "      <td>N</td>\n",
       "      <td>35016</td>\n",
       "      <td>26280</td>\n",
       "    </tr>\n",
       "    <tr>\n",
       "      <th>4</th>\n",
       "      <td>2019</td>\n",
       "      <td>Week 5</td>\n",
       "      <td>2019-01-27</td>\n",
       "      <td>75841</td>\n",
       "      <td>N</td>\n",
       "      <td>33627</td>\n",
       "      <td>24447</td>\n",
       "    </tr>\n",
       "  </tbody>\n",
       "</table>\n",
       "</div>"
      ],
      "text/plain": [
       "   year timeframe        week  counts_31_counters covid_period  \\\n",
       "0  2019    Week 1  2018-01-30              167679            N   \n",
       "1  2019    Week 2  2019-01-06               82340            N   \n",
       "2  2019    Week 3  2019-01-13               62315            N   \n",
       "3  2019    Week 4  2019-01-20               75801            N   \n",
       "4  2019    Week 5  2019-01-27               75841            N   \n",
       "\n",
       "   pedestrians_14_counters  bikes_14_counters  \n",
       "0                    68957              63100  \n",
       "1                    34778              31703  \n",
       "2                    32065              18082  \n",
       "3                    35016              26280  \n",
       "4                    33627              24447  "
      ]
     },
     "execution_count": 28,
     "metadata": {},
     "output_type": "execute_result"
    }
   ],
   "source": [
    "from bikes_schema import bikes_schema , bike_datetime_format \n",
    "\n",
    "bikes = spark.read.csv('./data/weekly_data.csv', \n",
    "                             header=True, \n",
    "                             schema=bikes_schema,\n",
    "                             encoding=\"ISO-8859-1\",\n",
    "                             dateFormat=bike_datetime_format)\n",
    "bikes.take(5) >> to_pandas # No more \"bad\" symbols"
   ]
  }
 ],
 "metadata": {
  "kernelspec": {
   "display_name": "Python 3 (ipykernel)",
   "language": "python",
   "name": "python3"
  },
  "language_info": {
   "codemirror_mode": {
    "name": "ipython",
    "version": 3
   },
   "file_extension": ".py",
   "mimetype": "text/x-python",
   "name": "python",
   "nbconvert_exporter": "python",
   "pygments_lexer": "ipython3",
   "version": "3.9.12"
  },
  "varInspector": {
   "cols": {
    "lenName": 16,
    "lenType": 16,
    "lenVar": 40
   },
   "kernels_config": {
    "python": {
     "delete_cmd_postfix": "",
     "delete_cmd_prefix": "del ",
     "library": "var_list.py",
     "varRefreshCmd": "print(var_dic_list())"
    },
    "r": {
     "delete_cmd_postfix": ") ",
     "delete_cmd_prefix": "rm(",
     "library": "var_list.r",
     "varRefreshCmd": "cat(var_dic_list()) "
    }
   },
   "types_to_exclude": [
    "module",
    "function",
    "builtin_function_or_method",
    "instance",
    "_Feature"
   ],
   "window_display": false
  }
 },
 "nbformat": 4,
 "nbformat_minor": 2
}
