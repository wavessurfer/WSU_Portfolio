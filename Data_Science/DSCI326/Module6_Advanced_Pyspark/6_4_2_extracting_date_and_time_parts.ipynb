{
 "cells": [
  {
   "cell_type": "markdown",
   "metadata": {},
   "source": [
    "# Manipulating Dates/Times\n",
    "\n",
    "In this lecture, we will use `pyspark` functions to\n",
    "\n",
    "1. Extract date- and time-parts\n",
    "2. Difference and offset dates."
   ]
  },
  {
   "cell_type": "code",
   "execution_count": 1,
   "metadata": {},
   "outputs": [
    {
     "name": "stdout",
     "output_type": "stream",
     "text": [
      "22/11/02 20:13:43 WARN Utils: Your hostname, nn1448lr222 resolves to a loopback address: 127.0.1.1; using 172.22.165.244 instead (on interface eth0)\n",
      "22/11/02 20:13:43 WARN Utils: Set SPARK_LOCAL_IP if you need to bind to another address\n"
     ]
    },
    {
     "name": "stderr",
     "output_type": "stream",
     "text": [
      "Setting default log level to \"WARN\".\n",
      "To adjust logging level use sc.setLogLevel(newLevel). For SparkR, use setLogLevel(newLevel).\n"
     ]
    },
    {
     "name": "stdout",
     "output_type": "stream",
     "text": [
      "22/11/02 20:13:45 WARN NativeCodeLoader: Unable to load native-hadoop library for your platform... using builtin-java classes where applicable\n",
      "22/11/02 20:13:46 WARN Utils: Service 'SparkUI' could not bind on port 4040. Attempting port 4041.\n"
     ]
    }
   ],
   "source": [
    "from pyspark.sql import SparkSession\n",
    "from more_pyspark import *\n",
    "\n",
    "spark = SparkSession.builder.appName('Ops').getOrCreate()"
   ]
  },
  {
   "cell_type": "markdown",
   "metadata": {},
   "source": [
    "## Example Data"
   ]
  },
  {
   "cell_type": "markdown",
   "metadata": {},
   "source": [
    "#### Example 1 - Uber data"
   ]
  },
  {
   "cell_type": "code",
   "execution_count": 2,
   "metadata": {},
   "outputs": [
    {
     "name": "stderr",
     "output_type": "stream",
     "text": [
      "                                                                                \r"
     ]
    },
    {
     "data": {
      "text/html": [
       "<div>\n",
       "<style scoped>\n",
       "    .dataframe tbody tr th:only-of-type {\n",
       "        vertical-align: middle;\n",
       "    }\n",
       "\n",
       "    .dataframe tbody tr th {\n",
       "        vertical-align: top;\n",
       "    }\n",
       "\n",
       "    .dataframe thead th {\n",
       "        text-align: right;\n",
       "    }\n",
       "</style>\n",
       "<table border=\"1\" class=\"dataframe\">\n",
       "  <thead>\n",
       "    <tr style=\"text-align: right;\">\n",
       "      <th></th>\n",
       "      <th>Date/Time</th>\n",
       "      <th>Lat</th>\n",
       "      <th>Lon</th>\n",
       "      <th>Base</th>\n",
       "    </tr>\n",
       "  </thead>\n",
       "  <tbody>\n",
       "    <tr>\n",
       "      <th>0</th>\n",
       "      <td>2014-04-18 21:38:00</td>\n",
       "      <td>40.7359</td>\n",
       "      <td>-73.9852</td>\n",
       "      <td>B02682</td>\n",
       "    </tr>\n",
       "    <tr>\n",
       "      <th>1</th>\n",
       "      <td>2014-04-23 15:19:00</td>\n",
       "      <td>40.7642</td>\n",
       "      <td>-73.9543</td>\n",
       "      <td>B02598</td>\n",
       "    </tr>\n",
       "    <tr>\n",
       "      <th>2</th>\n",
       "      <td>2014-04-10 07:15:00</td>\n",
       "      <td>40.7138</td>\n",
       "      <td>-74.0103</td>\n",
       "      <td>B02598</td>\n",
       "    </tr>\n",
       "    <tr>\n",
       "      <th>3</th>\n",
       "      <td>2014-04-11 15:23:00</td>\n",
       "      <td>40.7847</td>\n",
       "      <td>-73.9698</td>\n",
       "      <td>B02682</td>\n",
       "    </tr>\n",
       "    <tr>\n",
       "      <th>4</th>\n",
       "      <td>2014-04-07 17:26:00</td>\n",
       "      <td>40.6460</td>\n",
       "      <td>-73.7767</td>\n",
       "      <td>B02598</td>\n",
       "    </tr>\n",
       "  </tbody>\n",
       "</table>\n",
       "</div>"
      ],
      "text/plain": [
       "            Date/Time      Lat      Lon    Base\n",
       "0 2014-04-18 21:38:00  40.7359 -73.9852  B02682\n",
       "1 2014-04-23 15:19:00  40.7642 -73.9543  B02598\n",
       "2 2014-04-10 07:15:00  40.7138 -74.0103  B02598\n",
       "3 2014-04-11 15:23:00  40.7847 -73.9698  B02682\n",
       "4 2014-04-07 17:26:00  40.6460 -73.7767  B02598"
      ]
     },
     "execution_count": 2,
     "metadata": {},
     "output_type": "execute_result"
    }
   ],
   "source": [
    "from uber_schema import uber_schema, uber_datetime_format\n",
    "\n",
    "uber_april = spark.read.csv('./data/uber-raw-data-apr14-sample.csv', \n",
    "                            header=True, \n",
    "                            schema=uber_schema,\n",
    "                            timestampFormat=uber_datetime_format\n",
    "                           )\n",
    "\n",
    "uber_april.take(5) >> to_pandas"
   ]
  },
  {
   "cell_type": "markdown",
   "metadata": {},
   "source": [
    "#### Example 2 - MoMA exhibitions"
   ]
  },
  {
   "cell_type": "code",
   "execution_count": 3,
   "metadata": {},
   "outputs": [
    {
     "name": "stdout",
     "output_type": "stream",
     "text": [
      "22/11/02 20:14:03 WARN package: Truncated the string representation of a plan since it was too large. This behavior can be adjusted by setting 'spark.sql.debug.maxToStringFields'.\n"
     ]
    },
    {
     "data": {
      "text/html": [
       "<div>\n",
       "<style scoped>\n",
       "    .dataframe tbody tr th:only-of-type {\n",
       "        vertical-align: middle;\n",
       "    }\n",
       "\n",
       "    .dataframe tbody tr th {\n",
       "        vertical-align: top;\n",
       "    }\n",
       "\n",
       "    .dataframe thead th {\n",
       "        text-align: right;\n",
       "    }\n",
       "</style>\n",
       "<table border=\"1\" class=\"dataframe\">\n",
       "  <thead>\n",
       "    <tr style=\"text-align: right;\">\n",
       "      <th></th>\n",
       "      <th>ExhibitionID</th>\n",
       "      <th>ExhibitionNumber</th>\n",
       "      <th>ExhibitionTitle</th>\n",
       "      <th>ExhibitionCitationDate</th>\n",
       "      <th>ExhibitionBeginDate</th>\n",
       "      <th>ExhibitionEndDate</th>\n",
       "      <th>ExhibitionSortOrder</th>\n",
       "      <th>ExhibitionURL</th>\n",
       "      <th>ExhibitionRole</th>\n",
       "      <th>ExhibitionRoleinPressRelease</th>\n",
       "      <th>...</th>\n",
       "      <th>Institution</th>\n",
       "      <th>Nationality</th>\n",
       "      <th>ConstituentBeginDate</th>\n",
       "      <th>ConstituentEndDate</th>\n",
       "      <th>ArtistBio</th>\n",
       "      <th>Gender</th>\n",
       "      <th>VIAFID</th>\n",
       "      <th>WikidataID</th>\n",
       "      <th>ULANID</th>\n",
       "      <th>ConstituentURL</th>\n",
       "    </tr>\n",
       "  </thead>\n",
       "  <tbody>\n",
       "    <tr>\n",
       "      <th>0</th>\n",
       "      <td>2557</td>\n",
       "      <td>1</td>\n",
       "      <td>Cézanne, Gauguin, Seurat, Van Gogh</td>\n",
       "      <td>[MoMA Exh. #1, November 7-December 7, 1929]</td>\n",
       "      <td>1929-11-07</td>\n",
       "      <td>1929-12-07</td>\n",
       "      <td>1</td>\n",
       "      <td>moma.org/calendar/exhibitions/1767</td>\n",
       "      <td>Curator</td>\n",
       "      <td>Director</td>\n",
       "      <td>...</td>\n",
       "      <td>None</td>\n",
       "      <td>American</td>\n",
       "      <td>1902</td>\n",
       "      <td>1981</td>\n",
       "      <td>American, 19021981</td>\n",
       "      <td>Male</td>\n",
       "      <td>109252853</td>\n",
       "      <td>Q711362</td>\n",
       "      <td>500241556</td>\n",
       "      <td>moma.org/artists/9168</td>\n",
       "    </tr>\n",
       "    <tr>\n",
       "      <th>1</th>\n",
       "      <td>2557</td>\n",
       "      <td>1</td>\n",
       "      <td>Cézanne, Gauguin, Seurat, Van Gogh</td>\n",
       "      <td>[MoMA Exh. #1, November 7-December 7, 1929]</td>\n",
       "      <td>1929-11-07</td>\n",
       "      <td>1929-12-07</td>\n",
       "      <td>1</td>\n",
       "      <td>moma.org/calendar/exhibitions/1767</td>\n",
       "      <td>Artist</td>\n",
       "      <td>Artist</td>\n",
       "      <td>...</td>\n",
       "      <td>None</td>\n",
       "      <td>French</td>\n",
       "      <td>1839</td>\n",
       "      <td>1906</td>\n",
       "      <td>French, 18391906</td>\n",
       "      <td>Male</td>\n",
       "      <td>39374836</td>\n",
       "      <td>Q35548</td>\n",
       "      <td>500004793</td>\n",
       "      <td>moma.org/artists/1053</td>\n",
       "    </tr>\n",
       "  </tbody>\n",
       "</table>\n",
       "<p>2 rows × 28 columns</p>\n",
       "</div>"
      ],
      "text/plain": [
       "   ExhibitionID ExhibitionNumber                     ExhibitionTitle  \\\n",
       "0          2557                1  Cézanne, Gauguin, Seurat, Van Gogh   \n",
       "1          2557                1  Cézanne, Gauguin, Seurat, Van Gogh   \n",
       "\n",
       "                        ExhibitionCitationDate ExhibitionBeginDate  \\\n",
       "0  [MoMA Exh. #1, November 7-December 7, 1929]          1929-11-07   \n",
       "1  [MoMA Exh. #1, November 7-December 7, 1929]          1929-11-07   \n",
       "\n",
       "  ExhibitionEndDate ExhibitionSortOrder                       ExhibitionURL  \\\n",
       "0        1929-12-07                   1  moma.org/calendar/exhibitions/1767   \n",
       "1        1929-12-07                   1  moma.org/calendar/exhibitions/1767   \n",
       "\n",
       "  ExhibitionRole ExhibitionRoleinPressRelease  ... Institution Nationality  \\\n",
       "0        Curator                     Director  ...        None    American   \n",
       "1         Artist                       Artist  ...        None      French   \n",
       "\n",
       "  ConstituentBeginDate ConstituentEndDate            ArtistBio Gender  \\\n",
       "0                 1902               1981  American, 19021981   Male   \n",
       "1                 1839               1906    French, 18391906   Male   \n",
       "\n",
       "      VIAFID WikidataID     ULANID         ConstituentURL  \n",
       "0  109252853    Q711362  500241556  moma.org/artists/9168  \n",
       "1   39374836     Q35548  500004793  moma.org/artists/1053  \n",
       "\n",
       "[2 rows x 28 columns]"
      ]
     },
     "execution_count": 3,
     "metadata": {},
     "output_type": "execute_result"
    }
   ],
   "source": [
    "from MoMA_schema import exhib_schema, exhib_date_format\n",
    "\n",
    "exhibitions = spark.read.csv('./data/MoMAExhibitions1929to1989.csv', \n",
    "                             header=True, \n",
    "                             schema=exhib_schema,\n",
    "                             encoding=\"ISO-8859-1\",\n",
    "                             dateFormat=exhib_date_format)\n",
    "exhibitions.take(2) >> to_pandas # No more \"bad\" symbols"
   ]
  },
  {
   "cell_type": "markdown",
   "metadata": {},
   "source": [
    "## Extracting date- and time-parts\n",
    "\n",
    "* Primary/typical transformation\n",
    "* `pyspark` provides datepart and timepart functions"
   ]
  },
  {
   "cell_type": "code",
   "execution_count": 4,
   "metadata": {},
   "outputs": [],
   "source": [
    "from pyspark.sql.functions import col\n",
    "from pyspark.sql.functions import to_date, month, year, dayofmonth, dayofweek # dateparts\n",
    "from pyspark.sql.functions import hour, minute, second # time parts"
   ]
  },
  {
   "cell_type": "markdown",
   "metadata": {},
   "source": [
    "#### Extracting (many) date- and time-parts using `withColumn` [Messy]"
   ]
  },
  {
   "cell_type": "code",
   "execution_count": 5,
   "metadata": {},
   "outputs": [
    {
     "data": {
      "text/html": [
       "<div>\n",
       "<style scoped>\n",
       "    .dataframe tbody tr th:only-of-type {\n",
       "        vertical-align: middle;\n",
       "    }\n",
       "\n",
       "    .dataframe tbody tr th {\n",
       "        vertical-align: top;\n",
       "    }\n",
       "\n",
       "    .dataframe thead th {\n",
       "        text-align: right;\n",
       "    }\n",
       "</style>\n",
       "<table border=\"1\" class=\"dataframe\">\n",
       "  <thead>\n",
       "    <tr style=\"text-align: right;\">\n",
       "      <th></th>\n",
       "      <th>Date/Time</th>\n",
       "      <th>Lat</th>\n",
       "      <th>Lon</th>\n",
       "      <th>Base</th>\n",
       "      <th>date</th>\n",
       "      <th>day of month</th>\n",
       "      <th>hour</th>\n",
       "      <th>year</th>\n",
       "      <th>day of week</th>\n",
       "      <th>minute</th>\n",
       "    </tr>\n",
       "  </thead>\n",
       "  <tbody>\n",
       "    <tr>\n",
       "      <th>0</th>\n",
       "      <td>2014-04-18 21:38:00</td>\n",
       "      <td>40.7359</td>\n",
       "      <td>-73.9852</td>\n",
       "      <td>B02682</td>\n",
       "      <td>2014-04-18</td>\n",
       "      <td>18</td>\n",
       "      <td>21</td>\n",
       "      <td>2014</td>\n",
       "      <td>6</td>\n",
       "      <td>38</td>\n",
       "    </tr>\n",
       "    <tr>\n",
       "      <th>1</th>\n",
       "      <td>2014-04-23 15:19:00</td>\n",
       "      <td>40.7642</td>\n",
       "      <td>-73.9543</td>\n",
       "      <td>B02598</td>\n",
       "      <td>2014-04-23</td>\n",
       "      <td>23</td>\n",
       "      <td>15</td>\n",
       "      <td>2014</td>\n",
       "      <td>4</td>\n",
       "      <td>19</td>\n",
       "    </tr>\n",
       "    <tr>\n",
       "      <th>2</th>\n",
       "      <td>2014-04-10 07:15:00</td>\n",
       "      <td>40.7138</td>\n",
       "      <td>-74.0103</td>\n",
       "      <td>B02598</td>\n",
       "      <td>2014-04-10</td>\n",
       "      <td>10</td>\n",
       "      <td>7</td>\n",
       "      <td>2014</td>\n",
       "      <td>5</td>\n",
       "      <td>15</td>\n",
       "    </tr>\n",
       "    <tr>\n",
       "      <th>3</th>\n",
       "      <td>2014-04-11 15:23:00</td>\n",
       "      <td>40.7847</td>\n",
       "      <td>-73.9698</td>\n",
       "      <td>B02682</td>\n",
       "      <td>2014-04-11</td>\n",
       "      <td>11</td>\n",
       "      <td>15</td>\n",
       "      <td>2014</td>\n",
       "      <td>6</td>\n",
       "      <td>23</td>\n",
       "    </tr>\n",
       "    <tr>\n",
       "      <th>4</th>\n",
       "      <td>2014-04-07 17:26:00</td>\n",
       "      <td>40.6460</td>\n",
       "      <td>-73.7767</td>\n",
       "      <td>B02598</td>\n",
       "      <td>2014-04-07</td>\n",
       "      <td>7</td>\n",
       "      <td>17</td>\n",
       "      <td>2014</td>\n",
       "      <td>2</td>\n",
       "      <td>26</td>\n",
       "    </tr>\n",
       "  </tbody>\n",
       "</table>\n",
       "</div>"
      ],
      "text/plain": [
       "            Date/Time      Lat      Lon    Base        date  day of month  \\\n",
       "0 2014-04-18 21:38:00  40.7359 -73.9852  B02682  2014-04-18            18   \n",
       "1 2014-04-23 15:19:00  40.7642 -73.9543  B02598  2014-04-23            23   \n",
       "2 2014-04-10 07:15:00  40.7138 -74.0103  B02598  2014-04-10            10   \n",
       "3 2014-04-11 15:23:00  40.7847 -73.9698  B02682  2014-04-11            11   \n",
       "4 2014-04-07 17:26:00  40.6460 -73.7767  B02598  2014-04-07             7   \n",
       "\n",
       "   hour  year  day of week  minute  \n",
       "0    21  2014            6      38  \n",
       "1    15  2014            4      19  \n",
       "2     7  2014            5      15  \n",
       "3    15  2014            6      23  \n",
       "4    17  2014            2      26  "
      ]
     },
     "execution_count": 5,
     "metadata": {},
     "output_type": "execute_result"
    }
   ],
   "source": [
    "(uber_april\n",
    " .withColumn('date', to_date(col('Date/Time')))\n",
    " .withColumn('day of month', dayofmonth(col('Date/Time')))\n",
    " .withColumn('hour', month(col('Date/Time')))\n",
    " .withColumn('year', year(col('Date/Time')))\n",
    " .withColumn('day of week', dayofweek(col('Date/Time')))\n",
    " .withColumn('hour', hour(col('Date/Time')))\n",
    " .withColumn('minute', minute(col('Date/Time')))\n",
    " .take(5)\n",
    ") >> to_pandas"
   ]
  },
  {
   "cell_type": "markdown",
   "metadata": {},
   "source": [
    "#### Extracting (many) date- and time-parts using `select` and `alias [Less Messy]"
   ]
  },
  {
   "cell_type": "code",
   "execution_count": 6,
   "metadata": {},
   "outputs": [
    {
     "data": {
      "text/html": [
       "<div>\n",
       "<style scoped>\n",
       "    .dataframe tbody tr th:only-of-type {\n",
       "        vertical-align: middle;\n",
       "    }\n",
       "\n",
       "    .dataframe tbody tr th {\n",
       "        vertical-align: top;\n",
       "    }\n",
       "\n",
       "    .dataframe thead th {\n",
       "        text-align: right;\n",
       "    }\n",
       "</style>\n",
       "<table border=\"1\" class=\"dataframe\">\n",
       "  <thead>\n",
       "    <tr style=\"text-align: right;\">\n",
       "      <th></th>\n",
       "      <th>Date/Time</th>\n",
       "      <th>date</th>\n",
       "      <th>day of month</th>\n",
       "      <th>hour</th>\n",
       "      <th>year</th>\n",
       "      <th>day of week</th>\n",
       "      <th>minute</th>\n",
       "    </tr>\n",
       "  </thead>\n",
       "  <tbody>\n",
       "    <tr>\n",
       "      <th>0</th>\n",
       "      <td>2014-04-18 21:38:00</td>\n",
       "      <td>2014-04-18</td>\n",
       "      <td>18</td>\n",
       "      <td>21</td>\n",
       "      <td>2014</td>\n",
       "      <td>6</td>\n",
       "      <td>38</td>\n",
       "    </tr>\n",
       "    <tr>\n",
       "      <th>1</th>\n",
       "      <td>2014-04-23 15:19:00</td>\n",
       "      <td>2014-04-23</td>\n",
       "      <td>23</td>\n",
       "      <td>15</td>\n",
       "      <td>2014</td>\n",
       "      <td>4</td>\n",
       "      <td>19</td>\n",
       "    </tr>\n",
       "    <tr>\n",
       "      <th>2</th>\n",
       "      <td>2014-04-10 07:15:00</td>\n",
       "      <td>2014-04-10</td>\n",
       "      <td>10</td>\n",
       "      <td>7</td>\n",
       "      <td>2014</td>\n",
       "      <td>5</td>\n",
       "      <td>15</td>\n",
       "    </tr>\n",
       "    <tr>\n",
       "      <th>3</th>\n",
       "      <td>2014-04-11 15:23:00</td>\n",
       "      <td>2014-04-11</td>\n",
       "      <td>11</td>\n",
       "      <td>15</td>\n",
       "      <td>2014</td>\n",
       "      <td>6</td>\n",
       "      <td>23</td>\n",
       "    </tr>\n",
       "    <tr>\n",
       "      <th>4</th>\n",
       "      <td>2014-04-07 17:26:00</td>\n",
       "      <td>2014-04-07</td>\n",
       "      <td>7</td>\n",
       "      <td>17</td>\n",
       "      <td>2014</td>\n",
       "      <td>2</td>\n",
       "      <td>26</td>\n",
       "    </tr>\n",
       "  </tbody>\n",
       "</table>\n",
       "</div>"
      ],
      "text/plain": [
       "            Date/Time        date  day of month  hour  year  day of week  \\\n",
       "0 2014-04-18 21:38:00  2014-04-18            18    21  2014            6   \n",
       "1 2014-04-23 15:19:00  2014-04-23            23    15  2014            4   \n",
       "2 2014-04-10 07:15:00  2014-04-10            10     7  2014            5   \n",
       "3 2014-04-11 15:23:00  2014-04-11            11    15  2014            6   \n",
       "4 2014-04-07 17:26:00  2014-04-07             7    17  2014            2   \n",
       "\n",
       "   minute  \n",
       "0      38  \n",
       "1      19  \n",
       "2      15  \n",
       "3      23  \n",
       "4      26  "
      ]
     },
     "execution_count": 6,
     "metadata": {},
     "output_type": "execute_result"
    }
   ],
   "source": [
    "(uber_april\n",
    " .select('Date/Time',\n",
    "         to_date(col('Date/Time')).alias('date'),\n",
    "         dayofmonth(col('Date/Time')).alias('day of month'),\n",
    "         month(col('Date/Time')).alias('hour'),\n",
    "         year(col('Date/Time')).alias('year'),\n",
    "         dayofweek(col('Date/Time')).alias('day of week'),\n",
    "         hour(col('Date/Time')).alias('hour'),\n",
    "         minute(col('Date/Time')).alias('minute'))\n",
    " .take(5)\n",
    ") >> to_pandas"
   ]
  },
  {
   "cell_type": "markdown",
   "metadata": {},
   "source": [
    "## <font color=\"red\"> Exercise 6.4.2 - Makeover Monday Example Part 2</font>\n",
    "\n",
    "**Note.** This is a continuation from **Exercise 6.4.1** from the previous lecture.  Complete that exercise before proceeding.\n",
    "\n",
    "**Tasks.**\n",
    "1. Import the schema and datetime format from your script file.\n",
    "2. Load the data and inspect the data/types.\n",
    "3. Extract the day of the week\n",
    "4. Sum all counts across the days of the week.\n",
    "5. Create a visualization to compare the counts for each type across the day of the week."
   ]
  },
  {
   "cell_type": "code",
   "execution_count": 13,
   "metadata": {},
   "outputs": [
    {
     "name": "stdout",
     "output_type": "stream",
     "text": [
      "StructType([StructField('year', IntegerType(), True),\n",
      "            StructField('timeframe', StringType(), True),\n",
      "            StructField('week', DateType(), True),\n",
      "            StructField('counts_31_counters', IntegerType(), True),\n",
      "            StructField('covid_period', StringType(), True),\n",
      "            StructField('pedestrians_14_counters', IntegerType(), True),\n",
      "            StructField('bikes_14_counters', IntegerType(), True)])\n"
     ]
    }
   ],
   "source": [
    "# Your code here\n",
    "from bikes_schema import bikes_schema , bike_datetime_format\n",
    "from more_pyspark import *\n",
    "\n",
    "bikes = spark.read.csv('./data/weekly_data.csv', \n",
    "                             header=True, \n",
    "                             schema=bikes_schema,\n",
    "                             encoding=\"ISO-8859-1\",\n",
    "                             dateFormat=bike_datetime_format)\n",
    "\n",
    "bikes >> pprint_schema"
   ]
  },
  {
   "cell_type": "code",
   "execution_count": 16,
   "metadata": {},
   "outputs": [
    {
     "data": {
      "text/html": [
       "<div>\n",
       "<style scoped>\n",
       "    .dataframe tbody tr th:only-of-type {\n",
       "        vertical-align: middle;\n",
       "    }\n",
       "\n",
       "    .dataframe tbody tr th {\n",
       "        vertical-align: top;\n",
       "    }\n",
       "\n",
       "    .dataframe thead th {\n",
       "        text-align: right;\n",
       "    }\n",
       "</style>\n",
       "<table border=\"1\" class=\"dataframe\">\n",
       "  <thead>\n",
       "    <tr style=\"text-align: right;\">\n",
       "      <th></th>\n",
       "      <th>week</th>\n",
       "      <th>Day of Week</th>\n",
       "    </tr>\n",
       "  </thead>\n",
       "  <tbody>\n",
       "    <tr>\n",
       "      <th>0</th>\n",
       "      <td>2018-01-30</td>\n",
       "      <td>3</td>\n",
       "    </tr>\n",
       "    <tr>\n",
       "      <th>1</th>\n",
       "      <td>2019-01-06</td>\n",
       "      <td>1</td>\n",
       "    </tr>\n",
       "    <tr>\n",
       "      <th>2</th>\n",
       "      <td>2019-01-13</td>\n",
       "      <td>1</td>\n",
       "    </tr>\n",
       "    <tr>\n",
       "      <th>3</th>\n",
       "      <td>2019-01-20</td>\n",
       "      <td>1</td>\n",
       "    </tr>\n",
       "    <tr>\n",
       "      <th>4</th>\n",
       "      <td>2019-01-27</td>\n",
       "      <td>1</td>\n",
       "    </tr>\n",
       "  </tbody>\n",
       "</table>\n",
       "</div>"
      ],
      "text/plain": [
       "         week  Day of Week\n",
       "0  2018-01-30            3\n",
       "1  2019-01-06            1\n",
       "2  2019-01-13            1\n",
       "3  2019-01-20            1\n",
       "4  2019-01-27            1"
      ]
     },
     "execution_count": 16,
     "metadata": {},
     "output_type": "execute_result"
    }
   ],
   "source": [
    "(bikes\n",
    " .select('week',\n",
    "         dayofweek(col('week')).alias('Day of Week'),\n",
    "        )\n",
    " .take(5)\n",
    ") >> to_pandas"
   ]
  },
  {
   "cell_type": "code",
   "execution_count": 21,
   "metadata": {},
   "outputs": [
    {
     "data": {
      "text/html": [
       "<div>\n",
       "<style scoped>\n",
       "    .dataframe tbody tr th:only-of-type {\n",
       "        vertical-align: middle;\n",
       "    }\n",
       "\n",
       "    .dataframe tbody tr th {\n",
       "        vertical-align: top;\n",
       "    }\n",
       "\n",
       "    .dataframe thead th {\n",
       "        text-align: right;\n",
       "    }\n",
       "</style>\n",
       "<table border=\"1\" class=\"dataframe\">\n",
       "  <thead>\n",
       "    <tr style=\"text-align: right;\">\n",
       "      <th></th>\n",
       "      <th>Day_of_Week</th>\n",
       "      <th>Count</th>\n",
       "    </tr>\n",
       "  </thead>\n",
       "  <tbody>\n",
       "    <tr>\n",
       "      <th>0</th>\n",
       "      <td>1</td>\n",
       "      <td>20</td>\n",
       "    </tr>\n",
       "    <tr>\n",
       "      <th>1</th>\n",
       "      <td>6</td>\n",
       "      <td>9</td>\n",
       "    </tr>\n",
       "    <tr>\n",
       "      <th>2</th>\n",
       "      <td>3</td>\n",
       "      <td>13</td>\n",
       "    </tr>\n",
       "    <tr>\n",
       "      <th>3</th>\n",
       "      <td>5</td>\n",
       "      <td>22</td>\n",
       "    </tr>\n",
       "    <tr>\n",
       "      <th>4</th>\n",
       "      <td>4</td>\n",
       "      <td>15</td>\n",
       "    </tr>\n",
       "    <tr>\n",
       "      <th>5</th>\n",
       "      <td>7</td>\n",
       "      <td>8</td>\n",
       "    </tr>\n",
       "    <tr>\n",
       "      <th>6</th>\n",
       "      <td>2</td>\n",
       "      <td>13</td>\n",
       "    </tr>\n",
       "  </tbody>\n",
       "</table>\n",
       "</div>"
      ],
      "text/plain": [
       "   Day_of_Week  Count\n",
       "0            1     20\n",
       "1            6      9\n",
       "2            3     13\n",
       "3            5     22\n",
       "4            4     15\n",
       "5            7      8\n",
       "6            2     13"
      ]
     },
     "execution_count": 21,
     "metadata": {},
     "output_type": "execute_result"
    }
   ],
   "source": [
    "from pyspark.sql.functions import *\n",
    "\n",
    "bikes_DayofWeekCount = ((bikes\n",
    " .select('week',\n",
    "         dayofweek(col('week')).alias('Day_of_Week'),\n",
    "        )\n",
    " .groupby(col('Day_of_Week'))\n",
    " .agg(count(col('Day_of_Week')).alias('Count'))\n",
    " .collect()\n",
    ") >> to_pandas)\n",
    "\n",
    "bikes_DayofWeekCount"
   ]
  },
  {
   "cell_type": "code",
   "execution_count": 22,
   "metadata": {},
   "outputs": [
    {
     "data": {
      "text/plain": [
       "<AxesSubplot:xlabel='Day_of_Week', ylabel='Count'>"
      ]
     },
     "execution_count": 22,
     "metadata": {},
     "output_type": "execute_result"
    },
    {
     "data": {
      "image/png": "[encoded data removed]",
      "text/plain": [
       "<Figure size 432x288 with 1 Axes>"
      ]
     },
     "metadata": {
      "needs_background": "light"
     },
     "output_type": "display_data"
    }
   ],
   "source": [
    "import seaborn as sns\n",
    "import matplotlib.pylab as plt\n",
    "%matplotlib inline\n",
    "sns.barplot(x = \"Day_of_Week\", y=\"Count\", data=bikes_DayofWeekCount)"
   ]
  }
 ],
 "metadata": {
  "kernelspec": {
   "display_name": "Python 3 (ipykernel)",
   "language": "python",
   "name": "python3"
  },
  "language_info": {
   "codemirror_mode": {
    "name": "ipython",
    "version": 3
   },
   "file_extension": ".py",
   "mimetype": "text/x-python",
   "name": "python",
   "nbconvert_exporter": "python",
   "pygments_lexer": "ipython3",
   "version": "3.9.12"
  },
  "varInspector": {
   "cols": {
    "lenName": 16,
    "lenType": 16,
    "lenVar": 40
   },
   "kernels_config": {
    "python": {
     "delete_cmd_postfix": "",
     "delete_cmd_prefix": "del ",
     "library": "var_list.py",
     "varRefreshCmd": "print(var_dic_list())"
    },
    "r": {
     "delete_cmd_postfix": ") ",
     "delete_cmd_prefix": "rm(",
     "library": "var_list.r",
     "varRefreshCmd": "cat(var_dic_list()) "
    }
   },
   "types_to_exclude": [
    "module",
    "function",
    "builtin_function_or_method",
    "instance",
    "_Feature"
   ],
   "window_display": false
  }
 },
 "nbformat": 4,
 "nbformat_minor": 2
}
